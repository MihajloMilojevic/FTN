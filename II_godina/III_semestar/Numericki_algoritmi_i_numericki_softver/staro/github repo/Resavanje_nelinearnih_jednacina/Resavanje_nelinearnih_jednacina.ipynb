{
 "cells": [
  {
   "cell_type": "code",
   "execution_count": 3,
   "metadata": {},
   "outputs": [],
   "source": [
    "%plot inline -w 800 -h 800"
   ]
  },
  {
   "cell_type": "code",
   "execution_count": 4,
   "metadata": {},
   "outputs": [],
   "source": [
    "function plot_function(interval,fun)\n",
    "a=interval(1);\n",
    "b=interval(2);\n",
    "x=a-3:0.1:b+3;\n",
    "y1=feval(fun,x);\n",
    "hold on;\n",
    "plot(x,y1);\n",
    "plot(x,zeros(length(x)),'b');\n",
    "set(gca, \"linewidth\", 4, \"fontsize\", 12)\n",
    "set(gca, 'XTick', floor(a)-3:floor(b)+3)\n",
    "endfunction\n",
    "\n",
    "function plot_function_with_points(interval,fun)\n",
    "plot_function(interval,fun)\n",
    "a=interval(1);\n",
    "b=interval(2);\n",
    "plot_point([a,0],0,'bo',\"a\");\n",
    "plot_point([b,0],0,'bo',\"b\");\n",
    "plot_point([a,feval(fun,a)],0,'bo',\"f(a)\");\n",
    "plot_point([b,feval(fun,b)],0,'bo',\"f(b)\");\n",
    "endfunction\n",
    "\n",
    "function handles = plot_point(xkplus1,k,format,mark)\n",
    "    handles = [plot(xkplus1(1),xkplus1(2),format),...\n",
    "    %h = text(xkplus1(1)-0.5,xkplus1(2)-0.2,[char(10),mark,' (' num2str(xkplus1(1),'%.1f') ',' num2str(xkplus1(2),'%.1f') ') ' num2str(k)])];\n",
    "    h = text(xkplus1(1)-0.5,xkplus1(2)-0.2,[char(10),mark,num2str(k)])];\n",
    "    set(h, 'fontsize', 16);\n",
    "endfunction"
   ]
  },
  {
   "cell_type": "markdown",
   "metadata": {},
   "source": [
    "# Rešavanje nelinearnih jednačina"
   ]
  },
  {
   "cell_type": "markdown",
   "metadata": {},
   "source": [
    "#### Tema današnjeg predavanja su numeričke metode za rešavanje jednačina kod kojih zavisnost između promenjljivih nije linearna.\n",
    "#### Jedan primer nelinearne jednačine je kvadratna jednačina:\n",
    "### $$ax^2+bx+c=0$$\n",
    "#### Kvadratna jednačina ima analitičko rešenje:\n",
    "### $$x=\\frac{-b\\pm \\sqrt{b^2-4ac}}{2a}.$$\n",
    "#### Međutim, postoji veliki broj nelinearnih jednačina u realnim problemima (recimo detekcija kolizija) koje nemaju analitičko rešenje. U tom slučaju koristimo numeričke metode."
   ]
  },
  {
   "cell_type": "markdown",
   "metadata": {},
   "source": [
    "## Uvodna napomena:"
   ]
  },
  {
   "cell_type": "markdown",
   "metadata": {},
   "source": [
    "#### Na ovom predavanju rešavanje nelinearne jednačine posmatraćemo kao određivanje nule funkcije, odnosno određivanje tačke $x$ za koju važi $f(x)=0$.\n",
    "#### Na primer, tačka x za koju važi $cos(x)=x$ je ista tačka x za koju važi $cos(x)-x=0$."
   ]
  },
  {
   "cell_type": "markdown",
   "metadata": {},
   "source": [
    "## Numeričke metode za rešavanje nelinearnih jednačina"
   ]
  },
  {
   "cell_type": "markdown",
   "metadata": {},
   "source": [
    "#### Postoji dve vrste metoda:\n",
    "#### 1. **Zatvorene**, kod kojih moramo znamo zatvoreni interval da bi mogli da upotrebimo metodu.\n",
    "#### 2. **Otvorene**, kod koji metod možemo da upotrebimo sa proizvoljnim početnim rešenjem."
   ]
  },
  {
   "cell_type": "markdown",
   "metadata": {},
   "source": [
    "## Metoda polovljenja"
   ]
  },
  {
   "cell_type": "markdown",
   "metadata": {},
   "source": [
    "#### Najednostavnija metoda. Spada u zatorene metode, odnosno moramo da znamo neki početni interval $[a,b]$ u kome se nalazi rešenje.\n",
    "#### Da bi mogli da koristimo metodu polovljenja, na intervalu $[a,b]$ funkcija $f(x)$ čiju nulu tražimo mora da bude neprekidna i da seče $x$-osu bar u jednoj tački (da ima nulu na tom zatvorenom intervalu)."
   ]
  },
  {
   "cell_type": "markdown",
   "metadata": {},
   "source": [
    "#### Na primer, fukcija $cos(x)-x$ ima jednu nulu na intervalu $[-2,2]$"
   ]
  },
  {
   "cell_type": "code",
   "execution_count": 5,
   "metadata": {},
   "outputs": [
    {
     "data": {
      "image/png": "[encoded data removed]",
      "text/plain": [
       "<IPython.core.display.Image object>"
      ]
     },
     "metadata": {},
     "output_type": "display_data"
    }
   ],
   "source": [
    "plot_function_with_points([-2,2],@(x)cos(x)-x)"
   ]
  },
  {
   "cell_type": "markdown",
   "metadata": {},
   "source": [
    "### Algoritam metode polovljenja\n",
    "#### 1. Proveravamo da li važi $f(a)f(b)<0$, ako ne važi ovde završavamo algoritam\n",
    "#### Ponavljamo\n",
    "#### &nbsp;&nbsp;&nbsp;&nbsp;2. Odredimo polovinu interavala $[a,b]$:$$c=\\frac{a+b}{2}$$\n",
    "#### &nbsp;&nbsp;&nbsp;&nbsp;3. Provervavmo da li važi $f(c)=0$, ako važi pronašli smo rešenje i ovde završavamo algoritam.\n",
    "#### &nbsp;&nbsp;&nbsp;&nbsp;4. Provervamo u kom intervalu od dva ponuđena $[a,c]$ i $[c,b]$ funkcija menja znak, na primer proverimo da li važi:\n",
    "#### &nbsp;&nbsp;&nbsp;&nbsp;$$f(a)f(c)<0$$.\n",
    "#### &nbsp;&nbsp;&nbsp;&nbsp;5. Nastavljamo da delimo interval u kome funkcija menja znak, odnosno radimo jedno od $a=c$ ili $b=c$.\n",
    "#### Kraj ponavljanja\n",
    "#### 6. Vraćamo $c$ kao rešenje"
   ]
  },
  {
   "cell_type": "markdown",
   "metadata": {},
   "source": [
    "#### Primer: Rešavamo jedančinu $x+3=0$ na intervalu $[-4,0]$. Rešenje je $x=-3$.\n",
    "#### Očigledno je da je $x+3=0$ linearna jednačina, ali je namerno odbrana za lakšu ilustraciju metode."
   ]
  },
  {
   "cell_type": "markdown",
   "metadata": {},
   "source": [
    "#### Provera početnog uslova"
   ]
  },
  {
   "cell_type": "code",
   "execution_count": 6,
   "metadata": {},
   "outputs": [
    {
     "name": "stdout",
     "output_type": "stream",
     "text": [
      "fa = -1\n",
      "fb =  3\n",
      "ans = 1\n"
     ]
    }
   ],
   "source": [
    "a=-4;\n",
    "b=0;\n",
    "fa=feval(@(x)x+3,a)\n",
    "fb=feval(@(x)x+3,b)\n",
    "fa*fb<0"
   ]
  },
  {
   "cell_type": "markdown",
   "metadata": {},
   "source": [
    "#### Iteracija 1."
   ]
  },
  {
   "cell_type": "code",
   "execution_count": 7,
   "metadata": {},
   "outputs": [
    {
     "name": "stdout",
     "output_type": "stream",
     "text": [
      "c = -2\n",
      "fc =  1\n",
      "ans = 0\n"
     ]
    }
   ],
   "source": [
    "c=(a+b)/2\n",
    "fc=feval(@(x)x+3,c)\n",
    "fc==0"
   ]
  },
  {
   "cell_type": "code",
   "execution_count": 8,
   "metadata": {},
   "outputs": [
    {
     "name": "stdout",
     "output_type": "stream",
     "text": [
      "ans = 1\n"
     ]
    }
   ],
   "source": [
    "fa*fc<0"
   ]
  },
  {
   "cell_type": "code",
   "execution_count": 9,
   "metadata": {},
   "outputs": [
    {
     "name": "stdout",
     "output_type": "stream",
     "text": [
      "b = -2\n"
     ]
    }
   ],
   "source": [
    "b=c"
   ]
  },
  {
   "cell_type": "markdown",
   "metadata": {},
   "source": [
    "#### Iteracija 2."
   ]
  },
  {
   "cell_type": "code",
   "execution_count": 10,
   "metadata": {},
   "outputs": [
    {
     "name": "stdout",
     "output_type": "stream",
     "text": [
      "fa = -1\n",
      "fb =  1\n",
      "c = -3\n",
      "fc = 0\n",
      "ans = 1\n"
     ]
    }
   ],
   "source": [
    "fa=feval(@(x)x+3,a)\n",
    "fb=feval(@(x)x+3,b)\n",
    "c=(a+b)/2\n",
    "fc=feval(@(x)x+3,c)\n",
    "fc==0"
   ]
  },
  {
   "cell_type": "markdown",
   "metadata": {},
   "source": [
    "#### Pogledaćemo prvo vizualizaciju metode polovljenja pre nego što krenemo na pisanje koda."
   ]
  },
  {
   "cell_type": "code",
   "execution_count": 11,
   "metadata": {},
   "outputs": [],
   "source": [
    "function x=polovljenje_viz(a,b,maxIter,tacnost,funkcija)\n",
    "plot_function([a,b],funkcija)\n",
    "if(feval(funkcija,a)*feval(funkcija,b)<0)\n",
    "   for i=1:maxIter\n",
    "        if i>1\n",
    "            delete(hc);\n",
    "            delete(hfc);\n",
    "        end\n",
    "        plot_point([a,0],i,'bo',\"a\");\n",
    "        plot_point([b,0],i,'bo',\"b\");\n",
    "        plot_point([a,feval(funkcija,a)],i,'bo',\"f(a)\");\n",
    "        plot_point([b,feval(funkcija,b)],i,'bo',\"f(b)\");\n",
    "        \n",
    "        c=(a+b)/2;\n",
    "        fc=feval(funkcija,c);\n",
    "        hc = plot_point([c,0],i,'r*',\"c\");\n",
    "        \n",
    "        if(fc==0||abs(b-a)<tacnost)\n",
    "            break;\n",
    "        else\n",
    "            if(feval(funkcija,c)*feval(funkcija,a)<0)\n",
    "                b=c;\n",
    "            else\n",
    "                a=c;\n",
    "            end\n",
    "        end\n",
    "        hfc = plot_point([c,fc],i,'r*',\"f(c)\");\n",
    "    end\n",
    "    x=c;\n",
    "end\n",
    "endfunction"
   ]
  },
  {
   "cell_type": "code",
   "execution_count": 12,
   "metadata": {},
   "outputs": [
    {
     "name": "stdout",
     "output_type": "stream",
     "text": [
      "ans = -2\n"
     ]
    },
    {
     "data": {
      "image/png": "[encoded data removed]",
      "text/plain": [
       "<IPython.core.display.Image object>"
      ]
     },
     "metadata": {},
     "output_type": "display_data"
    }
   ],
   "source": [
    "polovljenje_viz(-4,0,1,10^-5,@(x)x+3)"
   ]
  },
  {
   "cell_type": "markdown",
   "metadata": {},
   "source": [
    "#### Metodu ćemo sada ilustrovati na primer jedančine $cos(x)-x$ na intervalu $[−15,5]$."
   ]
  },
  {
   "cell_type": "code",
   "execution_count": 13,
   "metadata": {},
   "outputs": [
    {
     "name": "stdout",
     "output_type": "stream",
     "text": [
      "ans = -5\n"
     ]
    },
    {
     "data": {
      "image/png": "[encoded data removed]",
      "text/plain": [
       "<IPython.core.display.Image object>"
      ]
     },
     "metadata": {},
     "output_type": "display_data"
    }
   ],
   "source": [
    "polovljenje_viz(-15,5,1,10^-5,@(x)cos(x)-x)"
   ]
  },
  {
   "cell_type": "markdown",
   "metadata": {},
   "source": [
    "#### Pogledati animaciju za metodu polovljenja sa slajdova."
   ]
  },
  {
   "cell_type": "markdown",
   "metadata": {},
   "source": [
    "#### Pišemo kod za metodu polovljenja.\n",
    "#### Spajamo kod koji smo gore pisali za primer $x+3$ u jednu celinu:"
   ]
  },
  {
   "cell_type": "code",
   "execution_count": 14,
   "metadata": {},
   "outputs": [
    {
     "name": "stdout",
     "output_type": "stream",
     "text": [
      "ans =\n",
      "\n",
      "  -4   0  -2   1\n",
      "\n",
      "ans =\n",
      "\n",
      "  -4  -2  -3   0\n",
      "\n"
     ]
    }
   ],
   "source": [
    "a=-4;\n",
    "b=0;\n",
    "fa=feval(@(x)x+3,a);\n",
    "fb=feval(@(x)x+3,b);\n",
    "\n",
    "if fa*fb<0\n",
    "    for i=1:100\n",
    "        fa=feval(@(x)x+3,a);\n",
    "        fb=feval(@(x)x+3,b);\n",
    "        \n",
    "        c=(a+b)/2;\n",
    "        fc=feval(@(x)x+3,c);\n",
    "        \n",
    "        [a,b,c,fc]\n",
    "        \n",
    "        if fc==0\n",
    "            break;\n",
    "        end\n",
    "        \n",
    "        if fa*fc<0\n",
    "            b=c;\n",
    "        else\n",
    "            a=c;\n",
    "        end\n",
    "    end\n",
    "end"
   ]
  },
  {
   "cell_type": "code",
   "execution_count": 15,
   "metadata": {},
   "outputs": [],
   "source": [
    "function x=polovljenje(a,b,funkcija,maxIter,tacnost)\n",
    "fa=feval(funkcija,a);\n",
    "fb=feval(funkcija,b);\n",
    "if fa*fb<0\n",
    "    for i=1:maxIter\n",
    "        fa=feval(funkcija,a);\n",
    "        fb=feval(funkcija,b);\n",
    "        \n",
    "        c=(a+b)/2;\n",
    "        fc=feval(funkcija,c);\n",
    "        [i,fc,abs(a-b)]\n",
    "        if fc==0 || abs(a-b)<tacnost\n",
    "            break;\n",
    "        end\n",
    "\n",
    "        if fa*fc<0\n",
    "            b=c;\n",
    "        else\n",
    "            a=c;\n",
    "        end\n",
    "    end\n",
    "    x=c;\n",
    "end\n",
    "endfunction"
   ]
  },
  {
   "cell_type": "code",
   "execution_count": 16,
   "metadata": {},
   "outputs": [
    {
     "name": "stdout",
     "output_type": "stream",
     "text": [
      "ans =\n",
      "\n",
      "   1   1   4\n",
      "\n",
      "ans =\n",
      "\n",
      "   2   0   2\n",
      "\n",
      "x = -3\n"
     ]
    }
   ],
   "source": [
    "x=polovljenje(-4,0,@(x)x+3,10,10^-5)"
   ]
  },
  {
   "cell_type": "code",
   "execution_count": 17,
   "metadata": {},
   "outputs": [
    {
     "name": "stdout",
     "output_type": "stream",
     "text": [
      "ans =\n",
      "\n",
      "    1.0000    5.2837   20.0000\n",
      "\n",
      "ans =\n",
      "\n",
      "    2    1   10\n",
      "\n",
      "ans =\n",
      "\n",
      "   3.0000  -3.3011   5.0000\n",
      "\n",
      "ans =\n",
      "\n",
      "   4.00000  -0.93468   2.50000\n",
      "\n",
      "ans =\n",
      "\n",
      "   5.00000   0.18596   1.25000\n",
      "\n",
      "ans =\n",
      "\n",
      "   6.00000  -0.34569   0.62500\n",
      "\n",
      "ans =\n",
      "\n",
      "   7.000000  -0.071216   0.312500\n",
      "\n",
      "ans =\n",
      "\n",
      "   8.000000   0.059700   0.156250\n",
      "\n",
      "ans =\n",
      "\n",
      "   9.0000000  -0.0051957   0.0781250\n",
      "\n",
      "ans =\n",
      "\n",
      "   10.000000    0.027395    0.039062\n",
      "\n",
      "ans =\n",
      "\n",
      "   11.000000    0.011135    0.019531\n",
      "\n",
      "ans =\n",
      "\n",
      "   12.0000000    0.0029786    0.0097656\n",
      "\n",
      "ans =\n",
      "\n",
      "   13.0000000   -0.0011064    0.0048828\n",
      "\n",
      "ans =\n",
      "\n",
      "   14.00000000    0.00093668    0.00244141\n",
      "\n",
      "ans =\n",
      "\n",
      "   15.000000000   -0.000084701    0.001220703\n",
      "\n",
      "ans =\n",
      "\n",
      "   16.00000000    0.00042602    0.00061035\n",
      "\n",
      "ans =\n",
      "\n",
      "   17.00000000    0.00017067    0.00030518\n",
      "\n",
      "ans =\n",
      "\n",
      "   18.000000000    0.000042986    0.000152588\n",
      "\n",
      "ans =\n",
      "\n",
      "   19.000000000   -0.000020857    0.000076294\n",
      "\n",
      "ans =\n",
      "\n",
      "   20.000000000    0.000011065    0.000038147\n",
      "\n",
      "ans =\n",
      "\n",
      "   21.0000000000   -0.0000048957    0.0000190735\n",
      "\n",
      "ans =\n",
      "\n",
      "   22.0000000000    0.0000030847    0.0000095367\n",
      "\n",
      "x =  0.73908\n"
     ]
    }
   ],
   "source": [
    "x=polovljenje(-15,5,@(x)cos(x)-x,100,10^-5)"
   ]
  },
  {
   "cell_type": "markdown",
   "metadata": {},
   "source": [
    "### Konvergencija metode polovljenja"
   ]
  },
  {
   "cell_type": "markdown",
   "metadata": {},
   "source": [
    "#### Metoda polovljenja ima garantovanu konvergenciju jer počinje od zatvorenog intervala koji sadrži rešenje, a metod tako funkcioniše da će sigurno stići do rešenja ili toliko malog intervala da ga nema smisla više poloviti."
   ]
  },
  {
   "cell_type": "markdown",
   "metadata": {},
   "source": [
    "### Brzina konvergencije"
   ]
  },
  {
   "cell_type": "markdown",
   "metadata": {},
   "source": [
    "#### Brzina konvergencije meri kojom brzinom opada greška (rastojanje između trenutnog i tačnog rešenja) kroz iteracije metoda.\n",
    "#### Brzina se izražava kao oblik funkcije kojoj približno odogvara opadanje greške kroz iteracije.\n",
    "#### Na primer, ako opadanje greške prati skoro pravu liniju kažemo da metoda konvergira linearno.\n",
    "#### Ako prati funkciju $f(x)=x^2$ kažemo da konvergira kvadratno itd. Očigledno je da je kvadratna konvergencija bolja od linearne itd."
   ]
  },
  {
   "cell_type": "code",
   "execution_count": 18,
   "metadata": {},
   "outputs": [],
   "source": [
    "function x=polovljenje_konvergencija(a,b,funkcija,maxIter,tacnost)\n",
    "fa=feval(funkcija,a);\n",
    "fb=feval(funkcija,b);\n",
    "greske = zeros(1,maxIter);\n",
    "if fa*fb<0\n",
    "    for i=1:maxIter\n",
    "        fa=feval(funkcija,a);\n",
    "        fb=feval(funkcija,b);\n",
    "        \n",
    "        c=(a+b)/2;\n",
    "        fc=feval(funkcija,c);\n",
    "        if fc==0 || abs(a-b)<tacnost\n",
    "            break;\n",
    "        end\n",
    "\n",
    "        if fa*fc<0\n",
    "            b=c;\n",
    "        else\n",
    "            a=c;\n",
    "        end\n",
    "        greske(i)=abs(a-b);\n",
    "    end\n",
    "    x=c;\n",
    "end\n",
    "\n",
    "plot(1:maxIter,log10(greske),'Color', [1 0 0], 'LineWidth', 2);\n",
    "set(gca, 'XTick', 1:5:25)\n",
    "xlabel('Iteracije')\n",
    "ylabel('logaritam10 od abs(b-a)')\n",
    "set(gca, \"linewidth\", 4, \"fontsize\", 16)\n",
    "endfunction"
   ]
  },
  {
   "cell_type": "markdown",
   "metadata": {},
   "source": [
    "#### Prikazaćemo na koji način opada veličina intervala $[a,b]$ što se može grubo može smatrati greškom za primer jednačine $cos(x)-x$"
   ]
  },
  {
   "cell_type": "code",
   "execution_count": 19,
   "metadata": {},
   "outputs": [
    {
     "name": "stdout",
     "output_type": "stream",
     "text": [
      "x =  0.73908\n"
     ]
    },
    {
     "data": {
      "image/png": "[encoded data removed]",
      "text/plain": [
       "<IPython.core.display.Image object>"
      ]
     },
     "metadata": {},
     "output_type": "display_data"
    }
   ],
   "source": [
    "x=polovljenje_konvergencija(-15,5,@(x)cos(x)-x,100,10^-5)"
   ]
  },
  {
   "cell_type": "markdown",
   "metadata": {},
   "source": [
    "#### Vidimo da greška opada kao prava linija što ilustruje da je konvergencija metode polovljenja linearna."
   ]
  },
  {
   "cell_type": "markdown",
   "metadata": {},
   "source": [
    "## Metoda sečice"
   ]
  },
  {
   "cell_type": "markdown",
   "metadata": {},
   "source": [
    "#### Mana metode polovljenja to što ne koristi vrednosti već samo znak funkcije $f(x)$ u svom algoritmu.\n",
    "#### Metoda sečice koristi funkciju vrednosti funkcije $f(x)$.\n",
    "#### Ideja je da prilikom traženja nule, $f(x)$ zamenimo pravom na malom intervalu (linearna interpolacija).\n",
    "#### Umesto da tražimo nulu $f(x)$ koja može biti komplikovanog oblika, tražimo nulu prave koja je jednostavna."
   ]
  },
  {
   "cell_type": "markdown",
   "metadata": {},
   "source": [
    "### Algoritam metode sečice"
   ]
  },
  {
   "cell_type": "markdown",
   "metadata": {},
   "source": [
    "#### Imamo dve tačke $x_1$ i $x_2$ i funkciju $f(x)$ čiju nulu određujuemo. \n",
    "#### Cilj nam je da pronađemo tačku gde prava između tačaka  $(x_1,f(x_1))$ i $(x_2,f(x_2))$ seče x-osu.\n",
    "#### Ako imamo pravu $y=kx+n$ ona tačku u kojoj seče x-osu možemo odrediti na sledeći način:\n",
    "### $$y=kx+n\\\\y=0\\\\0=kx+n\\\\x=-\\frac{n}{k}$$\n",
    "#### Određujemo sada jednačinu prave $y=kx+n$ kroz tačke  $(x_1,f(x_1))$ i $(x_2,f(x_2))$:\n",
    "### $$f(x_1)=kx_1+n\\\\f(x_2)=kx_2+n$$\n",
    "#### Oduzimamo drugu od prve jednačine:\n",
    "### $$f(x_1)-f(x_2)=k(x_1-x_2)$$\n",
    "#### Određujemo $k$:\n",
    "### $$k=\\frac{f(x_1)-f(x_2)}{x_1-x_2}$$\n",
    "#### Određujemo $n$ zamenom $k$ u prvu jednačinu:\n",
    "### $$f(x_1)=\\frac{f(x_1)-f(x_2)}{x_1-x_2}x_1+n\\\\n=f(x_1)-\\frac{f(x_1)-f(x_2)}{x_1-x_2}x_1$$\n",
    "#### Određujemo tačku $x_3$ kao tačku u kojoj prava između $(x_1,f(x_1))$ i $(x_2,f(x_2))$ sečce x-osu:\n",
    "### $$x_3=-\\frac{n}{k}\\\\x_3=-\\frac{f(x_1)-\\frac{f(x_1)-f(x_2)}{x_1-x_2}x_1}{\\frac{f(x_1)-f(x_2)}{x_1-x_2}}\\\\x_3=x_1-\\frac{f(x_1)}{\\frac{f(x_1)-f(x_2)}{(x_1-x_2)}}\\\\x_3=x_1-f(x_1)\\frac{x_1-x_2}{f(x_1)-f(x_2)}$$\n",
    "#### Ako sada umesto $x_3,x_2 i x_1$ redom pišemo $x_{n+1},x_n i x_{n-1}$ dobijamo opštu formulu za metodu sečice:\n",
    "### $$x_{n+1}=x_{n-1}-f(x_{n-1})\\frac{x_{n-1}-x_n}{f(x_{n-1})-f(x_n)}$$"
   ]
  },
  {
   "cell_type": "markdown",
   "metadata": {},
   "source": [
    "#### Primer: Primenićemo sada metodu sečice na funkciju $f(x)=x^2-2$ za početne vrenosti $x_1=0$ i $x_2=3$.\n",
    "### $$x_{n+1}=x_{n-1}-f(x_{n-1})\\frac{x_{n-1}-x_n}{f(x_{n-1})-f(x_n)}$$"
   ]
  },
  {
   "cell_type": "markdown",
   "metadata": {},
   "source": [
    "### $$x_3=x_1-f(x_1)\\frac{x_1-x_2}{f(x_1)-f(x_2)}\\\\f(x_1)=f(0)=0^2-2=-2\\\\f(x_2)=f(3)=3^2-2=7\\\\x_3=0-(-2)\\frac{-0-3}{-2-7}=\\frac{2}{3}$$"
   ]
  },
  {
   "cell_type": "code",
   "execution_count": 20,
   "metadata": {},
   "outputs": [],
   "source": [
    "function x=secica_viz(a,b,funkcija,maxIter,tacnost)\n",
    "plot_function([a,b],funkcija)\n",
    "    for i=1:maxIter\n",
    "         if i>1\n",
    "            delete(hc);\n",
    "            %delete(hp);\n",
    "        end\n",
    "    \n",
    "        fa=feval(funkcija,a);\n",
    "        fb=feval(funkcija,b);\n",
    "        \n",
    "        k=(fb-fa)/(b-a);\n",
    "        n=fb-k*b;\n",
    "        c=-n/k;\n",
    "        \n",
    "        fc=feval(funkcija,c);\n",
    "        \n",
    "        plot_point([a,0],i,'bo',\"a\");\n",
    "        plot_point([b,0],i,'bo',\"b\");\n",
    "        plot_point([a,feval(funkcija,a)],i,'bo',\"f(a)\");\n",
    "        plot_point([b,feval(funkcija,b)],i,'bo',\"f(b)\");\n",
    "        hc = plot_point([c,0],i,'r*',\"c\");\n",
    "        tmp=linspace(min([a,b]),max([a,b]),100);\n",
    "        hp=plot(tmp,k.*tmp.+n);\n",
    "\n",
    "        if(abs(fc)<tacnost)\n",
    "            break;\n",
    "        end\n",
    "        a=b;\n",
    "        b=c;\n",
    "    end\n",
    "    x=c;\n",
    "endfunction"
   ]
  },
  {
   "cell_type": "code",
   "execution_count": 21,
   "metadata": {},
   "outputs": [
    {
     "name": "stdout",
     "output_type": "stream",
     "text": [
      "ans =  0.66667\n"
     ]
    },
    {
     "data": {
      "image/png": "[encoded data removed]",
      "text/plain": [
       "<IPython.core.display.Image object>"
      ]
     },
     "metadata": {},
     "output_type": "display_data"
    }
   ],
   "source": [
    "secica_viz(0,3,@(x)x.^2-2,1,10^-5)"
   ]
  },
  {
   "cell_type": "markdown",
   "metadata": {},
   "source": [
    "### $$x_4=x_2-f(x_2)\\frac{x_2-x_3}{f(x_2)-f(x_3)}\\\\f(x_2)=7\\\\f(x_3)=f(\\frac{2}{3})=(\\frac{2}{3})^2-2=-\\frac{14}{9}\\\\x_4=3-7\\frac{3-\\frac{2}{3}}{7+\\frac{14}{9}}=3-7\\frac{3}{11}=\\frac{12}{11}$$"
   ]
  },
  {
   "cell_type": "code",
   "execution_count": 22,
   "metadata": {},
   "outputs": [
    {
     "name": "stdout",
     "output_type": "stream",
     "text": [
      "ans =  1.0909\n"
     ]
    },
    {
     "data": {
      "image/png": "[encoded data removed]",
      "text/plain": [
       "<IPython.core.display.Image object>"
      ]
     },
     "metadata": {},
     "output_type": "display_data"
    }
   ],
   "source": [
    "secica_viz(0,3,@(x)x.^2-2,2,10^-5)"
   ]
  },
  {
   "cell_type": "code",
   "execution_count": 23,
   "metadata": {},
   "outputs": [
    {
     "name": "stdout",
     "output_type": "stream",
     "text": [
      "ans = -0.93959\n"
     ]
    },
    {
     "data": {
      "image/png": "[encoded data removed]",
      "text/plain": [
       "<IPython.core.display.Image object>"
      ]
     },
     "metadata": {},
     "output_type": "display_data"
    }
   ],
   "source": [
    "secica_viz(-15,3,@(x)cos(x)-x,1,10^-5)"
   ]
  },
  {
   "cell_type": "markdown",
   "metadata": {},
   "source": [
    "#### Pogledati animaciju za metodu sečice sa slajdova."
   ]
  },
  {
   "cell_type": "markdown",
   "metadata": {},
   "source": [
    "#### Pišemo kod za metodu sečice."
   ]
  },
  {
   "cell_type": "code",
   "execution_count": 24,
   "metadata": {},
   "outputs": [],
   "source": [
    "function x=secica(a,b,funkcija,maxIter,tacnost)\n",
    "    for i=1:maxIter\n",
    "        fa=feval(funkcija,a);\n",
    "        fb=feval(funkcija,b);\n",
    "        \n",
    "        k=(fb-fa)/(b-a);\n",
    "        n=fb-k*b;\n",
    "        c=-n/k;\n",
    "        \n",
    "        fc=feval(funkcija,c);\n",
    "        \n",
    "        [i,fc]\n",
    "        \n",
    "        if(abs(fc)<tacnost)\n",
    "            break;\n",
    "        end\n",
    "        a=b;\n",
    "        b=c;\n",
    "    end\n",
    "    x=c;\n",
    "endfunction"
   ]
  },
  {
   "cell_type": "code",
   "execution_count": 25,
   "metadata": {},
   "outputs": [
    {
     "name": "stdout",
     "output_type": "stream",
     "text": [
      "ans =\n",
      "\n",
      "   1.0000  -1.5556\n",
      "\n",
      "ans =\n",
      "\n",
      "   2.00000  -0.80992\n",
      "\n",
      "ans =\n",
      "\n",
      "   3.00000   0.40785\n",
      "\n",
      "ans =\n",
      "\n",
      "   4.000000  -0.047300\n",
      "\n",
      "ans =\n",
      "\n",
      "   5.0000000  -0.0022181\n",
      "\n",
      "ans =\n",
      "\n",
      "   6.000000000   0.000013279\n",
      "\n",
      "ans =\n",
      "\n",
      "   7.0000000000000  -0.0000000036839\n",
      "\n",
      "x =  1.4142\n"
     ]
    }
   ],
   "source": [
    "x=secica(0,3,@(x)x.^2-2,10,10^-5)"
   ]
  },
  {
   "cell_type": "code",
   "execution_count": 26,
   "metadata": {},
   "outputs": [
    {
     "name": "stdout",
     "output_type": "stream",
     "text": [
      "ans =\n",
      "\n",
      "   1.00000   0.97563\n",
      "\n",
      "ans =\n",
      "\n",
      "   2.00000  -0.23750\n",
      "\n",
      "ans =\n",
      "\n",
      "   3.000000   0.048358\n",
      "\n",
      "ans =\n",
      "\n",
      "   4.0000000   0.0013987\n",
      "\n",
      "ans =\n",
      "\n",
      "   5.0000000000  -0.0000091257\n",
      "\n",
      "x =  0.73909\n",
      "ans =\n",
      "\n",
      "    1.0000    5.2837   20.0000\n",
      "\n",
      "ans =\n",
      "\n",
      "    2    1   10\n",
      "\n",
      "ans =\n",
      "\n",
      "   3.0000  -3.3011   5.0000\n",
      "\n",
      "ans =\n",
      "\n",
      "   4.00000  -0.93468   2.50000\n",
      "\n",
      "ans =\n",
      "\n",
      "   5.00000   0.18596   1.25000\n",
      "\n",
      "ans =\n",
      "\n",
      "   6.00000  -0.34569   0.62500\n",
      "\n",
      "ans =\n",
      "\n",
      "   7.000000  -0.071216   0.312500\n",
      "\n",
      "ans =\n",
      "\n",
      "   8.000000   0.059700   0.156250\n",
      "\n",
      "ans =\n",
      "\n",
      "   9.0000000  -0.0051957   0.0781250\n",
      "\n",
      "ans =\n",
      "\n",
      "   10.000000    0.027395    0.039062\n",
      "\n",
      "ans =\n",
      "\n",
      "   11.000000    0.011135    0.019531\n",
      "\n",
      "ans =\n",
      "\n",
      "   12.0000000    0.0029786    0.0097656\n",
      "\n",
      "ans =\n",
      "\n",
      "   13.0000000   -0.0011064    0.0048828\n",
      "\n",
      "ans =\n",
      "\n",
      "   14.00000000    0.00093668    0.00244141\n",
      "\n",
      "ans =\n",
      "\n",
      "   15.000000000   -0.000084701    0.001220703\n",
      "\n",
      "ans =\n",
      "\n",
      "   16.00000000    0.00042602    0.00061035\n",
      "\n",
      "ans =\n",
      "\n",
      "   17.00000000    0.00017067    0.00030518\n",
      "\n",
      "ans =\n",
      "\n",
      "   18.000000000    0.000042986    0.000152588\n",
      "\n",
      "ans =\n",
      "\n",
      "   19.000000000   -0.000020857    0.000076294\n",
      "\n",
      "ans =\n",
      "\n",
      "   20.000000000    0.000011065    0.000038147\n",
      "\n",
      "ans =\n",
      "\n",
      "   21.0000000000   -0.0000048957    0.0000190735\n",
      "\n",
      "ans =\n",
      "\n",
      "   22.0000000000    0.0000030847    0.0000095367\n",
      "\n",
      "x =  0.73908\n"
     ]
    }
   ],
   "source": [
    "x=secica(-15,5,@(x)cos(x)-x,100,10^-5)\n",
    "x=polovljenje(-15,5,@(x)cos(x)-x,100,10^-5)"
   ]
  },
  {
   "cell_type": "markdown",
   "metadata": {},
   "source": [
    "## Konvergencija metode sečice"
   ]
  },
  {
   "cell_type": "markdown",
   "metadata": {},
   "source": [
    "#### Konvergencija metode sečice je super-linearna.\n",
    "#### To znači da se odnos greške i iteracija menja linearno, tj. $greska = k * itreacija + n$, ali se $k$ kod metode sečice smanjuje kroz iteracije, dakle konvergencija je sve brža. Na primer na početku može da važi $greska = k_1\\cdot itreacija + n$, a posle nekoliko iteracija $greska = k_2\\cdot itreacija + n$ itd.\n",
    "#### Kod metode polovljenja vrednost $k$ se ne menja kroz iteracije, odnosno trenutna greška je uvek polovina prethodne greške."
   ]
  },
  {
   "cell_type": "code",
   "execution_count": 27,
   "metadata": {},
   "outputs": [],
   "source": [
    "function x=secica_konvergencija(a,b,funkcija,maxIter,tacnost)\n",
    "    greske = zeros(1,maxIter);\n",
    "    for i=1:maxIter\n",
    "        fa=feval(funkcija,a);\n",
    "        fb=feval(funkcija,b);\n",
    "        \n",
    "        k=(fb-fa)/(b-a);\n",
    "        n=fb-k*b;\n",
    "        c=-n/k;\n",
    "        \n",
    "        fc=feval(funkcija,c);\n",
    "        greske(i)=fc;\n",
    "        \n",
    "        if(abs(fc)<tacnost)\n",
    "            break;\n",
    "        end\n",
    "        a=b;\n",
    "        b=c;\n",
    "    end\n",
    "    x=c;\n",
    "    plot(1:maxIter,log10(greske),'Color', [0 1 0], 'LineWidth', 2);\n",
    "    set(gca, 'XTick', 1:5:25)\n",
    "    xlabel('Iteracije')\n",
    "    ylabel('logaritam10 od abs(b-a) i f(c)')\n",
    "    set(gca, \"linewidth\", 4, \"fontsize\", 16)\n",
    "endfunction"
   ]
  },
  {
   "cell_type": "code",
   "execution_count": 28,
   "metadata": {},
   "outputs": [
    {
     "name": "stdout",
     "output_type": "stream",
     "text": [
      "x_pol =  0.73908\n",
      "x_sec =  0.73909\n"
     ]
    },
    {
     "data": {
      "image/png": "[encoded data removed]",
      "text/plain": [
       "<IPython.core.display.Image object>"
      ]
     },
     "metadata": {},
     "output_type": "display_data"
    }
   ],
   "source": [
    "x_pol=polovljenje_konvergencija(-15,5,@(x)cos(x)-x,100,10^-5)\n",
    "hold on;\n",
    "x_sec=secica_konvergencija(-15,5,@(x)cos(x)-x,100,10^-5)"
   ]
  },
  {
   "cell_type": "markdown",
   "metadata": {},
   "source": [
    "#### Sečica je otvorena metoda i nema garantovanu konvergenciju. Ona zavisi od odabira početnih vrednosti."
   ]
  },
  {
   "cell_type": "markdown",
   "metadata": {},
   "source": [
    "## Metoda regula falsi"
   ]
  },
  {
   "cell_type": "markdown",
   "metadata": {},
   "source": [
    "#### Regula falsi je modifkacija metode sečice koja kombinuje metodu polovljenja i metodu sečice.\n",
    "#### Regula falsi zahteva zatvoren iterval u kome se nalazi rešenje kao uslov za pokretanje.\n",
    "#### Tokom izvršvavanja sečica se povlači uvek kroz tačake između kojih funkcija menja znak.\n",
    "#### Na ovom predvanju nećemo detaljno obrađivati metodu regula falsi. Kao dodatni neobavezan zadatak, možete napisati kod za metodu regula falsi pomoću kodova sa ovog predavanja."
   ]
  },
  {
   "cell_type": "markdown",
   "metadata": {},
   "source": [
    "## Njutnova metoda"
   ]
  },
  {
   "cell_type": "markdown",
   "metadata": {},
   "source": [
    "#### Njutnova metoda ili metoda tangente koristi istu logiku kao metoda sečice, ali se umesto sečice koristi tangenta.\n",
    "#### Pretpostavka je da tangenta bolje prati funkciju od sečice pa će samim tim ovaj metod brže konvergirati od metode sečice.\n",
    "#### Metod je otvoren i zahteva samo jednu početnu tačku. Samim tim konvergencija nije garantovana, ali je kvadrtna kada metod konvergira.\n",
    "#### Njutnova metoda je najbrža metoda koji učimo danas, ali (kao što ćete videti u nastavku) zahteva izvod funkcije koji nije uvek lako ni brzo izračunljiv."
   ]
  },
  {
   "cell_type": "markdown",
   "metadata": {},
   "source": [
    "## Algoritam Njutnove metode"
   ]
  },
  {
   "cell_type": "markdown",
   "metadata": {},
   "source": [
    "#### Krenućemo od jednačine tangente u nekoj tački $x_1$, a $x_2$ ćemo odrediti kao tačku u kojoj ta tangenta seče x-osu.\n",
    "#### Jednačina tagente u tački $x_i$:\n",
    "### $$y_i=f(x_i)+f'(x_i)(x-x_i)$$\n",
    "#### gde je $f'(x_i)$ izvod funkcije $f(x)$ u tački $x_i$.\n",
    "#### Postavljamo $y_i = 0$, ubacujemo $x_1$ umesto $x_i$, i izražavamo tačku $x_2$ kao tačku $x$ na tangenti za koju važi $y_i = 0$:\n",
    "### $$0=f(x_1)+f'(x_1)(x_2-x_1)\\\\f'(x_1)x_2=f(x_1)-f'(x_1)x_1\\\\x_2=x_1-\\frac{f(x_1)}{f'(x_1)}$$"
   ]
  },
  {
   "cell_type": "markdown",
   "metadata": {},
   "source": [
    "#### Ako sada umesto $x_2$ i $x_1$ redom pišemo $x_{n+1}$ i $x_n$ dobijamo opštu formulu za Njutnovu metodu:\n",
    "### $$x_{n+1}=x_n-\\frac{f(x_n)}{f'(x_n)}$$"
   ]
  },
  {
   "cell_type": "markdown",
   "metadata": {},
   "source": [
    "#### Primer: Primenićemo sada metodu tangente na funkciju $f(x)=x^2-2$ za početnu vrenosti $x_1=9$. Da li možemo da odaberemo baš bilo koju tačku? Šta bi bilo da smo odabrali $x_1=0$?\n",
    "### $$x_2=x_1-\\frac{f(x_1)}{f'(x_1)}\\\\f(9)=9^2-2=79\\\\f'(9)=2\\cdot9=18\\\\x_2=9-\\frac{f(9)}{f'(9)}\\\\x_2=9-\\frac{79}{18}=4.6111$$"
   ]
  },
  {
   "cell_type": "code",
   "execution_count": 29,
   "metadata": {},
   "outputs": [],
   "source": [
    "function x=tangenta_viz(x1,funkcija,izvod,maxIter,tacnost)\n",
    "x2=x1;\n",
    "plot_function([x1-10,x1+1],funkcija)\n",
    "    for i=1:maxIter\n",
    "        if i>1\n",
    "            delete(hc);\n",
    "        end\n",
    "        fx1=feval(funkcija,x1);\n",
    "        fizvodx1=feval(izvod,x1);\n",
    "      \n",
    "        x2=x1-fx1/fizvodx1;\n",
    "        fx2=feval(funkcija,x2);\n",
    "        \n",
    "        plot_point([x1,0],i,'bo',\"x1\");\n",
    "        plot_point([x1,feval(funkcija,x1)],i,'bo',\"f(x1)\");\n",
    "        hc = plot_point([x2,0],i,'r*',\"x2\");\n",
    "        tmp=linspace(x2-3,x1+5,100);\n",
    "        hp=plot(tmp,fx1+fizvodx1.*(tmp-x1));\n",
    "\n",
    "        if(abs(fx2)<tacnost)\n",
    "            break;\n",
    "        end\n",
    "        x1=x2;\n",
    "    end\n",
    "    x=x2;\n",
    "endfunction"
   ]
  },
  {
   "cell_type": "code",
   "execution_count": 30,
   "metadata": {},
   "outputs": [
    {
     "name": "stdout",
     "output_type": "stream",
     "text": [
      "ans =  4.6111\n"
     ]
    },
    {
     "data": {
      "image/png": "[encoded data removed]",
      "text/plain": [
       "<IPython.core.display.Image object>"
      ]
     },
     "metadata": {},
     "output_type": "display_data"
    }
   ],
   "source": [
    "tangenta_viz(9,@(x)x.^2-2,@(x)2.*x,1,10^-5)"
   ]
  },
  {
   "cell_type": "markdown",
   "metadata": {},
   "source": [
    "### $$x_3=x_2-\\frac{f(x_2)}{f'(x_2)}\\\\f(4.6111)=4.6111^2-2=19.262\\\\f'(4.6111)=2\\cdot4.6111=9.222\\\\x_3=4.6111-\\frac{f(4.6111)}{f'(4.6111)}\\\\x_2=4.6111-\\frac{19.262}{9.222}=2.5224$$"
   ]
  },
  {
   "cell_type": "code",
   "execution_count": 31,
   "metadata": {},
   "outputs": [
    {
     "name": "stdout",
     "output_type": "stream",
     "text": [
      "ans =  2.5224\n"
     ]
    },
    {
     "data": {
      "image/png": "[encoded data removed]",
      "text/plain": [
       "<IPython.core.display.Image object>"
      ]
     },
     "metadata": {},
     "output_type": "display_data"
    }
   ],
   "source": [
    "tangenta_viz(9,@(x)x.^2-2,@(x)2.*x,2,10^-5)"
   ]
  },
  {
   "cell_type": "markdown",
   "metadata": {},
   "source": [
    "#### Pogledati animaciju za metodu tangente sa slajdova."
   ]
  },
  {
   "cell_type": "markdown",
   "metadata": {},
   "source": [
    "#### Pišemo kod za metodu tangente."
   ]
  },
  {
   "cell_type": "code",
   "execution_count": 32,
   "metadata": {},
   "outputs": [],
   "source": [
    "function x=tangenta(x1,funkcija,izvod,maxIter,tacnost)\n",
    "    x2=x1;\n",
    "    for i=1:maxIter\n",
    "        fx1=feval(funkcija,x1);\n",
    "        fizvodx1=feval(izvod,x1);\n",
    "      \n",
    "        x2=x1-fx1/fizvodx1;\n",
    "        \n",
    "        fx2=feval(funkcija,x2);\n",
    "        \n",
    "        [i,x2,fx2]\n",
    "        \n",
    "        if(abs(fx2)<tacnost)\n",
    "            break;\n",
    "        end\n",
    "        x1=x2;\n",
    "    end\n",
    "    x=x2;\n",
    "endfunction"
   ]
  },
  {
   "cell_type": "code",
   "execution_count": 33,
   "metadata": {},
   "outputs": [
    {
     "name": "stdout",
     "output_type": "stream",
     "text": [
      "ans =\n",
      "\n",
      "    1.0000    4.6111   19.2623\n",
      "\n",
      "ans =\n",
      "\n",
      "   2.0000   2.5224   4.3626\n",
      "\n",
      "ans =\n",
      "\n",
      "   3.00000   1.65766   0.74782\n",
      "\n",
      "ans =\n",
      "\n",
      "   4.000000   1.432089   0.050880\n",
      "\n",
      "ans =\n",
      "\n",
      "   5.00000000   1.41432513   0.00031557\n",
      "\n",
      "ans =\n",
      "\n",
      "   6.000000000000   1.414213566773   0.000000012446\n",
      "\n",
      "ans =\n",
      "\n",
      "   7.0000e+00   1.4142e+00   4.4409e-16\n",
      "\n",
      "x =  1.4142\n"
     ]
    }
   ],
   "source": [
    "x=tangenta(9,@(x)x.^2-2,@(x)2.*x,10,10^-15)"
   ]
  },
  {
   "cell_type": "code",
   "execution_count": 34,
   "metadata": {},
   "outputs": [
    {
     "name": "stdout",
     "output_type": "stream",
     "text": [
      "ans =\n",
      "\n",
      "     1.0000  -109.8206   108.8297\n",
      "\n",
      "ans =\n",
      "\n",
      "    2.0000   15.9608  -16.9290\n",
      "\n",
      "ans =\n",
      "\n",
      "   3.0000  -6.6151   7.5605\n",
      "\n",
      "ans =\n",
      "\n",
      "   4.0000   4.6001  -4.7122\n",
      "\n",
      "ans =\n",
      "\n",
      "     5.0000  -743.6197   743.0281\n",
      "\n",
      "ans =\n",
      "\n",
      "      6.0000   3090.7584  -3089.9158\n",
      "\n",
      "ans =\n",
      "\n",
      "      7.0000  -3606.1401   3607.0579\n",
      "\n",
      "ans =\n",
      "\n",
      "      8.0000  -1024.2182   1025.2165\n",
      "\n",
      "ans =\n",
      "\n",
      "    9.0000   65.2592  -66.0149\n",
      "\n",
      "ans =\n",
      "\n",
      "   10.000   25.371  -24.400\n",
      "\n",
      "x =  25.371\n",
      "----------------------------------\n",
      "ans =\n",
      "\n",
      "   1.00000   0.97563\n",
      "\n",
      "ans =\n",
      "\n",
      "   2.00000  -0.23750\n",
      "\n",
      "ans =\n",
      "\n",
      "   3.000000   0.048358\n",
      "\n",
      "ans =\n",
      "\n",
      "   4.0000000   0.0013987\n",
      "\n",
      "ans =\n",
      "\n",
      "   5.0000000000  -0.0000091257\n",
      "\n",
      "x =  0.73909\n",
      "----------------------------------\n",
      "ans =\n",
      "\n",
      "    1.0000    5.2837   20.0000\n",
      "\n",
      "ans =\n",
      "\n",
      "    2    1   10\n",
      "\n",
      "ans =\n",
      "\n",
      "   3.0000  -3.3011   5.0000\n",
      "\n",
      "ans =\n",
      "\n",
      "   4.00000  -0.93468   2.50000\n",
      "\n",
      "ans =\n",
      "\n",
      "   5.00000   0.18596   1.25000\n",
      "\n",
      "ans =\n",
      "\n",
      "   6.00000  -0.34569   0.62500\n",
      "\n",
      "ans =\n",
      "\n",
      "   7.000000  -0.071216   0.312500\n",
      "\n",
      "ans =\n",
      "\n",
      "   8.000000   0.059700   0.156250\n",
      "\n",
      "ans =\n",
      "\n",
      "   9.0000000  -0.0051957   0.0781250\n",
      "\n",
      "ans =\n",
      "\n",
      "   10.000000    0.027395    0.039062\n",
      "\n",
      "ans =\n",
      "\n",
      "   11.000000    0.011135    0.019531\n",
      "\n",
      "ans =\n",
      "\n",
      "   12.0000000    0.0029786    0.0097656\n",
      "\n",
      "ans =\n",
      "\n",
      "   13.0000000   -0.0011064    0.0048828\n",
      "\n",
      "ans =\n",
      "\n",
      "   14.00000000    0.00093668    0.00244141\n",
      "\n",
      "ans =\n",
      "\n",
      "   15.000000000   -0.000084701    0.001220703\n",
      "\n",
      "ans =\n",
      "\n",
      "   16.00000000    0.00042602    0.00061035\n",
      "\n",
      "ans =\n",
      "\n",
      "   17.00000000    0.00017067    0.00030518\n",
      "\n",
      "ans =\n",
      "\n",
      "   18.000000000    0.000042986    0.000152588\n",
      "\n",
      "ans =\n",
      "\n",
      "   19.000000000   -0.000020857    0.000076294\n",
      "\n",
      "ans =\n",
      "\n",
      "   20.000000000    0.000011065    0.000038147\n",
      "\n",
      "ans =\n",
      "\n",
      "   21.0000000000   -0.0000048957    0.0000190735\n",
      "\n",
      "ans =\n",
      "\n",
      "   22.0000000000    0.0000030847    0.0000095367\n",
      "\n",
      "x =  0.73908\n"
     ]
    }
   ],
   "source": [
    "x=tangenta(5,@(x)cos(x)-x,@(x)-sin(x)-1,10,10^-5)\n",
    "disp('----------------------------------')\n",
    "x=secica(-15,5,@(x)cos(x)-x,100,10^-5)\n",
    "disp('----------------------------------')\n",
    "x=polovljenje(-15,5,@(x)cos(x)-x,100,10^-5)"
   ]
  },
  {
   "cell_type": "markdown",
   "metadata": {},
   "source": [
    "#### Metoda tangente divergira za početnu vrednost $x_1=5$. To je zato što je tačka $x_1=5$ skoro tačka prevoja, tj. važi $f'(5)=-sin(5)-1=-0.041$. Što možemo videti i na grafiku."
   ]
  },
  {
   "cell_type": "code",
   "execution_count": 35,
   "metadata": {},
   "outputs": [
    {
     "data": {
      "image/png": "[encoded data removed]",
      "text/plain": [
       "<IPython.core.display.Image object>"
      ]
     },
     "metadata": {},
     "output_type": "display_data"
    }
   ],
   "source": [
    "plot_function([0,5],@(x)cos(x)-x)\n",
    "plot(5,0,'bo');\n",
    "plot(5,cos(5)-5,'bo');"
   ]
  },
  {
   "cell_type": "markdown",
   "metadata": {},
   "source": [
    "#### Sada menjamo početnu tačku na $x_1=2.5$ i poredimo metode."
   ]
  },
  {
   "cell_type": "code",
   "execution_count": 36,
   "metadata": {},
   "outputs": [
    {
     "name": "stdout",
     "output_type": "stream",
     "text": [
      "ans =\n",
      "\n",
      "   1.0000   1.7310  -1.8905\n",
      "\n",
      "ans =\n",
      "\n",
      "   2.000000   0.779651  -0.068492\n",
      "\n",
      "ans =\n",
      "\n",
      "   3.00000000   0.73943326  -0.00058268\n",
      "\n",
      "ans =\n",
      "\n",
      "   4.000000000000   0.739085159965  -0.000000044770\n",
      "\n",
      "x =  0.73909\n",
      "----------------------------------\n",
      "ans =\n",
      "\n",
      "   1.0000   1.4970\n",
      "\n",
      "ans =\n",
      "\n",
      "   2.00000   0.74512\n",
      "\n",
      "ans =\n",
      "\n",
      "   3.00000  -0.93366\n",
      "\n",
      "ans =\n",
      "\n",
      "   4.000000   0.094587\n",
      "\n",
      "ans =\n",
      "\n",
      "   5.0000000   0.0084188\n",
      "\n",
      "ans =\n",
      "\n",
      "   6.00000000  -0.00011007\n",
      "\n",
      "ans =\n",
      "\n",
      "   7.00000000000   0.00000012272\n",
      "\n",
      "x =  0.73909\n",
      "----------------------------------\n",
      "ans =\n",
      "\n",
      "   1   1   5\n",
      "\n",
      "ans =\n",
      "\n",
      "   2.00000  -0.93468   2.50000\n",
      "\n",
      "ans =\n",
      "\n",
      "   3.00000   0.18596   1.25000\n",
      "\n",
      "ans =\n",
      "\n",
      "   4.00000  -0.34569   0.62500\n",
      "\n",
      "ans =\n",
      "\n",
      "   5.000000  -0.071216   0.312500\n",
      "\n",
      "ans =\n",
      "\n",
      "   6.000000   0.059700   0.156250\n",
      "\n",
      "ans =\n",
      "\n",
      "   7.0000000  -0.0051957   0.0781250\n",
      "\n",
      "ans =\n",
      "\n",
      "   8.000000   0.027395   0.039062\n",
      "\n",
      "ans =\n",
      "\n",
      "   9.000000   0.011135   0.019531\n",
      "\n",
      "ans =\n",
      "\n",
      "   10.0000000    0.0029786    0.0097656\n",
      "\n",
      "ans =\n",
      "\n",
      "   11.0000000   -0.0011064    0.0048828\n",
      "\n",
      "ans =\n",
      "\n",
      "   12.00000000    0.00093668    0.00244141\n",
      "\n",
      "ans =\n",
      "\n",
      "   13.000000000   -0.000084701    0.001220703\n",
      "\n",
      "ans =\n",
      "\n",
      "   14.00000000    0.00042602    0.00061035\n",
      "\n",
      "ans =\n",
      "\n",
      "   15.00000000    0.00017067    0.00030518\n",
      "\n",
      "ans =\n",
      "\n",
      "   16.000000000    0.000042986    0.000152588\n",
      "\n",
      "ans =\n",
      "\n",
      "   17.000000000   -0.000020857    0.000076294\n",
      "\n",
      "ans =\n",
      "\n",
      "   18.000000000    0.000011065    0.000038147\n",
      "\n",
      "ans =\n",
      "\n",
      "   19.0000000000   -0.0000048957    0.0000190735\n",
      "\n",
      "ans =\n",
      "\n",
      "   20.0000000000    0.0000030847    0.0000095367\n",
      "\n",
      "x =  0.73908\n"
     ]
    }
   ],
   "source": [
    "x=tangenta(-2.5,@(x)cos(x)-x,@(x)-sin(x)-1,10,10^-5)\n",
    "disp('----------------------------------')\n",
    "x=secica(-2.5,2.5,@(x)cos(x)-x,100,10^-5)\n",
    "disp('----------------------------------')\n",
    "x=polovljenje(-2.5,2.5,@(x)cos(x)-x,100,10^-5)"
   ]
  },
  {
   "cell_type": "markdown",
   "metadata": {},
   "source": [
    "#### Vidimo da metoda tangente najbrže (za 4 iteracije) stiže do rešenja."
   ]
  },
  {
   "cell_type": "markdown",
   "metadata": {},
   "source": [
    "## Konvergencija Njutnove metode"
   ]
  },
  {
   "cell_type": "markdown",
   "metadata": {},
   "source": [
    "#### Njutnova metoda konvergira kvadratno, odnosno odnos iteracija i greške je kvadratna funkcija.\n",
    "#### Kao što smo videli na jednom od prethodnih primera, konvergencija Njutnove metode nije garantovana i zavisi od izbora početnog rešenja.\n",
    "#### Ako bismo u praksi hteli da što brže garantovano stignemo do tačnog rešenja, jedna od opcija bi bila da znamo bar grubo neki veći zatvoreni interval u kome je rešenje, pa da pokrenemo nekoliko iteracije metode polovljenja, pa onda kad suzimo interval odabremo neko početno rešenje i pokrenemo Njutnovu metodu."
   ]
  },
  {
   "cell_type": "code",
   "execution_count": 37,
   "metadata": {},
   "outputs": [],
   "source": [
    "function x=tangenta_konvergencija(x1,funkcija,izvod,maxIter,tacnost)\n",
    "    x2=x1;\n",
    "    greske = zeros(1,maxIter);\n",
    "    for i=1:maxIter\n",
    "        fx1=feval(funkcija,x1);\n",
    "        fizvodx1=feval(izvod,x1);\n",
    "      \n",
    "        x2=x1-fx1/fizvodx1;\n",
    "        \n",
    "        fx2=feval(funkcija,x2);\n",
    "        \n",
    "        greske(i)=fx2;\n",
    "        if(abs(fx2)<tacnost)\n",
    "            break;\n",
    "        end\n",
    "        x1=x2;\n",
    "    end\n",
    "    x=x2;\n",
    "    plot(1:maxIter,log10(greske),'Color', [0 0 1], 'LineWidth', 2);\n",
    "    set(gca, 'XTick', 1:2:25)\n",
    "    xlabel('Iteracije')\n",
    "    ylabel('logaritam10 od abs(b-a) i f(c)')\n",
    "    set(gca, \"linewidth\", 4, \"fontsize\", 12)\n",
    "endfunction"
   ]
  },
  {
   "cell_type": "code",
   "execution_count": 38,
   "metadata": {},
   "outputs": [
    {
     "data": {
      "image/png": "[encoded data removed]",
      "text/plain": [
       "<IPython.core.display.Image object>"
      ]
     },
     "metadata": {},
     "output_type": "display_data"
    }
   ],
   "source": [
    "x=secica_konvergencija(-2.5,2.5,@(x)cos(x)-x,100,10^-5);\n",
    "hold on;\n",
    "x=polovljenje_konvergencija(-2.5,2.5,@(x)cos(x)-x,100,10^-5);\n",
    "hold on;\n",
    "x=tangenta_konvergencija(-2.5,@(x)cos(x)-x,@(x)-sin(x)-1,10,10^-5);"
   ]
  },
  {
   "cell_type": "code",
   "execution_count": null,
   "metadata": {},
   "outputs": [],
   "source": []
  }
 ],
 "metadata": {
  "kernelspec": {
   "display_name": "Octave",
   "language": "octave",
   "name": "octave"
  },
  "language_info": {
   "file_extension": ".m",
   "help_links": [
    {
     "text": "GNU Octave",
     "url": "https://www.gnu.org/software/octave/support.html"
    },
    {
     "text": "Octave Kernel",
     "url": "https://github.com/Calysto/octave_kernel"
    },
    {
     "text": "MetaKernel Magics",
     "url": "https://metakernel.readthedocs.io/en/latest/source/README.html"
    }
   ],
   "mimetype": "text/x-octave",
   "name": "octave",
   "version": "5.2.0"
  }
 },
 "nbformat": 4,
 "nbformat_minor": 4
}
