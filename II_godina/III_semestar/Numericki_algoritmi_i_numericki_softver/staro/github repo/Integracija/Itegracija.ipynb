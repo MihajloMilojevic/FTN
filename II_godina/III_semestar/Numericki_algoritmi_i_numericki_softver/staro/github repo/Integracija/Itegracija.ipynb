{
 "cells": [
  {
   "cell_type": "code",
   "execution_count": 1,
   "metadata": {},
   "outputs": [],
   "source": [
    "function plot_function(interval,fun)\n",
    "    a=interval(1);\n",
    "    b=interval(2);\n",
    "    x=linspace(a,b,100);\n",
    "    y1=feval(fun,x);\n",
    "    hold on;\n",
    "    plot(x,y1,\"linewidth\",10);\n",
    "    plot(x,zeros(length(x)),'b');\n",
    "    set(gca, \"linewidth\", 4, \"fontsize\", 12)\n",
    "    set(gca, 'XTick', floor(a)-3:floor(b)+3)\n",
    "endfunction\n",
    "\n",
    "function draw_vertical_lines(a,b)\n",
    "    limits = axis ();\n",
    "    line([a(1),a(1)], [0,a(2)],\"linewidth\",10, \"color\", \"blue\")\n",
    "    line([b(1),b(1)], [0,b(2)],\"linewidth\",10, \"color\", \"blue\")\n",
    "endfunction\n",
    "\n",
    "function draw_trapezoid(a,b)\n",
    "    limits = axis ();\n",
    "    line([a(1),a(1)], [0,a(2)],\"linewidth\",10, \"color\", \"red\")\n",
    "    line([b(1),b(1)], [0,b(2)],\"linewidth\",10, \"color\", \"red\")\n",
    "    line([a(1),b(1)], [a(2),b(2)],\"linewidth\",10, \"color\", \"red\")\n",
    "endfunction\n",
    "\n",
    "function draw_trapezoids(a,b,fun,n)\n",
    "    plot_function([a-1,b+1],fun)\n",
    "    x=linspace(a,b,n+1);\n",
    "    for i=1:length(x)-1\n",
    "        draw_trapezoid([x(i),feval(fun,x(i))],[x(i+1),feval(fun,x(i+1))])\n",
    "    end\n",
    "endfunction\n",
    "\n",
    "function draw_simpson(a,b,fun)\n",
    "    x=linspace(a,b,3);\n",
    "    y=fun(x);\n",
    "    p=linterp(x,y);\n",
    "    plot_function([a-1,b+1],fun);\n",
    "    draw_vertical_lines([a,fun(a)],[b,fun(b)]);\n",
    "    c=(a+b)/2;\n",
    "    draw_vertical_lines([c,fun(c)],[c,fun(c)]);\n",
    "    hold on;\n",
    "    xp=linspace(a,b,100);\n",
    "    plot(xp,polyval(p,xp),\"linewidth\",14,\"color\", \"red\");\n",
    "    plot([a,c,b],[fun(a),fun(c),fun(b)],'o','markersize', 14,'markerfacecolor','g')\n",
    "endfunction\n",
    "\n",
    "function draw_simpsons(a,b,fun,n)\n",
    "    plot_function([a-1,b+1],fun);\n",
    "    draw_vertical_lines([a,fun(a)],[b,fun(b)]);\n",
    "    hold on;\n",
    "    points=linspace(a,b,3*n-1);\n",
    "    I=0;\n",
    "    for i=1:2:length(points)-2\n",
    "        x=[points(i),points(i+1),points(i+2)];\n",
    "        y=fun(x);\n",
    "        p=linterp(x,y);\n",
    "        xp=linspace(points(i),points(i+2),50);\n",
    "        plot(xp,polyval(p,xp),\"linewidth\",14,\"color\", \"red\");\n",
    "        draw_vertical_lines([points(i),fun(points(i))],[points(i),fun(points(i))]);\n",
    "        draw_vertical_lines([points(i+1),fun(points(i+1))],[points(i+1),fun(points(i+1))]);\n",
    "        draw_vertical_lines([points(i+2),fun(points(i+2))],[points(i+2),fun(points(i+2))]);\n",
    "    end\n",
    "endfunction\n",
    "\n",
    "function [errors,sub_intervals]=calculate_error(a,b,fun,correct_solution,max_num_of_reps,method)\n",
    "    errors=zeros(1,max_num_of_reps);\n",
    "    sub_intervals=zeros(1,max_num_of_reps);\n",
    "    for i=1:max_num_of_reps\n",
    "        I=feval(method,a,b,fun,i);\n",
    "        errors(i)=abs(I-correct_solution);\n",
    "        if strcmp (method, 'trapez_kompozitno')\n",
    "            sub_intervals(i)=(b-a)/i;\n",
    "        else\n",
    "            sub_intervals(i)=(b-a)/(3*i-1);\n",
    "        end\n",
    "    end\n",
    "    \n",
    "    plot(1:max_num_of_reps,errors,\"linewidth\",10);\n",
    "    xlabel('Broj primena metoda');\n",
    "    ylabel('Greska');\n",
    "    set(gca, \"fontsize\", 18);\n",
    "endfunction"
   ]
  },
  {
   "cell_type": "markdown",
   "metadata": {},
   "source": [
    "# Numerička integracija"
   ]
  },
  {
   "cell_type": "markdown",
   "metadata": {},
   "source": [
    "#### Pomoću numeričke integracije možemo da odredimo određeni integral proizvoljne funkcije.\n",
    "#### Određeni integral predstavlja površinu figure ispod date funkcije na zadatom zatvorenom intervalu.\n",
    "#### Na primer, na sledećoj slici određeni integral\n",
    "#### $$\\int_{2}^{6}2^xdx$$ je površina figure ispod funkcije $f(x)=2^x$ na zatvorenom intervalu [2,6]."
   ]
  },
  {
   "cell_type": "code",
   "execution_count": 2,
   "metadata": {},
   "outputs": [
    {
     "data": {
      "image/png": "[encoded data removed]",
      "text/plain": [
       "<IPython.core.display.Image object>"
      ]
     },
     "metadata": {},
     "output_type": "display_data"
    }
   ],
   "source": [
    "plot_function([1,7],@(x)2.^x)\n",
    "draw_vertical_lines([2,2^2],[6,2^6])"
   ]
  },
  {
   "cell_type": "markdown",
   "metadata": {},
   "source": [
    "#### Sve numeričke metode za integraciju imaju za cilj da procene površinu figure ispod funkcije.\n",
    "#### Metode se razlikuju po načinu na koji se procena površine vrši."
   ]
  },
  {
   "cell_type": "markdown",
   "metadata": {},
   "source": [
    "## Njutn-Kotesove metode"
   ]
  },
  {
   "cell_type": "markdown",
   "metadata": {},
   "source": [
    "#### Kod Njutn-Kotesovih metoda koristimo interpolaciju da funkciju aproksimiramo polinomom.\n",
    "#### Nakon toga izračunavamo određeni itegral polinoma.\n",
    "#### Rezultat intregacije polinoma smatramo rezultatom integracije funkcije. \n",
    "#### Pošto je polinom aproksimacija funkcije, rezultat će biti aproksimacija tačne vrednosti određenog integrala funkcije.\n",
    "#### U nastavku ćemo pokazati na koji način određujemo određeni intregal polinoma i koliko takvom aroksimacijom gubimo na tačnosti."
   ]
  },
  {
   "cell_type": "markdown",
   "metadata": {},
   "source": [
    "### Metod trapeza"
   ]
  },
  {
   "cell_type": "markdown",
   "metadata": {},
   "source": [
    "#### Kod ovog metoda koristimo linearnu interpolaciju da aproksimiramo funkciju.\n",
    "#### Na taj način dobijamo funkciju aproksimiramo trapezom, kao na sledećoj slici."
   ]
  },
  {
   "cell_type": "code",
   "execution_count": 3,
   "metadata": {},
   "outputs": [
    {
     "data": {
      "image/png": "[encoded data removed]",
      "text/plain": [
       "<IPython.core.display.Image object>"
      ]
     },
     "metadata": {},
     "output_type": "display_data"
    }
   ],
   "source": [
    "plot_function([1,7],@(x)2.^x)\n",
    "draw_vertical_lines([2,2^2],[6,2^6])\n",
    "draw_trapezoid([2,2^2],[6,2^6])"
   ]
  },
  {
   "cell_type": "markdown",
   "metadata": {},
   "source": [
    "#### Još uvek nismo rekli na koji način određujemo integral polinoma, u ovom slučaju prave.\n",
    "#### Određeni integrali polinoma kod Njutn-Kotesovih metoda izračunavamo analitički.\n",
    "#### Rezultat analitičke integracije biće formula koja će u stvari predstavljati metod trapeza.\n",
    "#### U nastavku prikazujemo izvođenje formule za metod trapeza.\n",
    "#### Data nam je proizvoljna funkcija $f(x)$ i interval $[a,b]$. Cilj nam je da izračunamo određeni integral:\n",
    "#### $$I=\\int_{a}^{b}f(x)dx$$\n",
    "#### Prvo aproksimiramo funkciju $f(x)$ na intervalu $[a,b]$ pomoću prave kroz tačke $(a,f(a))$ i $(a,f(a))$ (kao na slici iznad).\n",
    "#### Pravu možemo recimo da odredimo pomoću Lagranžovog polinoma:\n",
    "#### $$p(x)=\\frac{x-b}{a-b}f(a)+\\frac{x-a}{b-a}f(b)$$\n",
    "#### Rešavmo sada integral:\n",
    "#### $$I_p=\\int_{a}^{b}p(x)dx$$ \n",
    "#### analitički.\n",
    "#### $$I_p=\\int_{a}^{b}p(x)dx=\\int_{a}^{b}\\frac{x-b}{a-b}f(a)+\\int_{a}^{b}\\frac{x-a}{b-a}f(b)dx$$\n",
    "#### $$\\int_{a}^{b}(x-b)dx=\\int_{a}^{b}xdx-b\\int_{a}^{b}dx=\\frac{b^2}{2}-\\frac{a^2}{2}-b(b-a)=\\frac{b^2-a^2-2b^2+2ab}{2}=\\frac{-a^2+2ab-b^2}{2}=-\\frac{a^2-2ab+b^2}{2}=-\\frac{(a-b)^2}{2}$$\n",
    "#### $$\\int_{a}^{b}(x-a)dx=\\int_{a}^{b}xdx-a\\int_{a}^{b}dx=\\frac{b^2}{2}-\\frac{a^2}{2}-a(b-a)=\\frac{b^2-a^2-2ab+2a^2}{2}=\\frac{a^2-2ab+b^2}{2}=\\frac{(a-b)^2}{2}$$\n",
    "#### $$I_p=\\int_{a}^{b}p(x)dx=-\\frac{f(a)}{a-b}\\frac{(a-b)^2}{2}-\\frac{f(b)}{a-b}\\frac{(a-b)^2}{2}=\\frac{(-f(a)-f(b))(a-b)^2}{2(a-b)}=\\frac{-(f(a)+f(b))(a-b)}{2}=(b-a)\\frac{f(a)+f(b)}{2}$$\n",
    "#### Dakle, ako koristimo metod trapeza određeni integral funkcije $f(x)$ na zatvorenom intervalu $[a,b]$ aproksimiramo sa:\n",
    "#### $$I=\\int_{a}^{b}f(x)dx\\approx(b-a)\\frac{f(a)+f(b)}{2}$$\n",
    "#### Ako se iz geometrije podsetimo da je površina trapeza: srednja linija * visina. Vidimo da smo mi u stvari izveli formulu za površinu trapeza (visina je $b-a$, a srednja linija $\\frac{f(a)+f(b)}{2}).$\n",
    "#### Primer: Primenićemo sada metodu trapeza da rešimo integral:\n",
    "#### $$I=\\int_{2}^{6}2^xdx$$\n",
    "#### Imamo da je $a=2$,$b=6$,$f(x)=2^x$. Primenjujemo metod:\n",
    "#### $$I\\approx(b-a)\\frac{f(a)+f(b)}{2}=(6-2)\\frac{f(2)+f(6)}{2}=2(2^2+2^6)=136$$\n",
    "#### Proverićemo sada koliko smo pogrešili. Analitičko rešenje je:\n",
    "#### $$I=\\int_{2}^{6}2^xdx=\\frac{2^x}{ln(2)}\\Biggr|_{2}^{6}=86.56170$$\n",
    "#### U naredne dve linije koda računamo grešku i relativnu grešku."
   ]
  },
  {
   "cell_type": "code",
   "execution_count": 4,
   "metadata": {},
   "outputs": [
    {
     "name": "stdout",
     "output_type": "stream",
     "text": [
      "greska =  48.500\n",
      "relativna_greska =  0.56069\n"
     ]
    }
   ],
   "source": [
    "greska=135-86.5\n",
    "relativna_greska=(135-86.5)/86.5"
   ]
  },
  {
   "cell_type": "markdown",
   "metadata": {},
   "source": [
    "#### Vidimo da smo pogrešili za 56% što je dosta velika greška. Razlog za to je očigledan ako pogledamo sliku iznad.\n",
    "#### Između površine trapeza i figure ispod funkcije postoji dosta velika razlika.\n",
    "#### Dakle, osim ako ne tražimo integral prave, metod trapeza rezultovaće greškom.\n",
    "#### Pre nego što pokažemo kako ćemo poboljšati tačnost metoda trapeza, napisaćemo kod za metod."
   ]
  },
  {
   "cell_type": "code",
   "execution_count": 5,
   "metadata": {},
   "outputs": [],
   "source": [
    "function I=trapez(a,b,funkcija)\n",
    "    I=(b-a)/2*(feval(funkcija,a)+feval(funkcija,b));\n",
    "endfunction"
   ]
  },
  {
   "cell_type": "code",
   "execution_count": 6,
   "metadata": {},
   "outputs": [
    {
     "name": "stdout",
     "output_type": "stream",
     "text": [
      "I =  136\n"
     ]
    }
   ],
   "source": [
    "I = trapez(2,6,@(x)2.^x)"
   ]
  },
  {
   "cell_type": "markdown",
   "metadata": {},
   "source": [
    "#### Hajde da vidimo šta bi dobili ako umesto jednog trapeza koristmo dva trapeza."
   ]
  },
  {
   "cell_type": "code",
   "execution_count": 7,
   "metadata": {},
   "outputs": [
    {
     "data": {
      "image/png": "[encoded data removed]",
      "text/plain": [
       "<IPython.core.display.Image object>"
      ]
     },
     "metadata": {},
     "output_type": "display_data"
    }
   ],
   "source": [
    "draw_trapezoids(2,6,@(x)2.^x,2)"
   ]
  },
  {
   "cell_type": "code",
   "execution_count": 8,
   "metadata": {},
   "outputs": [
    {
     "name": "stdout",
     "output_type": "stream",
     "text": [
      "I =  100\n"
     ]
    }
   ],
   "source": [
    "I = trapez(2,4,@(x)2.^x) + trapez(4,6,@(x)2.^x)"
   ]
  },
  {
   "cell_type": "markdown",
   "metadata": {},
   "source": [
    "#### Hajde da probamo sa četiri trapeza."
   ]
  },
  {
   "cell_type": "code",
   "execution_count": 8,
   "metadata": {},
   "outputs": [
    {
     "data": {
      "image/png": "[encoded data removed]",
      "text/plain": [
       "<IPython.core.display.Image object>"
      ]
     },
     "metadata": {},
     "output_type": "display_data"
    }
   ],
   "source": [
    "draw_trapezoids(2,6,@(x)2.^x,4)"
   ]
  },
  {
   "cell_type": "code",
   "execution_count": 9,
   "metadata": {},
   "outputs": [
    {
     "name": "stdout",
     "output_type": "stream",
     "text": [
      "points =\n",
      "\n",
      "   2   3   4   5   6\n",
      "\n",
      "I =  90\n"
     ]
    }
   ],
   "source": [
    "points=linspace(2,6,5)\n",
    "I=0;\n",
    "for i=1:length(points)-1\n",
    "    I=I+trapez(points(i),points(i+1),@(x)2.^x);\n",
    "end\n",
    "I"
   ]
  },
  {
   "cell_type": "markdown",
   "metadata": {},
   "source": [
    "#### Vidimo da kako povećavamo broj trapeza, tako se približavamo sve više tačnom rešenju.\n",
    "#### Ako pogledamo slike sa 2 i 4 trapeza vidimo da trapezi manje veličine bolje aproksimiraju funkciju i da zbir površina manjih trapeza mnogo bolje aproksimira površinu figure ispod funkcije nego jedan trapez."
   ]
  },
  {
   "cell_type": "code",
   "execution_count": 10,
   "metadata": {},
   "outputs": [
    {
     "data": {
      "image/png": "[encoded data removed]",
      "text/plain": [
       "<IPython.core.display.Image object>"
      ]
     },
     "metadata": {},
     "output_type": "display_data"
    }
   ],
   "source": [
    "plot_function([1,7],@(x)2.^x)\n",
    "draw_vertical_lines([2,2^2],[6,2^6])\n",
    "draw_trapezoids(2,6,@(x)2.^x,20)"
   ]
  },
  {
   "cell_type": "markdown",
   "metadata": {},
   "source": [
    "### Kompozitna metoda trapeza\n",
    "#### Formalan naziv za postupak koji smo primenili je kompozitna metoda trapeza jer smo površinu figure \"složili\" iz više delova.\n",
    "#### Napisaćemo sada kod za kompozitnu metodu trapeza.\n",
    "#### Ulazni parametar $n$ predstavlja broj trapeza koji želimo."
   ]
  },
  {
   "cell_type": "code",
   "execution_count": 11,
   "metadata": {},
   "outputs": [],
   "source": [
    "function I=trapez_kompozitno(a,b,funkcija,n)\n",
    "    points=linspace(a,b,n+1);\n",
    "    I=0;\n",
    "    for i=1:length(points)-1\n",
    "        I=I+trapez(points(i),points(i+1),funkcija);\n",
    "    end\n",
    "endfunction"
   ]
  },
  {
   "cell_type": "code",
   "execution_count": 12,
   "metadata": {},
   "outputs": [
    {
     "name": "stdout",
     "output_type": "stream",
     "text": [
      "I =  100\n"
     ]
    }
   ],
   "source": [
    "I = trapez_kompozitno(2,6,@(x)2.^x,2)"
   ]
  },
  {
   "cell_type": "markdown",
   "metadata": {},
   "source": [
    "### Red greške metode trapeza"
   ]
  },
  {
   "cell_type": "markdown",
   "metadata": {},
   "source": [
    "#### U literaturi greška metode trapeza tipično se opisuje preko vrednosti $h$ koja predstavlja dužinu jednog pod-intervala na koje delimo interval $[a,b]$ da bi dobili određeni broj trapeza:\n",
    "#### $$h=\\frac{b-a}{n}$$\n",
    "#### gde je $n$ broj trapeza. Greška metode trapeza označava sa:\n",
    "#### $$O(h^2)$$\n",
    "#### i kaže se da je greška metode trapeza reda $h^2$. (Kompletan postupak za određivanje greške metode trapeza dat je u udžbeniku.)\n",
    "#### To znači da se za male vrednosti $h$, tj. veliki broj trapeza, greška ponaša kao funkcija $f(h)=h^2$.\n",
    "#### Funkcija koju pozivamo u sledećem redu prikazuje grešku za broj primena metoda redom od $1$ do $2^7$ za $I=\\int_{2}^{6}2^xdx$."
   ]
  },
  {
   "cell_type": "code",
   "execution_count": 13,
   "metadata": {},
   "outputs": [
    {
     "data": {
      "image/png": "[encoded data removed]",
      "text/plain": [
       "<IPython.core.display.Image object>"
      ]
     },
     "metadata": {},
     "output_type": "display_data"
    }
   ],
   "source": [
    "[errors,sub_intervals]=calculate_error(2,6,@(x)2.^x,86.56170,2^7,'trapez_kompozitno');"
   ]
  },
  {
   "cell_type": "markdown",
   "metadata": {},
   "source": [
    "#### Prethodni grafik nije baš pregledan jer greška na početku ima velike vrednosti, a kasnije jako male, pa prelazimo na logaritamsku skalu (prikazujemo log10 od greške)."
   ]
  },
  {
   "cell_type": "code",
   "execution_count": 14,
   "metadata": {},
   "outputs": [
    {
     "data": {
      "image/png": "[encoded data removed]",
      "text/plain": [
       "<IPython.core.display.Image object>"
      ]
     },
     "metadata": {},
     "output_type": "display_data"
    }
   ],
   "source": [
    "plot(1:length(errors),log10(errors),\"linewidth\",10)\n",
    "xlabel('Broj primena metoda');\n",
    "ylabel('log10(Greska)');\n",
    "xticks=[];\n",
    "for i=1:7\n",
    "    xticks(i)=2^i;\n",
    "end\n",
    "set(gca, 'xtick', xticks)\n",
    "set(gca, \"fontsize\", 14)"
   ]
  },
  {
   "cell_type": "markdown",
   "metadata": {},
   "source": [
    "#### Uporedićemo sada grafik greške (označeno plavom) sa fukcijom $f(h)=h^2$ gde je $h$ dužina pod-intervala (označeno crvenom)"
   ]
  },
  {
   "cell_type": "code",
   "execution_count": 16,
   "metadata": {},
   "outputs": [
    {
     "data": {
      "image/png": "[encoded data removed]",
      "text/plain": [
       "<IPython.core.display.Image object>"
      ]
     },
     "metadata": {},
     "output_type": "display_data"
    }
   ],
   "source": [
    "plot(1:length(errors),log10(errors),\"linewidth\",10,\"color\",\"blue\")\n",
    "hold on;\n",
    "plot(1:length(sub_intervals),log10(sub_intervals.^2),\"linewidth\",10,\"color\", \"red\")\n",
    "xlabel('log10(h^2)');\n",
    "ylabel('log10(Greska)');\n",
    "set(gca, \"fontsize\", 14)"
   ]
  },
  {
   "cell_type": "markdown",
   "metadata": {},
   "source": [
    "#### Vidimo da postoji jako veliko podudaranje grafika, iz čega se može zaključiti da odnos između greške i kvadrata veličine pod-intervala stoji.\n",
    "#### Poznavanje reda greške metoda trapeza omogućava nam da uradimo sledeću procenu:\n",
    "#### $$greška(h)=h^2\\\\greška(\\frac{h}{2})=(\\frac{h}{2})^2=(\\frac{1}{2})^2h^2=\\frac{1}{4}h^2=\\frac{1}{4}greška(h)\\\\greška(\\frac{h}{2})=\\frac{1}{4}greška(h)$$\n",
    "#### To znači da ako prepolovimo veličinu pod-intervala, tj. dupliramo broj primena metoda trapeza, greška se smanji 4 puta."
   ]
  },
  {
   "cell_type": "code",
   "execution_count": 17,
   "metadata": {},
   "outputs": [
    {
     "name": "stdout",
     "output_type": "stream",
     "text": [
      "ans =\n",
      "\n",
      "   49.4383   13.4383    3.4383\n",
      "\n",
      "ans =\n",
      "\n",
      "   49.4383   12.3596    3.0899\n",
      "\n",
      "ans =\n",
      "\n",
      "   49.4383   12.3596    3.3596\n",
      "\n"
     ]
    }
   ],
   "source": [
    "[errors(1) errors(2) errors(4)]\n",
    "[errors(1) errors(1)/4 errors(1)/16]\n",
    "[errors(1) errors(1)/4 errors(2)/4]"
   ]
  },
  {
   "cell_type": "markdown",
   "metadata": {},
   "source": [
    "### Simpsonov 1/3 metod\n",
    "#### Takođe Njutn-Kotesov metod.\n",
    "#### U ovom slučaju funkciju aproksimiramo polinomom drugog stepana na intervalu $[a,b]$.\n",
    "#### Pošto koristimo polinom drugog stepena, treba nam tri tačke. Za treću tačku uzimamo sredinu intervala:\n",
    "### $$c=\\frac{a+b}{2}$$\n",
    "#### U nastavku koristimo Lagranžovu interpolaciju sa prošlog predavanja da aproksimiramo funkciju $2^x$ na intervalu $[2,6]$. Aproksimaciju radimo u tačkama 2, 4, 6."
   ]
  },
  {
   "cell_type": "code",
   "execution_count": 18,
   "metadata": {},
   "outputs": [],
   "source": [
    "function p=linterp(x,y)\n",
    "    n=length(x);\n",
    "    p = 0;\n",
    "    for i=1:n\n",
    "        L=1;\n",
    "        for j=1:n\n",
    "            if i~=j\n",
    "                L = conv(L,[1 -x(j)]/(x(i)-x(j)));\n",
    "            end\n",
    "        end\n",
    "        p = p + y(i)*L;\n",
    "    end\n",
    "endfunction"
   ]
  },
  {
   "cell_type": "code",
   "execution_count": 19,
   "metadata": {},
   "outputs": [
    {
     "name": "stdout",
     "output_type": "stream",
     "text": [
      "x =\n",
      "\n",
      "   2   4   6\n",
      "\n",
      "p =\n",
      "\n",
      "    4.5000  -21.0000   28.0000\n",
      "\n",
      "4.5*x^2 - 21*x^1 + 28\n"
     ]
    }
   ],
   "source": [
    "a=2;b=6;\n",
    "x=linspace(a,b,3)\n",
    "fun=@(x)2.^x;\n",
    "y=fun(x);\n",
    "p=linterp(x,y)\n",
    "polyout(p,'x')"
   ]
  },
  {
   "cell_type": "markdown",
   "metadata": {},
   "source": [
    "#### Dobili smo interpolacioni polinom, koji onda prikazujemo na sledećem grafiku. Označen je crvenom bojom."
   ]
  },
  {
   "cell_type": "code",
   "execution_count": 20,
   "metadata": {},
   "outputs": [
    {
     "data": {
      "image/png": "[encoded data removed]",
      "text/plain": [
       "<IPython.core.display.Image object>"
      ]
     },
     "metadata": {},
     "output_type": "display_data"
    }
   ],
   "source": [
    "draw_simpson(2,6,@(x)2.^x)"
   ]
  },
  {
   "cell_type": "markdown",
   "metadata": {},
   "source": [
    "#### Vidimo da je polinom dosta sličan funkciji na intervalu [2,6]. Nakon što objasnimo metod, proverićemo kolika je greška baš na ovom primeru.\n",
    "#### Metod ilustrujemo i na primeru funkcije $f(x)=x-cos(2x)$ kako bi pokazali da upotreba kvaradnog polinoma umesto prave jeste bolja, ali da greška još uvek postoji."
   ]
  },
  {
   "cell_type": "code",
   "execution_count": 21,
   "metadata": {},
   "outputs": [
    {
     "data": {
      "image/png": "[encoded data removed]",
      "text/plain": [
       "<IPython.core.display.Image object>"
      ]
     },
     "metadata": {},
     "output_type": "display_data"
    }
   ],
   "source": [
    "draw_simpson(2,6,@(x)x-cos(2.*x))"
   ]
  },
  {
   "cell_type": "markdown",
   "metadata": {},
   "source": [
    "#### Pokazaćemo sada formulu za Simpsonov 1/3 metod.\n",
    "#### Rešavamo analitički integral kvadragnog interpolaciono polinoma na intervalu $[a,b]$\n",
    "#### $$I=\\int_{a}^{b}f(x)dx$$\n",
    "#### $$c=\\frac{a+b}{2}$$\n",
    "#### $$p(x)=\\frac{(x-b)(x-c)}{(a-b)(a-c)}f(a)+\\frac{(x-a)(x-c)}{(b-a)(b-c)}f(b)+\\frac{(x-b)(x-a)}{(c-b)(c-a)}f(c)$$\n",
    "#### Rešavmo sada integral:\n",
    "#### $$I_p=\\int_{a}^{b}p(x)dx$$ analitički.\n",
    "#### Postupak rešavanja dat je u udžbeniku, dok ovde samo dajemo rezultat, tj. formulu za Simpsonovu 1/3 metodu:\n",
    "#### $$I=\\int_{a}^{b}f(x)dx\\approx\\frac{b-a}{6}(f(a)+4f(c)+f(b))\\\\c=\\frac{a+b}{2}$$"
   ]
  },
  {
   "cell_type": "markdown",
   "metadata": {},
   "source": [
    "#### U nastavku je prikazan kod za Simpsonovu 1/3 metodu."
   ]
  },
  {
   "cell_type": "code",
   "execution_count": 22,
   "metadata": {},
   "outputs": [],
   "source": [
    "function I=simpson(a,b,funkcija)\n",
    "    c=(a+b)/2;\n",
    "    I=(b-a)/6*(feval(funkcija,a)+4*feval(funkcija,c)+feval(funkcija,b));\n",
    "endfunction"
   ]
  },
  {
   "cell_type": "markdown",
   "metadata": {},
   "source": [
    "#### Poredimo sada Simpsonovu 1/3 metodu sa metodom trapeza na primerima funkcija $f(x)=2^x$ i $f(x)=x-cos(2x)$"
   ]
  },
  {
   "cell_type": "code",
   "execution_count": 29,
   "metadata": {},
   "outputs": [
    {
     "name": "stdout",
     "output_type": "stream",
     "text": [
      "I_trapez =  136\n",
      "I_simpson =  88\n"
     ]
    }
   ],
   "source": [
    "I_trapez = trapez(2,6,@(x)2.^x)\n",
    "I_simpson = simpson(2,6,@(x)2.^x)"
   ]
  },
  {
   "cell_type": "code",
   "execution_count": 30,
   "metadata": {},
   "outputs": [
    {
     "name": "stdout",
     "output_type": "stream",
     "text": [
      "tacno_resenje =  86.562\n"
     ]
    }
   ],
   "source": [
    "tacno_resenje = 86.56170"
   ]
  },
  {
   "cell_type": "code",
   "execution_count": 31,
   "metadata": {},
   "outputs": [
    {
     "name": "stdout",
     "output_type": "stream",
     "text": [
      "ans =  0.016616\n",
      "ans =  0.57113\n"
     ]
    }
   ],
   "source": [
    "abs(tacno_resenje-I_simpson)/tacno_resenje\n",
    "abs(tacno_resenje-I_trapez)/tacno_resenje"
   ]
  },
  {
   "cell_type": "code",
   "execution_count": 32,
   "metadata": {},
   "outputs": [
    {
     "name": "stdout",
     "output_type": "stream",
     "text": [
      "I_trapez =  15.620\n",
      "I_simpson =  16.261\n"
     ]
    }
   ],
   "source": [
    "I_trapez = trapez(2,6,@(x)x-cos(2.*x))\n",
    "I_simpson = simpson(2,6,@(x)x-cos(2.*x))"
   ]
  },
  {
   "cell_type": "code",
   "execution_count": 33,
   "metadata": {},
   "outputs": [
    {
     "name": "stdout",
     "output_type": "stream",
     "text": [
      "tacno_resenje =  15.890\n"
     ]
    }
   ],
   "source": [
    "tacno_resenje = 15.88988521134625"
   ]
  },
  {
   "cell_type": "code",
   "execution_count": 34,
   "metadata": {},
   "outputs": [
    {
     "name": "stdout",
     "output_type": "stream",
     "text": [
      "ans =  0.023368\n",
      "ans =  0.017011\n"
     ]
    }
   ],
   "source": [
    "abs(tacno_resenje-I_simpson)/tacno_resenje\n",
    "abs(tacno_resenje-I_trapez)/tacno_resenje"
   ]
  },
  {
   "cell_type": "markdown",
   "metadata": {},
   "source": [
    "#### Vidimo da za prvi primer postoji velika razlika između grešaka u korist Simpsonove 1/3 metode, dok je za drugi primer razlika manja i u korist metode trapeza. Razlike su takve jer imamo samo jednu primenu funkcije, a sam oblik funkcije tada ima veliki značaj. Na primer, funkcija $f(x)=2^x$ veoma liči na kvadratni polinom na intervalu [2,6].\n",
    "#### Simpsonov metod koristi finiju interpolaciju od metoda trapeza i ima bolju tačnost, što ćemo i demonstrirati poređenjem kompozitnih metoda.\n",
    "#### Prvo pišemo kod za Simpsonov 1/3 metod. Za $n$ primena metoda, na intervalu $[a,b]$ formiramo ukupno $n+1$ ekvidistantnih tačaka (tu računamo i krajnje tačke) i onda uzimamo po tri tačke i primenjujemo metod na njih.\n",
    "#### Na primer, za $[2,6]$ i $n=2$ tri tačke su: $2, 4, 6$. Metod primenimo onda na $[2,4]$ i $[4,6]$ i to saberemo. Sama primena metoda na npr. $[2,4]$ kreiraće srednju tačku $3$ i primeniti formulu."
   ]
  },
  {
   "cell_type": "code",
   "execution_count": 35,
   "metadata": {},
   "outputs": [],
   "source": [
    "function I=simpson_kompozitno(a,b,funkcija,n)\n",
    "    parts=linspace(a,b,n+1);\n",
    "    I=0;\n",
    "    for i=1:length(parts)-1\n",
    "        I=I+simpson(parts(i),parts(i+1),funkcija);\n",
    "    end\n",
    "endfunction"
   ]
  },
  {
   "cell_type": "code",
   "execution_count": 36,
   "metadata": {},
   "outputs": [
    {
     "name": "stdout",
     "output_type": "stream",
     "text": [
      "I_simpson_kom =  86.667\n",
      "I_trapez_kom =  100\n"
     ]
    }
   ],
   "source": [
    "I_simpson_kom = simpson_kompozitno(2,6,@(x)2.^x,2)\n",
    "I_trapez_kom = trapez_kompozitno(2,6,@(x)2.^x,2)"
   ]
  },
  {
   "cell_type": "code",
   "execution_count": 37,
   "metadata": {},
   "outputs": [
    {
     "name": "stdout",
     "output_type": "stream",
     "text": [
      "tacno_resenje =  86.562\n",
      "ans =  0.0012126\n",
      "ans =  0.15525\n"
     ]
    }
   ],
   "source": [
    "tacno_resenje = 86.56170\n",
    "abs(tacno_resenje-I_simpson_kom)/tacno_resenje\n",
    "abs(tacno_resenje-I_trapez_kom)/tacno_resenje"
   ]
  },
  {
   "cell_type": "markdown",
   "metadata": {},
   "source": [
    "#### Vidimo da samo dve primene Simpsonovog metoda rezultuju greškom od 0.1% za primer $f(x)=2^x$\n",
    "#### Sa sledećeg grafika može se videti poklapanje $f(x)=2^x$ i dve primene Simpsonovog 1/3 metoda."
   ]
  },
  {
   "cell_type": "code",
   "execution_count": 38,
   "metadata": {},
   "outputs": [
    {
     "data": {
      "image/png": "[encoded data removed]",
      "text/plain": [
       "<IPython.core.display.Image object>"
      ]
     },
     "metadata": {},
     "output_type": "display_data"
    }
   ],
   "source": [
    "draw_simpsons(2,6,@(x)2.^x,2)"
   ]
  },
  {
   "cell_type": "markdown",
   "metadata": {},
   "source": [
    "#### Poredimo sada kompozitne metode na primeru $f(x)=x-cos(2x)$"
   ]
  },
  {
   "cell_type": "code",
   "execution_count": 39,
   "metadata": {},
   "outputs": [
    {
     "name": "stdout",
     "output_type": "stream",
     "text": [
      "I_simpson_kom =  15.872\n",
      "I_trapez_kom =  16.101\n"
     ]
    }
   ],
   "source": [
    "I_simpson_kom = simpson_kompozitno(2,6,@(x)x-cos(2.*x),2)\n",
    "I_trapez_kom = trapez_kompozitno(2,6,@(x)x-cos(2.*x),2)"
   ]
  },
  {
   "cell_type": "code",
   "execution_count": 40,
   "metadata": {},
   "outputs": [
    {
     "name": "stdout",
     "output_type": "stream",
     "text": [
      "tacno_resenje =  15.890\n",
      "ans =  0.0011173\n",
      "ans =  0.013273\n"
     ]
    }
   ],
   "source": [
    "tacno_resenje = 15.88988521134625\n",
    "abs(tacno_resenje-I_simpson_kom)/tacno_resenje\n",
    "abs(tacno_resenje-I_trapez_kom)/tacno_resenje"
   ]
  },
  {
   "cell_type": "markdown",
   "metadata": {},
   "source": [
    "#### Vidimo da samo dve primene Simpsonovog metoda i u ovom slučaju rezultuju greškom od 0.1%, dok je greška kompozitne metode trapeza 2%.\n",
    "#### Pokazaćemo sada i grafičko poređenje."
   ]
  },
  {
   "cell_type": "code",
   "execution_count": 41,
   "metadata": {},
   "outputs": [
    {
     "data": {
      "image/png": "[encoded data removed]",
      "text/plain": [
       "<IPython.core.display.Image object>"
      ]
     },
     "metadata": {},
     "output_type": "display_data"
    }
   ],
   "source": [
    "draw_simpsons(2,6,@(x)x-cos(2.*x),2)"
   ]
  },
  {
   "cell_type": "code",
   "execution_count": 42,
   "metadata": {},
   "outputs": [
    {
     "data": {
      "image/png": "[encoded data removed]",
      "text/plain": [
       "<IPython.core.display.Image object>"
      ]
     },
     "metadata": {},
     "output_type": "display_data"
    }
   ],
   "source": [
    "draw_trapezoids(2,6,@(x)x-cos(2.*x),2)"
   ]
  },
  {
   "cell_type": "markdown",
   "metadata": {},
   "source": [
    "### Red greške Simpsonog 1/3 metoda.\n",
    "#### Simpsonov 1/3 metod ima red greške:\n",
    "#### $$O(h^4)$$\n",
    "#### gde je $h$ veličina pod-intervala.\n",
    "#### Kod Simpsonovog 1/3 metoda kada dupliramo broj primena, tj. $h$ podelimo sa 2, greška se smanji 16 puta:\n",
    "#### $$greška(h)=h^4\\\\greška(\\frac{h}{2})=(\\frac{h}{2})^4=(\\frac{1}{2})^4h^4=\\frac{1}{16}h^4=\\frac{1}{16}greška(h)\\\\greška(\\frac{h}{2})=\\frac{1}{16}greška(h)$$\n",
    "#### Funkcija koju pozivamo u sledećem redu prikazuje grešku za broj primena metoda redom od $1$ do $2^5$ za $I=\\int_{2}^{6}2^xdx$."
   ]
  },
  {
   "cell_type": "code",
   "execution_count": 43,
   "metadata": {},
   "outputs": [
    {
     "data": {
      "image/png": "[encoded data removed]",
      "text/plain": [
       "<IPython.core.display.Image object>"
      ]
     },
     "metadata": {},
     "output_type": "display_data"
    }
   ],
   "source": [
    "[errors,sub_intervals]=calculate_error(2,6,@(x)2.^x,86.56170,2^5,'simpson_kompozitno');"
   ]
  },
  {
   "cell_type": "markdown",
   "metadata": {},
   "source": [
    "#### Prelazimo na lograritamsku skalu."
   ]
  },
  {
   "cell_type": "code",
   "execution_count": 44,
   "metadata": {},
   "outputs": [
    {
     "data": {
      "image/png": "[encoded data removed]",
      "text/plain": [
       "<IPython.core.display.Image object>"
      ]
     },
     "metadata": {},
     "output_type": "display_data"
    }
   ],
   "source": [
    "plot(1:length(errors),log10(errors),\"linewidth\",10)\n",
    "xlabel('Broj primena metoda');\n",
    "ylabel('log10(Greska)');\n",
    "xticks=[];\n",
    "for i=1:7\n",
    "    xticks(i)=2^i;\n",
    "end\n",
    "set(gca, 'xtick', xticks)\n",
    "set(gca, \"fontsize\", 14)"
   ]
  },
  {
   "cell_type": "markdown",
   "metadata": {},
   "source": [
    "#### Uporedićemo sada grafik greške (označeno plavom) fukcijom $f(h)=h^4$ gde je $h$ dužina pod-intervala (označeno crvenom)."
   ]
  },
  {
   "cell_type": "code",
   "execution_count": 45,
   "metadata": {},
   "outputs": [
    {
     "data": {
      "image/png": "[encoded data removed]",
      "text/plain": [
       "<IPython.core.display.Image object>"
      ]
     },
     "metadata": {},
     "output_type": "display_data"
    }
   ],
   "source": [
    "plot(1:length(errors),log10(errors),\"linewidth\",10,\"color\",\"blue\")\n",
    "hold on;\n",
    "plot(1:length(sub_intervals),log10(sub_intervals.^4),\"linewidth\",10,\"color\", \"red\")\n",
    "xlabel('Broj primena metoda');\n",
    "ylabel('log10(Greska)');\n",
    "set(gca, \"fontsize\", 14)"
   ]
  },
  {
   "cell_type": "markdown",
   "metadata": {},
   "source": [
    "#### Vidimo da postoji jako veliko podudaranje grafika, iz čega se može zaključiti da odnos između greške i veličine pod-intervala na četvrti stepen stoji.\n",
    "#### Upooredićemo grafike grešaka metode trapeza i Simpsonove 1/3 metode. Poređenje ćemo uraditi za integral funkcije\n",
    "#### $$I=\\int_{2}^{6}x-cos(2x)dx$$"
   ]
  },
  {
   "cell_type": "code",
   "execution_count": 46,
   "metadata": {},
   "outputs": [
    {
     "data": {
      "image/png": "[encoded data removed]",
      "text/plain": [
       "<IPython.core.display.Image object>"
      ]
     },
     "metadata": {},
     "output_type": "display_data"
    }
   ],
   "source": [
    "[errors_simpson,sub_intervals_simp]=calculate_error(2,6,@(x)x-cos(2.*x),15.88988521134625,2^7,'simpson_kompozitno');\n",
    "[errors_trapez,sub_intervals_tr]=calculate_error(2,6,@(x)x-cos(2.*x),15.88988521134625,2^7,'trapez_kompozitno');\n",
    "\n",
    "plot(1:length(errors_simpson),log10(errors_simpson),\"linewidth\",10,\"color\", \"red\")\n",
    "hold on;\n",
    "plot(1:length(errors_trapez),log10(errors_trapez),\"linewidth\",10,\"color\", \"blue\")\n",
    "xlabel('Broj primena metoda');\n",
    "ylabel('log10(Greska)');\n",
    "xticks=[];\n",
    "for i=1:8\n",
    "    xticks(i)=2^i;\n",
    "end\n",
    "set(gca, 'xtick', xticks)\n",
    "set(gca, \"fontsize\", 14)"
   ]
  },
  {
   "cell_type": "code",
   "execution_count": 47,
   "metadata": {},
   "outputs": [
    {
     "data": {
      "image/png": "[encoded data removed]",
      "text/plain": [
       "<IPython.core.display.Image object>"
      ]
     },
     "metadata": {},
     "output_type": "display_data"
    }
   ],
   "source": [
    "plot(1:length(sub_intervals_tr),log10(sub_intervals_tr.^2),\"linewidth\",10,\"color\",\"blue\")\n",
    "hold on;\n",
    "plot(1:length(sub_intervals_simp),log10(sub_intervals_simp.^4),\"linewidth\",10,\"color\", \"red\")\n",
    "xlabel('Broj primena metoda');\n",
    "ylabel('log10(h^2) i log10(h^4)');\n",
    "set(gca, \"fontsize\", 14)"
   ]
  },
  {
   "cell_type": "markdown",
   "metadata": {},
   "source": [
    "#### Do sada smo videli da Njutn-Kotesove metode bolje rezultate mogu da postignu: (1) povećanjem kompleksnosti metode (stepena interpolacinog polinoma) ili (2) podelom intervala na veći broj pod-intervala.\n",
    "#### Oba načina povećavaju računsku složenost numeričke integracije. U nastavku zato pokazujemo jednu od alternativa."
   ]
  },
  {
   "cell_type": "markdown",
   "metadata": {},
   "source": [
    "## Rombergov metod"
   ]
  },
  {
   "cell_type": "markdown",
   "metadata": {},
   "source": [
    "#### Pre nego što objasnimo Rombergov metod pogledaćemo sledeći kod:"
   ]
  },
  {
   "cell_type": "code",
   "execution_count": 50,
   "metadata": {},
   "outputs": [
    {
     "name": "stdout",
     "output_type": "stream",
     "text": [
      "I_simpson_kom =  88\n",
      "I_trapez_kom_1 =  136\n",
      "I_trapez_kom_2 =  100\n",
      "ans =  88\n"
     ]
    }
   ],
   "source": [
    "I_simpson_kom = simpson_kompozitno(2,6,@(x)2.^x,1)\n",
    "I_trapez_kom_1 = trapez_kompozitno(2,6,@(x)2.^x,1)\n",
    "I_trapez_kom_2 = trapez_kompozitno(2,6,@(x)2.^x,2)\n",
    "(4*I_trapez_kom_2-I_trapez_kom_1)/3"
   ]
  },
  {
   "cell_type": "markdown",
   "metadata": {},
   "source": [
    "#### Vidimo da smo pomoću dve upotrebe metode trapeza (za 1 i 2 trapeza) dobili isti rezultat kao da smo upotrebili Smpsonova 1/3 metodu za ceo interval.\n",
    "#### Dakle, dobili smo rezultat Smpsonove 1/3 bez da upošte znamo formulu ili implementaciju te metode. To je veoma značajan rezultat!\n",
    "#### Sve što smo uradili je *(4*I_trapez_kom_2-I_trapez_kom_1)/3*. Postavlja se pitanje kako smo znali koje računske operacije da upotrebimo?\n",
    "#### Upravo to je rezultat Rombergove metode. Ona nam pruža način da kombinujemo rezultate metoda manje kompleksnosti na takav način da dobijemo rezultate metoda veće kompleksnosti.\n",
    "#### Objasnićemo sada na koji način smo došli do fromule za kombinovanje metoda manje kompleksnosti.\n",
    "#### Recimo da imamo neki numerički metod za integraciju, npr. metod trapeza koji ćemo označiti sa $R_{1,1}$. Kod $R_{i,j}$ sa $i$ ozаčnavamo finoću podele, a sa $j$ kvalitet (kompleksnost metoda). Na primer, $R_{1,1}$ je jedna primena metode trapeza, $R_{2,1}$ su dve primene metode trapeza, a $R_{1,2}$ je jedna primena Simposonovog 1/3 metoda itd.\n",
    "#### Dakle, dati numerički metod za integraciju $R_{1,1}$ se od tačne vrednosti integrala $I$ razlikuje za grešku $E_{1,1}$ koja je reda $O(h^2)$:\n",
    "#### $$I=R_{1,1}+E_{1,1}$$\n",
    "#### U ovom slučaju kada kažemo da je greška reda $O(h^2)$ mislimo na to da je najveći faktor greške (u odnosu na koga su svi ostali zanemarljivo mali) je proprocionalan (ponaša se slično kao) $h^2$.\n",
    "#### Objasnićemo na šta se misli pomoću primera Tejlorovog reda:\n",
    "#### $$f(x)=f(x_0)+f'(x_0)h+\\frac{1}{2}f''(x_0)h^2+O(h^3)$$, gde je $h=x-x_0$. \n",
    "#### Iz definicije Tejlorovog reda znamo da sa $O(h^3)$ nismo označili samo jedan element koji je preostao u redu nego da se za jako male vrednosti $h$ sve što je preostalo ponaša kao $h^3$, tj. da je taj sa sabirak uz $h^3$ najveći faktor greške ako koristimo samo prva tri člana reda da aproksimiramo funkciju u okolini tačke $x_0$. To znači da greška ima sledeći oblik:\n",
    "#### $$f(x)=f(x_0)+f'(x_0)h+\\frac{1}{2}f''(x_0)h^2+Ah^3+Bh^4+Ch^5+...$$\n",
    "#### , gde su $A$,$B$,$C$ neke konstante, a mi mi zanemarujemo delove $+Bh^4+Ch^5+...$ i posmatramo samo najveći faktor $Ah^3$.\n",
    "#### Kod Njutn-Kotesovih formula imamo istu situaciju samo su stepeni faktora greške uvek parni (za detalje pogledati udžbenik). Na primer, za metod trapeza važi:\n",
    "#### $$I=R_{1,1}+Ah^2+Bh^4+Ch^6+...$$, a za Simpsonov 1/3 metod važi:\n",
    "#### $$I=R_{1,2}+Ah^4+Bh^6+...$$ ($A$,$B$,$C$... su konstante i nisu iste u slučaju metoda trapeza i Simpsonovog 1/3 metoda).\n",
    "#### Pokazujemo sada na koji način se izvodi formula za Rombergov metod.\n",
    "#### Uzimamo dve primene metode trapeza, za ceo veličinu pod-intervala $h$, $\\frac{1}{2}h$. Označićemo ih sa $R_{1,1}$ i $R_{2,1}$, a njihove najveće faktore grešaka (sabirak sa $h^2$) sa  $E_{1,1}$ i $E_{2,1}$.\n",
    "#### U nastavku pokušavamo nekako da iskombinujemo $R_{1,1}$ i $R_{2,1}$ tako da uklonimo $E_{1,1}$ i $E_{2,1}$.\n",
    "#### Ključna stvar koja će nam to omogućiti je to što znamo da važi da je:\n",
    "#### $$E_{2,1}=\\frac{1}{4}E_{1,1}$$\n",
    "#### Ranije smo pokazali kada prepolovimo veličinu pod-intervala, greška metode trapeza se smanji 4 puta.\n",
    "#### Posmatrajmo sada sledeće izvođenje:"
   ]
  },
  {
   "cell_type": "markdown",
   "metadata": {},
   "source": [
    "#### $$I=R_{1,1}+E_{1,1}$$\n",
    "#### $$I=R_{2,1}+E_{2,1}$$\n",
    "#### $$E_{2,1}=\\frac{1}{4}E_{1,1}$$\n",
    "#### $$I=R_{1,1}+E_{1,1}$$\n",
    "#### $$I=R_{2,1}+\\frac{1}{4}E_{1,1}$$\n",
    "#### $$R_{1,1}-R_{2,1}=-\\frac{3}{4}E_{1,1}$$\n",
    "#### $$E_{1,1}=\\frac{4(R_{2,1}-R_{1,1})}{3}$$\n",
    "#### $$I=R_{1,1}+E_{1,1}=R_{1,1}+\\frac{4(R_{2,1}-R_{1,1})}{3}$$\n",
    "#### $$I=\\frac{4R_{2,1}-R_{1,1}}{3}$$"
   ]
  },
  {
   "cell_type": "markdown",
   "metadata": {},
   "source": [
    "#### Vidimo da smo uspeli da uklonimo $E_{1,1}$ i $E_{2,1}$. Da li smo time uklonili svu grešku?\n",
    "#### Nismo, ukloni smo samo najveći faktor. Prvi sledeći faktor je reda $O(h^4)$, odnosno rezultat koji smo dobili je u stvari rezultat Simpsonovog 1/3 metoda.\n",
    "#### Implementiraćemo sada funkciju koja je primenti formulu koju smo upravo izveli."
   ]
  },
  {
   "cell_type": "code",
   "execution_count": 51,
   "metadata": {},
   "outputs": [],
   "source": [
    "function I=romberg(a,b,fun,n)\n",
    "    A=zeros(n,n);\n",
    "    for i=1:n\n",
    "        A(i,1)=trapez_kompozitno(a,b,fun,2^(i-1));\n",
    "    end\n",
    "    A\n",
    "    for j=2:n\n",
    "        for i=1:(n-j+1)\n",
    "            A(i,j)=(4*A(i+1,j-1)-A(i,j-1))/3;\n",
    "        end\n",
    "    end\n",
    "    A\n",
    "endfunction"
   ]
  },
  {
   "cell_type": "code",
   "execution_count": 52,
   "metadata": {},
   "outputs": [
    {
     "name": "stdout",
     "output_type": "stream",
     "text": [
      "A =\n",
      "\n",
      "   136     0     0\n",
      "   100     0     0\n",
      "    90     0     0\n",
      "\n",
      "A =\n",
      "\n",
      "   136.00000    88.00000    86.22222\n",
      "   100.00000    86.66667     0.00000\n",
      "    90.00000     0.00000     0.00000\n",
      "\n"
     ]
    }
   ],
   "source": [
    "romberg(2,6,@(x)2.^x,3)"
   ]
  },
  {
   "cell_type": "code",
   "execution_count": 81,
   "metadata": {},
   "outputs": [
    {
     "name": "stdout",
     "output_type": "stream",
     "text": [
      "I_simpson_kom =  86.667\n"
     ]
    }
   ],
   "source": [
    "I_simpson_kom = simpson_kompozitno(2,6,@(x)2.^x,2)"
   ]
  },
  {
   "cell_type": "markdown",
   "metadata": {},
   "source": [
    "#### Šta bi se dogodilo kada bi smo u prethodnom izvođenju koristili Simpsonov 1/3 metod umesto metoda trapeza:\n",
    "#### $$I=R_{1,2}+E_{1,2}$$\n",
    "#### $$I=R_{2,2}+E_{2,2}$$\n",
    "#### $$E_{2,2}=\\frac{1}{16}E_{1,2}$$\n",
    "#### $$R_{1,2}-R_{2,2}=-\\frac{15}{16}E_{1,2}$$\n",
    "#### $$E_{1,2}=\\frac{16(R_{2,2}-R_{1,2})}{15}$$\n",
    "#### $$I=R_{1,2}+E_{1,2}=R_{1,2}+\\frac{16(R_{2,2}-R_{1,2})}{15}$$\n",
    "#### $$I=\\frac{16R_{2,2}-R_{1,2}}{15}$$\n",
    "#### Dakle, ako sa u $R_{i,j}$ sa $i$ ozаčnimo finoću podele, a sa $j$ kvalitet (kompleksnost metoda) vidimo da je šablon za Rombergov da se $R_{i+1,j}$ množi sa $4^j$, a deli se sa $4^j-1$, odnosno:\n",
    "#### $$R_{i,j+1}=\\frac{4^jR_{i+1,j}-R_{i,j}}{4^j-1}$$\n",
    "#### Implementiramo sada šablon koji smo izveli. Funkcija koju dobijamo proizvoljan broj puta primenjuje formulu iz prethodnog reda. Tačnost do koje hoćemo da idemo unosi se kao broj kolona matrice, odnosno $n$.\n",
    "#### Najbolji rezultat koji imamo je poslednji element prve vrste, pa njega vraćamo."
   ]
  },
  {
   "cell_type": "code",
   "execution_count": 53,
   "metadata": {},
   "outputs": [],
   "source": [
    "function I=romberg(a,b,fun,n)\n",
    "    A=zeros(n,n);\n",
    "    for i=1:n\n",
    "        A(i,1)=trapez_kompozitno(a,b,fun,2^(i-1));\n",
    "    end\n",
    "    for j=2:n\n",
    "        for i=1:(n-j+1)\n",
    "            A(i,j)=(4^(j-1)*A(i+1,j-1)-A(i,j-1))/(4^(j-1)-1);%smanjujemo j za 1 jer idemo od druge kolone, a red metoda koji nam treba je 1\n",
    "        end\n",
    "    end\n",
    "    A\n",
    "    I=A(1,n);\n",
    "endfunction"
   ]
  },
  {
   "cell_type": "code",
   "execution_count": 54,
   "metadata": {},
   "outputs": [
    {
     "name": "stdout",
     "output_type": "stream",
     "text": [
      "A =\n",
      "\n",
      "   136.00000    88.00000    86.57778    86.56175    86.56170\n",
      "   100.00000    86.66667    86.56200    86.56170     0.00000\n",
      "    90.00000    86.56854    86.56171     0.00000     0.00000\n",
      "    87.42641    86.56213     0.00000     0.00000     0.00000\n",
      "    86.77820     0.00000     0.00000     0.00000     0.00000\n",
      "\n",
      "I_romberg =  86.562\n"
     ]
    }
   ],
   "source": [
    "I_romberg=romberg(2,6,@(x)2.^x,5)"
   ]
  },
  {
   "cell_type": "code",
   "execution_count": 55,
   "metadata": {},
   "outputs": [
    {
     "name": "stdout",
     "output_type": "stream",
     "text": [
      "tacno_resenje =  86.562\n",
      "ans = 1\n"
     ]
    }
   ],
   "source": [
    "tacno_resenje = 86.56170\n",
    "abs(tacno_resenje-I_romberg )<=10^-5"
   ]
  },
  {
   "cell_type": "markdown",
   "metadata": {},
   "source": [
    "#### Vidimo da smo uspeli da dobijemo tačno rešenje iako smo od metoda za numeričku integraciju koristili samo metod trapeza i to za $2^4=16$ primena.\n",
    "#### Pogledaćemo sada koliko bi nam otrpilike trebalo primena metode trapeza da bi dobili tačno rešenje."
   ]
  },
  {
   "cell_type": "code",
   "execution_count": 56,
   "metadata": {},
   "outputs": [
    {
     "data": {
      "image/png": "[encoded data removed]",
      "text/plain": [
       "<IPython.core.display.Image object>"
      ]
     },
     "metadata": {},
     "output_type": "display_data"
    }
   ],
   "source": [
    "errors_trapez=calculate_error(2,6,@(x)2.^x,86.56170,2^8,'trapez_kompozitno');\n",
    "\n",
    "plot(1:length(errors_trapez),log10(errors_trapez),\"linewidth\",10,\"color\", \"blue\")\n",
    "xlabel('Broj primena metoda');\n",
    "ylabel('log10(Greska)');\n",
    "xticks=[];\n",
    "for i=1:8\n",
    "    xticks(i)=2^i;\n",
    "end\n",
    "set(gca, 'xtick', xticks)\n",
    "set(gca, \"fontsize\", 14)"
   ]
  },
  {
   "cell_type": "code",
   "execution_count": 57,
   "metadata": {},
   "outputs": [
    {
     "name": "stdout",
     "output_type": "stream",
     "text": [
      "I_trapez_kom =  86.562\n"
     ]
    }
   ],
   "source": [
    "I_trapez_kom=trapez_kompozitno(2,6,@(x)2.^x,2^12)"
   ]
  },
  {
   "cell_type": "code",
   "execution_count": 58,
   "metadata": {},
   "outputs": [
    {
     "name": "stdout",
     "output_type": "stream",
     "text": [
      "ans = 1\n"
     ]
    }
   ],
   "source": [
    "abs(tacno_resenje-I_trapez_kom)<=10^-5"
   ]
  },
  {
   "cell_type": "markdown",
   "metadata": {},
   "source": [
    "#### Dakle bez Rombergove metode trebalo bi negde oko $2^{11}$ primena da dobijemo tačno rešenje, što možemo da vidimo na grafiku iznad.\n",
    "#### Takođe smo sa Rombergovom metodom postigli rezultat metode koja ima tačnost reda $O(h^{10})$ bez poznavanja formule ili implementacije metode tako velikog reda tačnosti."
   ]
  },
  {
   "cell_type": "markdown",
   "metadata": {},
   "source": [
    "## Gausova kvdaratura\n",
    "#### Recimo da izračunavamo integral fukcije ispod na intervalu [-1,1]."
   ]
  },
  {
   "cell_type": "code",
   "execution_count": 88,
   "metadata": {},
   "outputs": [
    {
     "name": "stdout",
     "output_type": "stream",
     "text": [
      "fun =\n",
      "\n",
      "@(x) 3 .* x .^ 3 - 4 .* x .^ 2 + 2 .* x + 20\n",
      "\n"
     ]
    },
    {
     "data": {
      "image/png": "[encoded data removed]",
      "text/plain": [
       "<IPython.core.display.Image object>"
      ]
     },
     "metadata": {},
     "output_type": "display_data"
    }
   ],
   "source": [
    "fun=@(x)3.*x.^3-4.*x.^2+2.*x+20\n",
    "draw_trapezoids(-1,1,fun,1)"
   ]
  },
  {
   "cell_type": "markdown",
   "metadata": {},
   "source": [
    "#### Koristimo jednu primenu metode trapeza:"
   ]
  },
  {
   "cell_type": "code",
   "execution_count": 89,
   "metadata": {},
   "outputs": [
    {
     "name": "stdout",
     "output_type": "stream",
     "text": [
      "I_trapez_1 =  32\n",
      "I_trapez_1_rucno =  32\n"
     ]
    }
   ],
   "source": [
    "I_trapez_1=trapez_kompozitno(-1,1,fun,1)\n",
    "a=-1;b=1;\n",
    "I_trapez_1_rucno=(b-a)/2*fun(a)+(b-a)/2*fun(b)"
   ]
  },
  {
   "cell_type": "markdown",
   "metadata": {},
   "source": [
    "#### Metoda trapeza uvek koristi krajnje tačke $(a,f(a))$ i $(b,f(b))$ i množi ih vrednošću $(b-a)/2$.\n",
    "#### Šta bi bilo ako bi odabrali neke druge tačke i pomnožili ih nekom drugom vrednošću?"
   ]
  },
  {
   "cell_type": "code",
   "execution_count": 90,
   "metadata": {},
   "outputs": [
    {
     "name": "stdout",
     "output_type": "stream",
     "text": [
      "I_gq =  37.333\n"
     ]
    }
   ],
   "source": [
    "x1=-0.577350269;\n",
    "x2=0.577350269;\n",
    "c1=1;\n",
    "c2=1;\n",
    "I_gq=c1*fun(x1)+c2*fun(x2)"
   ]
  },
  {
   "cell_type": "code",
   "execution_count": 91,
   "metadata": {},
   "outputs": [
    {
     "name": "stdout",
     "output_type": "stream",
     "text": [
      "tacno_resenje =  37.333\n"
     ]
    }
   ],
   "source": [
    "tacno_resenje=112/3"
   ]
  },
  {
   "cell_type": "markdown",
   "metadata": {},
   "source": [
    "#### Na koji način smo znali koje tačke i koje koeficijente da upotrebimo da upotrebimo da bi dobili tačno rešenje?\n",
    "#### To je rezultat Gausove kvadrature.\n",
    "#### Cilj Gausove kvadarature je da postigne veći nivo tačnosti bez povećanja kompleksnosti metode.\n",
    "#### Drugim rečima, hoćemo da uzmemo vrednosti funkcije u dve tačke $x_1$ i $x_2$ i da ih pomnožimo sa neka dva koeficijenta $c_1$ i $c_2$, ali tako da dobijemo veću tačnost od metode trapeza. \n",
    "#### Kod metode trapeza je $x_1=a$, $x_2=b$, $c_1=\\frac{b-a}{2}$ i $c_2=\\frac{b-a}{2}$.\n",
    "### Postupak određivanja tačaka i koeficijenata\n",
    "#### Pošto imamo 4 nepoznate koje treba da odredimo ($x_1,x_2,c_1,c_2$) trebalo bi na neki način da smislimo 4 uslova (jednačine) koje ti koeficijenti treba da zadovolje.\n",
    "#### Zhatevaćemo da te 4 vrednosti budu takve da linearna kombinacija:\n",
    "#### $$c_1f(x_1)+c_2f(x_2)$$\n",
    "#### ima isti rezultat kao analitičko rešenje integrala bilo kog polinoma trećeg stepena na intervalu $[a,b]$ gde su $x_1$ i $x_2$ tačke iz tog intervala. Dakle, želimo da postignemo da za blio koji polinom:\n",
    "#### $$f(x)=a_1x^3+a_2x^2+a_3x+a_4$$ važi:\n",
    "#### $$\\int_{a}^{b}(a_1x^3+a_2x^2+a_3x+a_4)dx=c_1f(x_1)+c_2f(x_2)$$\n",
    "#### $$c_1f(x_1)+c_2f(x_2)=c_1(a_1x_1^3+a_2x_1^2+a_3x_1+a_4)+c_2(a_1x_2^3+a_2x_2^2+a_3x_2+a_4)=\\\\a_1(c_1x_1^3+c_2x_2^3)+a_2(c_1x_1^2+c_2x_2^2)+a_3(c_1x_1+c_2x_2)+a_4(c_1+c_2)$$\n",
    "#### $$\\int_{a}^{b}(a_1x^3+a_2x^2+a_3x+a_4)dx=a_1\\frac{b^4-a^4}{4}+a_2\\frac{b^3-a^3}{3}+a_3\\frac{b^2-a^2}{2}+a_4(b-a)$$\n",
    "#### $$a_1\\frac{b^4-a^4}{4}+a_2\\frac{b^3-a^3}{3}+a_3\\frac{b^2-a^2}{2}+a_4(b-a)=\\\\a_1(c_1x_1^3+c_2x_2^3)+a_2(c_1x_1^2+c_2x_2^2)+a_3(c_1x_1+c_2x_2)+a_4(c_1+c_2)$$\n",
    "#### Dobijamo sledeći nelinearan sistem:\n",
    "#### $$c_1x_1^3+c_2x_2^3=\\frac{b^4-a^4}{4} \\hspace{20 mm} c_1x_1^2+c_2x_2^2=\\frac{b^3-a^3}{3}\\\\c_1x_1+c_2x_2=\\frac{b^2-a^2}{2} \\hspace{20 mm} c_1+c_2=b-a$$\n",
    "#### Sistem ima analitičko rešenje oblika:\n",
    "#### $$x_1=\\frac{b-a}{2}(-\\frac{1}{\\sqrt{3}})+\\frac{a+b}{2} \\hspace{20 mm} x_2=\\frac{b-a}{2}(\\frac{1}{\\sqrt{3}})+\\frac{a+b}{2}$$\n",
    "#### $$c_1=\\frac{b-a}{2} \\hspace{20 mm} c_2=\\frac{b-a}{2}$$\n",
    "#### Gausova kvadratura se tipično koristi na sledeći način.\n",
    "#### 1.Imamo unapred izračunate vrednosti tačaka i koeficijenata za interval $[-1,1]$ koje se mogu pronaći u literturi ili na internetu.\n",
    "#### 2.Integral koji rešavamo na intervalu $[a,b]$ svodimo na $[-1,1]$ uvođenjem linearnog mapiranja (koje pokazujemo u nastavku).\n",
    "#### 3.Koristimo tačake i koeficijenate za interval $[-1,1]$ da rešimo integral.\n",
    "#### Kokretno za dve tačke, vrednosti tačaka i koeficijenata za interval $[-1,1]$ su:\n",
    "#### $$x_1=-0.577350269 \\hspace{20 mm} x_2=0.577350269 \\hspace{20 mm}\\\\c_1=1 \\hspace{20 mm} c_2=1$$\n",
    "#### Kao malu vežbu, možemo ih dobiti kao rešenje sledećeg sistema:\n",
    "#### $$c_1x_1^3+c_2x_2^3=0 \\hspace{20 mm} c_1x_1^2+c_2x_2^2=\\frac{2}{3}\\\\c_1x_1+c_2x_2=0 \\hspace{20 mm} c_1+c_2=2$$\n",
    "#### Koristimo Octave funkciju fsolve."
   ]
  },
  {
   "cell_type": "code",
   "execution_count": 92,
   "metadata": {},
   "outputs": [
    {
     "name": "stdout",
     "output_type": "stream",
     "text": [
      "warning: matrix singular to machine precision\n",
      "warning: called from\n",
      "    fsolve>__dogleg__ at line 532 column 5\n",
      "    fsolve at line 351 column 11\n",
      "x =\n",
      "\n",
      "  -0.57735\n",
      "   0.57735\n",
      "   1.00000\n",
      "   1.00000\n",
      "\n",
      "fval =\n",
      "\n",
      "   0.0000000000001   0.0000000018841   0.0000000000000   0.0000000000000\n",
      "\n",
      "info =  1\n"
     ]
    }
   ],
   "source": [
    "function y=f(x) %x(1) je x1, x(2) je x2,x(3) je c1,x(4) je c2\n",
    "  y(1) = x(3)*x(1)^3+x(4)*x(2)^3;\n",
    "  y(2) = x(3)*x(1)^2+x(4)*x(2)^2-2/3;\n",
    "  y(3) = x(3)*x(1)   +x(4)*x(2);\n",
    "  y(4) = x(3)         +x(4)-2;\n",
    "endfunction\n",
    "[x, fval, info] = fsolve (@f, [-1;1;0;0])"
   ]
  },
  {
   "cell_type": "markdown",
   "metadata": {},
   "source": [
    "#### Kao primer upotrebe gausove kvadrature prvo rešavamo integral funkcije:\n",
    "#### $$I=\\int_{-1}^{1}2^xdx$$"
   ]
  },
  {
   "cell_type": "code",
   "execution_count": 93,
   "metadata": {},
   "outputs": [
    {
     "name": "stdout",
     "output_type": "stream",
     "text": [
      "tacno_resenje =  2.1640\n"
     ]
    }
   ],
   "source": [
    "tacno_resenje=3/(2*log(2))"
   ]
  },
  {
   "cell_type": "code",
   "execution_count": 94,
   "metadata": {},
   "outputs": [
    {
     "name": "stdout",
     "output_type": "stream",
     "text": [
      "I_gq =  2.1623\n"
     ]
    }
   ],
   "source": [
    "fun=2.^(x);\n",
    "x1=-0.577350269;\n",
    "x2=0.577350269;\n",
    "c1=1;\n",
    "c2=1;\n",
    "I_gq=c1*2^x1+c2*2^x2"
   ]
  },
  {
   "cell_type": "code",
   "execution_count": 95,
   "metadata": {},
   "outputs": [
    {
     "name": "stdout",
     "output_type": "stream",
     "text": [
      "I_trapez_1 =  2.5000\n"
     ]
    }
   ],
   "source": [
    "I_trapez_1=trapez_kompozitno(-1,1,@(x)2.^x,1)"
   ]
  },
  {
   "cell_type": "markdown",
   "metadata": {},
   "source": [
    "#### Sada koristimo istu podintegralnu funkciju, ali menjamo interval:\n",
    "#### $$I=\\int_{2}^{6}2^xdx$$\n",
    "#### To znači da sada moramo $x$ koji je intervalu $[2,6]$ da prebacimo na neko $t$ koje će biti u intervalu $[-1,1]$.\n",
    "#### Pokazaćemo kako možemo da mapiramo proizvoljan interval $[a,b]$ na interval $[-1,1]$. Mapiranje radimo pomoću prave koja prolazi kroz tačke $(a,-1), (b,1)$.\n",
    "#### Formiramo pravu, tj. Lagranžov interpolacioni polinom za $(a,-1), (b,1)$:\n",
    "#### $$t=(-1)\\frac{x-b}{a-b}+(1)\\frac{x-a}{b-a}=\\frac{b-x}{a-b}+\\frac{x-a}{b-a}=\\frac{x-b}{b-a}+\\frac{x-a}{b-a}=\\frac{2}{b-a}x-\\frac{a+b}{b-a}$$\n",
    "#### $$t=\\frac{2}{b-a}x-\\frac{a+b}{b-a} \\implies t+\\frac{a+b}{b-a}=\\frac{2}{b-a}x \\implies x=\\frac{b-a}{2}t+\\frac{a+b}{2}$$\n",
    "#### Ako prethodnu jednakost (smenu) za $x$ u integralu:\n",
    "#### $$I=\\int_{a}^{b}f(x)dx$$\n",
    "#### onda podintegralna funkcija ima novu nezavisnu promenljivu $t$ koja je u rasponu $[-1,1]$.\n",
    "#### Moramo da zamenimo $dx$ pa računamo izvod naše smene:\n",
    "#### $$ x=\\frac{b-a}{2}t+\\frac{a+b}{2} \\implies dx=\\frac{b-a}{2}dt$$\n",
    "#### Uvodimo sada smenu u integral:\n",
    "#### $$I=\\int_{a}^{b}f(x)dx=\\int_{-1}^{1}f(\\frac{b-a}{2}t+\\frac{a+b}{2})\\frac{b-a}{2}dt$$\n",
    "#### U kodu ispod testiramo i crtamo smenu za $(2,-1), (b,6)$:"
   ]
  },
  {
   "cell_type": "code",
   "execution_count": 96,
   "metadata": {},
   "outputs": [
    {
     "name": "stdout",
     "output_type": "stream",
     "text": [
      "p =\n",
      "\n",
      "   0.50000  -2.00000\n",
      "\n"
     ]
    }
   ],
   "source": [
    "p=linterp([2,6],[-1,1])"
   ]
  },
  {
   "cell_type": "code",
   "execution_count": 97,
   "metadata": {},
   "outputs": [
    {
     "name": "stdout",
     "output_type": "stream",
     "text": [
      "ans = -1\n",
      "ans =  1\n"
     ]
    }
   ],
   "source": [
    "polyval(p,2)\n",
    "polyval(p,6)"
   ]
  },
  {
   "cell_type": "code",
   "execution_count": 98,
   "metadata": {},
   "outputs": [
    {
     "data": {
      "image/png": "[encoded data removed]",
      "text/plain": [
       "<IPython.core.display.Image object>"
      ]
     },
     "metadata": {},
     "output_type": "display_data"
    }
   ],
   "source": [
    "plot_function([0,7],@(x)0.5.*x-2)\n",
    "plot([2,6],[-1,1],'o','markersize', 14,'markerfacecolor','r')"
   ]
  },
  {
   "cell_type": "markdown",
   "metadata": {},
   "source": [
    "#### Rešavamo sada sledeći integral pomoću Gausove kvadrature:\n",
    "#### $$I=\\int_{2}^{6}2^xdx$$\n",
    "#### $$I=\\int_{2}^{6}2^xdx=\\int_{-1}^{1}2^{\\frac{6-2}{2}t+\\frac{6+2}{2}}\\frac{6-2}{2}dt=\\int_{-1}^{1}2^{2t+4}2dt=\\int_{-1}^{1}2^{2t+5}dt$$\n",
    "#### Sada korisimo:\n",
    "#### $$f(t)=2^{2t+5} \\hspace{20 mm} t_1=-0.577350269 \\hspace{20 mm} t_2=0.577350269 \\hspace{20 mm} \\hspace{20 mm} c_1=1 \\hspace{20 mm} c_2=1$$ \n",
    "#### i izračunavamo:\n",
    "#### $$I=c_1f(t_1)+c_2f(t_2)=2^{2 \\cdot -0.577350269+5}+2^{2 \\cdot 0.577350269+5}$$"
   ]
  },
  {
   "cell_type": "code",
   "execution_count": 99,
   "metadata": {},
   "outputs": [
    {
     "name": "stdout",
     "output_type": "stream",
     "text": [
      "I_gq =  85.617\n"
     ]
    }
   ],
   "source": [
    "I_gq=2^(2*-0.577350269+5)+2^(2*0.577350269+5)"
   ]
  },
  {
   "cell_type": "code",
   "execution_count": 100,
   "metadata": {},
   "outputs": [
    {
     "name": "stdout",
     "output_type": "stream",
     "text": [
      "I_trapez_1 =  136\n"
     ]
    }
   ],
   "source": [
    "I_trapez_1=trapez_kompozitno(2,6,@(x)2.^x,1)"
   ]
  },
  {
   "cell_type": "code",
   "execution_count": 101,
   "metadata": {},
   "outputs": [
    {
     "name": "stdout",
     "output_type": "stream",
     "text": [
      "tacno_resenje =  86.562\n"
     ]
    }
   ],
   "source": [
    "tacno_resenje = 86.56170"
   ]
  },
  {
   "cell_type": "code",
   "execution_count": 102,
   "metadata": {},
   "outputs": [
    {
     "name": "stdout",
     "output_type": "stream",
     "text": [
      "greska_gq =  0.010910\n",
      "greska_I_trapez_1 =  0.57113\n"
     ]
    }
   ],
   "source": [
    "greska_gq=abs(I_gq-tacno_resenje)/tacno_resenje\n",
    "greska_I_trapez_1=abs(I_trapez_1-tacno_resenje)/tacno_resenje"
   ]
  },
  {
   "cell_type": "markdown",
   "metadata": {},
   "source": [
    "#### Iz rezultata se vidi da Gausova kvadratura za dve tačke ima značajno manju grešku od metode trapeza.\n",
    "#### U nastavku dat je kod za Gausovu kvadraturu za dve tačke za proizvoljan interval $[a,b]$."
   ]
  },
  {
   "cell_type": "code",
   "execution_count": 103,
   "metadata": {},
   "outputs": [],
   "source": [
    "function I=gauss_quad(a,b,fun,n)\n",
    "    x=[-0.577350269,0.577350269];\n",
    "    c=[1,1];\n",
    "    map_fun=(b-a)/2.*x+(a+b)/2;\n",
    "    map_dx=(b-a)/2;\n",
    "    feval(fun,map_fun);\n",
    "    I=sum(c.*feval(fun,map_fun).*map_dx); \n",
    "endfunction"
   ]
  },
  {
   "cell_type": "code",
   "execution_count": 104,
   "metadata": {},
   "outputs": [
    {
     "name": "stdout",
     "output_type": "stream",
     "text": [
      "I_gauss_quad_1 =  85.617\n"
     ]
    }
   ],
   "source": [
    "I_gauss_quad_1=gauss_quad(2,6,@(x)2.^x,2)"
   ]
  },
  {
   "cell_type": "code",
   "execution_count": 105,
   "metadata": {},
   "outputs": [
    {
     "name": "stdout",
     "output_type": "stream",
     "text": [
      "I_trapez_1 =  136\n"
     ]
    }
   ],
   "source": [
    "I_trapez_1=trapez_kompozitno(2,6,@(x)2.^x,1)"
   ]
  },
  {
   "cell_type": "markdown",
   "metadata": {},
   "source": [
    "#### Za kraj samo napomena da se Gausova kvadratura može koristiti i za veći broj tačka od dve. Tačke i koeficijenti se izvode tako da njihova linearna kombinacija daje tačan rezultat za integrale: petog, sedmog, devetog... stepena.\n",
    "#### Kao i u slučaju dve tačke, u literaturi i na internetu dosupne su tabele sa vrednostima i sve što je potrebno je uvesti smenu koja će prebaci intregal na interval $[-1,1]$."
   ]
  }
 ],
 "metadata": {
  "kernelspec": {
   "display_name": "Octave",
   "language": "octave",
   "name": "octave"
  },
  "language_info": {
   "file_extension": ".m",
   "help_links": [
    {
     "text": "GNU Octave",
     "url": "https://www.gnu.org/software/octave/support.html"
    },
    {
     "text": "Octave Kernel",
     "url": "https://github.com/Calysto/octave_kernel"
    },
    {
     "text": "MetaKernel Magics",
     "url": "https://metakernel.readthedocs.io/en/latest/source/README.html"
    }
   ],
   "mimetype": "text/x-octave",
   "name": "octave",
   "version": "5.2.0"
  }
 },
 "nbformat": 4,
 "nbformat_minor": 4
}
