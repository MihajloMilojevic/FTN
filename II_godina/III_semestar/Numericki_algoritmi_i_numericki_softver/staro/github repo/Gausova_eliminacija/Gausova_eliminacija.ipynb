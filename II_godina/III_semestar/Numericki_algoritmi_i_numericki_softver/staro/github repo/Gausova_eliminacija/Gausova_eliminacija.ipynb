{
 "cells": [
  {
   "cell_type": "markdown",
   "metadata": {},
   "source": [
    "# Gausova eliminacija"
   ]
  },
  {
   "cell_type": "markdown",
   "metadata": {},
   "source": [
    "#### Tema prva dva predavanja ovog kursa je rešavanje sistema linearnih jednačina.\n",
    "#### Postoje mnogi realni problemi koji se svode ne rešavanje SLAJ.\n",
    "#### Neke njih, kao što su rangiranje stranica na internetu pomoću algoritma *PageRank* koji koristi *Google* ili određivanje pozicije pomoću *GPS*, pokazaćemo u zavisnosti od vremena na kraju ovog ili sledećeg predavanja."
   ]
  },
  {
   "cell_type": "markdown",
   "metadata": {},
   "source": [
    "## Algoritam Gausove eliminacije"
   ]
  },
  {
   "cell_type": "markdown",
   "metadata": {},
   "source": [
    "#### Pre nego što stignemo do primena detaljno ćemo kroz kod objasniti kako funkcioniše algoritam Gausove eliminacije."
   ]
  },
  {
   "cell_type": "markdown",
   "metadata": {},
   "source": [
    "#### Gausova eliminacija je ustvari samo upoštenje načina na koji smo rešavali sisteme jedančina još od osnovne škole."
   ]
  },
  {
   "cell_type": "markdown",
   "metadata": {},
   "source": [
    "#### Recimo da imamo sledeći sistem:"
   ]
  },
  {
   "cell_type": "markdown",
   "metadata": {},
   "source": [
    "### $$4x_1-3x_2+x_3=-8\\\\-2x_1+x_2-3x_3=-4\\\\x_1-x_2+2x_3=3$$"
   ]
  },
  {
   "cell_type": "markdown",
   "metadata": {},
   "source": [
    "#### Prisetimo se na koji način smo mi pokušavali da rešimo sisteme jednačina u osnovnoj i srednjoj školi.\n",
    "#### Pokušavali samo na neki način da sistem svedemo na jednu jednačinu sa jednom nepoznatom, pa da onda tu nepoznatu odredimo deljenjem i zamenimo je u neku od prethodnih jednačina da dobijemo drugu nepoznatu i tako redom.\n",
    "#### Gausova eliminacija nije ništa drugo nego samo sistematizacija tog postupka.\n",
    "#### \n",
    "#### Krećemo tako što nam je cilj da eliminišemo promenljivu $x_1$ iz druge jednačine.\n",
    "#### U prvom koraku prvu jednačinu množimo sa $\\frac{2}{4}=\\frac{1}{2}$ i onda je dodamo drugoj:"
   ]
  },
  {
   "cell_type": "markdown",
   "metadata": {},
   "source": [
    "### $$4\\cdot\\frac{1}{2}x_1-3\\cdot\\frac{1}{2}x_2+1\\cdot\\frac{1}{2}x_3=-8\\cdot\\frac{1}{2}\\\\-2x_1+x_2-3x_3=-4$$"
   ]
  },
  {
   "cell_type": "markdown",
   "metadata": {},
   "source": [
    "#### Prvu jednačinu prepisujemo bez promene jer će nam u tom obliku biti potrebna u narednim koracima.\n",
    "#### Na taj način ne menjamo rešenje jer množenje jednačine konstanom ne utiče na rešenje."
   ]
  },
  {
   "cell_type": "markdown",
   "metadata": {},
   "source": [
    "### $$4x_1-3x_2+x_3=-8\\\\0-\\frac{1}{2}x_2-\\frac{5}{2}x_3=-8$$"
   ]
  },
  {
   "cell_type": "markdown",
   "metadata": {},
   "source": [
    "#### Uklonili smo $x_1$ iz druge jednačine, sada ga uklanjamo i iz treće."
   ]
  },
  {
   "cell_type": "markdown",
   "metadata": {},
   "source": [
    "#### U sledećem koraku prvu jednačinu množimo sa $-\\frac{1}{4}$ i onda je dodamo trećoj:"
   ]
  },
  {
   "cell_type": "markdown",
   "metadata": {},
   "source": [
    "### $$4\\cdot-\\frac{1}{4}x_1-3\\cdot-\\frac{1}{4}x_2+1\\cdot-\\frac{1}{4}x_3=-8\\cdot-\\frac{1}{4}\\\\x_1-x_2+2x_3=3$$"
   ]
  },
  {
   "cell_type": "markdown",
   "metadata": {},
   "source": [
    "#### Prvu jednačinu prepisujemo bez promene jer će nam u tom obliku biti potrebna u narednim koracima."
   ]
  },
  {
   "cell_type": "markdown",
   "metadata": {},
   "source": [
    "### $$4x_1-3x_2+x_3=-8\\\\\\\\0-\\frac{1}{4}x_2+\\frac{7}{4}x_3=5$$"
   ]
  },
  {
   "cell_type": "markdown",
   "metadata": {},
   "source": [
    "#### Rezultat prethodnih operacija:"
   ]
  },
  {
   "cell_type": "markdown",
   "metadata": {},
   "source": [
    "### $$4x_1-3x_2+x_3=-8\\\\0-\\frac{1}{2}x_2-\\frac{5}{2}x_3=-8\\\\0-\\frac{1}{4}x_2+\\frac{7}{4}x_3=5$$"
   ]
  },
  {
   "cell_type": "markdown",
   "metadata": {},
   "source": [
    "#### Još uvek nemamo jednu jednačinu sa jednom nepoznatom, pa nastavljamo tako što koristimo drugu jednačinu da izbacimo $x_2$ iz treće."
   ]
  },
  {
   "cell_type": "markdown",
   "metadata": {},
   "source": [
    "#### Drvu jednačinu da pomnožimo sa $-2\\cdot\\frac{1}{4}=-\\frac{1}{2}$ i onda je dodamo trećoj:"
   ]
  },
  {
   "cell_type": "markdown",
   "metadata": {},
   "source": [
    "### $$4x_1-3x_2+x_3=-8\\\\0-\\frac{1}{2}\\cdot-\\frac{1}{2}x_2-\\frac{5}{2}\\cdot-\\frac{1}{2}x_3=-8\\cdot-\\frac{1}{2}\\\\0-\\frac{1}{4}x_2+\\frac{7}{4}x_3=5$$"
   ]
  },
  {
   "cell_type": "markdown",
   "metadata": {},
   "source": [
    "#### Drugu jednačinu prepisujemo bez množenja sa $-\\frac{1}{2}$ jer će nam u tom obliku biti potrebna u narednim koracima."
   ]
  },
  {
   "cell_type": "markdown",
   "metadata": {},
   "source": [
    "### $$4x_1-3x_2+x_3=-8\\\\0-\\frac{1}{2}x_2-\\frac{5}{2}x_3=-8\\\\0-0+3x_3=9$$"
   ]
  },
  {
   "cell_type": "markdown",
   "metadata": {},
   "source": [
    "#### Sada smo sistem \"konačno\" dobili jednu jednačinu sa jednom nepoznatom."
   ]
  },
  {
   "cell_type": "markdown",
   "metadata": {},
   "source": [
    "### $$4x_1-3x_2+x_3=-8\\\\-\\frac{1}{2}x_2-\\frac{5}{2}x_3=-8\\\\3x_3=9$$"
   ]
  },
  {
   "cell_type": "markdown",
   "metadata": {},
   "source": [
    "#### Upravo smo završili prvu fazu Gausove eliminacije koja se zove *eliminacija unapred*.\n",
    "#### Sada vrlo lako možemo da izračunamo $x_3$:"
   ]
  },
  {
   "cell_type": "markdown",
   "metadata": {},
   "source": [
    "### $$x_3=\\frac{9}{3}=3$$"
   ]
  },
  {
   "cell_type": "markdown",
   "metadata": {},
   "source": [
    "#### Zamenjujemo $x_3$ u drugu jednačinu i izračunavamo $x_2$:"
   ]
  },
  {
   "cell_type": "markdown",
   "metadata": {},
   "source": [
    "### $$-\\frac{1}{2}x_2+\\frac{5}{2}\\cdot3=-8\\\\-\\frac{1}{2}x_2=-8+\\frac{15}{2}\\\\-\\frac{1}{2}x_2=-\\frac{1}{2}\\\\x_2=1$$"
   ]
  },
  {
   "cell_type": "markdown",
   "metadata": {},
   "source": [
    "#### Kao poslednji korak zamenjujemo $x_2$ i $x_3$ u prvu jednačinu i izračunavamo $x_1$:"
   ]
  },
  {
   "cell_type": "markdown",
   "metadata": {},
   "source": [
    "### $$4x_1-3\\cdot1+3=-8\\\\4x_1=-8\\\\x_1=-2$$"
   ]
  },
  {
   "cell_type": "markdown",
   "metadata": {},
   "source": [
    "#### Upravo smo završili drugu fazu Gausove eliminacije koja se zove *zamena unazad* i time rešili sistem.\n",
    "#### Šta mislite da li je prethodni postupak primenjliv na sisteme veće od *3x3*?"
   ]
  },
  {
   "cell_type": "markdown",
   "metadata": {},
   "source": [
    "#### Hajde da pokušamo da napišemo kod za metod koji smo koristili na prethodom primeru pa da vidimo da li može da se primeni na bilo koji sistem."
   ]
  },
  {
   "cell_type": "markdown",
   "metadata": {},
   "source": [
    "#### Kod ćemo razdvojiti na manje celine.\n",
    "#### Prva celina je množenje prve vrste nekom vrednosti *p* i dodavanje drugoj vrsti."
   ]
  },
  {
   "cell_type": "code",
   "execution_count": 1,
   "metadata": {},
   "outputs": [
    {
     "name": "stdout",
     "output_type": "stream",
     "text": [
      "A =\n",
      "\n",
      "   4  -3   1\n",
      "  -2   1  -3\n",
      "   1  -1   2\n",
      "\n",
      "b =\n",
      "\n",
      "  -8\n",
      "  -4\n",
      "   3\n",
      "\n"
     ]
    }
   ],
   "source": [
    "A=[4,-3,1;-2,1,-3;1,-1,2]\n",
    "b=[-8,-4,3]'"
   ]
  },
  {
   "cell_type": "code",
   "execution_count": 6,
   "metadata": {},
   "outputs": [
    {
     "name": "stdout",
     "output_type": "stream",
     "text": [
      "A =\n",
      "\n",
      "   4.00000  -3.00000   1.00000\n",
      "   0.00000  -0.50000  -2.50000\n",
      "   1.00000  -1.00000   2.00000\n",
      "\n"
     ]
    }
   ],
   "source": [
    "[n,m]=size(A);\n",
    "p=2/4;\n",
    "for j=1:n %imamo n elemenata u svakoj vrsti\n",
    "    A(2,j)=A(2,j) + A(1,j)*p;\n",
    "end\n",
    "A"
   ]
  },
  {
   "cell_type": "markdown",
   "metadata": {},
   "source": [
    "### Na koji način smo napisali prethodni kod:\n",
    "* #### Imamo jednu promenljivu j koja je brojač za kolone.\n",
    "* #### Menjamo sve elemente druge vrste, zato imamo A(2,j).\n",
    "* #### Na svaki element druge vrste dodajemo odgovarajući element prve vrste koji je u istoj koloni (koloni j) \"iznad njega\".\n",
    "* #### Pre nego što uradimo dodavanje, element prve vrste množimo sa p."
   ]
  },
  {
   "cell_type": "markdown",
   "metadata": {},
   "source": [
    "#### Na elemente treće vrste dodajemo elemente prve vrste pomnožene sa p."
   ]
  },
  {
   "cell_type": "code",
   "execution_count": 7,
   "metadata": {},
   "outputs": [
    {
     "name": "stdout",
     "output_type": "stream",
     "text": [
      "A =\n",
      "\n",
      "   4.00000  -3.00000   1.00000\n",
      "   0.00000  -0.50000  -2.50000\n",
      "   0.00000  -0.25000   1.75000\n",
      "\n"
     ]
    }
   ],
   "source": [
    "[n,m]=size(A);\n",
    "p=-1/4;\n",
    "for j=1:n\n",
    "    A(3,j)=A(3,j) + A(1,j)*p;\n",
    "end\n",
    "A"
   ]
  },
  {
   "cell_type": "markdown",
   "metadata": {},
   "source": [
    "#### Spajamo prethodna dva isečka koda u jedan."
   ]
  },
  {
   "cell_type": "code",
   "execution_count": 8,
   "metadata": {},
   "outputs": [
    {
     "name": "stdout",
     "output_type": "stream",
     "text": [
      "A =\n",
      "\n",
      "   4  -3   1\n",
      "  -2   1  -3\n",
      "   1  -1   2\n",
      "\n",
      "A =\n",
      "\n",
      "   4.00000  -3.00000   1.00000\n",
      "   0.00000  -0.50000  -2.50000\n",
      "   0.00000  -0.25000   1.75000\n",
      "\n"
     ]
    }
   ],
   "source": [
    "A=[4,-3,1;-2,1,-3;1,-1,2]\n",
    "[n,m]=size(A);\n",
    "for i = 2:3\n",
    "    if i==2\n",
    "        p=2/4;\n",
    "    else\n",
    "        p=-1/4;\n",
    "    end\n",
    "    for j=1:n\n",
    "        A(i,j)=A(i,j) + A(1,j)*p;\n",
    "    end\n",
    "end\n",
    "A"
   ]
  },
  {
   "cell_type": "markdown",
   "metadata": {},
   "source": [
    "#### Da li nam je potreban if ili možda postoji neki bolji način da odredimo p?"
   ]
  },
  {
   "cell_type": "code",
   "execution_count": 9,
   "metadata": {},
   "outputs": [
    {
     "name": "stdout",
     "output_type": "stream",
     "text": [
      "A =\n",
      "\n",
      "   4  -3   1\n",
      "  -2   1  -3\n",
      "   1  -1   2\n",
      "\n",
      "A =\n",
      "\n",
      "   4.00000  -3.00000   1.00000\n",
      "   0.00000  -0.50000  -2.50000\n",
      "   0.00000  -0.25000   1.75000\n",
      "\n"
     ]
    }
   ],
   "source": [
    "A=[4,-3,1;-2,1,-3;1,-1,2]\n",
    "[n,m]=size(A);\n",
    "for i = 2:3\n",
    "    p = -A(i,1)/A(1,1);\n",
    "    for j=1:n\n",
    "        A(i,j)=A(i,j) + A(1,j)*p;\n",
    "    end\n",
    "end\n",
    "A"
   ]
  },
  {
   "cell_type": "markdown",
   "metadata": {},
   "source": [
    "#### Upoštavamo sad kod tako da pored prve vrste množimo i drugu vrstu odgovrajućim brojem i dodajemo na treću."
   ]
  },
  {
   "cell_type": "code",
   "execution_count": 10,
   "metadata": {},
   "outputs": [
    {
     "name": "stdout",
     "output_type": "stream",
     "text": [
      "A =\n",
      "\n",
      "   4  -3   1\n",
      "  -2   1  -3\n",
      "   1  -1   2\n",
      "\n",
      "p =  0.50000\n",
      "p = -0.25000\n",
      "A =\n",
      "\n",
      "   4.00000  -3.00000   1.00000\n",
      "   0.00000  -0.50000  -2.50000\n",
      "   0.00000  -0.25000   1.75000\n",
      "\n",
      "p = -0.50000\n",
      "A =\n",
      "\n",
      "   4.00000  -3.00000   1.00000\n",
      "   0.00000  -0.50000  -2.50000\n",
      "   0.00000   0.00000   3.00000\n",
      "\n"
     ]
    }
   ],
   "source": [
    "A=[4,-3,1;-2,1,-3;1,-1,2]\n",
    "[n,m]=size(A);\n",
    "for k=1:2 %koristimo prvu i drugu vrstu da eliminišemo x1 i x2\n",
    "    for i = (k+1):3 %vrsta k koja se koristi za eliminaciju dodaje se na sve vrste posle nje do kraja, tj. petlja ide od k+1\n",
    "        p = -A(i,k)/A(k,k)\n",
    "        for j=1:n\n",
    "            A(i,j)=A(i,j) + A(k,j)*p;\n",
    "        end\n",
    "    end\n",
    "    A\n",
    "end"
   ]
  },
  {
   "cell_type": "markdown",
   "metadata": {},
   "source": [
    "#### Upoštavamo kod tako da možemo da radimo sa bilo kojom kvadratnom matricom *nxn*.\n",
    "#### Pošto je vektor *b* deo sistema dodajemo i njega u kod."
   ]
  },
  {
   "cell_type": "code",
   "execution_count": 11,
   "metadata": {},
   "outputs": [
    {
     "name": "stdout",
     "output_type": "stream",
     "text": [
      "A =\n",
      "\n",
      "   4  -3   1\n",
      "  -2   1  -3\n",
      "   1  -1   2\n",
      "\n",
      "b =\n",
      "\n",
      "  -8\n",
      "  -4\n",
      "   3\n",
      "\n",
      "A =\n",
      "\n",
      "   4.00000  -3.00000   1.00000\n",
      "   0.00000  -0.50000  -2.50000\n",
      "   0.00000  -0.25000   1.75000\n",
      "\n",
      "b =\n",
      "\n",
      "  -8\n",
      "  -8\n",
      "   5\n",
      "\n",
      "A =\n",
      "\n",
      "   4.00000  -3.00000   1.00000\n",
      "   0.00000  -0.50000  -2.50000\n",
      "   0.00000   0.00000   3.00000\n",
      "\n",
      "b =\n",
      "\n",
      "  -8\n",
      "  -8\n",
      "   9\n",
      "\n"
     ]
    }
   ],
   "source": [
    "A=[4,-3,1;-2,1,-3;1,-1,2]\n",
    "b=[-8,-4,3]'\n",
    "[n,m]=size(A);\n",
    "for k=1:n-1 %koristimo sve vrste da radimo eliminaciju osim poslednje zato petlja ide do n-1\n",
    "    for i = (k+1):n %menjamo vrednosti 3 na n da bi omogućili rad sa proizvoljnim matricama\n",
    "        p = -A(i,k)/A(k,k);\n",
    "        for j=1:n\n",
    "            A(i,j)=A(i,j) + A(k,j)*p;\n",
    "        end\n",
    "        b(i)=b(i) + b(k)*p;\n",
    "    end\n",
    "    A\n",
    "    b\n",
    "end"
   ]
  },
  {
   "cell_type": "markdown",
   "metadata": {},
   "source": [
    "#### Sada ste naučili kako funkcioniše prva faza Gausove eliminacije koja se zove *eliminacija unapred*.\n",
    "#### Cilj ove faze je ono što smo upravo uradili, a to je svojđenje matrice A na gornju trougaonu."
   ]
  },
  {
   "cell_type": "markdown",
   "metadata": {},
   "source": [
    "#### Prelazimo na drugu (i poslednju) fazu koja se naziva *zamena unazad*.\n",
    "#### Kao prvi korak odredićemo poslednje $x$, tj. $x_3$.\n",
    "#### Upoštićemo odmah kod i pišemo $x_n$ jer je $n$ broj kolona matrice *A*, tj. broj promenjljivih."
   ]
  },
  {
   "cell_type": "code",
   "execution_count": 12,
   "metadata": {},
   "outputs": [
    {
     "name": "stdout",
     "output_type": "stream",
     "text": [
      "x =\n",
      "\n",
      "   0\n",
      "   0\n",
      "   0\n",
      "\n",
      "x =\n",
      "\n",
      "   0\n",
      "   0\n",
      "   3\n",
      "\n"
     ]
    }
   ],
   "source": [
    "x=zeros(n,1)\n",
    "x(n)=b(n)/A(n,n)"
   ]
  },
  {
   "cell_type": "code",
   "execution_count": 13,
   "metadata": {},
   "outputs": [
    {
     "name": "stdout",
     "output_type": "stream",
     "text": [
      "A =\n",
      "\n",
      "   4.00000  -3.00000   1.00000\n",
      "   0.00000  -0.50000  -2.50000\n",
      "   0.00000   0.00000   3.00000\n",
      "\n",
      "b =\n",
      "\n",
      "  -8\n",
      "  -8\n",
      "   9\n",
      "\n"
     ]
    }
   ],
   "source": [
    "A\n",
    "b"
   ]
  },
  {
   "cell_type": "markdown",
   "metadata": {},
   "source": [
    "#### Određujemo sada $x_2$ tako što zamenjujemo $x_3$ u drugu jednačinu."
   ]
  },
  {
   "cell_type": "markdown",
   "metadata": {},
   "source": [
    "### $$-\\frac{1}{2}x_2+\\frac{5}{2}\\cdot3=-8\\\\x_2=(-8+\\frac{15}{2})\\cdot-\\frac{2}{1}$$"
   ]
  },
  {
   "cell_type": "code",
   "execution_count": 14,
   "metadata": {},
   "outputs": [
    {
     "name": "stdout",
     "output_type": "stream",
     "text": [
      "x =\n",
      "\n",
      "   0\n",
      "   1\n",
      "   3\n",
      "\n"
     ]
    }
   ],
   "source": [
    "s=A(2,3)*x(3);\n",
    "x(2)=(b(2)-s)/A(2,2)"
   ]
  },
  {
   "cell_type": "markdown",
   "metadata": {},
   "source": [
    "#### Određujemo sada $x_1$ tako što zamenjujemo $x_2$ i $x_3$ u prvu jednačinu."
   ]
  },
  {
   "cell_type": "markdown",
   "metadata": {},
   "source": [
    "### $$4x_1-3\\cdot1+3=-8\\\\x_1=(-8-(-3\\cdot1+3))\\cdot\\frac{1}{4}$$"
   ]
  },
  {
   "cell_type": "code",
   "execution_count": 15,
   "metadata": {},
   "outputs": [
    {
     "name": "stdout",
     "output_type": "stream",
     "text": [
      "x =\n",
      "\n",
      "  -2\n",
      "   1\n",
      "   3\n",
      "\n"
     ]
    }
   ],
   "source": [
    "s=A(1,2)*x(2)+A(1,3)*x(3);\n",
    "x(1)=(b(1)-s)/A(1,1)"
   ]
  },
  {
   "cell_type": "markdown",
   "metadata": {},
   "source": [
    "#### Upoštavamo kod za $x_1$."
   ]
  },
  {
   "cell_type": "code",
   "execution_count": 16,
   "metadata": {},
   "outputs": [
    {
     "name": "stdout",
     "output_type": "stream",
     "text": [
      "x =\n",
      "\n",
      "  -2\n",
      "   1\n",
      "   3\n",
      "\n"
     ]
    }
   ],
   "source": [
    "i=1;\n",
    "s=0;\n",
    "for j=(i+1):n\n",
    "    s = s + A(i,j)*x(j);\n",
    "end\n",
    "x(i)=(b(i)-s)/A(i,i)"
   ]
  },
  {
   "cell_type": "markdown",
   "metadata": {},
   "source": [
    "#### Upoštavamo kod za sve promenjlive."
   ]
  },
  {
   "cell_type": "code",
   "execution_count": 19,
   "metadata": {},
   "outputs": [
    {
     "name": "stdout",
     "output_type": "stream",
     "text": [
      "x =\n",
      "\n",
      "  -2\n",
      "   1\n",
      "   3\n",
      "\n"
     ]
    }
   ],
   "source": [
    "x=zeros(n,1);\n",
    "for i=n:-1:1\n",
    "    s=0;\n",
    "    for j=(i+1):n\n",
    "        s = s + A(i,j)*x(j);\n",
    "    end\n",
    "    x(i)=(b(i)-s)/A(i,i);\n",
    "end\n",
    "x"
   ]
  },
  {
   "cell_type": "markdown",
   "metadata": {},
   "source": [
    "#### Spajamo kod za eliminaciju unapred i zamenu unazad i pišemo funkciju za Gausovu eliminaciju."
   ]
  },
  {
   "cell_type": "code",
   "execution_count": 21,
   "metadata": {},
   "outputs": [],
   "source": [
    "function x=gauss(A,b)\n",
    "[n,m]=size(A);\n",
    "for k=1:n-1\n",
    "    for i = (k+1):n\n",
    "        p = -A(i,k)/A(k,k);\n",
    "        for j=1:n\n",
    "            A(i,j)=A(i,j) + A(k,j)*p;\n",
    "        end\n",
    "        b(i)=b(i) + b(k)*p;\n",
    "    end\n",
    "end\n",
    "A\n",
    "b\n",
    "x=zeros(n,1);\n",
    "for i=n:-1:1\n",
    "s=0;\n",
    "    for j=i:n\n",
    "        s = s + A(i,j)*x(j);\n",
    "    end\n",
    "    x(i)=(b(i)-s)/A(i,i);\n",
    "end\n",
    "endfunction"
   ]
  },
  {
   "cell_type": "code",
   "execution_count": 22,
   "metadata": {},
   "outputs": [
    {
     "name": "stdout",
     "output_type": "stream",
     "text": [
      "A =\n",
      "\n",
      "   4  -3   1\n",
      "  -2   1  -3\n",
      "   1  -1   2\n",
      "\n",
      "b =\n",
      "\n",
      "  -8  -4   3\n",
      "\n",
      "A =\n",
      "\n",
      "   4.00000  -3.00000   1.00000\n",
      "   0.00000  -0.50000  -2.50000\n",
      "   0.00000   0.00000   3.00000\n",
      "\n",
      "b =\n",
      "\n",
      "  -8  -8   9\n",
      "\n",
      "x =\n",
      "\n",
      "  -2\n",
      "   1\n",
      "   3\n",
      "\n"
     ]
    }
   ],
   "source": [
    "A=[4,-3,1;-2,1,-3;1,-1,2]\n",
    "b=[-8,-4,3]\n",
    "x=gauss(A,b)"
   ]
  },
  {
   "cell_type": "code",
   "execution_count": 23,
   "metadata": {},
   "outputs": [
    {
     "name": "stdout",
     "output_type": "stream",
     "text": [
      "A =\n",
      "\n",
      " Columns 1 through 7:\n",
      "\n",
      "    0.35359    0.22065    0.85914    0.35999    0.73702    0.39536    0.66871\n",
      "    0.00000    0.39436    0.15006    0.72776    0.43212    0.61179   -0.05100\n",
      "    0.00000    0.00000    0.15454   -0.04919   -0.07801   -0.46851    0.09184\n",
      "    0.00000    0.00000    0.00000   -0.62345   -0.93884   -2.78728   -0.09118\n",
      "    0.00000    0.00000    0.00000    0.00000   -0.09550    2.16866    0.47904\n",
      "    0.00000   -0.00000    0.00000    0.00000    0.00000  -11.88427   -2.67622\n",
      "    0.00000   -0.00000    0.00000    0.00000   -0.00000    0.00000    0.63470\n",
      "    0.00000    0.00000    0.00000    0.00000    0.00000    0.00000    0.00000\n",
      "\n",
      " Column 8:\n",
      "\n",
      "    0.30296\n",
      "    0.49071\n",
      "   -0.43901\n",
      "   -2.51815\n",
      "    2.01271\n",
      "  -10.77333\n",
      "   -0.03280\n",
      "    0.21126\n",
      "\n",
      "b =\n",
      "\n",
      "   0.697576\n",
      "   0.186002\n",
      "   0.067344\n",
      "  -0.254250\n",
      "  -0.137787\n",
      "   0.584701\n",
      "   0.509352\n",
      "   0.231999\n",
      "\n",
      "x1 =\n",
      "\n",
      "  -0.4359959\n",
      "  -0.0065072\n",
      "  -0.2492702\n",
      "   0.2082266\n",
      "   0.7796394\n",
      "  -1.2381894\n",
      "   0.8592556\n",
      "   1.0981484\n",
      "\n"
     ]
    }
   ],
   "source": [
    "A1=rand(8,8);\n",
    "b1=rand(8,1);\n",
    "x1=gauss(A1,b1)"
   ]
  },
  {
   "cell_type": "markdown",
   "metadata": {},
   "source": [
    "#### Pre nego što pređemo na sledeću celinu dat je malo optimizovaniji kod za Gausovu eliminaciju. Ovaj kod nije od značaja za vaše razumevanje algoritma već demonstrira kako možemo efikasno da koristimo vektorske operacije koje nude jezici kao što su MATLAB, Octave, Python itd. Kod nije deo obaveznog gradiva dat je samo informativno."
   ]
  },
  {
   "cell_type": "code",
   "execution_count": 17,
   "metadata": {},
   "outputs": [],
   "source": [
    "function x = gauss_vect(A,b)\n",
    "    [m,n] = size(A);\n",
    "    Aaug = zeros(n,n);\n",
    "    Aaug(1:n,1:n)=A;\n",
    "    Aaug(:,n+1)=b;\n",
    "    \n",
    "    for k=1:n-1\n",
    "        for i=k+1:n\n",
    "            m=-Aaug(i,k)/Aaug(k,k);\n",
    "            Aaug(i,:)=Aaug(i,:)+m*Aaug(k,:);\n",
    "        end\n",
    "    end\n",
    "    Aaug\n",
    "    x=zeros(1,n);\n",
    "    for i=n:-1:1\n",
    "        x(i)=(Aaug(i,n+1)-dot(Aaug(i,1:n),x))/Aaug(i,i);\n",
    "    end\n",
    "endfunction"
   ]
  },
  {
   "cell_type": "code",
   "execution_count": 18,
   "metadata": {
    "collapsed": true,
    "jupyter": {
     "outputs_hidden": true
    }
   },
   "outputs": [
    {
     "name": "stdout",
     "output_type": "stream",
     "text": [
      "Aaug =\n",
      "\n",
      "   4.00000  -3.00000   1.00000  -8.00000\n",
      "   0.00000  -0.50000  -2.50000  -8.00000\n",
      "   0.00000   0.00000   3.00000   9.00000\n",
      "\n",
      "x =\n",
      "\n",
      "  -2   1   3\n",
      "\n"
     ]
    }
   ],
   "source": [
    "x = gauss_vect(A,b)"
   ]
  },
  {
   "cell_type": "markdown",
   "metadata": {},
   "source": [
    "#### Napomena: u ispisu matrice Aug, nakon pokretanja funkcje gauss, poslednja kolona je vektor b pa zato deluje kao da rezultat nije gornja trougaona matrica, tj. da poslednja vrsta ima 2 elementa."
   ]
  },
  {
   "cell_type": "markdown",
   "metadata": {},
   "source": [
    "## Problemi sa orignialnim (naivnim) algoritmom Gausove eliminacije"
   ]
  },
  {
   "cell_type": "markdown",
   "metadata": {},
   "source": [
    "#### Pored očiglednog problema deljenja nulom do koga dolazi kada određujemo vrednost $m = \\frac{a_{ij}}{a_{ii}}$, a vrednost $a_{ii}=0$ što se u navinoj GE ne proverava, postoje i malo suptilniji problemi o kojima ćemo se baviti u nastavku."
   ]
  },
  {
   "cell_type": "markdown",
   "metadata": {},
   "source": [
    "#### Ako pogledamo sledeći grafik funkcije $f(x)=\\frac{1}{x}$, vidimo da kada su vrednosti $x$ male, npr. manje od 1, za male promene $x$ imamo velike promene $f(x)$ dok za vreće vrednosti x to ne važi. Ova osobina operacije deljenja nam je veoma značajna kao potencijalni izvor problema sa Gausovom eliminacijom."
   ]
  },
  {
   "cell_type": "code",
   "execution_count": 24,
   "metadata": {},
   "outputs": [
    {
     "data": {
      "image/png": "[encoded data removed]",
      "text/plain": [
       "<IPython.core.display.Image object>"
      ]
     },
     "metadata": {},
     "output_type": "display_data"
    }
   ],
   "source": [
    "x=linspace(0.1,10,1000);\n",
    "plot(x,1./x,\"linewidth\",10,\"color\", [1 0 0])\n",
    "xlabel(\"X\");\n",
    "ylabel(\"1/X\");"
   ]
  },
  {
   "cell_type": "code",
   "execution_count": 20,
   "metadata": {},
   "outputs": [
    {
     "name": "stdout",
     "output_type": "stream",
     "text": [
      "ans =  204.08\n",
      "ans =  200\n"
     ]
    }
   ],
   "source": [
    "1/0.0049\n",
    "1/0.005"
   ]
  },
  {
   "cell_type": "code",
   "execution_count": 21,
   "metadata": {},
   "outputs": [
    {
     "name": "stdout",
     "output_type": "stream",
     "text": [
      "ans =  0.00043478\n",
      "ans =  0.00042553\n"
     ]
    }
   ],
   "source": [
    "1/2300\n",
    "1/2350"
   ]
  },
  {
   "cell_type": "markdown",
   "metadata": {},
   "source": [
    "#### Povezaćemo sada operaciju deljenja i ograničen kapacitet računara za smeštanje brojeva i time pokazati šta su problemi sa postupkom GE."
   ]
  },
  {
   "cell_type": "markdown",
   "metadata": {},
   "source": [
    "#### Ograničen kapacitet računara za smeštanje brojeva može proizvesti gubitak informacija tokom računskih operacija. Na primer, ako pomnožimo sledeća dva broja koji mogu da se smeste na računar, rezultat je takav da ne može ceo biti smešten već moramo da ga zaokružimo. \n",
    "12.123456789 * 14.123456789 = 171.225118092750190521"
   ]
  },
  {
   "cell_type": "code",
   "execution_count": 25,
   "metadata": {},
   "outputs": [
    {
     "name": "stdout",
     "output_type": "stream",
     "text": [
      "ans =  171.2251180927502\n"
     ]
    }
   ],
   "source": [
    "format long\n",
    "12.123456789 * 14.123456789"
   ]
  },
  {
   "cell_type": "markdown",
   "metadata": {},
   "source": [
    "#### Sličnu situaciju imamo i sa deljenjem. Na primer ako delimo 56.985/101.53 dobijamo sledeći rezultat pomoću digitrona sa beskonačnom preciznošću:\n",
    "0.56126268098099084014576972323451196690633310351620210775140352605141337535703732886831478380774155422042745986407958238944154437112183591056830493450211760070915000492465281197675563872746971338520634\n",
    "#### Očigledno je da moramo da rezultat moramo da zaokružimo."
   ]
  },
  {
   "cell_type": "markdown",
   "metadata": {},
   "source": [
    "#### Gubitak informacija je naročito izražen kada su brojevi koji učestvuju u računskoj opreciji različitog reda veličine, kao u sledećem primeru.\n",
    "1463.0345 + 0.000123456789 = 1463.034623456789"
   ]
  },
  {
   "cell_type": "code",
   "execution_count": 26,
   "metadata": {},
   "outputs": [
    {
     "name": "stdout",
     "output_type": "stream",
     "text": [
      "ans =  1463.034623456789\n"
     ]
    }
   ],
   "source": [
    "1463.0345 + 0.000123456789"
   ]
  },
  {
   "cell_type": "markdown",
   "metadata": {},
   "source": [
    "#### Ako bi prethodni zbir zbog ograničenog kapaciteta računara morali da zaokružimo na recimo 9 cifara izgubili bi sve osim jedne cifre drugog sabirka, tj. drugi sabirak bi skoro bio beznačajan."
   ]
  },
  {
   "cell_type": "markdown",
   "metadata": {},
   "source": [
    "#### U Gausovoj eliminaciji prilikom svođenja na gornju trougaonu matricu ponavljamo sledeća dva koraka:\n",
    "### 1. $m = \\frac{a_{i,j}}{a_{i,i}}$\n",
    "### 2. $a_{i,j} = a_{i,j} - m*a_{k,j}$\n",
    "\n",
    "#### Do gubitka informacija može doći ako se umanjenik i umanjilac u koraku 2. razlikuju po redu veličine, što se može dogoditi ako je $m$ jako mali ili jako veliki broj. Vrednost $m$ može biti jako velika u slučaju da je ${a_{i,i}}$ jako mali broj, tj. blizu 0. Iz tog razloga trebalo bi da pokušamo da izbegnemo deljenje jako malim brojevima tokom Gausove eliminacije. To postižemo upotrebom pivotinga."
   ]
  },
  {
   "cell_type": "markdown",
   "metadata": {},
   "source": [
    "## Pivoting"
   ]
  },
  {
   "cell_type": "markdown",
   "metadata": {},
   "source": [
    "* #### Iz do sada navedenog može se zaključiti da se problem u koraku 2. može rešiti ili ublažiti ako pivot element (sa kojim se u postupku eliminacije unapred vrši deljenje) ima što veću moguću vrednost.\n",
    "* #### Iz oblasti algebre znamo da promena rasporeda jednačina i promenljivih (premeštanje vrsta i kolona matrice sistema) ne menja rešenje sistema. \n",
    "* #### Ovu činjenicu možemo da iskoristimo da bi prilikom eliminacije svake promenljive na mesto pivot elementa postavli najveći mogući element po apsolutnoj vrednosti.\n",
    "* #### Postupak postavljanja najvećeg mogućeg elementa po aspsulutnoj vrednosti na mesto pivota naziva se pivoting. \n",
    "* #### Ako najveći mogući element tražimo u celoj matrici sistema, tačnije u delu koji nije anuliran u postupku elimancije unapred, onda izvršavamo kompletan pivoting.\n",
    "* #### Pracijalni pivoting predstavlja efikasniju varijantu pivotinga pri kojoj novi pivot element tražimo samo u koloni u kojoj se nalazi promenljiva koja se trenutno eliminiše. U praksi se najćešće koristi parcijalni pivoting jer je efikasniji uz prihvatljiv pad kvaliteta rešenja.\n"
   ]
  },
  {
   "cell_type": "code",
   "execution_count": 31,
   "metadata": {},
   "outputs": [
    {
     "name": "stdout",
     "output_type": "stream",
     "text": [
      "A =\n",
      "\n",
      "   4  -3   1\n",
      "  -2   1  -3\n",
      "   1  -1   2\n",
      "\n",
      "ans =\n",
      "\n",
      "   1\n",
      "  -1\n",
      "\n"
     ]
    }
   ],
   "source": [
    "A\n",
    "A(2:3,2)"
   ]
  },
  {
   "cell_type": "code",
   "execution_count": 28,
   "metadata": {},
   "outputs": [
    {
     "name": "stdout",
     "output_type": "stream",
     "text": [
      "max =  5\n",
      "loc =  3\n"
     ]
    }
   ],
   "source": [
    "[max,loc] = max([1,2,5,3])"
   ]
  },
  {
   "cell_type": "code",
   "execution_count": 32,
   "metadata": {},
   "outputs": [],
   "source": [
    "function x=gauss_with_pivoting(A,b)\n",
    "[n,m]=size(A);\n",
    "for k=1:n-1\n",
    "    %pronalazimo makismalni element po apsulutnoj vrednosti u koloni k\n",
    "    disp('Pre pivotinga')\n",
    "    A\n",
    "    b\n",
    "    [max_val,loc] = max(abs(A(k:n,k)));\n",
    "    %loc se racuna apsolutno za deo kolone koji prosleđujemo, a nama treba relativno u odnosu na celu kolonu. Šta bi bilo kada bi ostavili samo loc?\n",
    "    loc = k+loc-1;\n",
    "    temp = A(k,:);\n",
    "    A(k,:) = A(loc,:);\n",
    "    A(loc,:) = temp;\n",
    "    temp = b(k);\n",
    "    b(k) = b(loc);\n",
    "    b(loc) = temp;\n",
    "    disp('Posle pivotinga')\n",
    "    A\n",
    "    b\n",
    "    for i = (k+1):n\n",
    "        p = -A(i,k)/A(k,k);\n",
    "        for j=1:n\n",
    "            A(i,j)=A(i,j) + A(k,j)*p;\n",
    "        end\n",
    "        b(i)=b(i) + b(k)*p;\n",
    "    end\n",
    "end\n",
    "A\n",
    "b\n",
    "x=zeros(n,1);\n",
    "for i=n:-1:1\n",
    "s=0;\n",
    "    for j=i:n\n",
    "        s = s + A(i,j)*x(j);\n",
    "    end\n",
    "    x(i)=(b(i)-s)/A(i,i);\n",
    "end\n",
    "endfunction"
   ]
  },
  {
   "cell_type": "code",
   "execution_count": 33,
   "metadata": {},
   "outputs": [
    {
     "name": "stdout",
     "output_type": "stream",
     "text": [
      "Pre pivotinga\n",
      "A =\n",
      "\n",
      "   5   0   2   3\n",
      "  -2   2   2  -3\n",
      "   0   1   1   4\n",
      "   6   2   2   4\n",
      "\n",
      "b =\n",
      "\n",
      "   1\n",
      "  -1\n",
      "   2\n",
      "   1\n",
      "\n",
      "Posle pivotinga\n",
      "A =\n",
      "\n",
      "   6   2   2   4\n",
      "  -2   2   2  -3\n",
      "   0   1   1   4\n",
      "   5   0   2   3\n",
      "\n",
      "b =\n",
      "\n",
      "   1\n",
      "  -1\n",
      "   2\n",
      "   1\n",
      "\n",
      "Pre pivotinga\n",
      "A =\n",
      "\n",
      "   6.00000   2.00000   2.00000   4.00000\n",
      "   0.00000   2.66667   2.66667  -1.66667\n",
      "   0.00000   1.00000   1.00000   4.00000\n",
      "   0.00000  -1.66667   0.33333  -0.33333\n",
      "\n",
      "b =\n",
      "\n",
      "   1.00000\n",
      "  -0.66667\n",
      "   2.00000\n",
      "   0.16667\n",
      "\n",
      "Posle pivotinga\n",
      "A =\n",
      "\n",
      "   6.00000   2.00000   2.00000   4.00000\n",
      "   0.00000   2.66667   2.66667  -1.66667\n",
      "   0.00000   1.00000   1.00000   4.00000\n",
      "   0.00000  -1.66667   0.33333  -0.33333\n",
      "\n",
      "b =\n",
      "\n",
      "   1.00000\n",
      "  -0.66667\n",
      "   2.00000\n",
      "   0.16667\n",
      "\n",
      "Pre pivotinga\n",
      "A =\n",
      "\n",
      "   6.00000   2.00000   2.00000   4.00000\n",
      "   0.00000   2.66667   2.66667  -1.66667\n",
      "   0.00000   0.00000   0.00000   4.62500\n",
      "   0.00000   0.00000   2.00000  -1.37500\n",
      "\n",
      "b =\n",
      "\n",
      "   1.00000\n",
      "  -0.66667\n",
      "   2.25000\n",
      "  -0.25000\n",
      "\n",
      "Posle pivotinga\n",
      "A =\n",
      "\n",
      "   6.00000   2.00000   2.00000   4.00000\n",
      "   0.00000   2.66667   2.66667  -1.66667\n",
      "   0.00000   0.00000   2.00000  -1.37500\n",
      "   0.00000   0.00000   0.00000   4.62500\n",
      "\n",
      "b =\n",
      "\n",
      "   1.00000\n",
      "  -0.66667\n",
      "  -0.25000\n",
      "   2.25000\n",
      "\n",
      "A =\n",
      "\n",
      "   6.00000   2.00000   2.00000   4.00000\n",
      "   0.00000   2.66667   2.66667  -1.66667\n",
      "   0.00000   0.00000   2.00000  -1.37500\n",
      "   0.00000   0.00000   0.00000   4.62500\n",
      "\n",
      "b =\n",
      "\n",
      "   1.00000\n",
      "  -0.66667\n",
      "  -0.25000\n",
      "   2.25000\n",
      "\n",
      "x2 =\n",
      "\n",
      "  -0.17568\n",
      "  -0.15541\n",
      "   0.20946\n",
      "   0.48649\n",
      "\n"
     ]
    }
   ],
   "source": [
    "format short\n",
    "A2=[5,0,2,3;-2,2,2,-3;0,1,1,4;6,2,2,4];\n",
    "b2=[1,-1,2,1]';\n",
    "x2 = gauss_with_pivoting(A2,b2)"
   ]
  },
  {
   "cell_type": "markdown",
   "metadata": {},
   "source": [
    "#### Ako pogledamo poslednju matricu pred pivoting za naš primer vidimo da bi bez pivotinga u tom slučaju imali deljenje nulom."
   ]
  },
  {
   "cell_type": "markdown",
   "metadata": {},
   "source": [
    "#### Kao deo informativnog gradiva dat je i optizovan kod uz pivoting."
   ]
  },
  {
   "cell_type": "code",
   "execution_count": 27,
   "metadata": {
    "jupyter": {
     "source_hidden": true
    }
   },
   "outputs": [],
   "source": [
    "function x = gauss_vect_with_pivoting(A,b)\n",
    "    [m,n] = size(A);\n",
    "    Aaug = zeros(n,n);\n",
    "    Aaug(1:n,1:n)=A;\n",
    "    Aaug(:,n+1)=b;\n",
    "    \n",
    "    for k=1:n-1\n",
    "        %pronalazimo makismalni element po apsulutnoj vrednosti u koloni k\n",
    "        disp('Pre pivotinga')\n",
    "        Aaug\n",
    "        [max_val,loc] = max(abs(Aaug(k:n,k)));\n",
    "        %loc se racuna apsolutno za deo kolonu koji prosleđujemo, a nama treba relativno u odnosu na celu kolonu. Šta bi bilo kada bi ostavili samo loc?\n",
    "        loc = k+loc-1;\n",
    "        temp = Aaug(k,:);\n",
    "        Aaug(k,:) = Aaug(loc,:);\n",
    "        Aaug(loc,:) = temp;\n",
    "        disp('Posle pivotinga')\n",
    "        Aaug\n",
    "        for i=k+1:n\n",
    "            m=-Aaug(i,k)/Aaug(k,k);\n",
    "            Aaug(i,:)=Aaug(i,:)+m*Aaug(k,:);\n",
    "        end\n",
    "    end\n",
    "\n",
    "    x=zeros(1,n);\n",
    "    for i=n:-1:1\n",
    "        x(i)=(Aaug(i,n+1)-dot(Aaug(i,1:n),x))/Aaug(i,i);\n",
    "    end\n",
    "endfunction"
   ]
  },
  {
   "cell_type": "markdown",
   "metadata": {},
   "source": [
    "# Da li Gausova eliminacija može da rezultuje pogrešnim rešenjem?"
   ]
  },
  {
   "cell_type": "markdown",
   "metadata": {},
   "source": [
    "* #### Sam postupak (algoritam) Gausove eliminacije ne sadrži grešku, ali GE može vratiti pogrešno rešenje ako vrednosti $A$ ili $b$ odstupaju od onih koje su originalno zadate.\n",
    "* #### Zašto bi bilo odstupanja u vrednostima? \n",
    "* #### Jedan od banalnih razloga može biti da je neko prilikom unosa podataka pogrešio. \n",
    "* #### Drugi, mnogo realniji i češći razlog je da su vrednosti $A$ i $b$ takve da ne mogu da se potpuno tačno reprezentuju na računaru koji radi sa ograničenom preciznošću."
   ]
  },
  {
   "cell_type": "markdown",
   "metadata": {},
   "source": [
    "### Logično pitanje je na koji način možemo da proverimo da li je GE vratio pogrešno rešenje.\n",
    "* #### Prvi odgovor bio bi da jednostavno ubacimo dobijeno rešenje $x$ u sistem i proverimo jednakost, tj. da pomnožimo $x$ sa $A$ i proverimo da li važi $Ax=b$."
   ]
  },
  {
   "cell_type": "markdown",
   "metadata": {},
   "source": [
    "#### U nastavku ćemo pokazati da ostatak $r=Ax-b$ nije pouzdana mera tačnosti kada brojeve reprezentujemo sa ograničenom preciznošću. Kod primera u nastavku računske operacije se izvršavaju na računaru koji može da smesti samo tri značajne cifre broja. To je namerno urađeno da bi se ilustrovao problem sa nepouzdanošću ostatka $r$. Savremeni računari mogu da smeste 16 značajnih cifara upotrebom tipa $double$, odnosno i njihov kapacitet je isto ograničen samo sa većim brojem cifara."
   ]
  },
  {
   "cell_type": "code",
   "execution_count": 34,
   "metadata": {},
   "outputs": [],
   "source": [
    "function x=gauss_lp(A,b)\n",
    "    [n,m]=size(A);\n",
    "\n",
    "    for k=1:n-1\n",
    "        for i=(k+1):n\n",
    "            f_full_prec=-A(i,k)/A(k,k) %ispis dodat da bi se ilustrovao gubitak informacija zbog zaokruživanja\n",
    "            f=round_to_sig_fig(-A(i,k)/A(k,k),3)\n",
    "            for j=k:n\n",
    "                axf_full_prec=f*A(k,j) %ispis dodat da bi se ilustrovao gubitak informacija zbog zaokruživanja\n",
    "                A(i,j)=round_to_sig_fig(A(i,j)+round_to_sig_fig(f*A(k,j),3),3)\n",
    "            end\n",
    "            bxf_full_prec=f*b(k) %ispis dodat da bi se ilustrovao gubitak informacija zbog zaokruživanja\n",
    "            b(i)=round_to_sig_fig(b(i)+round_to_sig_fig(f*b(k),3),3)\n",
    "        end\n",
    "    end\n",
    "    A\n",
    "    for i=n:-1:1\n",
    "        s=0;\n",
    "        for j=(i+1):n\n",
    "            s = round_to_sig_fig(s + round_to_sig_fig(A(i,j)*x(j),3),3);\n",
    "        end\n",
    "        x(i)=round_to_sig_fig((b(i)-s)/A(i,i),3);\n",
    "    end\n",
    "endfunction\n",
    "\n",
    "function r_val=round_to_sig_fig(val, sig_figs)\n",
    "    temp = mat2str(val, sig_figs);\n",
    "    r_val = eval(temp);\n",
    "endfunction"
   ]
  },
  {
   "cell_type": "code",
   "execution_count": 35,
   "metadata": {},
   "outputs": [
    {
     "name": "stdout",
     "output_type": "stream",
     "text": [
      "A =\n",
      "\n",
      "   0.64100   0.24200\n",
      "   0.32100   0.12200\n",
      "\n",
      "b =\n",
      "\n",
      "   0.88300\n",
      "   0.44400\n",
      "\n"
     ]
    }
   ],
   "source": [
    "A=[0.641,0.242;0.321,0.122]\n",
    "b=[0.883,0.444]'"
   ]
  },
  {
   "cell_type": "code",
   "execution_count": 36,
   "metadata": {},
   "outputs": [
    {
     "name": "stdout",
     "output_type": "stream",
     "text": [
      "f_full_prec = -0.50078\n",
      "f = -0.50100\n",
      "axf_full_prec = -0.32114\n",
      "A =\n",
      "\n",
      "   0.64100   0.24200\n",
      "   0.00000   0.12200\n",
      "\n",
      "axf_full_prec = -0.12124\n",
      "A =\n",
      "\n",
      "   0.64100   0.24200\n",
      "   0.00000   0.00100\n",
      "\n",
      "bxf_full_prec = -0.44238\n",
      "b =\n",
      "\n",
      "   0.8830000\n",
      "   0.0020000\n",
      "\n",
      "A =\n",
      "\n",
      "   0.64100   0.24200\n",
      "   0.00000   0.00100\n",
      "\n",
      "x_low_pr =\n",
      "\n",
      "   0.62200   2.00000\n",
      "\n"
     ]
    }
   ],
   "source": [
    "x_low_pr = gauss_lp(A,b)"
   ]
  },
  {
   "cell_type": "code",
   "execution_count": 37,
   "metadata": {},
   "outputs": [
    {
     "name": "stdout",
     "output_type": "stream",
     "text": [
      "residual_lp =\n",
      "\n",
      "   0\n",
      "   0\n",
      "\n",
      "residual_full_prec =\n",
      "\n",
      "  -0.00029800\n",
      "  -0.00033800\n",
      "\n"
     ]
    }
   ],
   "source": [
    "residual_lp=round_to_sig_fig(round_to_sig_fig(A*x_low_pr', 3)-b,3)\n",
    "residual_full_prec=A*x_low_pr'-b"
   ]
  },
  {
   "cell_type": "markdown",
   "metadata": {},
   "source": [
    "#### Ako radimo u ograničenoj preciznosti od 3 značajne cifre, ostatak je 0 što ukazuje na to da je naše rešenje tačno. Međutim tačno rešenje se već na prvoj značajnoj cifri razlikuje od našeg rešenja. Kao što ćete videti u nastavku."
   ]
  },
  {
   "cell_type": "code",
   "execution_count": 38,
   "metadata": {},
   "outputs": [
    {
     "name": "stdout",
     "output_type": "stream",
     "text": [
      "Pre pivotinga\n",
      "A =\n",
      "\n",
      "   0.64100   0.24200\n",
      "   0.32100   0.12200\n",
      "\n",
      "b =\n",
      "\n",
      "   0.88300\n",
      "   0.44400\n",
      "\n",
      "Posle pivotinga\n",
      "A =\n",
      "\n",
      "   0.64100   0.24200\n",
      "   0.32100   0.12200\n",
      "\n",
      "b =\n",
      "\n",
      "   0.88300\n",
      "   0.44400\n",
      "\n",
      "A =\n",
      "\n",
      "   0.64100   0.24200\n",
      "   0.00000   0.00081\n",
      "\n",
      "b =\n",
      "\n",
      "   0.8830000\n",
      "   0.0018112\n",
      "\n",
      "x_full_prec =\n",
      "\n",
      "   0.53462\n",
      "   2.23269\n",
      "\n"
     ]
    }
   ],
   "source": [
    "x_full_prec = gauss_with_pivoting(A,b)"
   ]
  },
  {
   "cell_type": "code",
   "execution_count": 39,
   "metadata": {},
   "outputs": [
    {
     "name": "stdout",
     "output_type": "stream",
     "text": [
      "ans =\n",
      "\n",
      "  -0.087385\n",
      "   0.232692\n",
      "\n"
     ]
    }
   ],
   "source": [
    "x_full_prec - x_low_pr'"
   ]
  },
  {
   "cell_type": "markdown",
   "metadata": {},
   "source": [
    "#### Prethodni primer pokazuje nepouzdanost ostatka za određivanje greške. Zato ćemo u nastavku predavanja pokazati na koji način možemo da procenimo grešku. Ne moramo znati tačnu grešku ako smo uspeli da je procenimo na malu vrednost tj. nije nam važno koliko je tačno greška mala, već da je mala. Za procenu nam je od velikog značaja kondicioni broj matrice."
   ]
  },
  {
   "cell_type": "markdown",
   "metadata": {},
   "source": [
    "## Kondicioni broj funkcije"
   ]
  },
  {
   "cell_type": "markdown",
   "metadata": {},
   "source": [
    "* #### Kondicioni broj funkcije $f(x)$ meri koliko promene ulaza $x$ utiču na promene izlaza $y$.\n",
    "* #### Veliki kondicioni broj znači da male promene ulaza daju velike na promene izlaza.\n",
    "* #### Tada kažemo da je funkcija loše uslovljena.\n",
    "* #### Ako ste ikad malo pomerili slavinu pod tušem, a voda je od hladne prešla na jako vrelu – to je loše uslovljena funkcija!"
   ]
  },
  {
   "cell_type": "markdown",
   "metadata": {},
   "source": [
    "## Kondicioni broj matrice"
   ]
  },
  {
   "cell_type": "markdown",
   "metadata": {},
   "source": [
    "* #### U kontekstu rešavanja sistema linearnih jednačina kondicioni matrice $A$ meri koliko male promene vektora $b$ ili matrice $A$ utiču na rešenje $x$.\n",
    "* #### Kao što smo već pomenuli male promene mogu biti posledica lošeg unosa podataka ili ograničenog kapaciteta računara za smeštanje brojeva.\n",
    "* #### Za izračunavanje kondicionog broja matrice značajan nam je koncept norme matrice koji ćemo ukratko objasniti u nastavku."
   ]
  },
  {
   "cell_type": "markdown",
   "metadata": {},
   "source": [
    "## Norma vektora i matrice"
   ]
  },
  {
   "cell_type": "markdown",
   "metadata": {},
   "source": [
    "* #### Norma matrice je relana vrednost koju dodeljujemo matrici.\n",
    "* #### Postoje različite norme matrice koje se razlikuju po načinu na koji na osnovu matrice izračunavamo jednu relanu vrednosti.\n",
    "* #### Detalji vezani za normu matrice predmet su linearne algebre, dok ćemo na ovom kursu pokazati samo neke od poznatih načina za određivanje norme matrice."
   ]
  },
  {
   "cell_type": "markdown",
   "metadata": {},
   "source": [
    "#### Maksimum zbira apsolutnih vrednosti vrsta matrice:"
   ]
  },
  {
   "cell_type": "markdown",
   "metadata": {},
   "source": [
    "#### $\\lVert A\\rVert_{\\infty}=\\smash{\\displaystyle\\max_{i}}\\sum_{j=1}^{n} |A_{i,j}|$"
   ]
  },
  {
   "cell_type": "code",
   "execution_count": 40,
   "metadata": {},
   "outputs": [
    {
     "name": "stdout",
     "output_type": "stream",
     "text": [
      "B =\n",
      "\n",
      "   1.0000   2.0000\n",
      "   1.0000  -3.9999\n",
      "\n",
      "ans =  4.9999\n"
     ]
    }
   ],
   "source": [
    "B=[1,2;1,-3.9999]\n",
    "norm(B, Inf)"
   ]
  },
  {
   "cell_type": "markdown",
   "metadata": {},
   "source": [
    "#### Maksimum zbira apsolutnih vrednosti kolona matrice:"
   ]
  },
  {
   "cell_type": "markdown",
   "metadata": {},
   "source": [
    "#### $\\lVert A\\rVert_{1}=\\smash{\\displaystyle\\max_{j}}\\sum_{i=1}^{n} |A_{i,j}|$"
   ]
  },
  {
   "cell_type": "code",
   "execution_count": 41,
   "metadata": {},
   "outputs": [
    {
     "name": "stdout",
     "output_type": "stream",
     "text": [
      "B =\n",
      "\n",
      "   1.0000   2.0000\n",
      "   1.0000  -3.9999\n",
      "\n",
      "ans =  5.9999\n"
     ]
    }
   ],
   "source": [
    "B=[1,2;1,-3.9999]\n",
    "norm(B,1)"
   ]
  },
  {
   "cell_type": "markdown",
   "metadata": {},
   "source": [
    "#### Sada kada smo objasnili normu matrice, daćemo definiciju kondicionog broja matrice:"
   ]
  },
  {
   "cell_type": "markdown",
   "metadata": {},
   "source": [
    "#### $cond(A)=\\lVert A\\rVert\\lVert A^-1\\rVert$"
   ]
  },
  {
   "cell_type": "code",
   "execution_count": 42,
   "metadata": {},
   "outputs": [
    {
     "name": "stdout",
     "output_type": "stream",
     "text": [
      "ans =  3.3698\n"
     ]
    }
   ],
   "source": [
    "cond(B)"
   ]
  },
  {
   "cell_type": "markdown",
   "metadata": {},
   "source": [
    "## Kondicioni broj matrice i Gausova eliminacija"
   ]
  },
  {
   "cell_type": "markdown",
   "metadata": {},
   "source": [
    "#### Kondicioni broj matrice i vektor $b$"
   ]
  },
  {
   "cell_type": "markdown",
   "metadata": {},
   "source": [
    "* #### Ako u sistemu $Ax=b$, $b$ nije tačno (zbog grešaka zaokruživanja npr.), koliko će se x razlikovati od tačnog rešenja?\n",
    "* #### Ako umesto $b$ imamo $b+\\Delta b$ onda važi sledeća nejednakost:        "
   ]
  },
  {
   "cell_type": "markdown",
   "metadata": {},
   "source": [
    "### <center>$\\frac{\\lVert\\Delta x\\rVert}{\\lVert x\\rVert}<=cond(A)\\frac{\\lVert\\Delta b\\rVert}{\\lVert b\\rVert}$</center>"
   ]
  },
  {
   "cell_type": "markdown",
   "metadata": {},
   "source": [
    "* #### Dakle, relativna (procentualna) greška rešenja ograničena je ne samo sa relativnom greškom vektora $b$ već i sa kondicionim brojem matrice $A$.\n",
    "* #### Kondicioni broj se na neki način može smatrati \"pojačivačem\" greške vektora.\n",
    "* #### Ako kondicioni broj matrice $A$ veliki postoji mogućnost da će male promene vektora $b$ rezultovati velikim promenama rešenja $x$, kao što ćete videti na sledećem primeru.\n",
    "* #### Termin \"postoji mogućnost\" upotrebljen je namerno jer je relativna greška rešenja samo ograničena pomoću prethone formule (upotrebljen je znak nejednakosti, a ne znak jednakosti)."
   ]
  },
  {
   "cell_type": "markdown",
   "metadata": {},
   "source": [
    "### Kondicioni broj matrice i matrica $A$"
   ]
  },
  {
   "cell_type": "markdown",
   "metadata": {},
   "source": [
    "* #### Ako umesto $A$ imamo neku matricu $E$ koja se razlikuje od $A$ (zbog grešaka zaokruživanja npr.) onda važi sledeća nejednakost:"
   ]
  },
  {
   "cell_type": "markdown",
   "metadata": {},
   "source": [
    "### <center>$\\frac{\\lVert\\Delta x\\rVert}{\\lVert x\\rVert}<=cond(A)\\frac{\\lVert E\\rVert}{\\lVert A\\rVert}$</center>"
   ]
  },
  {
   "cell_type": "markdown",
   "metadata": {},
   "source": [
    "### Primer rešavanja loše uslovljenog sistema pomoću Gausove eliminacije"
   ]
  },
  {
   "cell_type": "markdown",
   "metadata": {},
   "source": [
    "### $$-x_1+2x_2=3\\\\-x_1+2.1x_2=3$$"
   ]
  },
  {
   "cell_type": "markdown",
   "metadata": {},
   "source": [
    "### Grafik loše uslovljenog sistema. Da li primećujete nešto specifično na njemu?"
   ]
  },
  {
   "cell_type": "code",
   "execution_count": 71,
   "metadata": {},
   "outputs": [
    {
     "data": {
      "image/png": "[encoded data removed]",
      "text/plain": [
       "<IPython.core.display.Image object>"
      ]
     },
     "metadata": {},
     "output_type": "display_data"
    }
   ],
   "source": [
    "%plot inline -w 600 -h 600\n",
    "x1=linspace(-10,5,100);\n",
    "\n",
    "x2=(3+x1)./2;\n",
    "plot(x1,x2,\"linewidth\",10,\"color\", [1 0 0])\n",
    "hold on;\n",
    "x2=(3+x1)./2.1;\n",
    "plot(x1,x2,\"linewidth\",10,\"color\", [0 0 1])\n",
    "\n",
    "xlabel(\"X1\");\n",
    "ylabel(\"X2\");\n",
    "axis([-12,10,-4,5])\n",
    "hold off;"
   ]
  },
  {
   "cell_type": "code",
   "execution_count": 72,
   "metadata": {},
   "outputs": [
    {
     "name": "stdout",
     "output_type": "stream",
     "text": [
      "A =\n",
      "\n",
      "   2.0000  -1.0000\n",
      "   2.1000  -1.0000\n",
      "\n"
     ]
    }
   ],
   "source": [
    "A=[2,-1;2.1,-1]"
   ]
  },
  {
   "cell_type": "code",
   "execution_count": 73,
   "metadata": {},
   "outputs": [
    {
     "name": "stdout",
     "output_type": "stream",
     "text": [
      "ans =  104.09\n",
      "ans =  2.0174\n"
     ]
    }
   ],
   "source": [
    "cond(A)\n",
    "log10(cond(A))"
   ]
  },
  {
   "cell_type": "code",
   "execution_count": 74,
   "metadata": {},
   "outputs": [
    {
     "name": "stdout",
     "output_type": "stream",
     "text": [
      "Pre pivotinga\n",
      "A =\n",
      "\n",
      "   2.0000  -1.0000\n",
      "   2.1000  -1.0000\n",
      "\n",
      "b =\n",
      "\n",
      "   3   3\n",
      "\n",
      "Posle pivotinga\n",
      "A =\n",
      "\n",
      "   2.1000  -1.0000\n",
      "   2.0000  -1.0000\n",
      "\n",
      "b =\n",
      "\n",
      "   3   3\n",
      "\n",
      "A =\n",
      "\n",
      "   2.10000  -1.00000\n",
      "   0.00000  -0.04762\n",
      "\n",
      "b =\n",
      "\n",
      "   3.00000   0.14286\n",
      "\n"
     ]
    }
   ],
   "source": [
    "A=[2,-1;2.1,-1];\n",
    "b1=[3,3];\n",
    "\n",
    "x1=gauss_with_pivoting(A,b1);"
   ]
  },
  {
   "cell_type": "markdown",
   "metadata": {},
   "source": [
    "#### Menjamo vrednost druge komponente vektora $b$"
   ]
  },
  {
   "cell_type": "code",
   "execution_count": 76,
   "metadata": {},
   "outputs": [
    {
     "name": "stdout",
     "output_type": "stream",
     "text": [
      "Pre pivotinga\n",
      "A =\n",
      "\n",
      "   2.0000  -1.0000\n",
      "   2.1000  -1.0000\n",
      "\n",
      "b =\n",
      "\n",
      "   3.0000   3.1000\n",
      "\n",
      "Posle pivotinga\n",
      "A =\n",
      "\n",
      "   2.1000  -1.0000\n",
      "   2.0000  -1.0000\n",
      "\n",
      "b =\n",
      "\n",
      "   3.1000   3.0000\n",
      "\n",
      "A =\n",
      "\n",
      "   2.10000  -1.00000\n",
      "   0.00000  -0.04762\n",
      "\n",
      "b =\n",
      "\n",
      "   3.100000   0.047619\n",
      "\n",
      "x2 =\n",
      "\n",
      "   1.00000\n",
      "  -1.00000\n",
      "\n"
     ]
    }
   ],
   "source": [
    "A=[2,-1;2.1,-1];\n",
    "b2=[3,3.1];\n",
    "\n",
    "x2=gauss_with_pivoting(A,b2)"
   ]
  },
  {
   "cell_type": "code",
   "execution_count": 206,
   "metadata": {},
   "outputs": [
    {
     "name": "stdout",
     "output_type": "stream",
     "text": [
      "A =\n",
      "\n",
      "   2.0000  -1.0000\n",
      "   2.1000  -1.0000\n",
      "\n",
      "b1 =\n",
      "\n",
      "   3   3\n",
      "\n",
      "b2 =\n",
      "\n",
      "   3.0000   3.1000\n",
      "\n",
      "x1 =\n",
      "\n",
      "  -2.1147e-15\n",
      "  -3.0000e+00\n",
      "\n",
      "x2 =\n",
      "\n",
      "   1.00000\n",
      "  -1.00000\n",
      "\n"
     ]
    }
   ],
   "source": [
    "A\n",
    "b1\n",
    "b2\n",
    "x1\n",
    "x2"
   ]
  },
  {
   "cell_type": "markdown",
   "metadata": {},
   "source": [
    "#### Izračunavamo gornju granicu relativne greške rešenja"
   ]
  },
  {
   "cell_type": "code",
   "execution_count": 77,
   "metadata": {},
   "outputs": [
    {
     "name": "stdout",
     "output_type": "stream",
     "text": [
      "ans =  2.4534\n"
     ]
    }
   ],
   "source": [
    "cond(A)*norm(b1-b2)/norm(b1)"
   ]
  },
  {
   "cell_type": "markdown",
   "metadata": {},
   "source": [
    "#### Pošto znamo rešenje, izračunavamo relativnu grešku rešenja"
   ]
  },
  {
   "cell_type": "code",
   "execution_count": 78,
   "metadata": {},
   "outputs": [
    {
     "name": "stdout",
     "output_type": "stream",
     "text": [
      "ans =  0.74536\n"
     ]
    }
   ],
   "source": [
    "norm(x1-x2)/norm(x1)"
   ]
  },
  {
   "cell_type": "markdown",
   "metadata": {},
   "source": [
    "#### Relativna greska je preko ~75%, ali je opet drastično manja nego gornje ograničenje od ~245%."
   ]
  },
  {
   "cell_type": "markdown",
   "metadata": {},
   "source": [
    "## Red veličine kondicionog broja i relativna greška"
   ]
  },
  {
   "cell_type": "markdown",
   "metadata": {},
   "source": [
    "#### Postoji tvrđenje (koje nećemo dokazivati) pomoću koga možemo da povežemo relativnu grešku i red veličine kondicionog broja:\n",
    "#### Ako imamo dve vrednosti $x$ i $\\hat{x}$, tada se one poklapaju u bar $m-1$ znаčajnih cifara ako važi:\n",
    "### <center>$\\frac{\\lVert x-\\hat{x}\\rVert}{\\lVert x\\rVert}\\le5*10^{-m}$</center>"
   ]
  },
  {
   "cell_type": "markdown",
   "metadata": {},
   "source": [
    "#### To znači da bi rešenje dobijeno pomoću GE imalo bar jednu značajnu cifru od tačnog rešenja, relativna greška mora da bude manja od $5*10^{-2}=0.05$"
   ]
  },
  {
   "cell_type": "code",
   "execution_count": 79,
   "metadata": {},
   "outputs": [
    {
     "name": "stdout",
     "output_type": "stream",
     "text": [
      "ans =  104.09\n",
      "ans =  2.0174\n"
     ]
    }
   ],
   "source": [
    "cond(A)\n",
    "log10(cond(A))"
   ]
  },
  {
   "cell_type": "markdown",
   "metadata": {},
   "source": [
    "#### Za naš primer vidimo da je kondicioni broj reda veličine takvog da odgovara približno broju 10 na stepen 2, što znači da naše rešenje potencijalno neće da se pokalapa sa tačnim rešenjem ni u jednoj cifri.\n",
    "#### Dakle, možemo da vidimo da nam vrednost $log10(cond(A))$ može poslužiti kao mera broja cifara tačnog rešenja koje možemo da izgubimo ako imamo greške u podacima prilikom rešavanja nekog sistema."
   ]
  },
  {
   "cell_type": "code",
   "execution_count": 80,
   "metadata": {},
   "outputs": [
    {
     "name": "stdout",
     "output_type": "stream",
     "text": [
      "ans = 0\n"
     ]
    }
   ],
   "source": [
    "m=1; %provervavamo da li imamo bar jednu istu cifru sta tačnim rešenjem\n",
    "(norm(x1-x2)/norm(x1))<5*10^-m"
   ]
  },
  {
   "cell_type": "markdown",
   "metadata": {},
   "source": [
    "#### Pogledaćmo sada jedan primer dobro uslovljenog sistema, tj. sistema kod koga matrica $A$ ima malu vrednosti kodicionog broja."
   ]
  },
  {
   "cell_type": "markdown",
   "metadata": {},
   "source": [
    "### $$2x_1-x_2=3\\\\-2x_1-x_2=3$$"
   ]
  },
  {
   "cell_type": "code",
   "execution_count": 81,
   "metadata": {},
   "outputs": [
    {
     "data": {
      "image/png": "[encoded data removed]",
      "text/plain": [
       "<IPython.core.display.Image object>"
      ]
     },
     "metadata": {},
     "output_type": "display_data"
    }
   ],
   "source": [
    "%plot inline -w 600 -h 600\n",
    "x1=linspace(-10,5,100);\n",
    "\n",
    "x2=-(3-2*x1);\n",
    "plot(x1,x2,\"linewidth\",10,\"color\", [1 0 0])\n",
    "hold on;\n",
    "x2=-(3+2*x1);\n",
    "plot(x1,x2,\"linewidth\",10,\"color\", [0 0 1])\n",
    "\n",
    "xlabel(\"X1\");\n",
    "ylabel(\"X2\");\n",
    "axis([-12,10,-25,20])\n",
    "hold off;"
   ]
  },
  {
   "cell_type": "code",
   "execution_count": 82,
   "metadata": {},
   "outputs": [
    {
     "name": "stdout",
     "output_type": "stream",
     "text": [
      "A =\n",
      "\n",
      "   2  -1\n",
      "  -2  -1\n",
      "\n",
      "ans =  2.0000\n",
      "ans =  0.30103\n"
     ]
    }
   ],
   "source": [
    "A=[2,-1;-2,-1]\n",
    "cond(A)\n",
    "log10(cond(A))"
   ]
  },
  {
   "cell_type": "code",
   "execution_count": 83,
   "metadata": {},
   "outputs": [
    {
     "name": "stdout",
     "output_type": "stream",
     "text": [
      "Pre pivotinga\n",
      "A =\n",
      "\n",
      "   2  -1\n",
      "  -2  -1\n",
      "\n",
      "b =\n",
      "\n",
      "   3   3\n",
      "\n",
      "Posle pivotinga\n",
      "A =\n",
      "\n",
      "   2  -1\n",
      "  -2  -1\n",
      "\n",
      "b =\n",
      "\n",
      "   3   3\n",
      "\n",
      "A =\n",
      "\n",
      "   2  -1\n",
      "   0  -2\n",
      "\n",
      "b =\n",
      "\n",
      "   3   6\n",
      "\n",
      "Pre pivotinga\n",
      "A =\n",
      "\n",
      "   2  -1\n",
      "  -2  -1\n",
      "\n",
      "b =\n",
      "\n",
      "   3.0000   3.1000\n",
      "\n",
      "Posle pivotinga\n",
      "A =\n",
      "\n",
      "   2  -1\n",
      "  -2  -1\n",
      "\n",
      "b =\n",
      "\n",
      "   3.0000   3.1000\n",
      "\n",
      "A =\n",
      "\n",
      "   2  -1\n",
      "   0  -2\n",
      "\n",
      "b =\n",
      "\n",
      "   3.0000   6.1000\n",
      "\n"
     ]
    }
   ],
   "source": [
    "b1=[3,3];\n",
    "b2=[3,3.1];\n",
    "x1=gauss_with_pivoting(A,b1);\n",
    "x2=gauss_with_pivoting(A,b2);"
   ]
  },
  {
   "cell_type": "code",
   "execution_count": 84,
   "metadata": {},
   "outputs": [
    {
     "name": "stdout",
     "output_type": "stream",
     "text": [
      "A =\n",
      "\n",
      "   2  -1\n",
      "  -2  -1\n",
      "\n",
      "b1 =\n",
      "\n",
      "   3   3\n",
      "\n",
      "b2 =\n",
      "\n",
      "   3.0000   3.1000\n",
      "\n",
      "x1 =\n",
      "\n",
      "   0\n",
      "  -3\n",
      "\n",
      "x2 =\n",
      "\n",
      "  -0.025000\n",
      "  -3.050000\n",
      "\n"
     ]
    }
   ],
   "source": [
    "A\n",
    "b1\n",
    "b2\n",
    "x1\n",
    "x2"
   ]
  },
  {
   "cell_type": "code",
   "execution_count": 85,
   "metadata": {},
   "outputs": [
    {
     "name": "stdout",
     "output_type": "stream",
     "text": [
      "ans =  0.047140\n"
     ]
    }
   ],
   "source": [
    "cond(A)*norm(b1-b2)/norm(b1)"
   ]
  },
  {
   "cell_type": "code",
   "execution_count": 86,
   "metadata": {},
   "outputs": [
    {
     "name": "stdout",
     "output_type": "stream",
     "text": [
      "ans =  0.018634\n"
     ]
    }
   ],
   "source": [
    "norm(x1-x2)/norm(x1)"
   ]
  },
  {
   "cell_type": "code",
   "execution_count": 87,
   "metadata": {},
   "outputs": [
    {
     "name": "stdout",
     "output_type": "stream",
     "text": [
      "ans =  0.30103\n"
     ]
    }
   ],
   "source": [
    "log10(cond(A))"
   ]
  },
  {
   "cell_type": "code",
   "execution_count": 88,
   "metadata": {},
   "outputs": [
    {
     "name": "stdout",
     "output_type": "stream",
     "text": [
      "ans = 1\n"
     ]
    }
   ],
   "source": [
    "m=2;\n",
    "(norm(x1-x2)/norm(x1))<5*10^-m"
   ]
  },
  {
   "cell_type": "markdown",
   "metadata": {},
   "source": [
    "#### Ponekad je velika vrednost kondiciong broja rezultat veoma različitih opsega u kojima se nalaze vrednosti matrice sistema. U takvim slučajevima skaliranje vrednosti na isti opseg može da smanji kondicioni broj.\n"
   ]
  },
  {
   "cell_type": "code",
   "execution_count": 89,
   "metadata": {},
   "outputs": [
    {
     "name": "stdout",
     "output_type": "stream",
     "text": [
      "A =\n",
      "\n",
      "       0.60000     135.40000\n",
      "      22.00000  -17000.00000\n",
      "\n",
      "ans =  21930.58677\n"
     ]
    }
   ],
   "source": [
    "A=[0.6,135.4;22.0,-17000]\n",
    "cond(A)"
   ]
  },
  {
   "cell_type": "code",
   "execution_count": 90,
   "metadata": {},
   "outputs": [
    {
     "name": "stdout",
     "output_type": "stream",
     "text": [
      "A1 =\n",
      "\n",
      "   0.0044313   1.0000000\n",
      "   0.0012941  -1.0000000\n",
      "\n",
      "ans =  349.32\n"
     ]
    }
   ],
   "source": [
    "A1=[0.6/135.4,135.4/135.4;22.0/17000,-17000/17000]\n",
    "cond(A1)"
   ]
  }
 ],
 "metadata": {
  "kernelspec": {
   "display_name": "Octave",
   "language": "octave",
   "name": "octave"
  },
  "language_info": {
   "file_extension": ".m",
   "help_links": [
    {
     "text": "GNU Octave",
     "url": "https://www.gnu.org/software/octave/support.html"
    },
    {
     "text": "Octave Kernel",
     "url": "https://github.com/Calysto/octave_kernel"
    },
    {
     "text": "MetaKernel Magics",
     "url": "https://metakernel.readthedocs.io/en/latest/source/README.html"
    }
   ],
   "mimetype": "text/x-octave",
   "name": "octave",
   "version": "5.2.0"
  }
 },
 "nbformat": 4,
 "nbformat_minor": 4
}
