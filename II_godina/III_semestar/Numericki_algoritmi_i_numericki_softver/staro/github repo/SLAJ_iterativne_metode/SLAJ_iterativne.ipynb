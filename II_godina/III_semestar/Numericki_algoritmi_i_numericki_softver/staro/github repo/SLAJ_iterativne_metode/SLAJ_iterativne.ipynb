{
 "cells": [
  {
   "cell_type": "code",
   "execution_count": 1,
   "metadata": {
    "jupyter": {
     "source_hidden": true
    }
   },
   "outputs": [],
   "source": [
    "%plot inline -w 800 -h 800\n",
    "function draw_system(A,b)\n",
    "    sol=A\\b;\n",
    "    x1=linspace(sol(1)-10,sol(1)+10,100);\n",
    "\n",
    "    x2=(b(1)-A(1,1)*x1)/A(1,2);\n",
    "    plot(x1,x2,\"linewidth\",10,\"color\", [1 0 0])\n",
    "    hold on;\n",
    "\n",
    "    x2=(b(2)-A(2,1)*x1)/A(2,2);\n",
    "    plot(x1,x2,\"linewidth\",10,\"color\", [0 0 1])\n",
    "\n",
    "    xlabel(\"X1\");\n",
    "    ylabel(\"X2\");\n",
    "    set(gca, \"linewidth\", 4, \"fontsize\", 12)\n",
    "    set(gca, 'XTick', floor(sol(1))-10:floor(sol(1))+10)\n",
    "    set(gca, 'YTick', floor(sol(2))-20:floor(sol(2))+20)\n",
    "endfunction\n",
    "\n",
    "function draw_point(p,clr,txt)\n",
    "    plot(p(1),p(2),'og',\"linewidth\",10,\"color\", clr)\n",
    "    h=text(p(1),p(2)+1,txt);\n",
    "    set(h, 'fontsize', 16);\n",
    "endfunction\n",
    "\n",
    "function draw_dotted_lines_gz(x0,x1)\n",
    "    limits = axis ();\n",
    "    line([limits(1) limits(2)], [x0(2) x0(2)], \"linestyle\", \"--\", \"color\", \"magenta\")\n",
    "    line([x1(1) x1(1)], [limits(3) limits(4)], \"linestyle\", \"--\", \"color\", \"black\")\n",
    "    %line([-10 10], [x0(2) x0(2)], \"linestyle\", \"--\", \"color\", \"magenta\")\n",
    "    %line([x1(1) x1(1)], [-20 30], \"linestyle\", \"--\", \"color\", \"black\")\n",
    "endfunction\n",
    "\n",
    "function draw_dotted_lines(x0,x1)\n",
    "    limits = axis ();\n",
    "    line([limits(1) limits(2)], [x0(2) x0(2)], \"linestyle\", \"--\", \"color\", \"magenta\")\n",
    "    line([x1(1) x1(1)], [limits(3) limits(4)], \"linestyle\", \"--\", \"color\", \"black\")\n",
    "    line([limits(1) limits(2)], [x1(2) x1(2)], \"linestyle\", \"--\", \"color\", \"black\")\n",
    "    line([x0(1) x0(1)], [limits(3) limits(4)], \"linestyle\", \"--\", \"color\", \"magenta\")\n",
    "endfunction"
   ]
  },
  {
   "cell_type": "markdown",
   "metadata": {},
   "source": [
    "# Iterativne metode za rešavanje sistema jednačina"
   ]
  },
  {
   "cell_type": "markdown",
   "metadata": {},
   "source": [
    "### Na prethodnom predavanju radili smo Gausovu eliminaciju koja je direktan metod.\n",
    "### Direktni metodi rezultuju samo jednim rešenjem, odnosno nemaju trenutno i prethodno rešenje.\n",
    "### Za razliku od direktnih, iterativne metode prozivode niz rešenja.\n",
    "### Krećemo od nekog početnog rešenja $x_0$ i pomoću iterativne formule proizvodimo niz:\n",
    "### $$x_0,x_1,x_2,\\dots,x_k,x_{k+1},\\dots$$"
   ]
  },
  {
   "cell_type": "markdown",
   "metadata": {},
   "source": [
    "### Iterativna formula je način pomoću koga od trenutnog rešenja $x_k$ dobijamo sledeće rešenje $x_{k+1}$.\n",
    "### Iterativna formula u suštini čini iterativni metod, odnosno po tome se iteretivne metode razlikuju međusobno."
   ]
  },
  {
   "cell_type": "markdown",
   "metadata": {},
   "source": [
    "### Iteratvini metod možemo zaustaviti na više načina. Sledeća dva načina se najviše koriste:\n",
    "* #### Posle unapred zadatog broja iteracija\n",
    "* #### Kada se treutno i prethodno rešenje razlikuju veoma malo, tipično ispod nekog unapred zadatog praga $tačnost$:"
   ]
  },
  {
   "cell_type": "markdown",
   "metadata": {},
   "source": [
    "### $$\\lvert x_{k+1}-x_k \\rvert<\\text{tačnost}$$"
   ]
  },
  {
   "cell_type": "markdown",
   "metadata": {},
   "source": [
    "# Jakobijev metod"
   ]
  },
  {
   "cell_type": "markdown",
   "metadata": {},
   "source": [
    "### Iterativnu formulu za Jakovijev metod objasnićemo na primeru sistema od dve jednačine sa dve nepoznate."
   ]
  },
  {
   "cell_type": "markdown",
   "metadata": {},
   "source": [
    "### $$2x_1-x_2=3\\\\-2x_1-x_2=3$$"
   ]
  },
  {
   "cell_type": "code",
   "execution_count": 24,
   "metadata": {},
   "outputs": [],
   "source": [
    "A=[2,1;1,2];\n",
    "b=[6,6]';"
   ]
  },
  {
   "cell_type": "code",
   "execution_count": 25,
   "metadata": {},
   "outputs": [
    {
     "data": {
      "image/png": "[encoded data removed]",
      "text/plain": [
       "<IPython.core.display.Image object>"
      ]
     },
     "metadata": {},
     "output_type": "display_data"
    }
   ],
   "source": [
    "draw_system(A,b)"
   ]
  },
  {
   "cell_type": "code",
   "execution_count": 4,
   "metadata": {},
   "outputs": [
    {
     "name": "stdout",
     "output_type": "stream",
     "text": [
      "ans =\n",
      "\n",
      "   2.0000\n",
      "   2.0000\n",
      "\n"
     ]
    }
   ],
   "source": [
    "A\\b"
   ]
  },
  {
   "cell_type": "markdown",
   "metadata": {},
   "source": [
    "### Cilj nam je da od trenutnog rešenja, tj. neke dve vrednosti za $x^k_1$ i $x^k_2$ proizvedemo sledeće rešenje, tj. dve nove vrednosti za $x^{k+1}_1$ i $x^{k+1}_2$."
   ]
  },
  {
   "cell_type": "markdown",
   "metadata": {},
   "source": [
    "### Krećemo od zadatog sistema:"
   ]
  },
  {
   "cell_type": "markdown",
   "metadata": {},
   "source": [
    "### $$2x_1+x_2=6\\\\x_1+2x_2=6$$"
   ]
  },
  {
   "cell_type": "markdown",
   "metadata": {},
   "source": [
    "### Izražavamo iz svake jednačine nepoznate, tako da pazimo na redosled.\n",
    "### Iz prve jedančine izražavamo prvu nepoznatu $x_1$, iz druge jednačine drugu nepoznatu $x_2$ i tako redom.\n",
    "### Redosled jednačina je veoma važan jer utiče na konvergenciju metoda.\n",
    "### Ne postoji pravilo po kome se bira redosled, već je to predmet eksperimentisanja (što je dosta često u oblastima kao što su Numerika ili Veštačka inteligencija)."
   ]
  },
  {
   "cell_type": "markdown",
   "metadata": {},
   "source": [
    "### $$x_1=\\frac{(6-x_2)}{2}\\\\x_2=\\frac{(6-x_1)}{2}$$"
   ]
  },
  {
   "cell_type": "markdown",
   "metadata": {},
   "source": [
    "### Zadajemo neko početno rešenje, na slučajan način:"
   ]
  },
  {
   "cell_type": "markdown",
   "metadata": {},
   "source": [
    "### $$x^0=\\begin{bmatrix}x^0_{1}\\\\x^0_{2}\\end{bmatrix}=\\begin{bmatrix}5\\\\10\\end{bmatrix}$$"
   ]
  },
  {
   "cell_type": "markdown",
   "metadata": {},
   "source": [
    "### Koristimo nepoznate koje smo izrazili kao iterativnu formulu.\n",
    "### Prva jednačina iz koje smo izrazili $x_1$ službi nam da od $x^0_1$ dobijemo novo, tj. sledeće $x^1_1$, a druga za $x_2$ i tako redom."
   ]
  },
  {
   "cell_type": "markdown",
   "metadata": {},
   "source": [
    "### $$x^1_1=\\frac{(6-x^0_2)}{2}=x^1_1=\\frac{(6-10)}{2}=-2\\\\x^1_2=\\frac{(6-x^0_1)}{2}=\\frac{(6-5)}{2}=\\frac{1}{2}$$"
   ]
  },
  {
   "cell_type": "markdown",
   "metadata": {},
   "source": [
    "### Implementiramo zamenu početnog rešenja u iterativnu formulu Jakobijevog metoda."
   ]
  },
  {
   "cell_type": "code",
   "execution_count": 27,
   "metadata": {},
   "outputs": [],
   "source": [
    "format short"
   ]
  },
  {
   "cell_type": "code",
   "execution_count": 28,
   "metadata": {},
   "outputs": [
    {
     "name": "stdout",
     "output_type": "stream",
     "text": [
      "x0 =\n",
      "\n",
      "    5   10\n",
      "\n",
      "x1 =\n",
      "\n",
      "  -2.00000   0.50000\n",
      "\n"
     ]
    }
   ],
   "source": [
    "x0=[5,10]\n",
    "x1=zeros(2,1);\n",
    "x1(1) = (6 - x0(2))/2;\n",
    "x1(2) = (6 - x0(1))/2;\n",
    "x1=x1'"
   ]
  },
  {
   "cell_type": "code",
   "execution_count": 29,
   "metadata": {},
   "outputs": [
    {
     "name": "stdout",
     "output_type": "stream",
     "text": [
      "x0 =\n",
      "\n",
      "    5   10\n",
      "\n",
      "x1 =\n",
      "\n",
      "  -2.00000   0.50000\n",
      "\n"
     ]
    },
    {
     "data": {
      "image/png": "[encoded data removed]",
      "text/plain": [
       "<IPython.core.display.Image object>"
      ]
     },
     "metadata": {},
     "output_type": "display_data"
    }
   ],
   "source": [
    "x0\n",
    "x1\n",
    "draw_system(A,b)\n",
    "draw_point(x0,[0, 1, 0],'x0')\n",
    "draw_point(x1,[1, 1, 0],'x1')\n",
    "draw_dotted_lines(x0,x1)"
   ]
  },
  {
   "cell_type": "markdown",
   "metadata": {},
   "source": [
    "### Nakon što smo od $x^0$ odbili sada ubacujemo $x^1$ u iterativnu formulu da dobijemo $x^2$."
   ]
  },
  {
   "cell_type": "code",
   "execution_count": 30,
   "metadata": {},
   "outputs": [
    {
     "name": "stdout",
     "output_type": "stream",
     "text": [
      "x0 =\n",
      "\n",
      "  -2.00000   0.50000\n",
      "\n",
      "x1 =\n",
      "\n",
      "   2.7500   4.0000\n",
      "\n"
     ]
    },
    {
     "data": {
      "image/png": "[encoded data removed]",
      "text/plain": [
       "<IPython.core.display.Image object>"
      ]
     },
     "metadata": {},
     "output_type": "display_data"
    }
   ],
   "source": [
    "x0=x1\n",
    "x1=zeros(2,1);\n",
    "x1(1) = (6 - x0(2))/2;\n",
    "x1(2) = (6 - x0(1))/2;\n",
    "x1=x1'\n",
    "draw_system(A,b)\n",
    "draw_point(x0,[0, 1, 0],'x0')\n",
    "draw_point(x1,[1, 1, 0],'x1')\n",
    "draw_dotted_lines(x0,x1)"
   ]
  },
  {
   "cell_type": "markdown",
   "metadata": {},
   "source": [
    "### Uopštavamo kod da bi mogli da ga primenimo na bilo koji sistem koji je 2x2."
   ]
  },
  {
   "cell_type": "code",
   "execution_count": 31,
   "metadata": {},
   "outputs": [
    {
     "name": "stdout",
     "output_type": "stream",
     "text": [
      "A =\n",
      "\n",
      "   2   1\n",
      "   1   2\n",
      "\n",
      "b =\n",
      "\n",
      "   6\n",
      "   6\n",
      "\n"
     ]
    }
   ],
   "source": [
    "A\n",
    "b"
   ]
  },
  {
   "cell_type": "code",
   "execution_count": 32,
   "metadata": {},
   "outputs": [
    {
     "name": "stdout",
     "output_type": "stream",
     "text": [
      "x1 =\n",
      "\n",
      "  -2.00000\n",
      "   0.50000\n",
      "\n"
     ]
    }
   ],
   "source": [
    "%umesto konstanti, kao u kodu ranije, sada koristimo elemente matrice A i vektora b, da bi kod mogao da se primeni na bilo koji sistem 2x2.\n",
    "x0=[5,10];\n",
    "x1=zeros(2,1);\n",
    "x1(1) = (b(1) - A(1,2)*x0(2))/A(1,1);\n",
    "x1(2) = (b(2) - A(2,1)*x0(1))/A(2,2);\n",
    "x1"
   ]
  },
  {
   "cell_type": "code",
   "execution_count": 33,
   "metadata": {},
   "outputs": [
    {
     "data": {
      "image/png": "[encoded data removed]",
      "text/plain": [
       "<IPython.core.display.Image object>"
      ]
     },
     "metadata": {},
     "output_type": "display_data"
    }
   ],
   "source": [
    "%crtamo resenje sa upostenim kodom\n",
    "draw_system(A,b)\n",
    "draw_point(x0,[0, 1, 0],'x0')\n",
    "draw_point(x1,[1, 1, 0],'x1')\n",
    "draw_dotted_lines(x0,x1)"
   ]
  },
  {
   "cell_type": "markdown",
   "metadata": {},
   "source": [
    "### Dodajemo *for* petlju koja izvršava iteracije. Sada možemo da proizvedemo proizvoljan broj rešenja."
   ]
  },
  {
   "cell_type": "code",
   "execution_count": 34,
   "metadata": {},
   "outputs": [
    {
     "name": "stdout",
     "output_type": "stream",
     "text": [
      "x1 =\n",
      "\n",
      "   1.4375\n",
      "   1.7500\n",
      "\n",
      "ans =\n",
      "\n",
      "   2.0000\n",
      "   2.0000\n",
      "\n"
     ]
    },
    {
     "data": {
      "image/png": "[encoded data removed]",
      "text/plain": [
       "<IPython.core.display.Image object>"
      ]
     },
     "metadata": {},
     "output_type": "display_data"
    }
   ],
   "source": [
    "x0=[10,20];\n",
    "draw_system(A,b);\n",
    "draw_point(x0,[0, 1, 0],'x0');\n",
    "x1=zeros(2,1);\n",
    "maxIter = 5;\n",
    "for i=1:maxIter\n",
    "    x1(1) = (b(1) - A(1,2)*x0(2))/A(1,1);\n",
    "    x1(2) = (b(2) - A(2,1)*x0(1))/A(2,2);\n",
    "    draw_point(x1,[1, 1, 0],strcat('x', num2str(i)))\n",
    "    %draw_dotted_lines(x0,x1)\n",
    "    x0=x1;\n",
    "end\n",
    "x1\n",
    "A\\b"
   ]
  },
  {
   "cell_type": "markdown",
   "metadata": {},
   "source": [
    "#### Pogledaćemo sada animaciju geometrijske intepretacije Jakovijevog metod sa slajdova."
   ]
  },
  {
   "cell_type": "markdown",
   "metadata": {},
   "source": [
    "### Kako bi lakše napisali upošten kod za Jakobijev metod, primenićemo prvo metod na sistem sa tri jednačine i tri nepoznate."
   ]
  },
  {
   "cell_type": "markdown",
   "metadata": {},
   "source": [
    "### $$4x_1-x_2-x_3=3\\\\-2x_1+6x_2+x_3=9\\\\-x_1+x_2+7x_3=-6$$"
   ]
  },
  {
   "cell_type": "markdown",
   "metadata": {},
   "source": [
    "### Izražavamo promenljive:"
   ]
  },
  {
   "cell_type": "markdown",
   "metadata": {},
   "source": [
    "### $$x_1=(3+x_2+x_3)/4\\\\x_2=(9+2x_1-x_3)/6\\\\x_3=(-6+x_1-x_2)/7$$"
   ]
  },
  {
   "cell_type": "markdown",
   "metadata": {},
   "source": [
    "### Zadajemo početno rešenje:"
   ]
  },
  {
   "cell_type": "markdown",
   "metadata": {},
   "source": [
    "### $$x^0=\\begin{bmatrix}x^0_{1}\\\\x^0_{2}\\\\x^0_{3}\\end{bmatrix}=\\begin{bmatrix}1\\\\2\\\\3\\end{bmatrix}$$"
   ]
  },
  {
   "cell_type": "markdown",
   "metadata": {},
   "source": [
    "### Koristimo iterativnu formulu da proizvedemo sledeće rešenje:"
   ]
  },
  {
   "cell_type": "markdown",
   "metadata": {},
   "source": [
    "### $$x^1_1=(3+x^0_2+x^0_3)/4=(3+2+3)/4=2\\\\x^1_2=(9+2x^0_1-x^0_3)/6=(9+2\\cdot1-3)/6=\\frac{4}{3}\\\\x^1_3=(-6+x^0_1-x^0_2)/7=(-6+1-2)/7=-1$$"
   ]
  },
  {
   "cell_type": "markdown",
   "metadata": {},
   "source": [
    "### Pišemo sada funkciju za Jakobijev metod i povezujemo je sa primerom sistema 3x3."
   ]
  },
  {
   "cell_type": "code",
   "execution_count": 13,
   "metadata": {},
   "outputs": [],
   "source": [
    "function x=jacobi(A,b,x0,maxIter,tacnost)\n",
    "[n,m] = size(A);\n",
    "x1=zeros(n,1)';\n",
    "for k=1:maxIter\n",
    "   for i=1:n\n",
    "        s=0; %ovo je suma vrednosti koje \"prebacujemo na drugu stranu\" kada izražavmo svaku nepoznatu\n",
    "        for j=1:n\n",
    "            if(i~=j) %pošto je nepoznata i sa leve strane jednakosti, ne može da se nađe u sumi sa desne strane, pa je zato preskačemo\n",
    "                s = s + A(i,j)*x0(j);\n",
    "            end\n",
    "        end\n",
    "        x1(i) = (b(i) - s)/A(i,i); % izračunavamo vrednost promenljive koju smo izrazili\n",
    "    end\n",
    "    if(norm(x0-x1,\"inf\")<tacnost) %proveravmo da li je razlika trenutnog i početnog rešenja pala ispod zadate tačnosti\n",
    "        break;\n",
    "    end\n",
    "    x0=x1;\n",
    "end\n",
    "x=x1;\n",
    "endfunction"
   ]
  },
  {
   "cell_type": "code",
   "execution_count": 23,
   "metadata": {},
   "outputs": [
    {
     "name": "stdout",
     "output_type": "stream",
     "text": [
      "ans =\n",
      "\n",
      "  -3  -6   0\n",
      "\n"
     ]
    }
   ],
   "source": [
    "[1,2,3]-[4,8,3]"
   ]
  },
  {
   "cell_type": "code",
   "execution_count": 35,
   "metadata": {},
   "outputs": [
    {
     "name": "stdout",
     "output_type": "stream",
     "text": [
      "A =\n",
      "\n",
      "   4  -1  -1\n",
      "  -2   6   1\n",
      "  -1   1   7\n",
      "\n",
      "b =\n",
      "\n",
      "   3\n",
      "   9\n",
      "  -6\n",
      "\n",
      "x =\n",
      "\n",
      "   1.00000   2.00000  -1.00000\n",
      "\n"
     ]
    }
   ],
   "source": [
    "A=[4,-1,-1;-2,6,1;-1,1,7]\n",
    "b=[3,9,-6]'\n",
    "x=jacobi(A,b,[1,2,3],100,10^-5)"
   ]
  },
  {
   "cell_type": "markdown",
   "metadata": {},
   "source": [
    "### Dodaćemo sada u kod malo ispisa da bi mogli da pratimo rešenje kroz iteracije. Slobodno možete ignorisati kod za ispis jer nije deo gradiva."
   ]
  },
  {
   "cell_type": "code",
   "execution_count": 36,
   "metadata": {},
   "outputs": [],
   "source": [
    "function x=jacobi_ispis(A,b,x0,maxIter,tacnost)\n",
    "[n,m] = size(A);\n",
    "x1=zeros(n,1)';\n",
    "disp(\"iter\\ttrenutno rešenje\\tnorma razlike između trenutnog i prethodnog rešenja\"); %ovo je deo za ispis i možete ga ignorisati \n",
    "for k=1:maxIter\n",
    "   for i=1:n\n",
    "        s=0; %ovo je suma vrednosti koje \"prebacujemo na drugu stranu\" kada izražavmo svaku nepoznatu\n",
    "        for j=1:n\n",
    "            if(i~=j) %pošto je nepoznata i sa leve strane jednakosti, ne može da se nađe u sumi sa desne strane, pa je zato preskačemo\n",
    "                s = s + A(i,j)*x0(j);\n",
    "            end\n",
    "        end\n",
    "        x1(i) = (b(i) - s)/A(i,i); % izračunavamo vrednost promenljive koju smo izrazili\n",
    "    end\n",
    "    if(norm(x0-x1,\"inf\")<tacnost) %proveravmo da li je razlika trenutnog i početnog rešenja pala ispod zadate tačnosti\n",
    "        break;\n",
    "    end\n",
    "    %ovo je deo za ispis i možete ga ignorisati\n",
    "    temp = sprintf('%.16f\\t',[k x0 norm(x0-x1,\"inf\")]);\n",
    "    disp(temp);\n",
    "    x0=x1;\n",
    "end\n",
    "x=x1;\n",
    "endfunction"
   ]
  },
  {
   "cell_type": "code",
   "execution_count": 37,
   "metadata": {},
   "outputs": [
    {
     "name": "stdout",
     "output_type": "stream",
     "text": [
      "iter\ttrenutno rešenje\tnorma razlike između trenutnog i prethodnog rešenja\n",
      "1.0000000000000000\t1.0000000000000000\t2.0000000000000000\t3.0000000000000000\t4.0000000000000000\t\n",
      "2.0000000000000000\t2.0000000000000000\t1.3333333333333333\t-1.0000000000000000\t1.1666666666666667\t\n",
      "3.0000000000000000\t0.8333333333333333\t2.3333333333333335\t-0.7619047619047619\t0.4285714285714286\t\n",
      "4.0000000000000000\t1.1428571428571428\t1.9047619047619049\t-1.0714285714285714\t0.1845238095238094\t\n",
      "5.0000000000000000\t0.9583333333333334\t2.0595238095238098\t-0.9659863945578231\t0.0790816326530615\t\n",
      "6.0000000000000000\t1.0233843537414966\t1.9804421768707483\t-1.0144557823129252\t0.0318877551020409\t\n",
      "7.0000000000000000\t0.9914965986394557\t2.0102040816326530\t-0.9938654033041788\t0.0140609815354711\t\n",
      "8.0000000000000000\t1.0040846695821184\t1.9961431000971819\t-1.0026724975704568\t0.0057170189504372\t\n",
      "9.0000000000000000\t0.9983676506316812\t2.0018069727891157\t-0.9988654900735805\t0.0025401742329583\t\n",
      "10.0000000000000000\t1.0007353706788837\t1.9992667985561574\t-1.0004913317367763\t0.0010602136262665\t\n",
      "11.0000000000000000\t0.9996938667048453\t2.0003270121824239\t-0.9997902039824677\t0.0004640226170642\t\n",
      "12.0000000000000000\t1.0001342020499890\t1.9998629895653597\t-1.0000904493539398\t0.0001968193436266\t\n",
      "13.0000000000000000\t0.9999431350528549\t2.0000598089089863\t-0.9999612553593387\t0.0000852213314781\t\n",
      "14.0000000000000000\t1.0000246383874118\t1.9999745875775081\t-1.0000166676937330\t0.0000364031672511\t\n",
      "15.0000000000000000\t0.9999894799709438\t2.0000109907447592\t-0.9999928498842995\t0.0000156891070613\t\n",
      "x =\n",
      "\n",
      "   9.999980571675025e-01   2.000002023899653e+00  -9.999986809175118e-01\n",
      "\n"
     ]
    }
   ],
   "source": [
    "format long\n",
    "A=[4,-1,-1;-2,6,1;-1,1,7];\n",
    "b=[3,9,-6]';\n",
    "x=jacobi_ispis(A,b,[1,2,3],100,10^-5)"
   ]
  },
  {
   "cell_type": "code",
   "execution_count": 38,
   "metadata": {},
   "outputs": [
    {
     "name": "stdout",
     "output_type": "stream",
     "text": [
      "iter\ttrenutno rešenje\tnorma razlike između trenutnog i prethodnog rešenja\n",
      "1.0000000000000000\t5.0000000000000000\t10.0000000000000000\t9.5000000000000000\t\n",
      "2.0000000000000000\t-2.0000000000000000\t0.5000000000000000\t4.7500000000000000\t\n",
      "3.0000000000000000\t2.7500000000000000\t4.0000000000000000\t2.3750000000000000\t\n",
      "4.0000000000000000\t1.0000000000000000\t1.6250000000000000\t1.1875000000000000\t\n",
      "5.0000000000000000\t2.1875000000000000\t2.5000000000000000\t0.5937500000000000\t\n",
      "6.0000000000000000\t1.7500000000000000\t1.9062500000000000\t0.2968750000000000\t\n",
      "7.0000000000000000\t2.0468750000000000\t2.1250000000000000\t0.1484375000000000\t\n",
      "8.0000000000000000\t1.9375000000000000\t1.9765625000000000\t0.0742187500000000\t\n",
      "9.0000000000000000\t2.0117187500000000\t2.0312500000000000\t0.0371093750000000\t\n",
      "10.0000000000000000\t1.9843750000000000\t1.9941406250000000\t0.0185546875000000\t\n",
      "11.0000000000000000\t2.0029296875000000\t2.0078125000000000\t0.0092773437500000\t\n",
      "12.0000000000000000\t1.9960937500000000\t1.9985351562500000\t0.0046386718750000\t\n",
      "13.0000000000000000\t2.0007324218750000\t2.0019531250000000\t0.0023193359375000\t\n",
      "14.0000000000000000\t1.9990234375000000\t1.9996337890625000\t0.0011596679687500\t\n",
      "15.0000000000000000\t2.0001831054687500\t2.0004882812500000\t0.0005798339843750\t\n",
      "16.0000000000000000\t1.9997558593750000\t1.9999084472656250\t0.0002899169921875\t\n",
      "17.0000000000000000\t2.0000457763671875\t2.0001220703125000\t0.0001449584960938\t\n",
      "18.0000000000000000\t1.9999389648437500\t1.9999771118164062\t0.0000724792480469\t\n",
      "19.0000000000000000\t2.0000114440917969\t2.0000305175781250\t0.0000362396240234\t\n",
      "20.0000000000000000\t1.9999847412109375\t1.9999942779541016\t0.0000181198120117\t\n",
      "x =\n",
      "\n",
      "   1.999996185302734   1.999998569488525\n",
      "\n"
     ]
    }
   ],
   "source": [
    "A=[2,1;1,2];\n",
    "b=[6,6]';\n",
    "x=jacobi_ispis(A,b,[5,10],100,10^-5)"
   ]
  },
  {
   "cell_type": "markdown",
   "metadata": {},
   "source": [
    "# Gaus-Zajedelov metod"
   ]
  },
  {
   "cell_type": "markdown",
   "metadata": {},
   "source": [
    "### Jakobijev postupak u trenutnoj iteraciji ne koristi najnovije informacije o rešenju. \n",
    "### Konkretnije kad računamo $x^1_1$ i $x^1_2$, koristimo $x^0_1$ i $x^0_2$ ali, pre nego što izračunamo $x^1_2$ vrednost $x^1_1$ je već izračunata. \n",
    "### Ako pretpostavimo da metod konvergira vrednost $x^1_1$ je jedan korak bliža tačnom rešnju od $x^0_1$, pa se postavlja pitanje da li je možemo iskoristiti umesto $x^0_1$.\n",
    "### Na taj način dobijamo Gaus−Zajdelov postupak."
   ]
  },
  {
   "cell_type": "markdown",
   "metadata": {},
   "source": [
    "<center><img src=\"GausZ.png\" width=\"600\" height=\"600\"></center>"
   ]
  },
  {
   "cell_type": "markdown",
   "metadata": {},
   "source": [
    "### Primenjujemo Gaus-Zajdelov metod na isti primer 2x2 sistema na kome smo pokazali Jakobijev metod."
   ]
  },
  {
   "cell_type": "markdown",
   "metadata": {},
   "source": [
    "### $$2x_1+x_2=6\\\\x_1+2x_2=6$$"
   ]
  },
  {
   "cell_type": "markdown",
   "metadata": {},
   "source": [
    "### $$x^{novo}_1=\\frac{(6-x^{staro}_2)}{2}\\\\x^{novo}_2=\\frac{(6-x^{novo}_1)}{2}$$"
   ]
  },
  {
   "cell_type": "markdown",
   "metadata": {},
   "source": [
    "### $$x^0=\\begin{bmatrix}x^0_{1}\\\\x^0_{2}\\end{bmatrix}=\\begin{bmatrix}5\\\\10\\end{bmatrix}$$"
   ]
  },
  {
   "cell_type": "markdown",
   "metadata": {},
   "source": [
    "### $$x^1_1=\\frac{(6-x^0_2)}{2}=x^1_1=\\frac{(6-10)}{2}=-2\\\\x^1_2=\\frac{(6-x^1_1)}{2}=\\frac{(6+2)}{2}=4$$"
   ]
  },
  {
   "cell_type": "markdown",
   "metadata": {},
   "source": [
    "### $$x^2_1=\\frac{(6-x^1_2)}{2}=x^2_1=\\frac{(6-4)}{2}=1\\\\x^2_2=\\frac{(6-x^2_1)}{2}=\\frac{(6-1)}{2}=\\frac{5}{2}$$"
   ]
  },
  {
   "cell_type": "markdown",
   "metadata": {},
   "source": [
    "### Sada samo izvršavamo funkciju za Gaus-Zajdelov metod, a kod ćemo objasniti kasnije."
   ]
  },
  {
   "cell_type": "code",
   "execution_count": 39,
   "metadata": {},
   "outputs": [],
   "source": [
    "function x=gausz_viz(A,b,x0,maxIter,tacnost)\n",
    "[n,m] = size(A);\n",
    "\n",
    "if(n==2) draw_point(x0,[1, 1, 0],strcat('x', num2str(0))) end %ovo je deo za prikaz grafika i možete ga ignorisati\n",
    "\n",
    "x1=zeros(n,1)';\n",
    "for k=1:maxIter\n",
    "   for i=1:n\n",
    "        s=0; %sumu s razdvajamo na dve petlje, u prvoj koristimo novo rešenje x1, a drugoj staro x0.\n",
    "        for j=1:i-1\n",
    "            s = s + A(i,j)*x1(j);\n",
    "        end\n",
    "        for j=i+1:n\n",
    "             s = s + A(i,j)*x0(j);\n",
    "        end\n",
    "        x1(i) = (b(i) - s)/A(i,i);\n",
    "    end\n",
    "    \n",
    "    if(n==2) %ovo je deo za prikaz grafika i možete ga ignorisati\n",
    "        draw_point(x1,[1, 1, 0],strcat('x', num2str(k)))\n",
    "        draw_dotted_lines_gz(x0,x1)\n",
    "    end\n",
    "    \n",
    "    if(norm(x0-x1,\"inf\")<tacnost)\n",
    "        break;\n",
    "    end\n",
    "    x0=x1;\n",
    "end\n",
    "x=x1;\n",
    "endfunction"
   ]
  },
  {
   "cell_type": "code",
   "execution_count": 40,
   "metadata": {},
   "outputs": [
    {
     "name": "stdout",
     "output_type": "stream",
     "text": [
      "x0 =\n",
      "\n",
      "    5   10\n",
      "\n",
      "x =\n",
      "\n",
      "  -2   4\n",
      "\n"
     ]
    },
    {
     "data": {
      "image/png": "[encoded data removed]",
      "text/plain": [
       "<IPython.core.display.Image object>"
      ]
     },
     "metadata": {},
     "output_type": "display_data"
    }
   ],
   "source": [
    "A=[2,1;1,2];\n",
    "b=[6,6]';\n",
    "draw_system(A,b)\n",
    "x0=[5,10]\n",
    "x=gausz_viz(A,b,x0,1,10^-5)"
   ]
  },
  {
   "cell_type": "code",
   "execution_count": 41,
   "metadata": {},
   "outputs": [
    {
     "name": "stdout",
     "output_type": "stream",
     "text": [
      "x0 =\n",
      "\n",
      "    5   10\n",
      "\n",
      "x =\n",
      "\n",
      "   1.000000000000000   2.500000000000000\n",
      "\n"
     ]
    },
    {
     "data": {
      "image/png": "[encoded data removed]",
      "text/plain": [
       "<IPython.core.display.Image object>"
      ]
     },
     "metadata": {},
     "output_type": "display_data"
    }
   ],
   "source": [
    "A=[2,1;1,2];\n",
    "b=[6,6]';\n",
    "draw_system(A,b)\n",
    "x0=[5,10]\n",
    "x=gausz_viz(A,b,x0,2,10^-5)"
   ]
  },
  {
   "cell_type": "markdown",
   "metadata": {},
   "source": [
    "#### Pogledaćemo sada animaciju geometrijske intepretacije Jakovijevog metod sa slajdova."
   ]
  },
  {
   "cell_type": "markdown",
   "metadata": {},
   "source": [
    "### Pišemo kod za Gaus-Zajdelov metod. Kao pomoć koristimo isti primer 3x3 sistema kao za Jakobijev metod."
   ]
  },
  {
   "cell_type": "markdown",
   "metadata": {},
   "source": [
    "### $$4x_1-x_2-x_3=3\\\\-2x_1+6x_2+x_3=9\\\\-x_1+x_2+7x_3=-6$$"
   ]
  },
  {
   "cell_type": "markdown",
   "metadata": {},
   "source": [
    "### $$x^{novo}_1=(3+x^{staro}_2+x^{staro}_3)/4\\\\x^{novo}_2=(9+2x^{novo}_1-x^{staro}_3)/6\\\\x^{novo}_3=(-6+x^{novo}_1-x^{novo}_2)/7$$"
   ]
  },
  {
   "cell_type": "markdown",
   "metadata": {},
   "source": [
    "### $$x^0=\\begin{bmatrix}x^0_{1}\\\\x^0_{2}\\\\x^0_{3}\\end{bmatrix}=\\begin{bmatrix}1\\\\2\\\\3\\end{bmatrix}$$"
   ]
  },
  {
   "cell_type": "markdown",
   "metadata": {},
   "source": [
    "### $$x^1_1=(3+x^0_2+x^0_3)/4=(3+2+3)/4=2\\\\x^1_2=(9+2x^1_1-x^0_3)/6=(9+2\\cdot2-3)/6=\\frac{5}{3}\\\\x^1_3=(-6+x^1_1-x^1_2)/7=(-6+2-\\frac{5}{3})/7=-\\frac{17}{21}$$"
   ]
  },
  {
   "cell_type": "code",
   "execution_count": 43,
   "metadata": {},
   "outputs": [],
   "source": [
    "function x=gausz(A,b,x0,maxIter,tacnost)\n",
    "[n,m] = size(A);\n",
    "x1=zeros(n,1)';\n",
    "for k=1:maxIter\n",
    "   for i=1:n\n",
    "        s=0; %sumu s razdvajamo na dve petlje, u prvoj koristimo novo rešenje x1, a drugoj staro x0.\n",
    "        for j=1:i-1\n",
    "            s = s + A(i,j)*x1(j);\n",
    "        end\n",
    "        for j=i+1:n\n",
    "             s = s + A(i,j)*x0(j);\n",
    "        end\n",
    "        x1(i) = (b(i) - s)/A(i,i);\n",
    "    end\n",
    "    if(norm(x0-x1,\"inf\")<tacnost)\n",
    "        break;\n",
    "    end\n",
    "    x0=x1;\n",
    "end\n",
    "x=x1;\n",
    "endfunction"
   ]
  },
  {
   "cell_type": "code",
   "execution_count": 45,
   "metadata": {},
   "outputs": [
    {
     "name": "stdout",
     "output_type": "stream",
     "text": [
      "x =\n",
      "\n",
      "   9.999998985391412e-01   2.000000091539559e+00  -1.000000027571488e+00\n",
      "\n"
     ]
    }
   ],
   "source": [
    "A=[4,-1,-1;-2,6,1;-1,1,7];\n",
    "b=[3,9,-6]';\n",
    "x=gausz(A,b,[1,2,3],100,10^-5)"
   ]
  },
  {
   "cell_type": "markdown",
   "metadata": {},
   "source": [
    "### Dodaćemo sada u kod malo ispisa da bi mogli da pratimo rešenje kroz iteracije. Slobodno možete ignorisati kod za ispis jer nije deo gradiva."
   ]
  },
  {
   "cell_type": "code",
   "execution_count": 48,
   "metadata": {},
   "outputs": [],
   "source": [
    "function x=gausz_ispis(A,b,x0,maxIter,tacnost)\n",
    "[n,m] = size(A);\n",
    "x1=zeros(n,1)';\n",
    "\n",
    "disp(\"iter\\ttrenutno rešenje\\tnorma razlike između trenutnog i prethodnog rešenja\"); %ovo je deo za ispis i možete ga ignorisati \n",
    "\n",
    "for k=1:maxIter\n",
    "   for i=1:n\n",
    "        s=0; %sumu s razdvajamo na dve petlje, u prvoj koristimo novo rešenje x1, a drugoj staro x0.\n",
    "        for j=1:i-1\n",
    "            s = s + A(i,j)*x1(j);\n",
    "        end\n",
    "        for j=i+1:n\n",
    "             s = s + A(i,j)*x0(j);\n",
    "        end\n",
    "        x1(i) = (b(i) - s)/A(i,i);\n",
    "    end\n",
    "    if(norm(x0-x1,\"inf\")<tacnost)\n",
    "        break;\n",
    "    end\n",
    "    \n",
    "    %ovo je deo za ispis i možete ga ignorisati\n",
    "    temp = sprintf('%.16f\\t',[k x0 norm(x0-x1,\"inf\")]);\n",
    "    disp(temp)\n",
    "    x0=x1;\n",
    "end\n",
    "x=x1;\n",
    "endfunction"
   ]
  },
  {
   "cell_type": "markdown",
   "metadata": {},
   "source": [
    "### Ispisujemo rezultate po iteracijama i poredimo Gaus-Zajdelovu i Jakobijevu metodu."
   ]
  },
  {
   "cell_type": "code",
   "execution_count": 49,
   "metadata": {},
   "outputs": [
    {
     "name": "stdout",
     "output_type": "stream",
     "text": [
      "iter\ttrenutno rešenje\tnorma razlike između trenutnog i prethodnog rešenja\n",
      "1.0000000000000000\t1.0000000000000000\t2.0000000000000000\t3.0000000000000000\t3.8095238095238093\t\n",
      "2.0000000000000000\t2.0000000000000000\t1.6666666666666667\t-0.8095238095238095\t1.0357142857142856\t\n",
      "3.0000000000000000\t0.9642857142857143\t1.9563492063492063\t-0.9988662131519275\t0.0399187452758882\t\n",
      "4.0000000000000000\t0.9893707482993197\t1.9962679516250945\t-1.0009853147608250\t0.0094499109167476\t\n",
      "5.0000000000000000\t0.9988206592160673\t1.9997711055321599\t-1.0001357780451561\t0.0010881726556836\t\n",
      "6.0000000000000000\t0.9999088318717509\t1.9999922402981098\t-1.0000119154894800\t0.0000862493304065\t\n",
      "x =\n",
      "\n",
      "   9.999998985391412e-01   2.000000091539559e+00  -1.000000027571488e+00\n",
      "\n",
      "iter\ttrenutno rešenje\tnorma razlike između trenutnog i prethodnog rešenja\n",
      "1.0000000000000000\t1.0000000000000000\t2.0000000000000000\t3.0000000000000000\t4.0000000000000000\t\n",
      "2.0000000000000000\t2.0000000000000000\t1.3333333333333333\t-1.0000000000000000\t1.1666666666666667\t\n",
      "3.0000000000000000\t0.8333333333333333\t2.3333333333333335\t-0.7619047619047619\t0.4285714285714286\t\n",
      "4.0000000000000000\t1.1428571428571428\t1.9047619047619049\t-1.0714285714285714\t0.1845238095238094\t\n",
      "5.0000000000000000\t0.9583333333333334\t2.0595238095238098\t-0.9659863945578231\t0.0790816326530615\t\n",
      "6.0000000000000000\t1.0233843537414966\t1.9804421768707483\t-1.0144557823129252\t0.0318877551020409\t\n",
      "7.0000000000000000\t0.9914965986394557\t2.0102040816326530\t-0.9938654033041788\t0.0140609815354711\t\n",
      "8.0000000000000000\t1.0040846695821184\t1.9961431000971819\t-1.0026724975704568\t0.0057170189504372\t\n",
      "9.0000000000000000\t0.9983676506316812\t2.0018069727891157\t-0.9988654900735805\t0.0025401742329583\t\n",
      "10.0000000000000000\t1.0007353706788837\t1.9992667985561574\t-1.0004913317367763\t0.0010602136262665\t\n",
      "11.0000000000000000\t0.9996938667048453\t2.0003270121824239\t-0.9997902039824677\t0.0004640226170642\t\n",
      "12.0000000000000000\t1.0001342020499890\t1.9998629895653597\t-1.0000904493539398\t0.0001968193436266\t\n",
      "13.0000000000000000\t0.9999431350528549\t2.0000598089089863\t-0.9999612553593387\t0.0000852213314781\t\n",
      "14.0000000000000000\t1.0000246383874118\t1.9999745875775081\t-1.0000166676937330\t0.0000364031672511\t\n",
      "15.0000000000000000\t0.9999894799709438\t2.0000109907447592\t-0.9999928498842995\t0.0000156891070613\t\n",
      "x =\n",
      "\n",
      "   9.999980571675025e-01   2.000002023899653e+00  -9.999986809175118e-01\n",
      "\n"
     ]
    }
   ],
   "source": [
    "A=[4,-1,-1;-2,6,1;-1,1,7];\n",
    "b=[3,9,-6]';\n",
    "x=gausz_ispis(A,b,[1,2,3],100,10^-5)\n",
    "x=jacobi_ispis(A,b,[1,2,3],100,10^-5)"
   ]
  },
  {
   "cell_type": "markdown",
   "metadata": {},
   "source": [
    "### Ispisujemo rezultate po iteracijama i poredimo Gaus-Zajdelovu i Jakobijevu metodu za primer sistema 2x2 koji smo koristili do sada."
   ]
  },
  {
   "cell_type": "code",
   "execution_count": 25,
   "metadata": {},
   "outputs": [
    {
     "name": "stdout",
     "output_type": "stream",
     "text": [
      "iter\ttrenutno rešenje\tnorma razlike između trenutnog i prethodnog rešenja\n",
      "1.0000\t5.0000\t10.0000\t7.0000\t\n",
      "2.0000\t-2.0000\t4.0000\t3.0000\t\n",
      "3.0000\t1.0000\t2.5000\t0.7500\t\n",
      "4.0000\t1.7500\t2.1250\t0.1875\t\n",
      "5.0000\t1.9375\t2.0312\t0.0469\t\n",
      "6.0000\t1.9844\t2.0078\t0.0117\t\n",
      "7.0000\t1.9961\t2.0020\t0.0029\t\n",
      "8.0000\t1.9990\t2.0005\t0.0007\t\n",
      "9.0000\t1.9998\t2.0001\t0.0002\t\n",
      "10.0000\t1.9999\t2.0000\t0.0000\t\n",
      "11.0000\t2.0000\t2.0000\t0.0000\t\n",
      "x =\n",
      "\n",
      "   2.0000   2.0000\n",
      "\n",
      "iter\ttrenutno rešenje\tnorma razlike između trenutnog i prethodnog rešenja\n",
      "1.0000\t5.0000\t10.0000\t9.5000\t\n",
      "2.0000\t-2.0000\t0.5000\t4.7500\t\n",
      "3.0000\t2.7500\t4.0000\t2.3750\t\n",
      "4.0000\t1.0000\t1.6250\t1.1875\t\n",
      "5.0000\t2.1875\t2.5000\t0.5938\t\n",
      "6.0000\t1.7500\t1.9062\t0.2969\t\n",
      "7.0000\t2.0469\t2.1250\t0.1484\t\n",
      "8.0000\t1.9375\t1.9766\t0.0742\t\n",
      "9.0000\t2.0117\t2.0312\t0.0371\t\n",
      "10.0000\t1.9844\t1.9941\t0.0186\t\n",
      "11.0000\t2.0029\t2.0078\t0.0093\t\n",
      "12.0000\t1.9961\t1.9985\t0.0046\t\n",
      "13.0000\t2.0007\t2.0020\t0.0023\t\n",
      "14.0000\t1.9990\t1.9996\t0.0012\t\n",
      "15.0000\t2.0002\t2.0005\t0.0006\t\n",
      "16.0000\t1.9998\t1.9999\t0.0003\t\n",
      "17.0000\t2.0000\t2.0001\t0.0001\t\n",
      "18.0000\t1.9999\t2.0000\t0.0001\t\n",
      "19.0000\t2.0000\t2.0000\t0.0000\t\n",
      "20.0000\t2.0000\t2.0000\t0.0000\t\n",
      "x =\n",
      "\n",
      "   2.0000   2.0000\n",
      "\n"
     ]
    }
   ],
   "source": [
    "A=[2,1;1,2];\n",
    "b=[6,6]';\n",
    "x=gausz_ispis(A,b,[5,10],100,10^-5)\n",
    "x=jacobi_ispis(A,b,[5,10],100,10^-5)"
   ]
  },
  {
   "cell_type": "markdown",
   "metadata": {},
   "source": [
    "# Konvergencija iterativnih metoda"
   ]
  },
  {
   "cell_type": "markdown",
   "metadata": {},
   "source": [
    "### Za razumevanje konvergencije iterativnih metoda za rešavanje SLAJ potrebno je prvo da pokažemo da se metode koje smo danas učili mogu prikazati pomoću matrica.\n",
    "### Prvo treba uvideti da se svaki sistem oblika $Ax=b$ može transformisati u sldeći oblik:"
   ]
  },
  {
   "cell_type": "markdown",
   "metadata": {},
   "source": [
    "### $$x=Tx+c$$"
   ]
  },
  {
   "cell_type": "markdown",
   "metadata": {},
   "source": [
    "### , gde je $T$ matrica, a $c$ vektor. Kada uradimo transformaciju, onda možemo $x$ sa leve strane jedankosti da proglasimo za sledeće, a $x$ sa desne strane za prethodno rešenje i tako dobijemo iterativnu formulu:"
   ]
  },
  {
   "cell_type": "markdown",
   "metadata": {},
   "source": [
    "### $$x^{k+1}=Tx^k+c$$"
   ]
  },
  {
   "cell_type": "markdown",
   "metadata": {},
   "source": [
    "### Sada ćemo pokazati na koji način formiramo matricu $T$ i vektor $c$ za Jakobijev metod. Matricu sistema $A$ rastavljamo na tri matrice:"
   ]
  },
  {
   "cell_type": "markdown",
   "metadata": {},
   "source": [
    "### $$A=L+D+U\\\\\\begin{bmatrix}\n",
    "a_{11} & a_{12} & a_{13}\\\\\n",
    "a_{21} & a_{22} & a_{23}\\\\\n",
    "a_{31} & a_{32} & a_{33}\\\\\n",
    "\\end{bmatrix}=\\begin{bmatrix}\n",
    "0 & 0 & 0\\\\\n",
    "a_{21} & 0& 0\\\\\n",
    "a_{31} & a_{32} & 0\\\\\n",
    "\\end{bmatrix}+\\begin{bmatrix}\n",
    "a_{11} & 0 & 0\\\\\n",
    "0 & a_{22} & 0\\\\\n",
    "0 & 0 & a_{33}\\\\\n",
    "\\end{bmatrix}+\\begin{bmatrix}\n",
    "0 & a_{12} & a_{13}\\\\\n",
    "0 & 0 & a_{23}\\\\\n",
    "0 & 0 &0\\\\\n",
    "\\end{bmatrix}$$"
   ]
  },
  {
   "cell_type": "markdown",
   "metadata": {},
   "source": [
    "### Ako koristimo matrične i vektorske operacije jasno je da važi:"
   ]
  },
  {
   "cell_type": "markdown",
   "metadata": {},
   "source": [
    "### $$Ax=b\\\\(L+D+U)x=b$$"
   ]
  },
  {
   "cell_type": "markdown",
   "metadata": {},
   "source": [
    "### Ako hoćemo da sa leve strane jednakosti iz prve jedančine izrazimo $x_1$, iz druge $x_2$ i tako redom, to pomoću matričnih operacija možemo uraditi na sledeći način:"
   ]
  },
  {
   "cell_type": "markdown",
   "metadata": {},
   "source": [
    "### $$Dx+Lx+Ux=b\\\\Dx=-(L+U)x+b\\\\x=-D^{-1}(L+U)x+D^{-1}b$$"
   ]
  },
  {
   "cell_type": "markdown",
   "metadata": {},
   "source": [
    "### Ako sada uradimo sledeće dodele za matricu $T$ i vektor $c$ i uvedemo brojač iteracija $k$ imamo sledeće:"
   ]
  },
  {
   "cell_type": "markdown",
   "metadata": {},
   "source": [
    "### $$x=-D^{-1}(L+U)x+D^{-1}b\\\\T=-D^{-1}(L+U)\\\\c=D^{-1}b\\\\x^{k+1}=Tx^k+c$$"
   ]
  },
  {
   "cell_type": "markdown",
   "metadata": {},
   "source": [
    "### Matricu $T$ i vektor $c$ za Gaus-Zajedelov metod određujemo na sličan način. Razlika je u tome što sa leve strane jednakosti sada ostavljamo sve nepoznate do one na glavnoj dijagonali, kao i tu na glavnoj dijagonali."
   ]
  },
  {
   "cell_type": "markdown",
   "metadata": {},
   "source": [
    "### $$Dx+Lx+Ux=b\\\\Dx^{k+1}+Lx^{k+1}=-Ux^k+b\\\\x^{k+1}=-(D+L)^{-1}Ux^k+(D+L)^{-1}b\\\\T=-(D+L)^{-1}U\\\\c=(D+L)^{-1}b\\\\x^{k+1}=Tx^k+c$$"
   ]
  },
  {
   "cell_type": "markdown",
   "metadata": {},
   "source": [
    "### Sada kada imamo formule za matricu T možemo da pokažemo zašto je ona značajna za konvergenciju.\n",
    "### Neka je $\\hat{x}$ tačno rešenje nekog sistema, a $e_k$ greška u $k$-toj iteraciji metoda, odnosno važi:"
   ]
  },
  {
   "cell_type": "markdown",
   "metadata": {},
   "source": [
    "### $$x_k=e_k+\\hat{x}$$"
   ]
  },
  {
   "cell_type": "markdown",
   "metadata": {},
   "source": [
    "### U prethodnu jednakost ubacujemo u jednakost $x^{k+1}=Tx^k+c$ i tako dobijamo:"
   ]
  },
  {
   "cell_type": "markdown",
   "metadata": {},
   "source": [
    "### $$e_{k+1}+\\hat{x}=x^{k+1}=Tx^k+c=T(e_k+\\hat{x})+c=Te_k+T\\hat{x}+c$$"
   ]
  },
  {
   "cell_type": "markdown",
   "metadata": {},
   "source": [
    "### Pošto važi $T\\hat{x}+c=\\hat{x}$ imamo sledeće:"
   ]
  },
  {
   "cell_type": "markdown",
   "metadata": {},
   "source": [
    "### $$e_{k+1}+\\hat{x}=Te_k+T\\hat{x}+c\\\\e_{k+1}=Te_k$$"
   ]
  },
  {
   "cell_type": "markdown",
   "metadata": {},
   "source": [
    "### Ako nastavimo da smanjujemo $k$ i koristimo $e_{k+1}=Te_k$ imamo:"
   ]
  },
  {
   "cell_type": "markdown",
   "metadata": {},
   "source": [
    "### $$e_{k+1}=Te_k=TTe_{k-1}=TTTe_{k-2}=\\dots=T^{k+1}e^0$$"
   ]
  },
  {
   "cell_type": "markdown",
   "metadata": {},
   "source": [
    "### Uspeli smo da povežemo grešku u iteraciji $k$ sa matricom $T$. Ako uzmemo normu greške $e$ imamo:"
   ]
  },
  {
   "cell_type": "markdown",
   "metadata": {},
   "source": [
    "### $$\\lVert e_{k+1}\\rVert \\leq \\lVert T^{k+1}\\rVert \\lVert e^0\\rVert$$"
   ]
  },
  {
   "cell_type": "markdown",
   "metadata": {},
   "source": [
    "### Očigledno je da ako je norma od $T$ veća od 1 greška će se kroz iteracije povećavati, odnosno metod će divergirati.\n",
    "### Takođe, ako je norma od $T$ manja od 1 greška će se smanjivati odnosno metod će konvergirati.\n",
    "### Ovi uslovi važe za bilo koje početno rešenje $x_0$."
   ]
  },
  {
   "cell_type": "markdown",
   "metadata": {},
   "source": [
    "### $$\\lim_{k\\to\\infty} \\lVert e^k\\rVert=0 \\textrm{   ako   }\\lim_{k\\to\\infty} \\lVert T^k\\rVert=0$$"
   ]
  },
  {
   "cell_type": "markdown",
   "metadata": {},
   "source": [
    "### Da bi važilo $\\lim_{k\\to\\infty} \\lVert T^k\\rVert=0$ treba da važi:"
   ]
  },
  {
   "cell_type": "markdown",
   "metadata": {},
   "source": [
    "### $$\\lVert T\\rVert<1$$"
   ]
  },
  {
   "cell_type": "markdown",
   "metadata": {},
   "source": [
    "### Znači, da bi proverili konvergenciju iterativnog metoda, potrebno je prvo da izračunamo matricu $T$ i onda proverimo da li je norma te matrice manja od 1.\n",
    "### Problem sa ovim testom za konvergenciju je što postoji više različitih načina da odredimo normu matrice, a ako neka od normi nije manja od jedan to ne mora da znači da neka druga neće biti, kao što možete videti u sledećem primeru:"
   ]
  },
  {
   "cell_type": "code",
   "execution_count": 26,
   "metadata": {},
   "outputs": [
    {
     "name": "stdout",
     "output_type": "stream",
     "text": [
      "A =\n",
      "\n",
      "   0.50000   0.10000\n",
      "   0.60000   0.30000\n",
      "\n",
      "ans =  1.1000\n",
      "ans =  0.90000\n"
     ]
    }
   ],
   "source": [
    "A=[0.5,0.1;0.6,0.3]\n",
    "norm(A,1)\n",
    "norm(A,\"inf\")"
   ]
  },
  {
   "cell_type": "markdown",
   "metadata": {},
   "source": [
    "### To znači da nam treba test konvergencije koji ne koristi normu matrice."
   ]
  },
  {
   "cell_type": "markdown",
   "metadata": {},
   "source": [
    "## Spektralni radijus matrice"
   ]
  },
  {
   "cell_type": "markdown",
   "metadata": {},
   "source": [
    "### Spektralni radijus je najveća *karakteristična vrednost* matrice:"
   ]
  },
  {
   "cell_type": "markdown",
   "metadata": {},
   "source": [
    "### $$\\rho(T)=\\max_{i}|\\lambda_i|$$"
   ]
  },
  {
   "cell_type": "markdown",
   "metadata": {},
   "source": [
    "### Karakteristične vrednosti su vrednosti za koje važi:"
   ]
  },
  {
   "cell_type": "markdown",
   "metadata": {},
   "source": [
    "### $$Tx=\\lambda x$$"
   ]
  },
  {
   "cell_type": "markdown",
   "metadata": {},
   "source": [
    "### Postoji tvrđenje koje nećemo dokazivati koje kaže da je svaka norma matrice veća ili jednaka od spektralnog radijusa te matrice:"
   ]
  },
  {
   "cell_type": "markdown",
   "metadata": {},
   "source": [
    "### $$\\rho(T)\\leq\\lVert T\\rVert$$"
   ]
  },
  {
   "cell_type": "markdown",
   "metadata": {},
   "source": [
    "### Što znači da ako je vrednost $\\rho(T)$ veća od 1 onda će sve norme matrice T biti veće od 1 pa iterativni postupak divergira.\n",
    "### Dakle, potreban uslov za konvergenciju iterativnog metoda za rešavanje SLAJ za bilo koje početno rešenje je:\n",
    "### $$\\rho(T)<1$$, odnosno ako je $\\rho(T)>1$ metod će divergirati."
   ]
  },
  {
   "cell_type": "markdown",
   "metadata": {},
   "source": [
    "### Postoji tvrđenje koje kaže da je $\\rho(T)<1$ takođe i dovoljan uslov za konvergenciju, odosno ako važi: \n",
    "### $$\\rho(T)<1$$ \n",
    "### onda metod konvergira. Dokaz za tvrđenje imate u udžbeniku predmeta."
   ]
  },
  {
   "cell_type": "markdown",
   "metadata": {},
   "source": [
    "### Testiraćemo sada konvergenciju na primerima 2x2 i 3x3 sistema koje smo koristili tokom predavanja."
   ]
  },
  {
   "cell_type": "code",
   "execution_count": 27,
   "metadata": {},
   "outputs": [],
   "source": [
    "function [L,D,U] = decompose_matrix(A) \n",
    "    L=tril(A,-1);\n",
    "    U=triu(A,1);\n",
    "    D=diag(diag(A));\n",
    "endfunction\n",
    "\n",
    "function [T, ro] = test_conv_jacobi(A)\n",
    "    [L,D,U] = decompose_matrix(A);\n",
    "    T=-D^-1*(L+U);\n",
    "    ro=max(abs(eig(T)));\n",
    "endfunction\n",
    "\n",
    "function [T, ro] = test_conv_gausz(A)\n",
    "    [L,D,U] = decompose_matrix(A);\n",
    "    T=-(L+D)^-1*U;\n",
    "    ro=max(abs(eig(T)));\n",
    "endfunction"
   ]
  },
  {
   "cell_type": "code",
   "execution_count": 28,
   "metadata": {},
   "outputs": [
    {
     "name": "stdout",
     "output_type": "stream",
     "text": [
      "A =\n",
      "\n",
      "   4  -1  -1\n",
      "  -2   6   1\n",
      "  -1   1   7\n",
      "\n",
      "TJ =\n",
      "\n",
      "  -0.00000   0.25000   0.25000\n",
      "   0.33333  -0.00000  -0.16667\n",
      "   0.14286  -0.14286  -0.00000\n",
      "\n",
      "roJ =  0.42946\n",
      "TGZ =\n",
      "\n",
      "   0.00000   0.25000   0.25000\n",
      "   0.00000   0.08333  -0.08333\n",
      "   0.00000   0.02381   0.04762\n",
      "\n",
      "roGZ =  0.077152\n"
     ]
    }
   ],
   "source": [
    "A=[4,-1,-1;-2,6,1;-1,1,7]\n",
    "b=[3,9,-6]';\n",
    "[TJ,roJ]=test_conv_jacobi(A)\n",
    "[TGZ,roGZ]=test_conv_gausz(A)"
   ]
  },
  {
   "cell_type": "code",
   "execution_count": 29,
   "metadata": {},
   "outputs": [
    {
     "name": "stdout",
     "output_type": "stream",
     "text": [
      "A =\n",
      "\n",
      "   2   1\n",
      "   1   2\n",
      "\n",
      "TJ =\n",
      "\n",
      "  -0.00000  -0.50000\n",
      "  -0.50000  -0.00000\n",
      "\n",
      "roJ =  0.50000\n",
      "TGZ =\n",
      "\n",
      "   0.00000  -0.50000\n",
      "   0.00000   0.25000\n",
      "\n",
      "roGZ =  0.25000\n"
     ]
    }
   ],
   "source": [
    "A=[2,1;1,2]\n",
    "b=[6,6]';\n",
    "[TJ,roJ]=test_conv_jacobi(A)\n",
    "[TGZ,roGZ]=test_conv_gausz(A)"
   ]
  },
  {
   "cell_type": "markdown",
   "metadata": {},
   "source": [
    "## Primer divergencije"
   ]
  },
  {
   "cell_type": "code",
   "execution_count": 30,
   "metadata": {},
   "outputs": [
    {
     "name": "stdout",
     "output_type": "stream",
     "text": [
      "TJ =\n",
      "\n",
      "  -0.00000  -1.50000\n",
      "  -1.14286  -0.00000\n",
      "\n",
      "roJ =  1.3093\n",
      "TGZ =\n",
      "\n",
      "   0.00000  -1.50000\n",
      "   0.00000   1.71429\n",
      "\n",
      "roGZ =  1.7143\n",
      "x =\n",
      "\n",
      "   10.3061   -9.9213\n",
      "\n"
     ]
    },
    {
     "data": {
      "image/png": "[encoded data removed]",
      "text/plain": [
       "<IPython.core.display.Image object>"
      ]
     },
     "metadata": {},
     "output_type": "display_data"
    }
   ],
   "source": [
    "A=[2,3;8,7];\n",
    "b=[11,13]';\n",
    "draw_system(A,b)\n",
    "[TJ,roJ]=test_conv_jacobi(A)\n",
    "[TGZ,roGZ]=test_conv_gausz(A)\n",
    "x=gausz_viz(A,b,[-6,3],3,10^-5)"
   ]
  },
  {
   "cell_type": "code",
   "execution_count": null,
   "metadata": {},
   "outputs": [],
   "source": []
  }
 ],
 "metadata": {
  "kernelspec": {
   "display_name": "Octave",
   "language": "octave",
   "name": "octave"
  },
  "language_info": {
   "file_extension": ".m",
   "help_links": [
    {
     "text": "GNU Octave",
     "url": "https://www.gnu.org/software/octave/support.html"
    },
    {
     "text": "Octave Kernel",
     "url": "https://github.com/Calysto/octave_kernel"
    },
    {
     "text": "MetaKernel Magics",
     "url": "https://metakernel.readthedocs.io/en/latest/source/README.html"
    }
   ],
   "mimetype": "text/x-octave",
   "name": "octave",
   "version": "5.2.0"
  }
 },
 "nbformat": 4,
 "nbformat_minor": 4
}
