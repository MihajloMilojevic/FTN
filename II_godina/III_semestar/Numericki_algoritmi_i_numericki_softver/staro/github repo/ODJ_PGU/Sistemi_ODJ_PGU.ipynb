{
 "cells": [
  {
   "cell_type": "markdown",
   "metadata": {},
   "source": [
    "# Rešavanje sistema ODJ"
   ]
  },
  {
   "cell_type": "markdown",
   "metadata": {},
   "source": [
    "#### Mnogi realni problemi, kao npr. trenutno aktnuelno širenja virusa u pouplaciji, modeluju se pomoću sistema diferencijalnih jednačina.\n",
    "#### Sistemi diferncijalnih jednačina se takođe koriste pri rešavanju ODJ reda višeg od 1.\n",
    "#### Iz tih razloga, prvi deo današnjeg predavanja posvećen je numeričkim metodama za rešavanja sistema ODJ.\n",
    "#### Suština sistema ODJ je da imamo više ODJ koje modeluju fenomene koji zavise jedan od drugog, pa se zato jedančine moraju rešavati simultano (zajedno) kao sistem.\n",
    "#### Na primer, Lotka-Volterra model populacija predatora i plena predstavlja sistem od dve jedančine koje se formiraju po sledećim pretpostavkama:\n",
    "#### 1. Plen raste stopom koja je proporicionalana trenutnoj populaciji plena, ako nema predatora.\n",
    "#### 2. Populacija predatora smanjuje se stopom koja je proporicionalana trenutnoj populaciji predatora, ako nema plena. \n",
    "#### 3. Broj susreta predatora i plena proporcionalan je proizvodu njihovih polulacija.\n",
    "#### 4. Svaki susret predatora i plena povećava polulaciju predatora i smanjuje populaciju plena.\n",
    "#### Na osnovu prethodne 4 pretpostavke foriran je sledeći sistem ODJ:\n",
    "#### $$y_1′=ay_1-by_1y_2\\\\y_2′=cy_1y_2−dy_2$$\n",
    "<!---videti https://www.simulistics.com/drupal/files/tutorials/predprey/predprey.pdf -->\n",
    "#### gde je $a>0$, stopa rasta plena, $b>0$ stopa opadanja plena pri intreakciji sa predatorom, $c>0$ stopa porasta predatora pri intreakciji sa plenom, i $d>0$ stopa smanjenja predatora.\n",
    "#### Vidimo da, da populacija plena u nekom trenutku zavisi od populacije predatora i obrnuto, pa jednačine ne možemo da rešavamo odvojeno.\n",
    "#### Sistem jednačina Lotka-Volterra modela se u praksi najčešće rešava baš numeričkim metodama zato što su jednačine nelinearne.\n",
    "## Numeričke metode za rešavanje sistema ODJ\n",
    "#### Sistema ODJ rešavamo pomoću svih numeričkih metoda za rešavanje ODJ koje smo učili, samo što sada te metode primenjujemo na više jedančina istovremeno.\n",
    "#### Prilikom primena numeričkih metoda, sisteme ODJ reprezentujemo pomoću vektora jedančina i vektora početnih uslova:\n",
    "### $$F(x,Y)=\\begin{bmatrix}f_1(x,y)\\\\f_2(x,y)\\\\\\dots\\\\f_n(x,y)\\end{bmatrix} \\hspace{0.8em} Y_0=Y(x_0)=\\begin{bmatrix}y_1(x_0)\\\\y_2(x_0)\\\\\\dots\\\\y_n(x_0)\\end{bmatrix}$$\n",
    "#### Pokazaćemo sada primer jednog sistema za Lotka-Volterra model na koji ćemo primeniti Ojlerov metod.\n",
    "#### $y_1′=0.5y_1−0.2y_1y_2=y_1(0.5−0.2y_2)\\\\y_2′=0.004y_1y_2−0.4y_2=y_2(0.04y_1−0.4)\\\\y_1(0)=200, y_2(0)=30$\n",
    "#### $F(x,y)=\\begin{bmatrix}y_1(0.5−0.2y_2)\\\\y_2(0.04y_1−0.4)\\end{bmatrix} \\hspace{0.8em} Y(0)=\\begin{bmatrix}200\\\\30\\end{bmatrix}$\n",
    "## Ojlerov metod za sisteme ODJ:\n",
    "#### Ojlerov metod za rešavanje sistema ODJ funkcioniše na istin način kao kada rešavamo jednu jednačinu, samo ga sada primenjuemo na vektore jedanačina. Iz tog razloga formulu prikazujemo pomoću vektorskih oznaka:\n",
    "### $$Y(x_{i+1})=Y(x_{i})+hF(x_i,Y_i)$$\n",
    "#### Primenjujemo sada Ojlerov metod na sistem za predator-plen model. Koristimo $h=0.1$:\n",
    "#### $Y(0+0.1)=Y(0,Y_0)+0.1F(0,Y_0)$\n",
    "#### $Y_1=Y(0.1)=\\begin{bmatrix}200\\\\30\\end{bmatrix}+0.1\\begin{bmatrix}y_1(0.5−0.2y_2)\\\\y_2(0.04y_1−0.4)\\end{bmatrix}$\n",
    "#### $Y_1=Y(0.1)=\\begin{bmatrix}200\\\\30\\end{bmatrix}+0.1\\begin{bmatrix}200(0.5−0.2\\cdot 30)\\\\30(0.04\\cdot 200−0.4)\\end{bmatrix}$\n",
    "#### $Y_1=Y(0.1)=\\begin{bmatrix}200\\\\30\\end{bmatrix}+0.1\\begin{bmatrix}-2\\\\1.2\\end{bmatrix}$\n",
    "#### $Y_1=Y(0.1)=\\begin{bmatrix}198\\\\31.2\\end{bmatrix}$\n",
    "#### Uradićemo sada još jedan korak.\n",
    "#### $Y_2=Y(0.1+0.1)=Y_1+0.1F(0.1,Y_1)$\n",
    "#### $Y_2=Y(0.2)=\\begin{bmatrix}198\\\\31.2\\end{bmatrix}+0.1\\begin{bmatrix}y_1(0.5−0.2y_2)\\\\y_2(0.04y_1−0.4)\\end{bmatrix}$\n",
    "#### $Y_2=Y(0.2)=\\begin{bmatrix}198\\\\31.2\\end{bmatrix}+0.1\\begin{bmatrix}198(0.5−0.2\\cdot 31.2)\\\\31.2(0.04\\cdot 198−0.4)\\end{bmatrix}$\n",
    "#### $Y_2=Y(0.2)=\\begin{bmatrix}195.545\\\\32.423\\end{bmatrix}$"
   ]
  },
  {
   "cell_type": "markdown",
   "metadata": {},
   "source": [
    "#### Napisaćemo sada kod za Ojerlov metod za rešavanje sistema ODJ. Razlika u odnosu na funkciju koja se primenjuje na jednu jednačinu je u tome da sada radimo sa matricama, a ne vektorima. \n",
    "#### Matrica $Y$ kao prvu kolonu sadrži vektor početnih rešenja, dok ostale kolone popunjavamo pomoću formule za Ojlerov metod. Formula može direktno implementirati (bez for petlji) jer MATLAB i Octave rade sa vektorima.\n",
    "#### Još jedna razlika u odnosu na kod koji smo pisali na prošlom predavanju je da sada nemamo fiksnu krajnju tačku već zadajemo broj koraka primene metoda."
   ]
  },
  {
   "cell_type": "code",
   "execution_count": 70,
   "metadata": {},
   "outputs": [],
   "source": [
    "function [Y,X]=ojler_sistem(x0,y0,h,odj,br_koraka)\n",
    "    n = length(y0);\n",
    "    Y = zeros(n,br_koraka);\n",
    "    X = zeros(n,br_koraka);\n",
    "    Y(:,1) = y0';\n",
    "    X(:,1) = x0';\n",
    "    for i=2:br_koraka\n",
    "        X(:,i) = X(:,i-1) + h;\n",
    "        Y(:,i) = Y(:,i-1) + h*feval(odj,X(:,i-1),Y(:,i-1));\n",
    "    end\n",
    "endfunction"
   ]
  },
  {
   "cell_type": "markdown",
   "metadata": {},
   "source": [
    "#### Zadajemo sada sistem kao jedan vektor koji ima 1 kolonu i onoliko vrsta koliko ima jedančina u sistemu. Svaka jedančina je jedan element tog vektora."
   ]
  },
  {
   "cell_type": "code",
   "execution_count": 71,
   "metadata": {},
   "outputs": [],
   "source": [
    "function z=odj_sistem(x,y)\n",
    "    z=zeros(2,1);\n",
    "    z(1)=y(1)*(0.5-0.02*y(2));\n",
    "    z(2)=y(2)*(0.004*y(1)-0.4);\n",
    "endfunction"
   ]
  },
  {
   "cell_type": "markdown",
   "metadata": {},
   "source": [
    "#### Pozivamo sada funkciju koju smo napisali. Početne vrednosti su sada vektori."
   ]
  },
  {
   "cell_type": "code",
   "execution_count": 72,
   "metadata": {},
   "outputs": [
    {
     "name": "stdout",
     "output_type": "stream",
     "text": [
      "Y =\n",
      "\n",
      " Columns 1 through 8:\n",
      "\n",
      "   200.000   198.000   195.545   192.642   189.304   185.552   181.412   176.915\n",
      "    30.000    31.200    32.423    33.662    34.910    36.157    37.394    38.612\n",
      "\n",
      " Columns 9 and 10:\n",
      "\n",
      "   172.099   167.005\n",
      "    39.800    40.947\n",
      "\n",
      "X =\n",
      "\n",
      " Columns 1 through 8:\n",
      "\n",
      "   0.00000   0.10000   0.20000   0.30000   0.40000   0.50000   0.60000   0.70000\n",
      "   0.00000   0.10000   0.20000   0.30000   0.40000   0.50000   0.60000   0.70000\n",
      "\n",
      " Columns 9 and 10:\n",
      "\n",
      "   0.80000   0.90000\n",
      "   0.80000   0.90000\n",
      "\n"
     ]
    }
   ],
   "source": [
    "x0=[0,0];\n",
    "y0=[200,30];\n",
    "h=0.1;\n",
    "br_koraka=10;\n",
    "[Y,X]=ojler_sistem(x0,y0,h,'odj_sistem',br_koraka)"
   ]
  },
  {
   "cell_type": "markdown",
   "metadata": {},
   "source": [
    "#### Povećavamo broj koraka i crtamo grafik rešenja."
   ]
  },
  {
   "cell_type": "code",
   "execution_count": 73,
   "metadata": {},
   "outputs": [],
   "source": [
    "x0=[0,0];\n",
    "y0=[200,30];\n",
    "h=0.1;\n",
    "br_koraka=1000;\n",
    "[Y_o,X]=ojler_sistem(x0,y0,h,'odj_sistem',br_koraka);"
   ]
  },
  {
   "cell_type": "markdown",
   "metadata": {},
   "source": [
    "#### Prikazujemo sada rešenja obe jednačine na jednom grafiku. U zavisnosti od početnih uslova možemo da vidimo šta će se dodogiti sa populacijama predatora i plena kroz vreme."
   ]
  },
  {
   "cell_type": "code",
   "execution_count": 74,
   "metadata": {},
   "outputs": [
    {
     "data": {
      "image/png": "[encoded data removed]",
      "text/plain": [
       "<IPython.core.display.Image object>"
      ]
     },
     "metadata": {},
     "output_type": "display_data"
    }
   ],
   "source": [
    "plot(X(1,:),Y_o(1,:), \"linewidth\",14, \"color\", \"blue\")\n",
    "hold on;\n",
    "plot(X(2,:),Y_o(2,:), \"linewidth\",14, \"color\", \"red\")"
   ]
  },
  {
   "cell_type": "markdown",
   "metadata": {},
   "source": [
    "#### Na isti način na koji smo implementirali Ojlerov metod mogu se implementirati sve druge numeričke metode za rešvanje pojedničanih jednačina.\n",
    "#### U nastavku je prikazan primer primene Heunovog metoda, a nakon toga i kod za Heunov metod.\n",
    "#### $Y(x_{i+1})^0=Y(x_{i})+hF(x_i,Y_i)$\n",
    "#### $Y(x_{i+1})=Y(x_{i})+\\frac{1}{2}h(F(x_i,Y_i)+F(x_{i+1},Y_{i+1}^0))$\n",
    "#### Primenjujemo sada Heunov metod na sistem za predator-plen model:\n",
    "#### $F(x,y)=\\begin{bmatrix}y_1(0.5−0.2y_2)\\\\y_2(0.04y_1−0.4)\\end{bmatrix} \\hspace{0.8em} Y(0)=\\begin{bmatrix}200\\\\30\\end{bmatrix}$\n",
    "#### Koristimo $h=0.1$:\n",
    "#### $Y(0+0.1)^0=Y(0,Y_0)+0.1F(0,Y_0)$\n",
    "#### $Y(0.1)^0=\\begin{bmatrix}200\\\\30\\end{bmatrix}+0.1\\begin{bmatrix}200(0.5−0.2\\cdot 30)\\\\30(0.04\\cdot 200−0.4)\\end{bmatrix}=\\begin{bmatrix}198\\\\31.2\\end{bmatrix}$\n",
    "#### $Y_1^=Y(0.1)^1=\\begin{bmatrix}200\\\\30\\end{bmatrix}+\\frac{1}{2}\\cdot 0.1(\\begin{bmatrix}200(0.5−0.2\\cdot 30)\\\\30(0.04\\cdot 200−0.4)\\end{bmatrix}+ \\begin{bmatrix}198(0.5−0.2 \\cdot 31.2)\\\\31.2(0.004 \\cdot 198−0.4)\\end{bmatrix})=\\begin{bmatrix}197.772\\\\31.212\\end{bmatrix}$"
   ]
  },
  {
   "cell_type": "code",
   "execution_count": 76,
   "metadata": {},
   "outputs": [],
   "source": [
    "function [Y,X]=heun_sistem(x0,y0,h,odj,br_koraka)\n",
    "    n = length(y0);\n",
    "    Y = zeros(n,br_koraka);\n",
    "    X = zeros(n,br_koraka);\n",
    "    Y(:,1) = y0';\n",
    "    X(:,1) = x0';\n",
    "    for i=2:br_koraka\n",
    "        X(:,i) = X(:,i-1) + h;\n",
    "        Y(:,i) = Y(:,i-1) + h*feval(odj,X(:,i-1),Y(:,i-1));\n",
    "        Y(:,i) = Y(:,i-1) + h*(feval(odj,X(:,i-1),Y(:,i-1))+feval(odj,X(:,i),Y(:,i)))/2;\n",
    "    end\n",
    "endfunction"
   ]
  },
  {
   "cell_type": "code",
   "execution_count": 77,
   "metadata": {},
   "outputs": [],
   "source": [
    "function z=odj_sistem(x,y)\n",
    "    z=zeros(2,1);\n",
    "    z(1,1)=y(1)*(0.5-0.02*y(2));\n",
    "    z(2,1)=y(2)*(0.004*y(1)-0.4);\n",
    "endfunction"
   ]
  },
  {
   "cell_type": "code",
   "execution_count": 78,
   "metadata": {},
   "outputs": [
    {
     "name": "stdout",
     "output_type": "stream",
     "text": [
      "Y =\n",
      "\n",
      "   200.000   197.772   195.092   191.974   188.437\n",
      "    30.000    31.212    32.440    33.678    34.916\n",
      "\n",
      "X =\n",
      "\n",
      "   0.00000   0.10000   0.20000   0.30000   0.40000\n",
      "   0.00000   0.10000   0.20000   0.30000   0.40000\n",
      "\n"
     ]
    }
   ],
   "source": [
    "x0=[0,0];\n",
    "y0=[200,30];\n",
    "h=0.1;\n",
    "br_koraka=5;\n",
    "[Y,X]=heun_sistem(x0,y0,h,'odj_sistem',br_koraka)"
   ]
  },
  {
   "cell_type": "code",
   "execution_count": 79,
   "metadata": {},
   "outputs": [],
   "source": [
    "x0=[0,0];\n",
    "y0=[200,30];\n",
    "h=0.1;\n",
    "br_koraka=1000;\n",
    "[Y_h,X]=heun_sistem(x0,y0,h,'odj_sistem',br_koraka);"
   ]
  },
  {
   "cell_type": "code",
   "execution_count": 80,
   "metadata": {},
   "outputs": [
    {
     "data": {
      "image/png": "[encoded data removed]",
      "text/plain": [
       "<IPython.core.display.Image object>"
      ]
     },
     "metadata": {},
     "output_type": "display_data"
    }
   ],
   "source": [
    "plot(X(1,:),Y_h(1,:), \"linewidth\",14, \"color\", \"blue\")\n",
    "hold on;\n",
    "plot(X(2,:),Y_h(2,:), \"linewidth\",14, \"color\", \"red\")"
   ]
  },
  {
   "cell_type": "code",
   "execution_count": 81,
   "metadata": {},
   "outputs": [],
   "source": [
    "function [Y,X]=RungeKutta4_sistem(x0,y0,h,odj,br_koraka)\n",
    "    n = length(y0);\n",
    "    Y = zeros(n,br_koraka);\n",
    "    X = zeros(n,br_koraka);\n",
    "    Y(:,1) = y0';\n",
    "    X(:,1) = x0';\n",
    "    for i=2:br_koraka\n",
    "        X(:,i) = X(:,i-1) + h;\n",
    "        k1=h*feval(odj,X(:,i-1),Y(:,i-1));\n",
    "        k2=h*feval(odj,X(:,i-1)+1/2*h,Y(:,i-1)+1/2*k1);\n",
    "        k3=h*feval(odj,X(:,i-1)+1/2*h,Y(:,i-1)+1/2*k2);\n",
    "        k4=h*feval(odj,X(:,i-1)+h,Y(:,i-1)+k3);\n",
    "        Y(:,i)=Y(:,i-1)+1/6*(k1+2*k2+2*k3+k4);\n",
    "    end\n",
    "endfunction"
   ]
  },
  {
   "cell_type": "code",
   "execution_count": 82,
   "metadata": {},
   "outputs": [],
   "source": [
    "function z=odj_sistem(x,y)\n",
    "    z=zeros(2,1);\n",
    "    z(1,1)=y(1)*(0.5-0.02*y(2));\n",
    "    z(2,1)=y(2)*(0.004*y(1)-0.4);\n",
    "endfunction"
   ]
  },
  {
   "cell_type": "code",
   "execution_count": 83,
   "metadata": {},
   "outputs": [],
   "source": [
    "x0=[0,0];\n",
    "y0=[200,30];\n",
    "h=0.1;\n",
    "br_koraka=1000;\n",
    "[Y_r,X]=RungeKutta4_sistem(x0,y0,h,'odj_sistem',br_koraka);"
   ]
  },
  {
   "cell_type": "code",
   "execution_count": 84,
   "metadata": {},
   "outputs": [
    {
     "data": {
      "image/png": "[encoded data removed]",
      "text/plain": [
       "<IPython.core.display.Image object>"
      ]
     },
     "metadata": {},
     "output_type": "display_data"
    }
   ],
   "source": [
    "plot(X(1,:),Y_r(1,:), \"linewidth\",14, \"color\", \"blue\")\n",
    "hold on;\n",
    "plot(X(2,:),Y_r(2,:), \"linewidth\",14, \"color\", \"red\")"
   ]
  },
  {
   "cell_type": "markdown",
   "metadata": {},
   "source": [
    "#### Uporedićemo sada Ojlerov metod redom sa Heunovim. Ojlerov metod označen je plavom i crvenom bojom."
   ]
  },
  {
   "cell_type": "code",
   "execution_count": 85,
   "metadata": {},
   "outputs": [
    {
     "data": {
      "image/png": "[encoded data removed]",
      "text/plain": [
       "<IPython.core.display.Image object>"
      ]
     },
     "metadata": {},
     "output_type": "display_data"
    }
   ],
   "source": [
    "hold on;\n",
    "plot(X(1,:),Y_o(1,:), \"linewidth\",14, \"color\", \"blue\")\n",
    "plot(X(2,:),Y_o(2,:), \"linewidth\",14, \"color\", \"red\")\n",
    "plot(X(1,:),Y_h(1,:), \"linewidth\",14, \"color\", \"green\")\n",
    "plot(X(2,:),Y_h(2,:), \"linewidth\",14, \"color\", \"magenta\")"
   ]
  },
  {
   "cell_type": "markdown",
   "metadata": {},
   "source": [
    "#### Uporedićemo sada Ojlerov metod redom sa RK4. Ojlerov metod označen je plavom i crvenom bojom."
   ]
  },
  {
   "cell_type": "code",
   "execution_count": 86,
   "metadata": {},
   "outputs": [
    {
     "data": {
      "image/png": "[encoded data removed]",
      "text/plain": [
       "<IPython.core.display.Image object>"
      ]
     },
     "metadata": {},
     "output_type": "display_data"
    }
   ],
   "source": [
    "hold on;\n",
    "plot(X(1,:),Y_o(1,:), \"linewidth\",14, \"color\", \"blue\")\n",
    "plot(X(2,:),Y_o(2,:), \"linewidth\",14, \"color\", \"red\")\n",
    "plot(X(1,:),Y_r(1,:), \"linewidth\",14, \"color\", \"green\")\n",
    "plot(X(2,:),Y_r(2,:), \"linewidth\",14, \"color\", \"magenta\")"
   ]
  },
  {
   "cell_type": "markdown",
   "metadata": {},
   "source": [
    "#### Rešenje dobijeno Ojlerovom metodom razlikuje se od rešenja dobijenog Heunovom i RK4 metodom. Sa obzirom da Ojlerov metod vrši najgrublju procenu sledeće tačke, on generalno daje loše rezultate kada je rešenje funkcija koja osciluje, što je čest slučaj kod ovog predator-plen modela."
   ]
  },
  {
   "cell_type": "markdown",
   "metadata": {},
   "source": [
    "### Primenićemo sada Ojlerov metod na još jedan primer.\n",
    "### $y_1′=y_2\\\\y_2′=1-y_1\\\\y_1(0)=1, y_2(0)=-2$\n",
    "### $F(x,y)=\\begin{bmatrix}y_2\\\\1-y_1\\end{bmatrix} \\hspace{0.8em} Y(0)=\\begin{bmatrix}-1\\\\1\\end{bmatrix}$\n",
    "#### Kod ovog primera izvod prve funkcije koju tražimo je druga funkciju koju tražimo. Takve sisteme dobijamo kada rešavamo ODJ reda većeg od 1 pa iz tog razloga obrađujemo baš ovakav primer.\n",
    "#### $Y(0+0.1)=Y(0,Y_0)+0.1F(0,Y_0)$\n",
    "#### $Y_1=Y(0.1)=\\begin{bmatrix}-1\\\\1\\end{bmatrix}+0.1\\begin{bmatrix}1\\\\1-(-1)\\end{bmatrix}=\\begin{bmatrix}-0.9\\\\1.2\\end{bmatrix}$\n",
    "#### $Y_1=Y(0.2)=\\begin{bmatrix}-0.9\\\\1.2\\end{bmatrix}+0.1\\begin{bmatrix}1.2\\\\1-(-0.9)\\end{bmatrix}=\\begin{bmatrix}-0.78\\\\1.39\\end{bmatrix}$"
   ]
  },
  {
   "cell_type": "code",
   "execution_count": 87,
   "metadata": {},
   "outputs": [],
   "source": [
    "function z=odj_sistem(x,y)\n",
    "    z=zeros(2,1);\n",
    "    z(1,1)=y(2);\n",
    "    z(2,1)=1-y(1);\n",
    "end"
   ]
  },
  {
   "cell_type": "code",
   "execution_count": 88,
   "metadata": {},
   "outputs": [],
   "source": [
    "x0=[0,0];\n",
    "y0=[-1,1];\n",
    "h=0.1;\n",
    "br_koraka=50;\n",
    "[Y,X]=ojler_sistem(x0,y0,h,'odj_sistem',br_koraka);"
   ]
  },
  {
   "cell_type": "code",
   "execution_count": 89,
   "metadata": {},
   "outputs": [
    {
     "data": {
      "image/png": "[encoded data removed]",
      "text/plain": [
       "<IPython.core.display.Image object>"
      ]
     },
     "metadata": {},
     "output_type": "display_data"
    }
   ],
   "source": [
    "plot(X(1,:),Y(1,:), \"linewidth\",14,  \"color\", \"blue\")\n",
    "hold on;\n",
    "plot(X(2,:),Y(2,:), \"linewidth\",14,  \"color\", \"red\")"
   ]
  },
  {
   "cell_type": "markdown",
   "metadata": {},
   "source": [
    "#### Prethodni sistem u stvari predastavlja diferencijalnu jednačinu druog reda oblika:\n",
    "### $$\\ddot{y}+y=1, \\hspace{0.5em} y(0)=-1,\\dot{y}(0)=1$$\n",
    "#### Funkcija $y_1(x)$, označena plavom bojom na grafiku iznad, predstavlja rešenje date diferencijalne jednačine drugog reda, dok funkcija $y_2(x)$, označena crevnom bojom na grafiku iznad, predstavlja prvi izvod funkcije $y_1(x)$.\n",
    "#### Sa grafika se vidi da prvi izvod počinje da bude negativan negde između 2 i 3, pa tada funkcija kreće da opada. Takođe se vidi da je ekstrem (u ovom slučaju maksimum) funkcije je u tački u kojoj prvi izvod ima vrednost 0."
   ]
  },
  {
   "cell_type": "markdown",
   "metadata": {},
   "source": [
    "## Rešavanje ODJ višeg reda\n",
    "#### Videli samo da se ODJ višeg reda može rešavati kao sistem ODJ. U nastavku ćemo pokazati na koji način se ODJ višeg reda konvertuje u sistem ODJ.\n",
    "#### Navodimo prvo korake procesa konverzije, pa onda nekoliko primera.\n",
    "#### 1. Uvodimo nove zavisne promenljive. Uzimamo zavisnu promenljivu i sve njene izvode do jednog manje reda od najvećeg. Zamenjujemo ih novim promenljivima.\n",
    "#### 2. Zapisujemo datu diferencijalnu jednačinu u drugom obliku upotrebom novih zavisnih promenljivih tako što dodajemo po jednu jednačinu za svaku novu zavisnu promenljivu.\n",
    "#### Primer 1.\n",
    "#### $$\\ddot{y}+y=1, \\hspace{0.5em} y(0)=-1,\\dot{y}=1$$\n",
    "#### Nove zavisne promenljive su:\n",
    "#### $$y_1=y\\\\y_2=\\dot{y}$$\n",
    "#### Prva nova jednačina je:\n",
    "#### $$\\dot{y_1}=y_2$$\n",
    "#### Druga nova jednačina je:\n",
    "#### $$\\dot{y_2}+y_1=1 \\implies \\dot{y_2}=1-y_1$$\n",
    "#### Dobijeni sistem u matričnom obliku:\n",
    "#### $$F(x,y)=\\begin{bmatrix}\\dot{y_1}\\\\\\dot{y_2}\\end{bmatrix}=\\begin{bmatrix}y_2\\\\1-y_1\\end{bmatrix} \\hspace{0.8em} Y(0)=\\begin{bmatrix}-1\\\\1\\end{bmatrix}$$\n",
    "#### Primer 2.\n",
    "#### $$\\dddot{y}+2\\ddot{y}+2\\dot{y}+8y=1, \\hspace{0.5em} y(0)=4,\\dot{y}(0)=1,\\ddot{y}(0)=9$$\n",
    "#### Nove zavisne promenljive su:\n",
    "#### $$y_1=y\\\\y_2=\\dot{y}\\\\y_3=\\ddot{y}$$\n",
    "#### Prva nova jednačina je:\n",
    "#### $$\\dot{y_1}=y_2$$\n",
    "#### Prva nova jednačina je:\n",
    "#### $$\\dot{y_2}=y_3$$\n",
    "#### Druga nova jednačina je:\n",
    "#### $$\\dot{y_3}+2y_3+2y_2+8y_1=1 \\implies \\dot{y_3}=1-2y_3-2y_2-8y_1$$\n",
    "#### Dobijeni sistem u matričnom obliku:\n",
    "#### $$F(x,y)=\\begin{bmatrix}\\dot{y_1}\\\\\\dot{y_2}\\\\\\dot{y_3}\\end{bmatrix}=\\begin{bmatrix}y_2\\\\y_3\\\\1-2y_3-2y_2-8y_1\\end{bmatrix} \\hspace{0.8em} Y(0)=\\begin{bmatrix}4\\\\1\\\\9\\end{bmatrix}$$\n",
    "#### Dakle, videli smo na koji način se vrši konverzija ODJ višeg reda. U nastavku rešavamo prethodni Primer 2. pomoću RK4 metode."
   ]
  },
  {
   "cell_type": "code",
   "execution_count": 91,
   "metadata": {},
   "outputs": [],
   "source": [
    "function z=odj_sistem(x,y)\n",
    "    z=zeros(3,1);\n",
    "    z(1,1)=y(2);\n",
    "    z(2,1)=y(3);\n",
    "    z(3,1)=1-2*y(3)-2*y(2)-8*y(1);\n",
    "end"
   ]
  },
  {
   "cell_type": "code",
   "execution_count": 92,
   "metadata": {},
   "outputs": [],
   "source": [
    "x0=[0,0,0];\n",
    "y0=[4,1,9];\n",
    "h=0.1;\n",
    "br_koraka=50;\n",
    "[Y_r,X]=RungeKutta4_sistem(x0,y0,h,'odj_sistem',br_koraka);"
   ]
  },
  {
   "cell_type": "code",
   "execution_count": 93,
   "metadata": {},
   "outputs": [
    {
     "data": {
      "image/png": "[encoded data removed]",
      "text/plain": [
       "<IPython.core.display.Image object>"
      ]
     },
     "metadata": {},
     "output_type": "display_data"
    }
   ],
   "source": [
    "plot(X(1,:),Y_r(1,:), \"linewidth\",14, \"color\", \"blue\")\n",
    "hold on;\n",
    "plot(X(2,:),Y_r(2,:), \"linewidth\",14, \"color\", \"red\")\n",
    "plot(X(3,:),Y_r(3,:), \"linewidth\",14, \"color\", \"green\")"
   ]
  },
  {
   "cell_type": "markdown",
   "metadata": {},
   "source": [
    "#### Funkcija $y_1(x)$, označena plavom bojom na grafiku iznad, predstavlja rešenje date diferencijalne jednačine trećeg reda. Funkcija $y_2(x)$, označena crvenom bojom, je prvi izvod funkcije $y_1(x)$. Funkcija $y_3(x)$, označena zelenom bojom je drugi izvod funkcije $y_1(x)$.\n",
    "#### Sa grafika na primer možemo da vidimo da je funkcija konveksna tamo gde je drugi izvod veći od 0, a konkavna tamo gde je manji od 0."
   ]
  },
  {
   "cell_type": "markdown",
   "metadata": {},
   "source": [
    "# Problem graničnih uslova (PGU)\n",
    "#### Za razliku od probema početnih uslova, kod problema graničnih uslova početni uslovi zadati su u više tačka, tipično na granicama nekog regiona na kome se rešava diferencijalna jednačina.\n",
    "#### Na ovom krusu razmatraćemo samo probleme kod kojih su početni uslovi zadati u dve tačke.\n",
    "#### Na primer, sledeća jednačina drugog reda (koju smo rešavali gore) može se rešavati tako da zahtevamo da rešenje (funkcija $y(x)$) u tački 1 ima vrednost 2:\n",
    "#### $$\\ddot{y}+y=1, \\hspace{0.5em} y(0)=-1,y(1)=2$$\n",
    "#### Primetite da sada nemamo dat početni uslov za prvi izvod funkcije."
   ]
  },
  {
   "cell_type": "markdown",
   "metadata": {},
   "source": [
    "## Metod gađanja\n",
    "#### Prvi metod za rešavanje PGU koji ćemo pokazati je metod gađanja ($shooting$ $method$).\n",
    "#### Kod ovog metoda meta nam je drugi granični uslov, a u nastavku ćemo pokazati kako gađamo, tj. kako nišanimo.\n",
    "#### Korake metoda gađanja objašnjavamo na primeru. Rešavamo sledeći problem:\n",
    "#### $$\\ddot{y}+y=1, \\hspace{0.5em} y(0)=-1,y(1)=2$$\n",
    "#### Prvi korak je konverzija u sistem ODJ. Konverziju smo već uradili gore, a dobijeni sistem u matričnom obliku je:\n",
    "#### $$F(x,y)=\\begin{bmatrix}\\dot{y_1}\\\\\\dot{y_2}\\end{bmatrix}=\\begin{bmatrix}y_2\\\\1-y_1\\end{bmatrix} \\hspace{0.8em} Y(0)=\\begin{bmatrix}-1\\\\?\\end{bmatrix}$$\n",
    "#### Da li možemo primenimo neki od numeričkih metoda da rešimo sistem?\n",
    "#### Očigledno da ne možemo jer nam nedostaje početni uslov za prvi izvod. Naš problem je zadat na takav način da umesto toga znamo vrednost funkcije $y(x)$ u nekoj drugoj tački.\n",
    "#### Drugi korak metoda gađanje je zadavanje početnih uslova koji nedostaju. To je korak u kome nišanimo. Ako gađamo prvi put, početni uslov biramo na slučajan način. Recimo da smo odabrali vrednost 0:\n",
    "#### $$\\ddot{y}+y=1, \\hspace{0.5em} y(0)=-1,\\dot{y}=y_2(0)=0$$\n",
    "#### Rešavamo sada zadati sistem pomoću nekog numeričkog metoda, na primer RK4."
   ]
  },
  {
   "cell_type": "code",
   "execution_count": 94,
   "metadata": {},
   "outputs": [],
   "source": [
    "function z=odj_sistem(x,y)\n",
    "    z=zeros(2,1);\n",
    "    z(1,1)=y(2);\n",
    "    z(2,1)=1-y(1);\n",
    "end"
   ]
  },
  {
   "cell_type": "code",
   "execution_count": 95,
   "metadata": {},
   "outputs": [
    {
     "name": "stdout",
     "output_type": "stream",
     "text": [
      "Y_r =\n",
      "\n",
      " Columns 1 through 8:\n",
      "\n",
      "  -1.00000  -0.99001  -0.96013  -0.91067  -0.84212  -0.75517  -0.65067  -0.52969\n",
      "   0.00000   0.19967   0.39734   0.59104   0.77884   0.95885   1.12928   1.28843\n",
      "\n",
      " Columns 9 through 11:\n",
      "\n",
      "  -0.39341  -0.24322  -0.08061\n",
      "   1.43471   1.56665   1.68294\n",
      "\n",
      "X =\n",
      "\n",
      " Columns 1 through 8:\n",
      "\n",
      "   0.00000   0.10000   0.20000   0.30000   0.40000   0.50000   0.60000   0.70000\n",
      "   0.00000   0.10000   0.20000   0.30000   0.40000   0.50000   0.60000   0.70000\n",
      "\n",
      " Columns 9 through 11:\n",
      "\n",
      "   0.80000   0.90000   1.00000\n",
      "   0.80000   0.90000   1.00000\n",
      "\n"
     ]
    }
   ],
   "source": [
    "x0=[0,0];\n",
    "y0=[-1,0];\n",
    "h=0.1;\n",
    "br_koraka=11;\n",
    "[Y_r,X]=RungeKutta4_sistem(x0,y0,h,'odj_sistem',br_koraka)"
   ]
  },
  {
   "cell_type": "code",
   "execution_count": 96,
   "metadata": {},
   "outputs": [
    {
     "data": {
      "image/png": "[encoded data removed]",
      "text/plain": [
       "<IPython.core.display.Image object>"
      ]
     },
     "metadata": {},
     "output_type": "display_data"
    }
   ],
   "source": [
    "plot(X(1,:),Y_r(1,:), \"linewidth\",14, \"color\", \"blue\")"
   ]
  },
  {
   "cell_type": "markdown",
   "metadata": {},
   "source": [
    "#### Provervamo da li je zadati granični uslov zadovoljen.\n",
    "#### Iz rešenja se vidi da je vrednost graničnog uslova:\n",
    "#### $$y(1)=-0.08$$\n",
    "#### Dakle, granični uslov nije pogođen. Moramo da gađamo ponovo.\n",
    "#### Kada drugi put nišanimo početni uslov koji nedostaje takođe biramo proizvoljno.\n",
    "#### Recimo da smo odabrali vrednost 4:\n",
    "#### $$\\ddot{y}+\\dot{y}=1, \\hspace{0.5em} y(0)=-1,\\dot{y}=y_2(0)=4$$\n",
    "#### Rešavamo sada zadati sistem pomoću nekog numeričkog metoda, na primer RK4."
   ]
  },
  {
   "cell_type": "code",
   "execution_count": 97,
   "metadata": {},
   "outputs": [
    {
     "name": "stdout",
     "output_type": "stream",
     "text": [
      "Y_r =\n",
      "\n",
      " Columns 1 through 8:\n",
      "\n",
      "  -1.00000  -0.59067  -0.16546   0.27141   0.71555   1.16254   1.60790   2.04718\n",
      "   4.00000   4.17968   4.31760   4.41239   4.46308   4.46918   4.43063   4.34780\n",
      "\n",
      " Columns 9 through 11:\n",
      "\n",
      "   2.47601   2.89008   3.28528\n",
      "   4.22154   4.05309   3.84415\n",
      "\n",
      "X =\n",
      "\n",
      " Columns 1 through 8:\n",
      "\n",
      "   0.00000   0.10000   0.20000   0.30000   0.40000   0.50000   0.60000   0.70000\n",
      "   0.00000   0.10000   0.20000   0.30000   0.40000   0.50000   0.60000   0.70000\n",
      "\n",
      " Columns 9 through 11:\n",
      "\n",
      "   0.80000   0.90000   1.00000\n",
      "   0.80000   0.90000   1.00000\n",
      "\n"
     ]
    }
   ],
   "source": [
    "x0=[0,0];\n",
    "y0=[-1,4];\n",
    "h=0.1;\n",
    "br_koraka=11;\n",
    "[Y_r,X]=RungeKutta4_sistem(x0,y0,h,'odj_sistem',br_koraka)"
   ]
  },
  {
   "cell_type": "code",
   "execution_count": 98,
   "metadata": {},
   "outputs": [
    {
     "data": {
      "image/png": "[encoded data removed]",
      "text/plain": [
       "<IPython.core.display.Image object>"
      ]
     },
     "metadata": {},
     "output_type": "display_data"
    }
   ],
   "source": [
    "plot(X(1,:),Y_r(1,:), \"linewidth\",14, \"color\", \"blue\")"
   ]
  },
  {
   "cell_type": "markdown",
   "metadata": {},
   "source": [
    "#### Provervamo da li je zadati granični uslov zadovoljen.\n",
    "#### Iz rešenja se vidi da je vrednost graničnog uslova:\n",
    "#### $$y(1)=3.28$$\n",
    "#### Dakle, granični uslov nije pogođen. Moramo da gađamo ponovo.\n",
    "#### Sada možemo da nišanimo pametnije. Upotrebićemo prethodna dva gađanja da zaključimo kako treba da nišanimo treći put.\n",
    "#### Hajde prvo da prikažemo naša gađanja na grafiku. Na $x$ osi je početni uslov koji smo birali, a na $y$ osi je granični uslov koji smo dobili."
   ]
  },
  {
   "cell_type": "code",
   "execution_count": 99,
   "metadata": {},
   "outputs": [
    {
     "data": {
      "image/png": "[encoded data removed]",
      "text/plain": [
       "<IPython.core.display.Image object>"
      ]
     },
     "metadata": {},
     "output_type": "display_data"
    }
   ],
   "source": [
    "x=[0,4];\n",
    "y=[-0.08, 3.28];\n",
    "plot(x,y,'o','markersize', 10,'markerfacecolor','b')\n",
    "axis([-1 5 -1 4.5])\n",
    "xlabel('Odabrani pocetni uslov');\n",
    "ylabel('Granicni uslov y(1)');\n",
    "set(gca, \"fontsize\", 18)"
   ]
  },
  {
   "cell_type": "markdown",
   "metadata": {},
   "source": [
    "#### Upotrebićemo sada interpolaciju da odredimo pravu kroz naša prva dva gađanja."
   ]
  },
  {
   "cell_type": "code",
   "execution_count": 100,
   "metadata": {},
   "outputs": [],
   "source": [
    "function p=linterp(x,y)\n",
    "    n=length(x);\n",
    "    p = 0;\n",
    "    for i=1:n\n",
    "        L=1;\n",
    "        for j=1:n  \n",
    "            if i~=j\n",
    "                L = conv(L,[1 -x(j)]/(x(i)-x(j)));\n",
    "            end\n",
    "        end\n",
    "        p = p + y(i)*L;\n",
    "    end\n",
    "endfunction"
   ]
  },
  {
   "cell_type": "code",
   "execution_count": 101,
   "metadata": {},
   "outputs": [
    {
     "data": {
      "image/png": "[encoded data removed]",
      "text/plain": [
       "<IPython.core.display.Image object>"
      ]
     },
     "metadata": {},
     "output_type": "display_data"
    }
   ],
   "source": [
    "x=[0,4];\n",
    "y=[-0.08, 3.28];\n",
    "p=linterp(x,y);\n",
    "xp=-1:0.1:5;\n",
    "plot(xp,polyval(p,xp),\"linewidth\",8, \"color\", \"red\")\n",
    "hold on;\n",
    "plot(x,y,'o','markersize', 10,'markerfacecolor','b')\n",
    "axis([-1 5 -1 4])\n",
    "xlabel('Odabrani pocetni uslov');\n",
    "ylabel('Granicni uslov y(1)');\n",
    "set(gca, \"fontsize\", 18)"
   ]
  },
  {
   "cell_type": "markdown",
   "metadata": {},
   "source": [
    "#### Sa grafika se vidi da bi trebalo da nišanimo tako da odaberemo početni uslov negde oko 3 da bi pogodili metu granični uslov $y(1)=2.$\n",
    "#### Na koji način možemo da dobijemo tačan početni uslov koji treba da odaberemo?\n",
    "#### Treba da odredimo vrednost na x-osi u kojoj data prava ima vrednost 2, što možemo svesti na određivanje nule polinoma prvog stepena.\n",
    "#### Ako je prava koju smo dobili $f(x)=kx+n$ mi tražimo x za koje važi $f(x)=2$, tj. $kx+n-2=0$.\n",
    "#### Koristimo na primer metod polovljenja"
   ]
  },
  {
   "cell_type": "code",
   "execution_count": 102,
   "metadata": {},
   "outputs": [],
   "source": [
    "function x=polovljenje(a,b,funkcija,maxIter,tacnost)\n",
    "fa=feval(funkcija,a);\n",
    "fb=feval(funkcija,b);\n",
    "if fa*fb<0\n",
    "    for i=1:maxIter\n",
    "        fa=feval(funkcija,a);\n",
    "        fb=feval(funkcija,b);\n",
    "        \n",
    "        c=(a+b)/2;\n",
    "        fc=feval(funkcija,c);\n",
    "        if fc==0 || abs(a-b)<tacnost\n",
    "            break;\n",
    "        end\n",
    "\n",
    "        if fa*fc<0\n",
    "            b=c;\n",
    "        else\n",
    "            a=c;\n",
    "        end\n",
    "    end\n",
    "    x=c;\n",
    "end\n",
    "endfunction"
   ]
  },
  {
   "cell_type": "code",
   "execution_count": 103,
   "metadata": {},
   "outputs": [
    {
     "name": "stdout",
     "output_type": "stream",
     "text": [
      "p =\n",
      "\n",
      "   0.840000  -0.080000\n",
      "\n"
     ]
    }
   ],
   "source": [
    "x=[0,4];\n",
    "y=[-0.08, 3.28];\n",
    "p=linterp(x,y)"
   ]
  },
  {
   "cell_type": "code",
   "execution_count": 104,
   "metadata": {},
   "outputs": [
    {
     "name": "stdout",
     "output_type": "stream",
     "text": [
      "x =  2.4761\n"
     ]
    }
   ],
   "source": [
    "x=polovljenje(2,3.5,@(x)0.84*x-0.08-2,10,10^-5)"
   ]
  },
  {
   "cell_type": "code",
   "execution_count": 105,
   "metadata": {},
   "outputs": [
    {
     "name": "stdout",
     "output_type": "stream",
     "text": [
      "Y_r =\n",
      "\n",
      " Columns 1 through 8:\n",
      "\n",
      "  -1.00000  -0.74281  -0.46821  -0.17894   0.12212   0.43194   0.74744   1.06546\n",
      "   2.47610   2.66340   2.82408   2.95655   3.05948   3.13183   3.17290   3.18226\n",
      "\n",
      " Columns 9 through 11:\n",
      "\n",
      "   1.38283   1.69637   2.00296\n",
      "   3.15983   3.10582   3.02079\n",
      "\n",
      "X =\n",
      "\n",
      " Columns 1 through 8:\n",
      "\n",
      "   0.00000   0.10000   0.20000   0.30000   0.40000   0.50000   0.60000   0.70000\n",
      "   0.00000   0.10000   0.20000   0.30000   0.40000   0.50000   0.60000   0.70000\n",
      "\n",
      " Columns 9 through 11:\n",
      "\n",
      "   0.80000   0.90000   1.00000\n",
      "   0.80000   0.90000   1.00000\n",
      "\n"
     ]
    }
   ],
   "source": [
    "x0=[0,0];\n",
    "y0=[-1,2.4761];\n",
    "h=0.1;\n",
    "br_koraka=11;\n",
    "[Y_r,X]=RungeKutta4_sistem(x0,y0,h,'odj_sistem',br_koraka)"
   ]
  },
  {
   "cell_type": "code",
   "execution_count": 106,
   "metadata": {},
   "outputs": [
    {
     "data": {
      "image/png": "[encoded data removed]",
      "text/plain": [
       "<IPython.core.display.Image object>"
      ]
     },
     "metadata": {},
     "output_type": "display_data"
    }
   ],
   "source": [
    "plot(X(1,:),Y_r(1,:), \"linewidth\",14, \"color\", \"blue\")"
   ]
  },
  {
   "cell_type": "markdown",
   "metadata": {},
   "source": [
    "#### Iz rezultata RK4 metoda, a i sa grafika može se videti da je granični uslov zadovljen, odnosno da važi $y(1)=2$.\n",
    "#### Dakle, dobili smo rešenje problema graničnih uslova i to je prva vrsta matrice Y vrednosti koju je vratio RK4 metod (što je i prikazano na prethodnom grafiku).\n",
    "#### Pokazaćemo kako je izgledao grafik naših gađanja, da bi ilustrovali zašto se ovaj metod zove baš metod gađanja.\n",
    "#### Prvo gađanje je označeno plavom, drugo crevenom i treće zelnom bojom."
   ]
  },
  {
   "cell_type": "code",
   "execution_count": 107,
   "metadata": {},
   "outputs": [
    {
     "data": {
      "image/png": "[encoded data removed]",
      "text/plain": [
       "<IPython.core.display.Image object>"
      ]
     },
     "metadata": {},
     "output_type": "display_data"
    }
   ],
   "source": [
    "x0=[0,0];\n",
    "y0=[-1,0];\n",
    "h=0.1;\n",
    "br_koraka=11;\n",
    "[Y_r_1,X]=RungeKutta4_sistem(x0,y0,h,'odj_sistem',br_koraka);\n",
    "\n",
    "y0=[-1,4];\n",
    "[Y_r_2,X]=RungeKutta4_sistem(x0,y0,h,'odj_sistem',br_koraka);\n",
    "\n",
    "y0=[-1,2.4761];\n",
    "[Y_r_3,X]=RungeKutta4_sistem(x0,y0,h,'odj_sistem',br_koraka);\n",
    "\n",
    "hold on;\n",
    "plot(X(1,:),Y_r_1(1,:), \"linewidth\",14, \"color\", \"blue\")\n",
    "plot(X(1,:),Y_r_2(1,:), \"linewidth\",14, \"color\", \"red\")\n",
    "plot(X(1,:),Y_r_3(1,:), \"linewidth\",14, \"color\", \"green\")"
   ]
  },
  {
   "cell_type": "markdown",
   "metadata": {},
   "source": [
    "#### Sa grafika se vidi da smo gađali 3 puta. Svaki put je početni uslov $y(0)=-1$ bio isti, ali se početni uslov $\\dot{y}(0)$ razlikovao. Trećim gađanjem (zelena boja) pogodili smo metu $y(1)=2$."
   ]
  },
  {
   "cell_type": "markdown",
   "metadata": {},
   "source": [
    "### Algoritam metode gađanja\n",
    "#### Sistematizovaćemo sada korake metode gađanja koje smo pokazali izad.\n",
    "#### Dat nam je problem graničnih uslova.\n",
    "#### Korak 1: Konvertujemo probelm u sistem ODJ.\n",
    "#### Korak 2: Na slučajan način biramo početni uslov koji nedostaje.\n",
    "#### Korak 3: Rešavamo sistem ODJ nekom od numeričkih metoda.\n",
    "#### Korak 4: Proveravamo da li je zadovoljen drugi granični uslov.\n",
    "#### Korak 5: Ako je drugi granični uslov zadovoljen, završavamo algoritam. Ako nije, a nemamo bar dva gađanja, vraćamo se na korak 2, inače prelazimo na sledeći korak.\n",
    "#### Korak 6. Ako imamo bar dva gađanja, odnosno dva odabira početnog uslova i dva rezultata za granični uslov, koristimo linearnu interpolaciju da odredimo koji tačno početni uslov treba da biramo.\n",
    "#### Korak 7. Rešavamo sistem ODJ uz početni uslov iz koraka 6. i tako dobijamo rešenje."
   ]
  },
  {
   "cell_type": "markdown",
   "metadata": {},
   "source": [
    "#### Metoda gađanja - primer 2.\n",
    "#### Primenićemo sada metodu gađanja na još jedan primer, ali ovog puta većinu koraka izvodimo ručno, tj. bez pomoći Octave.\n",
    "#### $$\\ddot{y}-4y+4x=0, \\hspace{0.5em} y(0)=1,y(1)=2$$\n",
    "#### Korak 1: Kovertujemo ODJ drugog reda u sistem:\n",
    "#### $$F(x,y)=\\begin{bmatrix}\\dot{y_1}\\\\\\dot{y_2}\\end{bmatrix}=\\begin{bmatrix}y_2\\\\4(y_1-x)\\end{bmatrix} \\hspace{0.8em} Y(0)=\\begin{bmatrix}1\\\\?\\end{bmatrix}$$\n",
    "#### Korak 2: Biramo početni uslov:\n",
    "#### $$\\dot{y}=y_2(0)=0$$\n",
    "#### Korak 3: Rešavamo sledeći sistem:\n",
    "#### $$F(x,y)=\\begin{bmatrix}\\dot{y_1}\\\\\\dot{y_2}\\end{bmatrix}=\\begin{bmatrix}y_2\\\\4(y_1-x)\\end{bmatrix} \\hspace{0.8em} Y(0)=\\begin{bmatrix}1\\\\0\\end{bmatrix}$$\n",
    "#### Koristimo Ojlerov metod i biramo $h=1$ da bi u jednom koraku dobili drugi granični uslov. (To je urađeno samo zbog predavanja, inače treba uzeti manji korak i postepeno doći do drugog graničnog uslova):\n",
    "#### $Y(0+1)=Y(0,Y_0)+1F(0,Y_0)$\n",
    "#### $Y_1=Y(1)=\\begin{bmatrix}1\\\\0\\end{bmatrix}+1\\begin{bmatrix}0\\\\4(1-0)\\end{bmatrix}=\\begin{bmatrix}1\\\\4\\end{bmatrix}$\n",
    "#### Korak 4: Vidimo da je $y(1)=1$ tako da drugi granični uslov nije zadovoljen.\n",
    "#### Korak 5: Vraćamo se na korak 2. i biramo opet početni uslov:\n",
    "#### $$\\dot{y}=y_2(0)=2$$\n",
    "#### Korak 3: Rešavamo sledeći sistem:\n",
    "#### $$F(x,y)=\\begin{bmatrix}\\dot{y_1}\\\\\\dot{y_2}\\end{bmatrix}=\\begin{bmatrix}y_2\\\\4(y_1-x)\\end{bmatrix} \\hspace{0.8em} Y(0)=\\begin{bmatrix}1\\\\2\\end{bmatrix}$$\n",
    "#### Koristimo Ojlerov metod i biramo $h=1$:\n",
    "#### $Y(0+1)=Y(0,Y_0)+1F(0,Y_0)$\n",
    "#### $Y_1=Y(1)=\\begin{bmatrix}1\\\\2\\end{bmatrix}+1\\begin{bmatrix}2\\\\4(1-0)\\end{bmatrix}=\\begin{bmatrix}3\\\\6\\end{bmatrix}$\n",
    "#### Korak 4: Vidimo da je $y(1)=3$ tako da drugi granični uslov nije zadovoljen.\n",
    "#### Korak 5: Granični uslov nije zadovoljen, ali imamo dva gađanja pa prelazimo na korak 6.\n",
    "#### Korak 6: Koristimo linearnu interpolaciju. Interpoliramo tačke: $(0,1)$ i $(2,3)$.\n",
    "#### $$p(x)=\\frac{x-2}{0-2}2+\\frac{x-0}{2-0}3=x+1$$\n",
    "#### Koristimo dobijeni polinom (pravu) da odredimo za koje $x$ je vrednost $p(x)=2$, tj. koji početni uslovi bi trebalo da biramo da bi zadovoljili drugi granični uslov.\n",
    "#### $$x=?, p(x)=2\\\\x+1=2\\\\x=1$$\n",
    "#### Rešavamo sledeći sistem:\n",
    "#### $$F(x,y)=\\begin{bmatrix}\\dot{y_1}\\\\\\dot{y_2}\\end{bmatrix}=\\begin{bmatrix}y_2\\\\4(y_1-x)\\end{bmatrix} \\hspace{0.8em} Y(0)=\\begin{bmatrix}1\\\\1\\end{bmatrix}$$\n",
    "#### Koristimo Ojlerov metod i biramo $h=1$:\n",
    "#### $Y(0+1)=Y(0,Y_0)+1F(0,Y_0)$\n",
    "#### $Y_1=Y(1)=\\begin{bmatrix}1\\\\1\\end{bmatrix}+1\\begin{bmatrix}1\\\\4(1-0)\\end{bmatrix}=\\begin{bmatrix}2\\\\5\\end{bmatrix}$\n",
    "#### Vidimo da smo dobili da je $y_1(1)=y(1)=2$ tako da je drugi granični uslov zadovoljen, i PGU je rešen.\n",
    "#### Napisaćemo sada kod za metodu gađanja."
   ]
  },
  {
   "cell_type": "code",
   "execution_count": 56,
   "metadata": {},
   "outputs": [],
   "source": [
    "function [Y,X, pu]=gadjanje(x0,y0,x1,y1,h,odj,br_jednacina,pokusaji,metod)\n",
    "    br_koraka=length(x0:h:x1);\n",
    "    br_pokusaja=length(pokusaji);\n",
    "    dr_gran_uslovi=zeros(1,br_pokusaja);\n",
    "    \n",
    "    for i=1:br_pokusaja\n",
    "        y0_gadj=[y0;pokusaji(i)];\n",
    "        x0_gadj=ones(br_jednacina,1).*x0;\n",
    "        [Y,X]=feval(metod,x0_gadj,y0_gadj,h,odj,br_koraka);\n",
    "        dr_gran_uslovi(1,i)=Y(1,br_koraka) % prikazujemo vrednosti za granicne uslove nakon 2 pogadjanja\n",
    "    end\n",
    "    \n",
    "    p=linterp(pokusaji,dr_gran_uslovi)\n",
    "    p=[p(1) p(2)-y1];\n",
    "    pu=roots(p) % prikazujemo pocetni uslov koji smo dobili posle interpolacije\n",
    "    \n",
    "    y0_gadj=[y0;pu];\n",
    "    x0_gadj=ones(br_jednacina,1).*x0;\n",
    "    [Y,X]=feval(metod,x0_gadj,y0_gadj,h,odj,br_koraka);\n",
    "endfunction"
   ]
  },
  {
   "cell_type": "markdown",
   "metadata": {},
   "source": [
    "#### Testiraćemo funkciju na oba primera PGU od gore."
   ]
  },
  {
   "cell_type": "code",
   "execution_count": 108,
   "metadata": {},
   "outputs": [],
   "source": [
    "function z=odj_sistem(x,y)\n",
    "    z=zeros(2,1);\n",
    "    z(1,1)=y(2);\n",
    "    z(2,1)=4*(y(1)-x(1));\n",
    "end"
   ]
  },
  {
   "cell_type": "code",
   "execution_count": 109,
   "metadata": {},
   "outputs": [
    {
     "name": "stdout",
     "output_type": "stream",
     "text": [
      "dr_gran_uslovi =\n",
      "\n",
      "   1   0\n",
      "\n",
      "dr_gran_uslovi =\n",
      "\n",
      "   1   3\n",
      "\n",
      "p =\n",
      "\n",
      "   1   1\n",
      "\n",
      "pu =  1\n",
      "Y =\n",
      "\n",
      "   1   2\n",
      "   1   5\n",
      "\n",
      "X =\n",
      "\n",
      "   0   1\n",
      "   0   1\n",
      "\n",
      "pu =  1\n"
     ]
    }
   ],
   "source": [
    "x0=0; % vrednost x u prvom granicnom uslovu.\n",
    "y0=1; % vrednost y u prvom granicnom uslovu.\n",
    "x1=1; % vrednost x u drugom granicnom uslovu\n",
    "y1=2; % vrednost y u drugom granicnom uslovu\n",
    "h=1; % korisimo h=1 da proverimo resenje koje smo dobili rucno iznad\n",
    "pokusaji=[0,2]; % vrednosti pomocu kojih nisanimo, tj. ono sto biramo proizvoljno umesto pocetnih uslova koji nedostaju\n",
    "[Y,X, pu]=gadjanje(x0,y0,x1,y1,h,'odj_sistem',2,pokusaji,'ojler_sistem') % prosledili smo 'ojler_sistem' kao metod da bi potvrdili rucno resenje"
   ]
  },
  {
   "cell_type": "code",
   "execution_count": 110,
   "metadata": {},
   "outputs": [
    {
     "data": {
      "image/png": "[encoded data removed]",
      "text/plain": [
       "<IPython.core.display.Image object>"
      ]
     },
     "metadata": {},
     "output_type": "display_data"
    }
   ],
   "source": [
    "% vidimo da se rezultati poklapaju sa onima koje smo dobili rucno. Crtamo sada grafik resenja.\n",
    "plot(X(1,:),Y(1,:), \"linewidth\",14, \"color\", \"blue\")"
   ]
  },
  {
   "cell_type": "markdown",
   "metadata": {},
   "source": [
    "#### Pozvaćemo sada funkciju za gađanje, ali sa manjim $h$ i pomoću RK4 metoda. Cilj nam je da dobijemo kvalitetnije rešenje."
   ]
  },
  {
   "cell_type": "code",
   "execution_count": 111,
   "metadata": {},
   "outputs": [
    {
     "name": "stdout",
     "output_type": "stream",
     "text": [
      "dr_gran_uslovi =\n",
      "\n",
      "   2.94873   0.00000\n",
      "\n",
      "dr_gran_uslovi =\n",
      "\n",
      "   2.9487   6.5755\n",
      "\n",
      "p =\n",
      "\n",
      "   1.8134   2.9487\n",
      "\n",
      "pu = -0.52318\n",
      "Y =\n",
      "\n",
      " Columns 1 through 8:\n",
      "\n",
      "   1.00000   0.96673   0.96825   1.00060   1.06107   1.14806   1.26106   1.40060\n",
      "  -0.52318  -0.15108   0.17483   0.46762   0.73904   1.00000   1.26095   1.53237\n",
      "\n",
      " Columns 9 through 11:\n",
      "\n",
      "   1.56825   1.76673   2.00000\n",
      "   1.82516   2.15107   2.52317\n",
      "\n",
      "X =\n",
      "\n",
      " Columns 1 through 8:\n",
      "\n",
      "   0.00000   0.10000   0.20000   0.30000   0.40000   0.50000   0.60000   0.70000\n",
      "   0.00000   0.10000   0.20000   0.30000   0.40000   0.50000   0.60000   0.70000\n",
      "\n",
      " Columns 9 through 11:\n",
      "\n",
      "   0.80000   0.90000   1.00000\n",
      "   0.80000   0.90000   1.00000\n",
      "\n",
      "pu = -0.52318\n"
     ]
    }
   ],
   "source": [
    "x0=0; % vrednost x u prvom granicnom uslovu.\n",
    "y0=1; % vrednost y u prvom granicnom uslovu.\n",
    "x1=1; % vrednost x u drugom granicnom uslovu\n",
    "y1=2; % vrednost y u drugom granicnom uslovu\n",
    "h=0.1;\n",
    "pokusaji=[0,2]; % vrednosti pomocu kojih nisanimo, tj. ono sto biramo proizvoljno umesto pocetnih uslova koji nedostaju\n",
    "[Y,X, pu]=gadjanje(x0,y0,x1,y1,h,'odj_sistem',2,pokusaji,'RungeKutta4_sistem')"
   ]
  },
  {
   "cell_type": "code",
   "execution_count": 112,
   "metadata": {},
   "outputs": [
    {
     "data": {
      "image/png": "[encoded data removed]",
      "text/plain": [
       "<IPython.core.display.Image object>"
      ]
     },
     "metadata": {},
     "output_type": "display_data"
    }
   ],
   "source": [
    "plot(X(1,:),Y(1,:), \"linewidth\",14, \"color\", \"blue\")"
   ]
  },
  {
   "cell_type": "markdown",
   "metadata": {},
   "source": [
    "#### Drugi primer:\n",
    "#### $$\\ddot{y}+y=1, \\hspace{0.5em} y(0)=-1,y(1)=2$$\n",
    "#### Sistem dobijen nakon konverzije:\n",
    "#### $$F(x,y)=\\begin{bmatrix}\\dot{y_1}\\\\\\dot{y_2}\\end{bmatrix}=\\begin{bmatrix}y_2\\\\1-y_1\\end{bmatrix} \\hspace{0.8em} Y(0)=\\begin{bmatrix}-1\\\\?\\end{bmatrix}$$"
   ]
  },
  {
   "cell_type": "code",
   "execution_count": 114,
   "metadata": {},
   "outputs": [],
   "source": [
    "function z=odj_sistem(x,y)\n",
    "    z=zeros(2,1);\n",
    "    z(1,1)=y(2);\n",
    "    z(2,1)=1-y(1);\n",
    "end"
   ]
  },
  {
   "cell_type": "code",
   "execution_count": 115,
   "metadata": {},
   "outputs": [
    {
     "name": "stdout",
     "output_type": "stream",
     "text": [
      "dr_gran_uslovi =\n",
      "\n",
      "  -0.080606   0.000000\n",
      "\n",
      "dr_gran_uslovi =\n",
      "\n",
      "  -0.080606   3.285276\n",
      "\n",
      "p =\n",
      "\n",
      "   0.841470  -0.080606\n",
      "\n",
      "pu =  2.4726\n",
      "Y =\n",
      "\n",
      " Columns 1 through 8:\n",
      "\n",
      "  -1.00000  -0.74316  -0.46891  -0.17998   0.12075   0.43025   0.74545   1.06320\n",
      "   2.47258   2.65990   2.82063   2.95319   3.05624   3.12875   3.17000   3.17957\n",
      "\n",
      " Columns 9 through 11:\n",
      "\n",
      "   1.38031   1.69362   2.00000\n",
      "   3.15738   3.10364   3.01889\n",
      "\n",
      "X =\n",
      "\n",
      " Columns 1 through 8:\n",
      "\n",
      "   0.00000   0.10000   0.20000   0.30000   0.40000   0.50000   0.60000   0.70000\n",
      "   0.00000   0.10000   0.20000   0.30000   0.40000   0.50000   0.60000   0.70000\n",
      "\n",
      " Columns 9 through 11:\n",
      "\n",
      "   0.80000   0.90000   1.00000\n",
      "   0.80000   0.90000   1.00000\n",
      "\n",
      "pu =  2.4726\n"
     ]
    }
   ],
   "source": [
    "x0=0; % vrednost x u prvom granicnom uslovu.\n",
    "y0=-1; % vrednost y u prvom granicnom uslovu.\n",
    "x1=1; % vrednost x u drugom granicnom uslovu\n",
    "y1=2; % vrednost y u drugom granicnom uslovu\n",
    "h=0.1; % korisimo h=1 da proverimo resenje koje smo dobili rucno iznad\n",
    "pokusaji=[0,4]; % vrednosti pomocu kojih nisanimo, tj. ono sto biramo proizvoljno umesto pocetnih uslova koji nedostaju\n",
    "[Y,X, pu]=gadjanje(x0,y0,x1,y1,h,'odj_sistem',2,pokusaji,'RungeKutta4_sistem') % prosledili smo 'ojler_sistem' kao metod da bi potvrdili rucno resenje"
   ]
  },
  {
   "cell_type": "code",
   "execution_count": 116,
   "metadata": {},
   "outputs": [
    {
     "data": {
      "image/png": "[encoded data removed]",
      "text/plain": [
       "<IPython.core.display.Image object>"
      ]
     },
     "metadata": {},
     "output_type": "display_data"
    }
   ],
   "source": [
    "% vidimo da se rezultati poklapaju sa onima koje smo dobili kada smo ovaj primer radili postpuno ranije. Crtamo sada grafik resenja.\n",
    "plot(X(1,:),Y(1,:), \"linewidth\",14, \"color\", \"blue\")"
   ]
  },
  {
   "cell_type": "markdown",
   "metadata": {},
   "source": [
    "## Metod konačnih razlika"
   ]
  },
  {
   "cell_type": "markdown",
   "metadata": {},
   "source": [
    "#### Ovaj metod drugačije pristupa problemu PGU. Proglem PGU konvertuje se u sistem algebarskih jednačina, a ne diferncijalnih kao kod metoda gađanja.\n",
    "#### Rešenje PGU određuje se kao rešenje sistema algebarskih jedančina.\n",
    "#### Postupak konverzije uključjuje više koraka koje ćemo prvo pokazati na primeru, kao kod metode gađanja:\n",
    "#### Rešavamo sledeći problem:\n",
    "#### $$\\ddot{y}+2\\dot{y}+y=x^2, \\hspace{0.5em} y(0)=0.2,y(1)=0.8$$\n",
    "#### Da bi diferncijalnu jedančinu konvertovali u algebarsku, moramo izvode da zanenimo nekim vrednostima.\n",
    "#### Kao što sam naziv metoda kaže, izvode ćemo zameniti konačnim razlikama. Konačne razlike se koriste nako numerička zamena za anlitički izvod funkcije u tački, i predstavljaju količnik (razlomak) koji izračunava malu promenu vrednosti $y$ podeljenu sa malom promenom $x$. U nastavku navodimo formule za konačne razlike za prvi i drugi izvod, a na posebnom predavanju ćemo detaljno obraditi numeričko diferenciranje:\n",
    "#### Recimo da imamo tačku $x_i$ za koju hoćemo da odredimo izvod fukciju $y=f(x)$. Za izračunavanje male promene vrednosti $x$ koristmo neku malu vrednost $h$:\n",
    "#### $$x_{i+1}=x_i + h\\\\x_{i-1}=x_i - h$$\n",
    "#### Formula za konačnu razliku za prvi izvod je:\n",
    "#### $$\\frac{y_{i+1}-y_{i-1}}{2h}$$\n",
    "#### gde je: $y_i=f(x_i)$,  $y_{i+1}=f(x_{i+1})$, $x_{i+1}-x_{i-1}=2h$.\n",
    "#### Formula za konačnu razliku za drugi izvod je:\n",
    "#### $$\\frac{y_{i+1}-2y_i-y_{i-1}}{h^2}$$\n",
    "#### Zamenićemo sada konačne razlike u naš PGU problem:\n",
    "#### $$\\ddot{y}+2\\dot{y}+y=x^2, \\hspace{0.5em} y(0)=0.2,y(1)=0.8$$\n",
    "#### $$\\frac{y_{i+1}-2y_i-y_{i-1}}{h^2}+2\\frac{y_{i+1}-y_{i-1}}{2h}+y_i=x_i^2, \\hspace{0.5em} y(0)=0.2,y(1)=0.8$$\n",
    "#### Sada treba da odredimo koje ćemo tačno tačke $x_i$ da koristimo. To radimo tako što uzimamo granične uslove kao kranje tačke, i onda interval $[0,1]$ delimo na delove veličine $h$.\n",
    "#### Recimo da uzmemo da je $h=0.25$ onda imamo sledeće tačke:\n",
    "#### $$x_0=0,x_1=0.25,x_2=0.5,x_3=0.75,x_4=1$$\n",
    "#### Ubacićemo sada $h=0.25$ u PGU sa konačnim razlika i sredićemo malo jednačinu:\n",
    "#### $$\\frac{y_{i+1}-2y_i-y_{i-1}}{0.25^2}+2\\frac{y_{i+1}-y_{i-1}}{0.50}+y_i=x_i^2, \\hspace{0.5em} y(0)=0.2,y(1)=0.8$$\n",
    "#### $$16(y_{i+1}-2y_i-y_{i-1})+8(y_{i+1}-y_{i-1})+y_i=x_i^2, \\hspace{0.5em} y(0)=0.2,y(1)=0.8$$\n",
    "#### $$24y_{i+1}-39y_i+16y_{i-1}=x_i^2, \\hspace{0.5em} y(0)=0.2,y(1)=0.8$$\n",
    "#### Sada treba da iskoristimo formulu $24y_{i+1}-39y_i+16y_{i-1}=x_i^2$ da formiramo sistem jednačina. Koliko nam jednačina treba? Hajde da vidimo koliko imamo nepoznatih. Prvo ćemo videti koje su nam tačke poznate. Poznati su nam granični uslovi, odnosno poznate su nam tačke:\n",
    "#### $$y_{0}=0.2, y_{4}=0.8$$\n",
    "#### Sve druge vrednosti $y_{i}$ su nam nepoznate:\n",
    "#### $$y_{1}=?,y_{2}=?,y_{3}=?$$\n",
    "#### Dakle imamo 3 nepoznate, pa nam treba 3 јеdnačine:\n",
    "#### $$24y_{2}-39y_1+16y_0=x_1^2$$\n",
    "#### $$24y_{3}-39y_2+16y_1=x_2^2$$\n",
    "#### $$24y_{4}-39y_3+16y_2=x_3^2$$\n",
    "#### Sređujemo malo jednačine pre nego što formiramo sistem u matričnom obliku:\n",
    "#### $$24y_{2}-39y_1+16\\cdot 0.2 =0.25^2$$\n",
    "#### $$24y_{3}-39y_2+16y_1=0.5^2$$\n",
    "#### $$24\\cdot 0.8-39y_3+16y_2=0.75^2$$\n",
    "#### Formiramo sistem:\n",
    "#### $$A=\\begin{bmatrix} -39 & 24 & 0\\\\ 16 & -39 & 24\\\\ 0 & 16 & -39 \\end{bmatrix}b=\\begin{bmatrix} 0.25 - 16\\cdot 0.2\\\\ 0.5^2\\\\0.75^2- 24\\cdot 0.8 \\end{bmatrix}$$\n",
    "#### Rešavamo sada sistem u kodu:"
   ]
  },
  {
   "cell_type": "code",
   "execution_count": 117,
   "metadata": {},
   "outputs": [
    {
     "name": "stdout",
     "output_type": "stream",
     "text": [
      "A =\n",
      "\n",
      "  -39   24    0\n",
      "   16  -39   24\n",
      "    0   16  -39\n",
      "\n",
      "b =\n",
      "\n",
      "   -2.95000\n",
      "    0.25000\n",
      "  -18.45000\n",
      "\n",
      "y =\n",
      "\n",
      "   0.46812\n",
      "   0.63778\n",
      "   0.73473\n",
      "\n"
     ]
    }
   ],
   "source": [
    "A=[-39 24 0;16 -39 24;0 16 -39]\n",
    "b=[0.25-16*0.2 0.5^2 0.75-24*0.8]'\n",
    "y=A\\b"
   ]
  },
  {
   "cell_type": "markdown",
   "metadata": {},
   "source": [
    "#### Dobili smo vrednosti za tačke $y_{1},y_{2},y_{3},y_{4}$, tako da uz granične uslove sada imamo:\n",
    "#### $$y_{0}=0.2,y_{1}=0.46812,y_{2}=0.63778,y_{3}=0.73473,y_{4}=0.8$$\n",
    "#### Pronašli smo rešenje, odnosno aproksimirali smo funkciju $y$ u intervalu $[0,1]$. Prikazaćemo sada rešenje grafički."
   ]
  },
  {
   "cell_type": "code",
   "execution_count": 118,
   "metadata": {},
   "outputs": [
    {
     "data": {
      "image/png": "[encoded data removed]",
      "text/plain": [
       "<IPython.core.display.Image object>"
      ]
     },
     "metadata": {},
     "output_type": "display_data"
    }
   ],
   "source": [
    "plot(0:0.25:1,[0.2 y' 0.8], \"linewidth\",14, \"color\", \"blue\")\n",
    "hold on;\n",
    "plot(0:0.25:1,[0.2 y' 0.8],'o','markersize', 10,'markerfacecolor','g');"
   ]
  },
  {
   "cell_type": "markdown",
   "metadata": {},
   "source": [
    "#### Za kraj, sistematizujemo korake metoda konačnih razlika za rešavanje PGU:\n",
    "#### Koristimo konačne razlike da zamenimo izvode. \n",
    "#### Biramo korak $h$ i tako dobijamo tačke koje koristimo tj. delimo interval sa graničnim uslovima na pod-intervale. Tako dobijamo sistem algebarskih jednačina.\n",
    "#### Rešavamo sistem algebarskih jednačina da bi dobili rešenje PGU."
   ]
  },
  {
   "cell_type": "code",
   "execution_count": null,
   "metadata": {},
   "outputs": [],
   "source": []
  }
 ],
 "metadata": {
  "kernelspec": {
   "display_name": "Octave",
   "language": "octave",
   "name": "octave"
  },
  "language_info": {
   "file_extension": ".m",
   "help_links": [
    {
     "text": "GNU Octave",
     "url": "https://www.gnu.org/software/octave/support.html"
    },
    {
     "text": "Octave Kernel",
     "url": "https://github.com/Calysto/octave_kernel"
    },
    {
     "text": "MetaKernel Magics",
     "url": "https://metakernel.readthedocs.io/en/latest/source/README.html"
    }
   ],
   "mimetype": "text/x-octave",
   "name": "octave",
   "version": "5.2.0"
  }
 },
 "nbformat": 4,
 "nbformat_minor": 4
}
