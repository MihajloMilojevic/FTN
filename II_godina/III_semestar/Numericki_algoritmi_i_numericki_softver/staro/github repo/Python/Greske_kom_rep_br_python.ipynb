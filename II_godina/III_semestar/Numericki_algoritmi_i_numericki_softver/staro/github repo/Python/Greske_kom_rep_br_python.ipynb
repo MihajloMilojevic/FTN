{
 "cells": [
  {
   "cell_type": "markdown",
   "metadata": {},
   "source": [
    "# Greške numeričkih algoritama, Komjuterska reprezetnacija brojeva, Značajne cifre"
   ]
  },
  {
   "cell_type": "markdown",
   "metadata": {},
   "source": [
    "#### Prilikom korišćenja numeričkih algoritama kao rezultat dobijamo aproksimaciju tačnog rešenja, odnosno približno rešenje. Greška je vrednost za koju se približno rešenje razlikuje od tačnog rešenja. Za početak ćemo definisati greške numeričkih algoritama koje možemo da izračunamo samo ako imamo tačno rešenje."
   ]
  },
  {
   "cell_type": "markdown",
   "metadata": {},
   "source": [
    "## Prava greška"
   ]
  },
  {
   "cell_type": "markdown",
   "metadata": {},
   "source": [
    "#### Prvi i osnovni tip greške je prava greška (*true error*). Ona predstavlja razliku između rešenja dobijenog numeričkom metodom $x_A$ i tačnog rešenja $x_T$:\n",
    "#### $$E_T=x_T-x_A$$\n",
    "#### Veoma često nam nije značajan znak, već samo vrednost greške, pa tada koristimo apsolutnu pravu grešku (*absolute true error*):\n",
    "#### $$E_T=|x_T-x_A|$$\n",
    "#### Različite tipove grešaka u ovom poglavlju demonstriraćemo na primeru određivanja prvog izvod pomoću numeričke metode. Postoji nekoliko formula za određivanje numeričkog prvog izvoda. Koristimo centralnu razliku:\n",
    "#### $$f'(x)\\approx \\frac{f(x+h)-f(x-h)}{2h}$$\n",
    "#### Radi jednostavnosti određivaćemo prvi izvod polinoma $4x^3–2x^2+3x+1$ u tački $x=1$. Analtičko rešenje je:\n",
    "#### $$f'(x)=12x^2-4x+3⇒f'(1)=12-4+3=11=x_T$$\n",
    "#### Za numeričko rešenje koristimo $h=0.5$, i dobijamo ga na sledeći način:\n",
    "#### $$f'(1)≈\\frac{f(1+0.5)-f(1-0.5)}{2 \\cdot 0.5}=\\frac{f(1.5)-f(0.5)}{1}=12$$\n",
    "#### Na osnovu formule za pravu i apsolutnu pravu grešku imamo:\n",
    "#### $$E_T=x_T-x_A=11-12=-1$$\n",
    "#### $$E_T=|11-12|=1$$\n"
   ]
  },
  {
   "cell_type": "markdown",
   "metadata": {},
   "source": [
    "## Relativna greška\n",
    "#### Vrednost prave greške izražena je u jedinicama u kojima se meri vrednost rešenja. Ponekad nam na osnovu same vrednosti nije lako da odredimo da li je greška koju smo dobili mala ili velika. Iz tog razloga koristimo relativnu grešku (*relative error*): \n",
    "#### $$E_R=\\frac{x_T-x_A}{x_T}$$ \n",
    "#### Kao i kod prave greške, možemo koristiti i apsolutnu vrednost:\n",
    "#### $$E_R=\\frac{|x_T-x_A|}{|x_T|}$$\n",
    "#### Relativna greška se može posmatrati kao udeo prave greške u tačnom rešenju, odnosno meri koliko puta se vrednost prave greške pojavljuje u tačnom rešenju. Na primer ako je prava greška 5, a tačna vrednost 10, udeo prave greške je 0.5. Ako nam je to od značaja, vrednost relativne greške možemo pomnožiti sa 100% i tako dobiti grešku u procentima.\n",
    "#### Relativnu grešku demonstriramo pomoću prethodnog primera.\n",
    "#### Ako znamo da je $x_T=11$, a $x_A=12$, relativna greška je:\n",
    "#### $$E_r=\\frac{11-12}{11}=-0.0909 ⇒ E_r \\cdot 100\\% =-0.0909 \\cdot 100\\% =-9.0909\\%$$"
   ]
  },
  {
   "cell_type": "markdown",
   "metadata": {},
   "source": [
    "## Aproksimirana greška\n",
    "#### Prirodna siutacija prilikom koje koristimo numeričke algoritme je rešavanje problema kod kojih nemamo unapred poznato tačno rešenje. Kod ovakvih slučajeva ne možemo da izračunamo pravu greška, pa iz tog razloga definišemo aproksimiranu grešku (*approximate error*):\n",
    "#### $$E_A=x_i-x_{i-1}$$\n",
    "#### , gde je $i$ indeks koji označava iteraciju. \n",
    "#### Aproksimirana greška je razlika između rešenja koje imamo u trenutnoj iteraciji (sa indeksom $i$)  i rešenja koje smo dobili u prethodnoj iteraciji (sa indeksom $i–1$). Kao i kod prave greške, možemo koristiti apsolutnu vrednost i takođe definisati i relativnu aproksimiranu grešku:\n",
    "#### $$E_{AR}=\\frac{|x_i-x_{i-1}|}{|x_i|}$$\n",
    "#### Za izračunavanje aproksimirane greške ne moramo imati iterativni algoritam, važno je samo da na neki način možemo da izračunamo više potencijalnih rešenja problema koji rešavamo. Na primer, za određivanje prvog izvoda pomoću centralne razlike dva potencijalna rešenja možemo dobiti tako što koristimo $h=0.5$ i $h=0.25$:\n",
    "#### Sa indeksom jedan označićemo rešenje koje smo dobili primenom centralne razlike za $h=0.5$, odnosno $x_1=12$. Sada izračunavamo rešenje za $h=0.25$:\n",
    "#### $$f'(1)≈\\frac{f(1+0.25)-f(1-0.25)}{2 \\cdot 0.25}=\\frac{f(1.25)-f(0.75)}{0.5}=11.25$$\n",
    "#### Dobijeno rešenje označavamo sa indeksom $2$ tj. $x_2=11.25$. Sada izračunavamo aproksimiranu i relativnu aproksimiranu grešku, koristićemo i apsolutnu vrednost:\n",
    "#### $$E_A=|x_i-x_{i-1}|=|x_2-x_1 |=|11.25-12|=0.75$$\n",
    "#### $$E_{AR}=\\frac{|x_i-x_{i-1}|}{|x_i|}=\\frac{0.75}{11.25}=0.0667 \\cdot 100 \\%=6.667\\%$$\n",
    "#### Sa obzirom na to da nam tačno rešenje nije poznato, aproksimirana greška nije adekvatna zamena za procenu tačnosti algoritma, ali nam može reći nešto o ponašanju algoritma. Uz pretpostavku da naš algoritam konvergira, pomoću aproksimirane greške možemo da saznamo koliko se rešenje promenilo u odnosu na prethodnu iteraciju. Ako je ta promena veoma mala, možemo zaustaviti algoritam jer nam naredne iteracije neće mnogo povećati kvalitet rešenja. \n",
    "#### Ako sa ε označimo vrednost pomoću koje definišemo malu promenu onda alogritam zaustavljamo ako važi:\n",
    "#### $$E_A=|x_i-x_{i-1}|<ε$$\n"
   ]
  },
  {
   "cell_type": "markdown",
   "metadata": {},
   "source": [
    "## Izvori grešaka\n",
    "#### Do sada smo se bavili načinima za merenje grešaka numeričkih algoritama, ali nismo naveli uzroke za njihovo nastajanje. Ako izuzmemo greške mernih instrumenata, kao i ljudske greške, postoje dva osnovna izvora grešaka numeričkih algoritama:\n",
    "#### 1.Greške odbacivanja (*truncation errors*) koje nastaju kao posledica korišćenja pojednostavljenih matematičkih izraza ili formula. Na primer korišćenjem samo prva dva člana Tejlorovog razvoja kako bi aproksimirali vrednost neke funkcije u tački.  \n",
    "#### 2.Greške zaokruživanja (*roundoff errors*) koje su rezultat zaokruživanja brojeva zbog ograničenog kapaciteta računara za njihovo smeštanje.\n",
    "#### Ukupna greška koja nastaje upotrebom numeričkih alogritama na računaru je zbir greške odbacivanja i greške zaokruživanja. U nastvaku ćemo detaljno objasniti oba tipa grešaka."
   ]
  },
  {
   "cell_type": "markdown",
   "metadata": {},
   "source": [
    "## Greška odbacivanja\n",
    "#### Greška odbacivanja nastaje kada koristimo aproksimaciju nekog matematičkog izraza ili formule umesto kompetnog izraza (formule). Tipičan primer za ovu vrstu greške je korišćenje Tejlorovog razvoja.\n",
    "#### Može se pokazati da se funkcija $sin(x)$ može za prozivoljno x aproksimirati pomoću sledećeg razvoja:\n",
    "#### $$sin(x)=x-\\frac{1}{3!}x^3+\\frac{1}{5!}x^5-\\frac{1}{7!}x^7+⋯$$\n",
    "#### Recimo da želimo da koristimo samo prva dva člana Maklorenovog razvoja za sin(x). Tada je greška odbacivanja jednaka:\n",
    "#### $$E_{TR}=|sin(x)-x-\\frac{1}{3!}x^3|$$\n",
    "#### Na primer za $x=\\frac{π}{2}$ imamo:\n",
    "#### $$E_{TR}=|sin(\\frac{π}{2})-\\frac{π}{2}-\\frac{1}{3!}(\\frac{π}{2})^3 |=|1-0.9248|=0.0752$$"
   ]
  },
  {
   "cell_type": "markdown",
   "metadata": {},
   "source": [
    "## Greške zaokruživanja\n",
    "#### Greške zaokruživanja su posledica korišćenja računara za izvršavanje numeričkih algoritama. Računari imaju ograničen kapacitet za smeštanje brojeva. To znači da prilikom smeštanja brojeva na računar moramo da vršimo odgovarajuća zaokruživanja koja onda rezultuju gubitkom informacija."
   ]
  },
  {
   "cell_type": "markdown",
   "metadata": {},
   "source": [
    "## Reprezentacija brojeva na računaru\n",
    "#### Ljudi najčešće koriste dekadnu reprezentaciju, odnosno reprezentaciju sa osnovom 10. Svaki realan broj reprezentujemo pomoću cifara čije pozicije odgovaraju stepenima broja 10. Na primer, broj 345.28 reprezentuje se kao:\n",
    "#### $$345.28=3\\cdot 10^2+3\\cdot 10^1+5\\cdot 10^1+2\\cdot 10^{-1}+8\\cdot 10^{-2}$$\n",
    "#### Međutim, računari ne koriste dekadni zapis već binarni. Svaki broj se reprezentuje pomoću cifara 0 i 1, a pozcija cifre odgovara stepenu broja 2. Na primer, binarna reprezentacija broja 14.6250 je:\n",
    "#### $$ (1110.101)_2=(1\\cdot 2^3+1\\cdot 2^2+1\\cdot 2^1+0\\cdot 2^0+1\\cdot 2^{-1}+0\\cdot 2^{-2}+1\\cdot 2^{-3})_{10}$$\n"
   ]
  },
  {
   "cell_type": "markdown",
   "metadata": {},
   "source": [
    "## Konverzija celog broja u binaran\n",
    "#### Algoritam za konverziju celog broja u binaran je veoma jednostavan i oslanja se na ostatak pri deljenju sa brojem 2."
   ]
  },
  {
   "cell_type": "markdown",
   "metadata": {},
   "source": [
    "# <center><img src=\"int2bin.png\" width=\"400\" height=\"400\"></center>"
   ]
  },
  {
   "cell_type": "markdown",
   "metadata": {},
   "source": [
    "#### Važno je napomenuti da se svaki ceo broj pomoću prikazanog algoritma može konvertovati u binaran. U nastavku je dat jedan primer."
   ]
  },
  {
   "cell_type": "markdown",
   "metadata": {},
   "source": [
    "# <center><img src=\"int2bin_primer.png\" width=\"300\" height=\"300\"></center>"
   ]
  },
  {
   "cell_type": "markdown",
   "metadata": {},
   "source": [
    "## Konverzija broja nakon decimalne tačke u binaran\n",
    "#### Proces konverzije broja nakon decimalne tačke u binaran je drugačiji u odnosu na konverziju celog broja. Alogritam koristi množenje sa dva, kao i razdvajanje relanog broja na broj pre i posle decimalne tačke."
   ]
  },
  {
   "cell_type": "markdown",
   "metadata": {},
   "source": [
    "# <center><img src=\"real2bin.png\" width=\"400\" height=\"400\"></center>"
   ]
  },
  {
   "cell_type": "markdown",
   "metadata": {},
   "source": [
    "#### Primer konverzije broja 0.6250 dat je u nastavku."
   ]
  },
  {
   "cell_type": "markdown",
   "metadata": {},
   "source": [
    "# <center><img src=\"real2bin_primer.png\" width=\"600\" height=\"600\"></center>"
   ]
  },
  {
   "cell_type": "markdown",
   "metadata": {},
   "source": [
    "#### Za razliku od celih brojeva, kod kojih se algoritam konverzije uvek završava, odnosno uslov zaustavljanja uvek bude zadovoljen, to nije slučaj za brojeve iza decimalne tačke. Postoji određen broj vrednosti kod kojih algoritam za konverziiju neće terminirati. Kao primer konvertovaćemo broj 0.1 u binaran."
   ]
  },
  {
   "cell_type": "markdown",
   "metadata": {},
   "source": [
    "# <center><img src=\"real2bin_primer01.png\" width=\"600\" height=\"600\"></center>"
   ]
  },
  {
   "cell_type": "markdown",
   "metadata": {},
   "source": [
    "#### Implementaciju konverzije decimalnog broja u binaran prikazujemo iz dva dela. Prvo prikazujemo koverziju dela pre decimalne tačke, pa onda dela nakon decimalne tačke.\n",
    "#### Za prvi deo konverzije potrebno je primetiti da ako na primer konvertujemo broj 8 da je ((8/2)/2)/2 isto što i 8/2^3, što je isto što i 8*2^-3.\n",
    "#### Tehnički detalji implemtacije dati su u vidu komentara u samom kodu."
   ]
  },
  {
   "cell_type": "code",
   "execution_count": 1,
   "metadata": {},
   "outputs": [
    {
     "name": "stdout",
     "output_type": "stream",
     "text": [
      "[1. 0. 0. 0.]\n"
     ]
    }
   ],
   "source": [
    "import numpy as np\n",
    "\n",
    "a = 8 #broj koji se konvertuje\n",
    "n = 4 #broj bitova za celobrojni deo (pre decimalne tačke) \n",
    "m = 0 #broj bitova za razlomački deo (posle decimalne tačke)\n",
    "\n",
    "# binaran broj\n",
    "d2b = np.fix(np.remainder(a*np.power(2.,np.arange(-(n-1),m+1)),2))\n",
    "print(d2b)"
   ]
  },
  {
   "cell_type": "code",
   "execution_count": 2,
   "metadata": {},
   "outputs": [
    {
     "name": "stdout",
     "output_type": "stream",
     "text": [
      "Vrednosti na koje stepenujemo broj 2:\n",
      "[-3 -2 -1  0]\n",
      "Vrednosti stepenovanja broja 2:\n",
      "[0.125 0.25  0.5   1.   ]\n",
      "Broj koji se konvertuje pomnožen vrednostima stepenovanja broja 2:\n",
      "[1. 2. 4. 8.]\n",
      "Ostatak pri deljenju sa 2, vrednosti stepenovanja broja 2:\n",
      "[1. 0. 0. 0.]\n",
      "Prva cifra pre decimalne tacke ostataka iz prethodnog koraka:\n",
      "[1. 0. 0. 0.]\n"
     ]
    }
   ],
   "source": [
    "#svaki korak koverzije je prikazan posebno\n",
    "print('Vrednosti na koje stepenujemo broj 2:')\n",
    "print(np.arange(-(n-1),m+1))\n",
    "print('Vrednosti stepenovanja broja 2:')\n",
    "print(np.power(2.,np.arange(-(n-1),m+1)))\n",
    "print('Broj koji se konvertuje pomnožen vrednostima stepenovanja broja 2:')\n",
    "print(a*np.power(2.,np.arange(-(n-1),m+1)))                                #((8/2)/2)/2=1, a to je isto sto i 8/2^3 ili 8*2^-3, dok je rem(((8/2)/2)/2,2)=1\n",
    "print('Ostatak pri deljenju sa 2, vrednosti stepenovanja broja 2:')\n",
    "print(np.remainder(a*np.power(2.,np.arange(-(n-1),m+1)),2))                #((8/2)/2)/2=1, a to je isto sto i 8/2^3 ili 8*2^-3, dok je rem(((8/2)/2)/2,2)=1\n",
    "print('Prva cifra pre decimalne tacke ostataka iz prethodnog koraka:')\n",
    "print(np.fix(np.remainder(a*np.power(2.,np.arange(-(n-1),m+1)),2)))"
   ]
  },
  {
   "cell_type": "code",
   "execution_count": 3,
   "metadata": {},
   "outputs": [
    {
     "name": "stdout",
     "output_type": "stream",
     "text": [
      "Vrednosti na koje stepenujemo broj 2:\n",
      "[-3 -2 -1  0]\n",
      "Vrednosti stepenovanja broja 2:\n",
      "[0.125 0.25  0.5   1.   ]\n",
      "Broj koji se konvertuje pomnožen vrednostima stepenovanja broja 2:\n",
      "[ 1.75  3.5   7.   14.  ]\n",
      "Ostatak pri deljenju sa 2, vrednosti stepenovanja broja 2:\n",
      "[1.75 1.5  1.   0.  ]\n",
      "Prva cifra pre decimalne tacke ostataka iz prethodnog koraka:\n",
      "[1. 1. 1. 0.]\n"
     ]
    }
   ],
   "source": [
    "a = 14\n",
    "n = 4\n",
    "m = 0\n",
    "print('Vrednosti na koje stepenujemo broj 2:')\n",
    "print(np.arange(-(n-1),m+1))\n",
    "print('Vrednosti stepenovanja broja 2:')\n",
    "print(np.power(2.,np.arange(-(n-1),m+1)))\n",
    "print('Broj koji se konvertuje pomnožen vrednostima stepenovanja broja 2:')\n",
    "print(a*np.power(2.,np.arange(-(n-1),m+1)))\n",
    "print('Ostatak pri deljenju sa 2, vrednosti stepenovanja broja 2:')\n",
    "print(np.remainder(a*np.power(2.,np.arange(-(n-1),m+1)),2))\n",
    "print('Prva cifra pre decimalne tacke ostataka iz prethodnog koraka:')\n",
    "print(np.fix(np.remainder(a*np.power(2.,np.arange(-(n-1),m+1)),2)))"
   ]
  },
  {
   "cell_type": "markdown",
   "metadata": {},
   "source": [
    "#### U nastavku je dato nekoliko izraza kao pomoć za razumevanje konverzije dela broja posle decimalne tačke. \n",
    "#### Može se videti da se cifre rezultujućeg binarnog broja poklapaju u prvom postupku, koji smo opisali pomoću dijagrama i tabele i u drugom koji smo sada implementirali."
   ]
  },
  {
   "cell_type": "code",
   "execution_count": 4,
   "metadata": {},
   "outputs": [
    {
     "name": "stdout",
     "output_type": "stream",
     "text": [
      "1.25\n",
      "0.5\n",
      "1.0\n"
     ]
    }
   ],
   "source": [
    "print(0.625*2)\n",
    "print(0.25*2)\n",
    "print(0.5*2)"
   ]
  },
  {
   "cell_type": "code",
   "execution_count": 5,
   "metadata": {},
   "outputs": [
    {
     "name": "stdout",
     "output_type": "stream",
     "text": [
      "1.0\n",
      "0.0\n",
      "1.0\n"
     ]
    }
   ],
   "source": [
    "print(np.fix(np.remainder(0.625*2,2)))\n",
    "print(np.fix(np.remainder(0.25*2,2)))\n",
    "print(np.fix(np.remainder(0.5*2,2)))"
   ]
  },
  {
   "cell_type": "code",
   "execution_count": 6,
   "metadata": {},
   "outputs": [
    {
     "name": "stdout",
     "output_type": "stream",
     "text": [
      "1.25\n",
      "2.5\n",
      "5.0\n"
     ]
    }
   ],
   "source": [
    "print(0.625*2)\n",
    "print(0.625*2*2)\n",
    "print(0.625*2*2*2)"
   ]
  },
  {
   "cell_type": "code",
   "execution_count": 7,
   "metadata": {},
   "outputs": [
    {
     "name": "stdout",
     "output_type": "stream",
     "text": [
      "1.0\n",
      "0.0\n",
      "1.0\n"
     ]
    }
   ],
   "source": [
    "print(np.fix(np.remainder(0.625*2,2)))\n",
    "print(np.fix(np.remainder(0.625*2*2,2)))\n",
    "print(np.fix(np.remainder(0.625*2*2*2,2)))"
   ]
  },
  {
   "cell_type": "code",
   "execution_count": 8,
   "metadata": {},
   "outputs": [
    {
     "name": "stdout",
     "output_type": "stream",
     "text": [
      "Vrednosti na koje stepenujemo broj 2:\n",
      "[1 2 3 4]\n",
      "Vrednosti stepenovanja broja 2:\n",
      "[ 2.  4.  8. 16.]\n",
      "Broj koji se konvertuje pomnožen vrednostima stepenovanja broja 2:\n",
      "[ 1.25  2.5   5.   10.  ]\n",
      "Ostatak pri deljenju sa 2, vrednosti stepenovanja broja 2:\n",
      "[1.25 0.5  1.   0.  ]\n",
      "Prva cifra pre decimalne tacke ostataka iz prethodnog koraka:\n",
      "[1. 0. 1. 0.]\n"
     ]
    }
   ],
   "source": [
    "a = 0.625\n",
    "n = 0\n",
    "m = 4\n",
    "print('Vrednosti na koje stepenujemo broj 2:')\n",
    "print(np.arange(-(n-1),m+1))\n",
    "print('Vrednosti stepenovanja broja 2:')\n",
    "print(np.power(2.,np.arange(-(n-1),m+1)))\n",
    "print('Broj koji se konvertuje pomnožen vrednostima stepenovanja broja 2:')\n",
    "print(a*np.power(2.,np.arange(-(n-1),m+1)))                                 #za pozitivne stepene broja 2 imamo na primer: ((0.625*2)*2)*2=0.625*2^3 \n",
    "print('Ostatak pri deljenju sa 2, vrednosti stepenovanja broja 2:')\n",
    "print(np.remainder(a*np.power(2.,np.arange(-(n-1),m+1)),2))\n",
    "print('Prva cifra pre decimalne tacke ostataka iz prethodnog koraka:')\n",
    "print(np.fix(np.remainder(a*np.power(2.,np.arange(-(n-1),m+1)),2)))"
   ]
  },
  {
   "cell_type": "code",
   "execution_count": 9,
   "metadata": {},
   "outputs": [
    {
     "data": {
      "text/plain": [
       "0.625"
      ]
     },
     "execution_count": 9,
     "metadata": {},
     "output_type": "execute_result"
    }
   ],
   "source": [
    "2**-1+0+2**-3+0"
   ]
  },
  {
   "cell_type": "markdown",
   "metadata": {},
   "source": [
    "#### Sada kada smo objasnili dva algoritma koji su nam potrebni da bi konvertovali realan broj u binaran, ostaje nam da izvršimo kompletnu konverziju vrednosti 14.6250 koju smo koristili kao primer:\n",
    "#### $$(14)_{10}=(1110)_2$$\n",
    "#### $$(0.6250)_{10}=(0.101)_2$$\n",
    "#### $$(14.6250)_{10}=(1110.101)_2$$"
   ]
  },
  {
   "cell_type": "code",
   "execution_count": 10,
   "metadata": {},
   "outputs": [
    {
     "name": "stdout",
     "output_type": "stream",
     "text": [
      "Vrednosti na koje stepenujemo broj 2:\n",
      "[-3 -2 -1  0  1  2  3  4]\n",
      "Vrednosti stepenovanja broja 2:\n",
      "[ 0.125  0.25   0.5    1.     2.     4.     8.    16.   ]\n",
      "Broj koji se konvertuje pomnožen vrednostima stepenovanja broja 2:\n",
      "[  1.828125   3.65625    7.3125    14.625     29.25      58.5\n",
      " 117.       234.      ]\n",
      "Ostatak pri deljenju sa 2, vrednosti stepenovanja broja 2:\n",
      "[1.828125 1.65625  1.3125   0.625    1.25     0.5      1.       0.      ]\n",
      "Prva cifra pre decimalne tacke ostataka iz prethodnog koraka:\n",
      "[1. 1. 1. 0. 1. 0. 1. 0.]\n"
     ]
    }
   ],
   "source": [
    "a = 14.625\n",
    "n = 4\n",
    "m = 4\n",
    "print('Vrednosti na koje stepenujemo broj 2:')\n",
    "print(np.arange(-(n-1),m+1))\n",
    "print('Vrednosti stepenovanja broja 2:')\n",
    "print(np.power(2.,np.arange(-(n-1),m+1)))\n",
    "print('Broj koji se konvertuje pomnožen vrednostima stepenovanja broja 2:')\n",
    "print(a*np.power(2.,np.arange(-(n-1),m+1))) \n",
    "print('Ostatak pri deljenju sa 2, vrednosti stepenovanja broja 2:')\n",
    "print(np.remainder(a*np.power(2.,np.arange(-(n-1),m+1)),2))\n",
    "print('Prva cifra pre decimalne tacke ostataka iz prethodnog koraka:')\n",
    "print(np.fix(np.remainder(a*np.power(2.,np.arange(-(n-1),m+1)),2)))"
   ]
  },
  {
   "cell_type": "code",
   "execution_count": 11,
   "metadata": {},
   "outputs": [
    {
     "data": {
      "text/plain": [
       "14.625"
      ]
     },
     "execution_count": 11,
     "metadata": {},
     "output_type": "execute_result"
    }
   ],
   "source": [
    "2**3+2**2+2**1+0+2**-1+0+2**-3+0"
   ]
  },
  {
   "cell_type": "markdown",
   "metadata": {},
   "source": [
    "#### Prikazujemo konverziju broja 0.1 kod koje možemo da primetimo da koliko god povećavali broj bitova za razlomački deo algoritam konverzije nikad nije završen. Na primer, niz bitova 110011 se stalno ponavlja."
   ]
  },
  {
   "cell_type": "code",
   "execution_count": 12,
   "metadata": {},
   "outputs": [
    {
     "name": "stdout",
     "output_type": "stream",
     "text": [
      "[0. 0. 0. 0. 0. 0. 0. 0. 0. 0. 0. 0. 0. 0. 0. 0. 0. 0. 0. 1. 1. 0. 0. 1.\n",
      " 1. 0. 0. 1. 1. 0. 0. 1. 1. 0. 0. 1. 1. 0. 0. 1. 1.]\n"
     ]
    }
   ],
   "source": [
    "a = 0.1 #broj koji se konvertuje\n",
    "n = 16 #broj bitova za celobrojni deo (pre decimalne tačke) \n",
    "m = 25 #broj bitova za razlomački deo (posle decimalne tačke)\n",
    "\n",
    "# binaran broj\n",
    "d2b = np.fix(np.remainder(a*np.power(2.,np.arange(-(n-1),m+1)),2))\n",
    "print(d2b)"
   ]
  },
  {
   "cell_type": "markdown",
   "metadata": {},
   "source": [
    "## Pokretni zarez (floating point) reprezentacija\n",
    "#### Reprezentacija realnih brojeva pomoću pokretnog zareza ima za cilj da postigne ravnotežu između raspona (*range*) i preciznosti (*precision*). Raspon se odnosi na što veći spektar brojeva, od jako malih do jako velikih. Preciznost je vezana za mogućnost reprezentovanja što više značajnih cifara broja. \n",
    "#### Opšti oblik broja u pokretnom zarezu sastoji se do:\n",
    "#### $$znak\\cdot mantisa\\cdot {baza}^{eksponent}$$\n",
    "#### $$σ\\cdot m\\cdot b^e$$\n",
    "#### , gde znak određuje da li repezentujemo pozitivan ili negativan broj, mantisa može biti ceo ili decimalan broj koji sadrži značajne cifre reprezentovanog broja, baza zavisi od sistema koji koristimo (za dekadni je 10, dok je za binarni 2, itd.), a eksponent određuje veličinu broja. Primer broja u reprezentaciji pokretnog zareza dat je u nastavku:\n",
    "#### $$-3.4785\\cdot 10^{-4}$$\n",
    "#### $$σ=-1, m=3.4785, b=10, e=-4$$"
   ]
  },
  {
   "cell_type": "markdown",
   "metadata": {},
   "source": [
    "## Normalizovani oblik\n",
    "#### Kod normalizovanog oblika broj u pokretnom zarezu ima samo jednu cifru mantise pre decimalne tačke i ta cifra je uvek različita od nule:\n",
    "#### $$±d.f_1 f_2 f_3 f_4 f_5\\cdot 10^{±e}, d≠0$$\n",
    "#### Na primer, broj $-3.4785\\cdot 10^{-4}$ je normalizovan, dok broj $-347.85\\cdot 10^{-6}$ nije normalizovan, ali se može normalizovati promenom eksponenta:\n",
    "#### $$-347.85\\cdot 10^{-6}⟶-3.4785\\cdot 10^{-4}$$\n",
    "#### Pored toga što predstavlja pogodan način za prikaz brojeva u pokretnom zarezu, normalizovani oblik ima veliku prednost prilikom reprezentacije binarnih brojeva u pokretnom zarezu. \n"
   ]
  },
  {
   "cell_type": "markdown",
   "metadata": {},
   "source": [
    "## Binarna reprezentacija\n",
    "#### Kod binarne reprezentacije brojeva u pokretnom zarezu koristimo bazu b=2, pa vrednosti mantise i eksponenta moraju biti binarni brojevi, dok se znak može reprezentovati na različite načine, kao što ćemo videti do kraja poglavlja. Na primer: \n",
    "#### $$(14.6250)_{10}=(1110.101)_2=(11.10101)_2\\cdot 2^2=(11.10101)_2\\cdot 2^{(10)_2}$$\n",
    "#### $$σ=+1, m=(11.10101)_2, b=2, e=10$$\n",
    "#### Normalizovani oblik binarne reprezentacije takođe ima samo jednu cifru mantise pre decimlane tačke, i ta cifra ima vrednost 1 (jer mora biti različita od 0):\n",
    "#### $$±1.f_1 f_2 f_3 f_4 f_5\\cdot 2^{±e}$$\n"
   ]
  },
  {
   "cell_type": "markdown",
   "metadata": {},
   "source": [
    "#### Za razliku od dekadne reprezentacije, svi binarni brojevi u normalizovanom obliku imaju istu prvu cifrnu pre decimalne tačke tj. cifru 1. To je velika prednost jer kad znamo da je prva cifra mantise 1, ne moramo da je čuvamo na računaru, odnosno ne moramo da potrošimo bit na njeno skladištenje. Time dobijamo još jedan bit za decimalni deo mantise, odnosno povećavamo preciznost reprezentacije.\n",
    "\n",
    "#### Recimo da na raspolaganju imamo računar koji koristi 10 bitiova za reprezentovanje brojeva u pokretnom zarezu, organizovanih na sledeći način: 1 bit za znak mantise, 1 bit za znak eksponenta, 5 bitova za mantisu, i 3 bita za eksponent. Pokazaćemo proces reprezentovanja broja 73.75.\n",
    "#### $$(73.75)_{10}=(01001001.11)_2=(1.00100111)_2 \\cdot 2^6=(1.00100111)_2 \\cdot 2^{(110)_2}≅(1.00100)_2\\cdot 2^{(110)_2}$$"
   ]
  },
  {
   "cell_type": "code",
   "execution_count": 13,
   "metadata": {},
   "outputs": [
    {
     "name": "stdout",
     "output_type": "stream",
     "text": [
      "[0. 1. 0. 0. 1. 1. 1. 0. 0. 0.]\n"
     ]
    }
   ],
   "source": [
    "a = 73.75 #broj koji se konvertuje\n",
    "n = 5 #broj bitova za celobrojni deo (pre decimalne tačke) \n",
    "m = 5 #broj bitova za razlomački deo (posle decimalne tačke)\n",
    "\n",
    "# binaran broj\n",
    "d2b = np.fix(np.remainder(a*np.power(2.,np.arange(-(n-1),m+1)),2))\n",
    "print(d2b)"
   ]
  },
  {
   "cell_type": "markdown",
   "metadata": {},
   "source": [
    "# <center><img src=\"binaran_broj_primer.png\" width=\"400\" height=\"400\"></center>"
   ]
  },
  {
   "cell_type": "markdown",
   "metadata": {},
   "source": [
    "## IEEE 754 standard za reprezentaciju realnih brojeva\n",
    "#### Za primer reprezentacije broja 73.75 proizvoljno smo odabrali broj i raspored bitova na za naš računar. Na isti način, svaki proizvođač računara mogao bi proizvoljno da odabere veličinu kao i način raspoređivanja bitova na računaru koji proizvodi.\n",
    "#### Sa ciljem standardizacije načina za reprezentovanje brojeva, Institut Inženjera Elektrotehnike i Elektronike (Institute of Electrical and Electronics Engineers, IEEE) je 1985 uveo standard IEEE 754 koji većina savremenih računara koristi za repreznetovanje brojeva u pokretnom zarezu.\n",
    "#### Po IEEE 745 standardu binarna reprezentacija broja u pokretnom zarezu sastoji se do: \n",
    "#### <center>znaka (s), eksponenta uz bias (e’), i mantise (m)</center> \n",
    "#### Podrazumevana je baza 2 jer je broj binaran. Veličina (u bitivoima) mantise i eksponenta utiče na raspon i preciznost respektivno. Tabela u nastavku prikazuje dva vrlo često korišćena formata po IEEE 754 standardu, a to su tzv. jednostruka (*single*) preciznost ukupne dužine 32 bita i dvostruka (*double*) preciznost ukupne dužine 64 bita."
   ]
  },
  {
   "cell_type": "markdown",
   "metadata": {},
   "source": [
    "# <center><img src=\"IEEE754_1.png\" width=\"500\" height=\"500\"></center>\n",
    "# <center><img src=\"IEEE754_2.png\" width=\"700\" height=\"700\"></center>"
   ]
  },
  {
   "cell_type": "markdown",
   "metadata": {},
   "source": [
    "#### Standard takođe podrazumeva da se brojevi pre skladištenja normalizuju pa se realna vrednost iz reprezentacije dobija na sleći način:\n",
    "#### $$vrednost=(-1)^σ \\cdot (1.m)_2 \\cdot 2^{e'-bias\\_eksponenta}$$\n",
    "## Bias eksponenta\n",
    "####  Sa obzirom na to da je cilj standarda da reprezentuje kako veoma velike tako i veoma male vrednosti, potrebno je omogućiti da eksponent bude negativan. Jedan od načina za reprezentovanje negativnih biarnih brojeva je komplement dvojke. \n",
    "#### Međutim, kreatori standarda su imali za cilj da omoguće jednostavno poređenje dva repezentovana broja bit po bit, gde je prvi bit posle znaka najznačajniji i tako redom. Upotreba komplementa dvojke onemogućava poređenje bit po bit i samim ti usporava proces poređenja (za detalje pogledati udžbenik)."
   ]
  },
  {
   "cell_type": "markdown",
   "metadata": {},
   "source": [
    "#### Vrednost biasa određuje se kao:\n",
    "### $$2^{dužina\\_eksponenta−1}−1$$\n",
    "#### jer želimo da reprezentujemo jednak broj negativnih i pozitivnih eksponenata i takođe vrednost 0 za eksponent.\n",
    "#### Recimo da koristimo reprezentaciju dužine 8 bita: znak 1 bit, eksponent 3 bita, mantisa 4 bita. Konvertujemo brojeve 6.2500 i 0.3594 u binarn zapis.\n",
    "#### Pošto imamo 3 bita za eksponent, možemo ukupno da reprezentujemo 8 različtihih brojeva: 0, 1, 2, 3, 4, 5, 6, 7. Želimo da imamo i negativne eksponente tj. da možemo da reprezentujemo: -3, -2, -1, 0, 1, 2, 3, 4. Iz tog razloga koristimo bias koji ima vrednost:\n",
    "### $$2^{3−1}−1=3$$\n",
    "#### Sa biasom od 3, možemo da reprezentujemo: 0-3, 1-3, 2-3, 3-3, 4-3, 5-3, 6-3, 7-3. Na primer, eksponent -1 reprezentujemo kao: 2-3, odnosno u reprezentaciji čuvamo eksponent e'=2, a prilikom konverzije imamo:\n",
    "### $$2^{e'-bias\\_eksponenta}=2^{2-3}=2^{-1}$$\n",
    "#### Kovertujemo prvo broj 6.2500 pa onda 0.3594."
   ]
  },
  {
   "cell_type": "code",
   "execution_count": 18,
   "metadata": {},
   "outputs": [
    {
     "name": "stdout",
     "output_type": "stream",
     "text": [
      "Celobrojni deo:\n",
      "[0. 0. 0. 1. 1.]\n",
      "Razlomacki deo:\n",
      "[0. 1. 0. 0. 0.]\n",
      "Kompletan broj:\n",
      "array([0. 0. 0. 1. 1. 0. 0. 1. 0. 0. 0.])\n"
     ]
    }
   ],
   "source": [
    "a = 6.2500\n",
    "n = 6   # broj bitova za celobrojni deo (pre decimalne tačke)     \n",
    "m = 6  # broj bitova za razlomački deo (posle decimalne tačke)   \n",
    "# binaran broj\n",
    "d2b = np.fix(np.remainder(a*np.power(2.,np.arange(-(n-1),m)),2))\n",
    "\n",
    "celobrojni_deo=d2b[0:n-1]\n",
    "\n",
    "razlomacki_deo=d2b[n:m+n-1]\n",
    "print('Celobrojni deo:')\n",
    "print(celobrojni_deo)\n",
    "print('Razlomacki deo:')\n",
    "print(razlomacki_deo)\n",
    "print('Kompletan broj:')\n",
    "tmp_str=np.array_repr(d2b).replace('\\n','').replace(',','')\n",
    "print(' '.join(tmp_str.split()))"
   ]
  },
  {
   "cell_type": "markdown",
   "metadata": {},
   "source": [
    "#### Na osnovu rezultata konverzije imamo:\n",
    "#### $$110.0100=1.100100 \\cdot 2^2=(-1)^0 \\cdot (1.1001)_2 \\cdot 2^2$$\n",
    "#### Da bi dobili eksponent 2 u reprezentaciji treba da čuvamo vrednost 5, pa imamo:\n",
    "#### <center>0 101 1001</center>"
   ]
  },
  {
   "cell_type": "code",
   "execution_count": 21,
   "metadata": {},
   "outputs": [
    {
     "name": "stdout",
     "output_type": "stream",
     "text": [
      "Celobrojni deo:\n",
      "[0. 0. 0. 0. 0.]\n",
      "Razlomacki deo:\n",
      "[0. 1. 0. 1. 1. 1. 0. 0. 0. 0. 0. 0. 0. 0. 0.]\n",
      "Kompletan broj:\n",
      "array([0. 0. 0. 0. 0. 0. 0. 1. 0. 1. 1. 1. 0. 0. 0. 0. 0. 0. 0. 0. 0.])\n"
     ]
    }
   ],
   "source": [
    "a = 0.3594\n",
    "n = 6   # broj bitova za celobrojni deo (pre decimalne tačke)     \n",
    "m = 16  # broj bitova za razlomački deo (posle decimalne tačke)   \n",
    "# binaran broj\n",
    "d2b = np.fix(np.remainder(a*np.power(2.,np.arange(-(n-1),m)),2))\n",
    "\n",
    "celobrojni_deo=d2b[0:n-1]\n",
    "\n",
    "razlomacki_deo=d2b[n:m+n-1]\n",
    "print('Celobrojni deo:')\n",
    "print(celobrojni_deo)\n",
    "print('Razlomacki deo:')\n",
    "print(razlomacki_deo)\n",
    "print('Kompletan broj:')\n",
    "tmp_str=np.array_repr(d2b).replace('\\n','').replace(',','')\n",
    "print(' '.join(tmp_str.split()))"
   ]
  },
  {
   "cell_type": "markdown",
   "metadata": {},
   "source": [
    "#### Na osnovu rezultata konverzije imamo:\n",
    "#### $$0.010111=1.0111 \\cdot 2^{-2}=(-1)^0 \\cdot (1.0111)_2 \\cdot 2^{-2}$$\n",
    "#### Da bi dobili eksponent -2 u reprezentaciji treba da čuvamo vrednost 1, pa imamo:\n",
    "#### <center>0 001 0111</center>\n",
    "#### Ako sada uporedimo reprezentacije brojeva 6.2500 i 0.3594:\n",
    "#### <center>0 101 1001</center>\n",
    "#### <center>0 001 0111</center>\n",
    "#### Vidimo da se eksponenti mogu porediti bit po bit i odmah i vrlo lako se može uvrditi koji je broj veći."
   ]
  },
  {
   "cell_type": "markdown",
   "metadata": {},
   "source": [
    "#### Vratićemo se sada na jednostruku preciznost po IEEE 754 standardu, kako bi pokazali primer konverzije jednog konkretnog broja datog na slici ispod:\n",
    "### $$vrednost=(-1)^σ \\cdot (1.m)_2 \\cdot 2^{e'-127}$$\n",
    "### $$vrednost=(-1)^1 \\cdot (1.10011)_2 \\cdot 2^{(00101100)_2-127}$$\n",
    "### $$vrednost=-1.5938 \\cdot 2^{44-127}=-1.5938 \\cdot 2^{-83}$$\n"
   ]
  },
  {
   "cell_type": "markdown",
   "metadata": {},
   "source": [
    "# <center><img src=\"IEEE754_3.png\" width=\"700\" height=\"700\"></center>"
   ]
  },
  {
   "cell_type": "markdown",
   "metadata": {},
   "source": [
    "## Specijalne vrednosti\n",
    "#### Videli smo da po IEEE 754 standardu kod jednostruke preciznosti za eksponent uz bias imamo 8 bitova. Ako znamo da je maksimalna vrednost koju možemo dobiti pomoću 8 bitova $2^8–1=255$, kao i da je vrednost biasa 127 zaključujemo da bi vrednosti eksponenta koje možemo da reprezentujemo trebalo da budu u sledećem rasponu:\n",
    "#### $$0≤e'≤255$$\n",
    "#### $$0-127≤ e≤255-127$$\n",
    "#### $$-127≤e ≤128$$\n",
    "#### Međutim u tabeli iznad naznačeno je da je raspon eksponenta od −126 do +127. Vidimo da nam vrednosti −127 i 128 nisu dostupne. To je zato što su po IEEE 754 standardu eksponenti −127 i 128 rezervisani za repezentaciju posebnih vrednosti, kao što su NaN (Not a Number) tj. vrednost koja nije broj, ili  ±∞, kao i ±0."
   ]
  },
  {
   "cell_type": "markdown",
   "metadata": {},
   "source": [
    "# <center><img src=\"IEEE754_4.png\" width=\"500\" height=\"500\"></center>"
   ]
  },
  {
   "cell_type": "markdown",
   "metadata": {},
   "source": [
    "## Zaokruživanje\n",
    "#### Razlozi za primenu zaokruživanja su višestruki: ograničen fizički kapaciteta računara, vrednosti koje ne mogu biti potpuno tačno konvertovane u binarne, brojevi kao što su π, e, √2 itd. U ovoj sekciji razmotrićemo nekoliko opšte poznatih postupaka zaokruživanja i objasniti kako se ono tačno vrši po IEEE 754 standardu.\n",
    "## Odsecanje\n",
    "#### Odsecanje (*chopping*) je najjednostavniji metod za zaokruživanje. Kod ovog metoda se od odabrane cifre sve ostale cifre sa desne strane uklone, odnosno odseku.\n",
    "## Zaokruživanje na najbliži\n",
    "#### Postupak zaokruživanja na najbliži (*round to nearest*) koristi vrednost cifre na osnovu koje vrišimo zaokruživanje d, na sledeći način:\n",
    "#### d>5 zaokružimo na najbliži veći broj koji može da se reprezentuje\n",
    "#### d<5 zaokružimo na najbliži manji broj koji može da se reprezentuje\n",
    "#### d=5 postoji više različitih načina, po IEEE 754 zaokružuje se na najbliži paran broj koji može da se reprezentuje\n",
    "#### Važno je još jednom istaći da se zokruživanje vrši ne na najbliži realan broj već na najbliži broj koji se može reprezentovati u sistemu (standardu) u kome radimo. Primeri odsecanja i zaokruživanja na najbliži po IEEE 754 standardu, posle prve cifre nakon decimalne tačke, dati su u tabeli u nastavku."
   ]
  },
  {
   "cell_type": "markdown",
   "metadata": {},
   "source": [
    "# <center><img src=\"zaokruzivanje.png\" width=\"600\" height=\"600\"></center>"
   ]
  },
  {
   "cell_type": "markdown",
   "metadata": {},
   "source": [
    "#### Po IEEE 754, u slučaju kod koga je poslednja cifra 5 zaokruživanje se vrši na najbliži paran broj. Vidimo da je vrednost 1.450 zaokružena na 1.4, a vrednost 1.550 na 1.6. Upravo ovaj primer ilustruje svrhu uvođenja zaokruživanja na najbliži paran broj u IEEE 754. Na ovaj način će u nekom numeričkom procesu približno polovina brojeva biti zaokružena na najbliži manj, a druga polovina na najbliži veći broj, čime se izbegava pristrasnost ka manjim, odnosno većim vrednostima tokom zaokruživanja."
   ]
  },
  {
   "cell_type": "markdown",
   "metadata": {},
   "source": [
    "## Brojevna prava\n",
    "#### Shodno tome da na računaru ne možemo da reprezentujemo sve moguće brojeve u pokretnom zarezu, brojevna prava po IEEE 754 standardu ima specifičan izgled.\n",
    "#### Za ilustraciju brojevne prave upotrebićemo sledeća ograničenja: znak 1 bit, eksponent 3 bita, mantisa 2 bita. Prikazujemo samo pozitivne brojeve i nulu."
   ]
  },
  {
   "cell_type": "markdown",
   "metadata": {},
   "source": [
    "# <center><img src=\"brojevna_prava.png\" width=\"700\" height=\"700\"></center>"
   ]
  },
  {
   "cell_type": "markdown",
   "metadata": {},
   "source": [
    "#### Prostor između nule i najmanje vrednosti koja može da se reprezentuje u sistemu naziva se „rupa“ podkoračenja kod nule (underflow whole at zero). \n",
    "#### Pojam podkoračenja (underflow) označava siutaciju u kojoj računar ne može da reprezentuje neki broj jer je suviše mali.\n",
    "#### Kako bi se smanjila „rupa“ podkoračenja kod nule IEEE 754 dozvoljava upotrebu denormalizovanih brojeva. Kod denormalizovanih brojeva dozvoljava se da prva cifra pre decimalne tačke bude nula. Ovi brojevi se koriste kada se prilikom konverzije zaključi da je za njihovu reprezentaciju potreban manji eksponent nego što IEEE 754 može da podrži. Zato denormalizovani brojevi imaju uvek najmanji mogući podržani eksponent i nulu kao prvu cifru pre decimalne tačke.\n",
    "#### Do prekoračenja (*overflow*) dolazi kada sistem treba da reprezentuje broj koji je veći od najvećeg mogućeg broja koji može da se prikaže u tom sistemu.\n",
    "#### Sa slike je uočljivo da razmak brojeva nije svuda jednak. Razmak je samo jednak za brojeve koji imaju isti eksponent."
   ]
  },
  {
   "cell_type": "markdown",
   "metadata": {},
   "source": [
    "## Mašinski Epsilon\n",
    "#### Mašinski epsilon predstavlja gornju granicu relativne greške koja nastaje prilikom zaokruživanja u radu sa brojevima u pokretnom zarezu. Vrednost mašinskog epsilona zavisi od odabrane reprezentacije brojeva na računaru, i pruža nam informaciju o preciznosti („granularnosti“ ili „finoći“) te reprezentacije. \n",
    "#### U  slučaju upotrebe zaokruživanja na najbliži definicija mašinskog epsilona je:\n",
    "#### $$ε_{mach}=\\frac{1}{2} b^{1-ml}$$\n",
    "#### gde je $b$ baza, a $ml$ dužina mantise (u ciframa ili bitovima) koju koristi posmatrana reprezentacija. "
   ]
  },
  {
   "cell_type": "markdown",
   "metadata": {},
   "source": [
    "#### Ako sa  $fl(x)$ označimo broj koji možemo da reprezentujemo, a koji je najbliži broju $x$, odnosno $fl(x)$ je broj na koji smo zaokružili $x$ da bi mogli da ga reprezentujemo, ako koristimo zaokruživanje na najbliži onda imamo sledeće ograničenje za relavitnu grešku:\n",
    "#### $$\\frac{|x-fl(x)|}{|x|} ≤\\frac{1}{2} b^{1-ml}=ε_{mach}$$\n"
   ]
  },
  {
   "cell_type": "markdown",
   "metadata": {},
   "source": [
    "## IEEE 754 i mašinski epsilon\n",
    "#### Po IEEE 754 standardu imamo 52 bita za mantisu u dvostrukoj preciznosti, odnosno 53 deklarisana bita zbog korišćenja normalizovanog oblika. Tako dobijamo da je mašinski epsilon:\n",
    "#### $$ε_{mach}= \\frac{1}{2} b^{1-ml}=\\frac{1}{2} 2^{1-53}=1.1102 \\cdot 10^{-16}$$\n",
    "#### To znači da u dvostrukoj preciznosti možemo da skladištimo približno 16 decimlanih cifara broja. \n",
    "#### Ponekad se u literaturi mašinski epsilon definiše bez $\\frac{1}{2}$, pri čemu se naglašava da se u pri upotrebi zaokruživanja na najbliži koristi polovina mašinskog epsilona. \n",
    "#### Numpy, kao i MATLAB i Octave koriste upravu takvu definiciju i imaju specijalnu konstantu $eps$."
   ]
  },
  {
   "cell_type": "code",
   "execution_count": 16,
   "metadata": {},
   "outputs": [
    {
     "name": "stdout",
     "output_type": "stream",
     "text": [
      "2.220446049250313e-16\n",
      "2.220446049250313e-16\n"
     ]
    }
   ],
   "source": [
    "print(np.finfo(float).eps)\n",
    "# 2.22044604925e-16\n",
    "\n",
    "print(np.finfo(np.float64).eps)"
   ]
  },
  {
   "cell_type": "code",
   "execution_count": 17,
   "metadata": {},
   "outputs": [
    {
     "name": "stdout",
     "output_type": "stream",
     "text": [
      "1.1102230246251565e-16\n"
     ]
    }
   ],
   "source": [
    "print(np.finfo(float).eps/2)"
   ]
  },
  {
   "cell_type": "markdown",
   "metadata": {},
   "source": [
    "#### Mašinski epsilon nam omogućava uvid u greške koje nastaju kao posledica izvršavanja artitmetičkih operacija sa brojevima u pokretnom zarezu. \n",
    "#### Po IEEE 754 standardnu artimetičke operacije se izvršavaju u beskonačnoj preciznosti pa se onda rezultat zaokružuje u odabranu preciznost. Ako sa ● označimo artimetičku operaciju (+, –, *, /) u artitmetici pokretnog zareza, a sa ○ označimo artimetičku operaciju u beskonačnoj preciznosti, onda važi:\n",
    "#### $$x ●y=fl(x○y)$$\n",
    "#### gde je $fl(x○y)$ broj na koji smo zaokružili vrednost $x○y$ da bi mogli da je reprezentujemo na računaru.\n",
    "#### Sledeća nejednakost (dokaz dat u udžbeniku) omogućava da vidimo koliko se makismalno može razlikovati rezultat neke aritmetičke operacije na računaru (sa konačnom preciznošću) u odnosu na beskonačnu preciznost:\n",
    "#### $$|x ● y|=|fl(x○y)|)≤|x○y|(1+ε_{mach})$$\n",
    "#### Na taj način možemo da izračunamo makismalnu grešku koju možemo da očekujemo kao rezultat izvršavanja nekog niza aritmetičkih operacija na računaru koji koristimo."
   ]
  },
  {
   "cell_type": "markdown",
   "metadata": {},
   "source": [
    "## Značajne cifre\n",
    "####  Svrha značajnih cifara je da nam ne dozvoli da tumačimo rezultate numeričkih algoritama pouzdanijim nego što stvarno jesu. Drugim rečima rezultat numeričkog algoritma ne može biti pouzdaniji od pouzdanosti ulaznih vrednosti. Pouzdanost izražavamo pomoću značajnih cifara.\n",
    "\n",
    "#### Postoje dve vrste vrednosti sa stanovišta pouzdanosti: \n",
    "#### (1) egzaktne vrednosti tj. vrednosti kod kojih nema nepouzdanosti, kao na primer 16 studenata u grupi, 5 prstiju na ruci, 4 točka na automobilu itd.; \n",
    "#### (2) inegzaktne vrednosti tj. vrednosti koje imaju određen procenat nepouzdanosti, na primer vrednost sa brzinomera na automobilu ili dužina izmerena lenjirom itd. \n",
    "#### Generalno sve vrednosti koje su dobijene pomoću nekog mernog instrumenta su inegzaktne. \n",
    "#### Na primer, merimo svoju težinu i vaga pokazuje da je težina između 60kg i 61kg. Ako primetimo da je kazaljka bliža 61kg nego 60kg možemo da kažemo da je naša težina otprilike 61 kilogram. Pouzdani smo u ovu procenu jer bi dve ili više razumnih osoba donele isti zaključak. Recimo da se insistira da svoju težinu sapoštimo pomoću jedne cifre nakon decimalne tačke. Za ovaj slučaj jedna osoba bi mogla da kaže da je naša težina 60.7, a druga recimo 60.9 kilograma. Zbog toga za ovu konkretnu vagu može se reći da samo vrednost prve cifre nema nikakvih nepouzdanosti, odnosno da je potpuno pouzdana. Vrednosti druge i svih narednih cifara treba tumačiti kao procene. Bilo bi besmisleno da sapoštimo da je naša težina 60.92344634 kilograma. Kako bi izbegli nedoumice prilikom saopštavanja, kao i prilikom tumačenja izmerenih vrednosti, uvodimo pojam značajanih cifara.\n",
    "\n",
    "#### Značajne cifre su one cifre koje mogu da se koriste sa pouzdanšću. Kada saopštavamo neku izmerenu vrednost treba imat u vidu sledeće pravilo: broj značajnih cifara odgovara broju cifara koje su potpuno pouzdane i još jednoj procenjenoj cifri. Time otklanjamo sve nedoumice onome koji tumači saopštenu vrednost. Za primer vage iz prethodnog pasusa, ako saopštimo vrednost od 61kg ta vrednost ima dve značajne cifre jer je prva cifra potpuno pouzdana, a druga procenjena.\n",
    "\n",
    "#### Pored pravila za saopštavnje značajnih cifara, postoje i pravila za tumačenje broja značajnih cifara iz saopštene vrednosti:\n",
    "#### 1.\tSve cifre različite od 0 su značajne (1.234 ima četiri značajne cifre, dok 1.2 ima dve).\n",
    "#### 2.\tNule između cifara različitih od 0 su značajne (1003 ima četiri značajne cifre, dok 3.05 ima tri)\n",
    "#### 3.\tNule pre prve cifre različite od 0 nisu značajne, služe samo kao indikator položaja decimalne tačke, odnosno broj značajnih cifara ne zavisi od jedinice merenja (vrednosti 0.0457m, 0.457cm, i 4.57mm sve imaju tri značajne cifre)\n",
    "#### 4.\tAko je broj decimalan, sve nule posle poslednje cifre različite od 0 su značajne (0.0180 ima tri značajne cifre, dok 0.50 ima dve)\n",
    "#### 5.\tAko broj nije decimalan, a ima nule na kraju, za njih se ne može tvrditi da li su značajne ili ne, odnosno potrebne su dodatne informacije od onoga koji je saopštio vrednost (130 može imati dve ili tri značajne cifre, 40300 može imati tri, četiri ili pet značajnih cifara)\n"
   ]
  },
  {
   "cell_type": "markdown",
   "metadata": {},
   "source": [
    "#### Da bi se izbegle bilo kakve nedoumice oko broja značajnih cifara u saopštenoj vrednosti, preporučuje se upotreba normalizovane naučne notacije (*normalized scientifc notation*). Normalizovana naučna notacija podrazumeva saopštavanje vrednosti tako da sadrži mantisu, bazu i eksponet, kao i da je pre decimalne tačke tačno jedna cifra koja mora biti različita od nule. Na primer za sledeće vrednosti broj značajnih cifara se vrlo jasno može odrediti:\n",
    "#### • $4.05 \\cdot 10^3$ (3 značajne cifre), \n",
    "#### • $4.050 \\cdot 10^3$ (4 značajne cifara), \n",
    "#### • $4.0500 \\cdot 10^3$ (5 značajnih cifara)."
   ]
  },
  {
   "cell_type": "markdown",
   "metadata": {},
   "source": [
    "## Značajne cifre i aritmetičke operacije\n",
    "#### Rezultati svih aritmetičkih operacija koje uključuju inegzaktne vrednosti su inegzaktni. Značajne cifre nam takođe mogu poslužiti za procenu pouzdanosti rezultata računskih operacija u kojima učestvuju ingezaktni brojevi.\n",
    "### Množenje i deljenje. \n",
    "#### Kod ove dve računske operacije rezultat ima onoliko značajnih cifara koliko i operand sa najmanje značajnih cifara. Recimo da imamo sledeći proizvod:\n",
    "#### $$3.452∙1.91=6.5933$$\n",
    "#### Prvi činilac ima četiri značajne cifre, a drugi ima tri, pa shodno prethodno navedenom pravilu proizvod ima tri značajne cifre. Dakle proizvod moramo da zaokružimo na tri značajne cifre i tako dobijamo:\n",
    "#### $$3.452∙1.91=6.59$$\n",
    "\n",
    "#### Kako bi pokazali zašto je neophodno da korigujemo broj značajnih cifara u rezultatu množenja, posmatrajmo činioce u prethodnom proizvodu kao stranice pravougaonika date u metrima. Prvu stranicu 3.452m smo izmerili pomoću uređaja koji meri na nivou milimetra, odnosno hiljaditog dela metra, dok smo drugu stranicu mogli da izmerimo samo na nivou centimentra (stotog dela metra). Tada proizvod predstavlja površinu pravougaonika:\n",
    "#### $$3.452m∙1.91m=6.5933m^2$$\n",
    "#### Sa obzirom na to da smo jednu od stranica mogli da izmerimo samo na nivou centimetra ne bi bilo korektno da sapoštimo rezultat kod koga imamo cifre koje su na nivou 10^−4 metra tj. manje od milimetra. Nakon zaokruživanja na tri značajne cifre, dobijena površina od $6.59m^2$ je korektno sapoštena jer je na nivou centimetra i svaka cifra je pouzdana jer oba merna uređaja pouzdano mere na nivou centimentra.\n",
    "\n",
    "### Sabiranje i oduzimanje \n",
    "#### Kod sabiranja i oduzimanja broj značjanih cifara posle decimalne tačke rezultata odgovara broju cifara koji ima operand sa najmanje cifara posle decimalne tačke. Na primer, ako imamo sledeći zbir:\n",
    "#### $$21.34+3.135+2.8267=127.3017$$\n",
    "#### Prvi sabirak ima dve značajne cifre posle decimalne tačke, drugi tri, a treći četiri. Dakle, po prethodno prikazanom pravilu, zbir može imati najviše dve značajne cifre posle decimalne tačke, odnosno zbir je:\n",
    "#### $$121.34+3.135+2.8267=127.30$$\n",
    "#### Recimo da imamo tri predmeta dužina 121.34m, 3.135m i 2.8267m i da hoćemo da sabiranjem odredimo njihovu ukupnu dužinu. Prvi sabirak ($121.34m$) izmeren je na nivou centimetra, drugi sabirak ($3.135m$) na nivou milimetra, a treći ($2.8267m$) na nivou 10^−4 metra. Očigledno je da je ne možemo da kažemo da se u ukupnoj dužini možemo pouzdati na nivou od 10^−4 metra jer tako veliku preciznost imamo samo za jedan od delova. Ono što možemo da kažemo je da je ukupna dužina pouzdana na nivou centimetra jer je na tom nivou imamo pouzdane mere za sva tri dela. Vidmo da bi primena pravila za proizvod i količnik u ovom slučaju imala za rezultat $127.3m$ što je preciznost na nivou decimetra, što je lošija preciznost od one koje realno imamo."
   ]
  },
  {
   "cell_type": "code",
   "execution_count": null,
   "metadata": {},
   "outputs": [],
   "source": []
  }
 ],
 "metadata": {
  "kernelspec": {
   "display_name": "Python 3",
   "language": "python",
   "name": "python3"
  },
  "language_info": {
   "codemirror_mode": {
    "name": "ipython",
    "version": 3
   },
   "file_extension": ".py",
   "mimetype": "text/x-python",
   "name": "python",
   "nbconvert_exporter": "python",
   "pygments_lexer": "ipython3",
   "version": "3.7.3"
  }
 },
 "nbformat": 4,
 "nbformat_minor": 4
}
