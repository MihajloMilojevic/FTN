{
 "cells": [
  {
   "cell_type": "markdown",
   "metadata": {},
   "source": [
    "# Gausova eliminacija"
   ]
  },
  {
   "cell_type": "markdown",
   "metadata": {},
   "source": [
    "#### Tema prva dva predavanja ovog kursa je rešavanje sistema linearnih jednačina.\n",
    "#### Postoje mnogi realni problemi koji se svode ne rešavanje SLAJ.\n",
    "#### Neke njih, kao što su rangiranje stranica na internetu pomoću algoritma *PageRank* koji koristi *Google* ili određivanje pozicije pomoću *GPS*, pokazaćemo u zavisnosti od vremena na kraju ovog ili sledećeg predavanja."
   ]
  },
  {
   "cell_type": "markdown",
   "metadata": {},
   "source": [
    "## Algoritam Gausove eliminacije"
   ]
  },
  {
   "cell_type": "markdown",
   "metadata": {},
   "source": [
    "#### Pre nego što stignemo do primena detaljno ćemo kroz kod objasniti kako funkcioniše algoritam Gausove eliminacije."
   ]
  },
  {
   "cell_type": "markdown",
   "metadata": {},
   "source": [
    "#### Gausova eliminacija je u stvari samo upoštenje načina na koji smo rešavali sisteme jedančina još od osnovne škole."
   ]
  },
  {
   "cell_type": "markdown",
   "metadata": {},
   "source": [
    "#### Recimo da imamo sledeći sistem:"
   ]
  },
  {
   "cell_type": "markdown",
   "metadata": {},
   "source": [
    "### $$4x_1-3x_2+x_3=-8\\\\-2x_1+x_2-3x_3=-4\\\\x_1-x_2+2x_3=3$$"
   ]
  },
  {
   "cell_type": "markdown",
   "metadata": {},
   "source": [
    "#### Prisetimo se na koji način smo mi pokušavali da rešimo sisteme jednačina u osnovnoj i srednjoj školi.\n",
    "#### Pokušavali samo na neki način da sistem svedemo na jednu jednačinu sa jednom nepoznatom, pa da onda tu nepoznatu odredimo deljenjem i zamenimo je u neku od prethodnih jednačina da dobijemo drugu nepoznatu i tako redom.\n",
    "#### Gausova eliminacija nije ništa drugo nego samo sistematizacija tog postupka.\n",
    "#### \n",
    "#### Krećemo tako što nam je cilj da eliminišemo promenljivu $x_1$ iz druge jednačine.\n",
    "#### U prvom koraku prvu jednačinu množimo sa $\\frac{2}{4}=\\frac{1}{2}$ i onda je dodamo drugoj:"
   ]
  },
  {
   "cell_type": "markdown",
   "metadata": {},
   "source": [
    "### $$4\\cdot\\frac{1}{2}x_1-3\\cdot\\frac{1}{2}x_2+1\\cdot\\frac{1}{2}x_3=-8\\cdot\\frac{1}{2}\\\\-2x_1+x_2-3x_3=-4$$"
   ]
  },
  {
   "cell_type": "markdown",
   "metadata": {},
   "source": [
    "#### Prvu jednačinu prepisujemo bez promene jer će nam u tom obliku biti potrebna u narednim koracima.\n",
    "#### Na taj način ne menjamo rešenje jer množenje jednačine konstanom ne utiče na rešenje."
   ]
  },
  {
   "cell_type": "markdown",
   "metadata": {},
   "source": [
    "### $$4x_1-3x_2+x_3=-8\\\\0-\\frac{1}{2}x_2-\\frac{5}{2}x_3=-8$$"
   ]
  },
  {
   "cell_type": "markdown",
   "metadata": {},
   "source": [
    "#### Uklonili smo $x_1$ iz druge jednačine, sada ga uklanjamo i iz treće."
   ]
  },
  {
   "cell_type": "markdown",
   "metadata": {},
   "source": [
    "#### U sledećem koraku prvu jednačinu množimo sa $-\\frac{1}{4}$ i onda je dodamo trećoj:"
   ]
  },
  {
   "cell_type": "markdown",
   "metadata": {},
   "source": [
    "### $$4\\cdot-\\frac{1}{4}x_1-3\\cdot-\\frac{1}{4}x_2+1\\cdot-\\frac{1}{4}x_3=-8\\cdot-\\frac{1}{4}\\\\x_1-x_2+2x_3=3$$"
   ]
  },
  {
   "cell_type": "markdown",
   "metadata": {},
   "source": [
    "#### Prvu jednačinu prepisujemo bez promene jer će nam u tom obliku biti potrebna u narednim koracima."
   ]
  },
  {
   "cell_type": "markdown",
   "metadata": {},
   "source": [
    "### $$4x_1-3x_2+x_3=-8\\\\\\\\0-\\frac{1}{4}x_2+\\frac{7}{4}x_3=5$$"
   ]
  },
  {
   "cell_type": "markdown",
   "metadata": {},
   "source": [
    "#### Rezultat prethodnih operacija:"
   ]
  },
  {
   "cell_type": "markdown",
   "metadata": {},
   "source": [
    "### $$4x_1-3x_2+x_3=-8\\\\0-\\frac{1}{2}x_2-\\frac{5}{2}x_3=-8\\\\0-\\frac{1}{4}x_2+\\frac{7}{4}x_3=5$$"
   ]
  },
  {
   "cell_type": "markdown",
   "metadata": {},
   "source": [
    "#### Još uvek nemamo jednu jednačinu sa jednom nepoznatom, pa nastavljamo tako što koristimo drugu jednačinu da izbacimo $x_2$ iz treće."
   ]
  },
  {
   "cell_type": "markdown",
   "metadata": {},
   "source": [
    "#### Drugu jednačinu da pomnožimo sa $-2\\cdot\\frac{1}{4}=-\\frac{1}{2}$ i onda je dodamo trećoj:"
   ]
  },
  {
   "cell_type": "markdown",
   "metadata": {},
   "source": [
    "### $$4x_1-3x_2+x_3=-8\\\\0-\\frac{1}{2}\\cdot-\\frac{1}{2}x_2-\\frac{5}{2}\\cdot-\\frac{1}{2}x_3=-8\\cdot-\\frac{1}{2}\\\\0-\\frac{1}{4}x_2+\\frac{7}{4}x_3=5$$"
   ]
  },
  {
   "cell_type": "markdown",
   "metadata": {},
   "source": [
    "#### Drugu jednačinu prepisujemo bez množenja sa $-\\frac{1}{2}$ jer će nam u tom obliku biti potrebna u narednim koracima."
   ]
  },
  {
   "cell_type": "markdown",
   "metadata": {},
   "source": [
    "### $$4x_1-3x_2+x_3=-8\\\\0-\\frac{1}{2}x_2-\\frac{5}{2}x_3=-8\\\\0-0+3x_3=9$$"
   ]
  },
  {
   "cell_type": "markdown",
   "metadata": {},
   "source": [
    "#### Sada smo sistem \"konačno\" dobili jednu jednačinu sa jednom nepoznatom."
   ]
  },
  {
   "cell_type": "markdown",
   "metadata": {},
   "source": [
    "### $$4x_1-3x_2+x_3=-8\\\\-\\frac{1}{2}x_2-\\frac{5}{2}x_3=-8\\\\3x_3=9$$"
   ]
  },
  {
   "cell_type": "markdown",
   "metadata": {},
   "source": [
    "#### Upravo smo završili prvu fazu Gausove eliminacije koja se zove *eliminacija unapred*.\n",
    "#### Sada vrlo lako možemo da izračunamo $x_3$:"
   ]
  },
  {
   "cell_type": "markdown",
   "metadata": {},
   "source": [
    "### $$x_3=\\frac{9}{3}=3$$"
   ]
  },
  {
   "cell_type": "markdown",
   "metadata": {},
   "source": [
    "#### Zamenjujemo $x_3$ u drugu jednačinu i izračunavamo $x_2$:"
   ]
  },
  {
   "cell_type": "markdown",
   "metadata": {},
   "source": [
    "### $$-\\frac{1}{2}x_2-\\frac{5}{2}\\cdot3=-8\\\\-\\frac{1}{2}x_2=-8+\\frac{15}{2}\\\\-\\frac{1}{2}x_2=-\\frac{1}{2}\\\\x_2=1$$"
   ]
  },
  {
   "cell_type": "markdown",
   "metadata": {},
   "source": [
    "#### Kao poslednji korak zamenjujemo $x_2$ i $x_3$ u prvu jednačinu i izračunavamo $x_1$:"
   ]
  },
  {
   "cell_type": "markdown",
   "metadata": {},
   "source": [
    "### $$4x_1-3\\cdot1+3=-8\\\\4x_1=-8\\\\x_1=-2$$"
   ]
  },
  {
   "cell_type": "markdown",
   "metadata": {},
   "source": [
    "#### Upravo smo završili drugu fazu Gausove eliminacije koja se zove *zamena unazad* i time rešili sistem.\n",
    "#### Šta mislite da li je prethodni postupak primenjliv na sisteme veće od *3x3*?"
   ]
  },
  {
   "cell_type": "markdown",
   "metadata": {},
   "source": [
    "#### Hajde da pokušamo da napišemo kod za metod koji smo koristili na prethodom primeru pa da vidimo da li može da se primeni na bilo koji sistem."
   ]
  },
  {
   "cell_type": "markdown",
   "metadata": {},
   "source": [
    "#### Kod ćemo razdvojiti na manje celine.\n",
    "#### Prva celina je množenje prve vrste nekom vrednosti *p* i dodavanje drugoj vrsti."
   ]
  },
  {
   "cell_type": "code",
   "execution_count": 60,
   "metadata": {},
   "outputs": [
    {
     "name": "stdout",
     "output_type": "stream",
     "text": [
      "[[ 4. -3.  1.]\n",
      " [-2.  1. -3.]\n",
      " [ 1. -1.  2.]]\n",
      "[-8. -4.  3.]\n"
     ]
    }
   ],
   "source": [
    "import numpy as np\n",
    "\n",
    "A=np.array([[4.,-3.,1.],[-2.,1.,-3.],[1.,-1.,2.]])\n",
    "b=np.array([-8.,-4.,3.])\n",
    "\n",
    "print(A)\n",
    "print(b)"
   ]
  },
  {
   "cell_type": "code",
   "execution_count": 53,
   "metadata": {},
   "outputs": [
    {
     "name": "stdout",
     "output_type": "stream",
     "text": [
      "[[-8. -4.  3.]]\n"
     ]
    }
   ],
   "source": [
    "b=np.array([[-8.,-4.,3.]])\n",
    "print(b)"
   ]
  },
  {
   "cell_type": "code",
   "execution_count": 54,
   "metadata": {},
   "outputs": [
    {
     "name": "stdout",
     "output_type": "stream",
     "text": [
      "[[-8.]\n",
      " [-4.]\n",
      " [ 3.]]\n"
     ]
    }
   ],
   "source": [
    "print(b.T)"
   ]
  },
  {
   "cell_type": "code",
   "execution_count": 55,
   "metadata": {},
   "outputs": [
    {
     "name": "stdout",
     "output_type": "stream",
     "text": [
      "[-8. -4.  3.]\n"
     ]
    }
   ],
   "source": [
    "print(np.array([-8.,-4.,3.]).T)"
   ]
  },
  {
   "cell_type": "code",
   "execution_count": 57,
   "metadata": {},
   "outputs": [
    {
     "name": "stdout",
     "output_type": "stream",
     "text": [
      "0\n",
      "1\n",
      "2\n"
     ]
    }
   ],
   "source": [
    "n=3\n",
    "for j in range(n):\n",
    "    print(j)"
   ]
  },
  {
   "cell_type": "code",
   "execution_count": 61,
   "metadata": {},
   "outputs": [
    {
     "name": "stdout",
     "output_type": "stream",
     "text": [
      "[[ 4.  -3.   1. ]\n",
      " [ 0.  -0.5 -2.5]\n",
      " [ 1.  -1.   2. ]]\n"
     ]
    }
   ],
   "source": [
    "(n,m)=A.shape\n",
    "p=2/4\n",
    "for j in range(n): #imamo n elemenata u svakoj vrsti\n",
    "    A[1,j]=A[1,j] + A[0,j]*p #indeksiranje ide od nule\n",
    "    \n",
    "print(A)"
   ]
  },
  {
   "cell_type": "markdown",
   "metadata": {},
   "source": [
    "### Na koji način smo napisali prethodni kod:\n",
    "* #### Imamo jednu promenljivu j koja je brojač za kolone.\n",
    "* #### Menjamo sve elemente druge vrste, zato imamo A(2,j).\n",
    "* #### Na svaki element druge vrste dodajemo odgovarajući element prve vrste koji je u istoj koloni (koloni j) \"iznad njega\".\n",
    "* #### Pre nego što uradimo dodavanje, element prve vrste množimo sa p."
   ]
  },
  {
   "cell_type": "markdown",
   "metadata": {},
   "source": [
    "#### Na elemente treće vrste dodajemo elemente prve vrste pomnožene sa p."
   ]
  },
  {
   "cell_type": "code",
   "execution_count": 62,
   "metadata": {},
   "outputs": [
    {
     "name": "stdout",
     "output_type": "stream",
     "text": [
      "[[ 4.   -3.    1.  ]\n",
      " [ 0.   -0.5  -2.5 ]\n",
      " [ 0.   -0.25  1.75]]\n"
     ]
    }
   ],
   "source": [
    "(n,m)=A.shape\n",
    "p=-1/4\n",
    "for j in range(n):\n",
    "    A[2,j]=A[2,j] + A[0,j]*p\n",
    "    \n",
    "print(A)"
   ]
  },
  {
   "cell_type": "markdown",
   "metadata": {},
   "source": [
    "#### Spajamo prethodna dva isečka koda u jedan."
   ]
  },
  {
   "cell_type": "code",
   "execution_count": 14,
   "metadata": {},
   "outputs": [
    {
     "name": "stdout",
     "output_type": "stream",
     "text": [
      "[[ 4.   -3.    1.  ]\n",
      " [ 0.   -0.5  -2.5 ]\n",
      " [ 0.   -0.25  1.75]]\n"
     ]
    }
   ],
   "source": [
    "A=np.array([[4.,-3.,1.],[-2.,1.,-3.],[1.,-1.,2.]])\n",
    "(n,m)=A.shape\n",
    "for i in range(1,3):\n",
    "    p=2/4\n",
    "    if i==2:\n",
    "        p=-1/4\n",
    "    for j in range(n):\n",
    "        A[i,j]=A[i,j] + A[0,j]*p\n",
    "    \n",
    "print(A)"
   ]
  },
  {
   "cell_type": "markdown",
   "metadata": {},
   "source": [
    "#### Da li nam je potreban if ili možda postoji neki bolji način da odredimo p?"
   ]
  },
  {
   "cell_type": "code",
   "execution_count": 64,
   "metadata": {},
   "outputs": [
    {
     "name": "stdout",
     "output_type": "stream",
     "text": [
      "[[ 4. -3.  1.]\n",
      " [-2.  1. -3.]\n",
      " [ 1. -1.  2.]]\n",
      "[[ 4.   -3.    1.  ]\n",
      " [ 0.   -0.5  -2.5 ]\n",
      " [ 0.   -0.25  1.75]]\n"
     ]
    }
   ],
   "source": [
    "A=np.array([[4.,-3.,1.],[-2.,1.,-3.],[1.,-1.,2.]])\n",
    "print(A)\n",
    "(n,m)=A.shape\n",
    "for i in range(1,3):\n",
    "    p=-A[i,0]/A[0,0]\n",
    "    for j in range(n):\n",
    "        A[i,j]=A[i,j] + A[0,j]*p\n",
    "    \n",
    "print(A)"
   ]
  },
  {
   "cell_type": "markdown",
   "metadata": {},
   "source": [
    "#### Upoštavamo sad kod tako da pored prve vrste množimo i drugu vrstu odgovrajućim brojem i dodajemo na treću."
   ]
  },
  {
   "cell_type": "code",
   "execution_count": 65,
   "metadata": {},
   "outputs": [
    {
     "name": "stdout",
     "output_type": "stream",
     "text": [
      "[[ 4.  -3.   1. ]\n",
      " [ 0.  -0.5 -2.5]\n",
      " [ 0.   0.   3. ]]\n"
     ]
    }
   ],
   "source": [
    "A=np.array([[4.,-3.,1.],[-2.,1.,-3.],[1.,-1.,2.]])\n",
    "(n,m)=A.shape\n",
    "for k in range(2):\n",
    "    for i in range(k+1,n):\n",
    "        p = -A[i,k]/A[k,k]\n",
    "        for j in range(n):\n",
    "            A[i,j]=A[i,j] + A[k,j]*p\n",
    "print(A)"
   ]
  },
  {
   "cell_type": "markdown",
   "metadata": {},
   "source": [
    "#### Upoštavamo kod tako da možemo da radimo sa bilo kojom kvadratnom matricom *nxn*.\n",
    "#### Pošto je vektor *b* deo sistema dodajemo i njega u kod."
   ]
  },
  {
   "cell_type": "code",
   "execution_count": 73,
   "metadata": {},
   "outputs": [],
   "source": [
    "A=np.array([[4.,-3.,1.],[-2.,1.,-3.],[1.,-1.,2.]])\n",
    "b=np.array([-8.,-4.,3.])"
   ]
  },
  {
   "cell_type": "code",
   "execution_count": 74,
   "metadata": {},
   "outputs": [
    {
     "name": "stdout",
     "output_type": "stream",
     "text": [
      "[-8. -4.  3.]\n",
      "[[ 4.  -3.   1. ]\n",
      " [ 0.  -0.5 -2.5]\n",
      " [ 0.   0.   3. ]]\n",
      "[-8. -8.  9.]\n"
     ]
    }
   ],
   "source": [
    "print(b)\n",
    "(n,m)=A.shape\n",
    "for k in range(n-1): #koristimo sve vrste da radimo eliminaciju osim poslednje zato petlja ide do n-1\n",
    "    for i in range(k+1,n): #menjamo vrednosti 3 na n da bi omogućili rad sa proizvoljnim matricama\n",
    "        p = -A[i,k]/A[k,k]\n",
    "        for j in range(n):\n",
    "            A[i,j]=A[i,j] + A[k,j]*p\n",
    "        b[i]=b[i] + b[k]*p\n",
    "\n",
    "print(A)\n",
    "print(b)"
   ]
  },
  {
   "cell_type": "markdown",
   "metadata": {},
   "source": [
    "#### Sada ste naučili kako funkcioniše prva faza Gausove eliminacije koja se zove *eliminacija unapred*.\n",
    "#### Cilj ove faze je ono što smo upravo uradili, a to je svođenje matrice A na gornju trougaonu."
   ]
  },
  {
   "cell_type": "markdown",
   "metadata": {},
   "source": [
    "#### Prelazimo na drugu (i poslednju) fazu koja se naziva *zamena unazad*.\n",
    "#### Kao prvi korak odredićemo poslednje $x$, tj. $x_3$.\n",
    "#### Upoštićemo odmah kod i pišemo $x_n$ jer je $n$ broj kolona matrice *A*, tj. broj promenjljivih."
   ]
  },
  {
   "cell_type": "code",
   "execution_count": 75,
   "metadata": {},
   "outputs": [],
   "source": [
    "x=np.zeros(n)\n",
    "x[n-1]=b[n-1]/A[n-1,n-1]"
   ]
  },
  {
   "cell_type": "code",
   "execution_count": 76,
   "metadata": {},
   "outputs": [
    {
     "name": "stdout",
     "output_type": "stream",
     "text": [
      "[[ 4.  -3.   1. ]\n",
      " [ 0.  -0.5 -2.5]\n",
      " [ 0.   0.   3. ]]\n",
      "[-8. -8.  9.]\n",
      "[0. 0. 3.]\n"
     ]
    }
   ],
   "source": [
    "print(A)\n",
    "print(b)\n",
    "print(x)"
   ]
  },
  {
   "cell_type": "markdown",
   "metadata": {},
   "source": [
    "#### Određujemo sada $x_2$ tako što zamenjujemo $x_3$ u drugu jednačinu."
   ]
  },
  {
   "cell_type": "markdown",
   "metadata": {},
   "source": [
    "### $$-\\frac{1}{2}x_2+\\frac{5}{2}\\cdot3=-8\\\\x_2=(-8+\\frac{15}{2})\\cdot-\\frac{2}{1}$$"
   ]
  },
  {
   "cell_type": "code",
   "execution_count": 77,
   "metadata": {},
   "outputs": [
    {
     "name": "stdout",
     "output_type": "stream",
     "text": [
      "[0. 1. 3.]\n"
     ]
    }
   ],
   "source": [
    "s=A[1,2]*x[2]\n",
    "x[1]=(b[1]-s)/A[1,1]\n",
    "\n",
    "print(x)"
   ]
  },
  {
   "cell_type": "markdown",
   "metadata": {},
   "source": [
    "#### Određujemo sada $x_1$ tako što zamenjujemo $x_2$ i $x_3$ u prvu jednačinu."
   ]
  },
  {
   "cell_type": "markdown",
   "metadata": {},
   "source": [
    "### $$4x_1-3\\cdot1+3=-8\\\\x_1=(-8-(-3\\cdot1+3))\\cdot\\frac{1}{4}$$"
   ]
  },
  {
   "cell_type": "code",
   "execution_count": 78,
   "metadata": {},
   "outputs": [
    {
     "name": "stdout",
     "output_type": "stream",
     "text": [
      "[-2.  1.  3.]\n"
     ]
    }
   ],
   "source": [
    "s=A[0,1]*x[1]+A[0,2]*x[2]\n",
    "x[0]=(b[0]-s)/A[0,0]\n",
    "\n",
    "print(x)"
   ]
  },
  {
   "cell_type": "markdown",
   "metadata": {},
   "source": [
    "#### Uopštavamo kod za $x_1$."
   ]
  },
  {
   "cell_type": "code",
   "execution_count": 79,
   "metadata": {},
   "outputs": [
    {
     "name": "stdout",
     "output_type": "stream",
     "text": [
      "[-2.  0.  0.]\n"
     ]
    }
   ],
   "source": [
    "x=np.zeros(n)\n",
    "i=0\n",
    "s=0\n",
    "for j in range(i+1,n):\n",
    "    s = s + A[0,j]*x[j]\n",
    "x[0]=(b[0]-s)/A[0,0]\n",
    "\n",
    "print(x)"
   ]
  },
  {
   "cell_type": "code",
   "execution_count": 80,
   "metadata": {},
   "outputs": [
    {
     "name": "stdout",
     "output_type": "stream",
     "text": [
      "2\n",
      "1\n",
      "0\n"
     ]
    }
   ],
   "source": [
    "for i in range(2,-1,-1):\n",
    "    print(i)"
   ]
  },
  {
   "cell_type": "markdown",
   "metadata": {},
   "source": [
    "#### Upoštavamo kod za sve promenjlive."
   ]
  },
  {
   "cell_type": "code",
   "execution_count": 81,
   "metadata": {},
   "outputs": [
    {
     "name": "stdout",
     "output_type": "stream",
     "text": [
      "[-2.  1.  3.]\n"
     ]
    }
   ],
   "source": [
    "x=np.zeros(n)\n",
    "for i in range(n-1,-1,-1):\n",
    "    s=0\n",
    "    for j in range(i+1,n):\n",
    "        s = s + A[i,j]*x[j]\n",
    "    x[i]=(b[i]-s)/A[i,i]\n",
    "\n",
    "print(x)"
   ]
  },
  {
   "cell_type": "markdown",
   "metadata": {},
   "source": [
    "#### Spajamo kod za eliminaciju unapred i zamenu unazad i pišemo funkciju za Gausovu eliminaciju."
   ]
  },
  {
   "cell_type": "code",
   "execution_count": 82,
   "metadata": {},
   "outputs": [],
   "source": [
    "def gauss(A,b):\n",
    "    (n,m)=A.shape\n",
    "    for k in range(n-1):\n",
    "        for i in range(k+1,n):\n",
    "            p = -A[i,k]/A[k,k]\n",
    "            for j in range(n):\n",
    "                A[i,j]=A[i,j] + A[k,j]*p\n",
    "            b[i]=b[i] + b[k]*p\n",
    "    x=np.zeros(n)\n",
    "    for i in range(n-1,-1,-1):\n",
    "        s=0.\n",
    "        for j in range(i+1,n):\n",
    "            s = s + A[i,j]*x[j]\n",
    "        x[i]=(b[i]-s)/A[i,i]\n",
    "    return x"
   ]
  },
  {
   "cell_type": "code",
   "execution_count": 83,
   "metadata": {},
   "outputs": [
    {
     "name": "stdout",
     "output_type": "stream",
     "text": [
      "[-2.  1.  3.]\n"
     ]
    }
   ],
   "source": [
    "A=np.array([[4.,-3.,1.],[-2.,1.,-3.],[1.,-1.,2.]])\n",
    "b=np.array([-8.,-4.,3.])\n",
    "\n",
    "x=gauss(A,b)\n",
    "\n",
    "print(x)"
   ]
  },
  {
   "cell_type": "code",
   "execution_count": 84,
   "metadata": {},
   "outputs": [
    {
     "name": "stdout",
     "output_type": "stream",
     "text": [
      "[[ 7.33390326e-02  9.10857262e-01  6.58338264e-01  8.95672548e-01\n",
      "   3.84952870e-01  4.47498760e-01  7.96827165e-01  2.01359474e-01]\n",
      " [ 0.00000000e+00 -6.33294544e-01 -7.07067772e-02 -1.36184889e+00\n",
      "  -4.94093320e-01  3.48896676e-02 -3.63974345e-01  6.28761575e-01]\n",
      " [ 0.00000000e+00  0.00000000e+00 -4.07880081e+00  7.10139245e+00\n",
      "   2.00585081e+00 -3.27237075e+00 -1.34134492e+00 -7.24293799e+00]\n",
      " [ 0.00000000e+00  0.00000000e+00  0.00000000e+00  1.80622813e-01\n",
      "   1.13979524e-01  9.81159029e-02 -8.87714712e-01 -8.06959036e-01]\n",
      " [ 0.00000000e+00  0.00000000e+00  0.00000000e+00  0.00000000e+00\n",
      "  -4.26317945e-02 -7.09386709e-01  7.89858141e+00  6.79293499e+00]\n",
      " [ 0.00000000e+00  0.00000000e+00  0.00000000e+00  0.00000000e+00\n",
      "   0.00000000e+00  1.47166498e-01 -6.33343560e+00 -6.43915072e+00]\n",
      " [ 0.00000000e+00  0.00000000e+00  0.00000000e+00 -2.22044605e-16\n",
      "   0.00000000e+00 -8.88178420e-16  2.31901210e+02  2.50824537e+02]\n",
      " [ 0.00000000e+00  0.00000000e+00  0.00000000e+00  1.13952395e-16\n",
      "   0.00000000e+00  4.55809580e-16 -1.42108547e-14  1.65647996e+00]]\n",
      "[  0.35568599  -0.1798391   -0.20368465   0.18493292  -1.29179911\n",
      "   0.58149913 -14.94939389   0.25612921]\n",
      "[ 0.72077249  0.04342948 -0.21258243  0.41617181 -0.38827787  0.74509029\n",
      " -0.23170441  0.15462259]\n"
     ]
    }
   ],
   "source": [
    "A1=np.random.rand(8,8)\n",
    "b1=np.random.rand(8)\n",
    "x1=gauss(A1,b1)\n",
    "\n",
    "print(A1)\n",
    "print(b1)\n",
    "print(x1)"
   ]
  },
  {
   "cell_type": "markdown",
   "metadata": {},
   "source": [
    "#### Pre nego što pređemo na sledeću celinu dat je malo optimizovaniji kod za Gausovu eliminaciju. Ovaj kod nije od značaja za vaše razumevanje algoritma već demonstrira kako možemo efikasno da koristimo vektorske operacije koje nude jezici kao što su MATLAB, Octave, Python itd. Kod nije deo obaveznog gradiva dat je samo informativno."
   ]
  },
  {
   "cell_type": "code",
   "execution_count": 36,
   "metadata": {},
   "outputs": [],
   "source": [
    "def gauss_vect(A,b):\n",
    "    (n,m)=A.shape\n",
    "    Aaug = np.zeros((n,n+1))\n",
    "    Aaug[0:n,0:n]=A\n",
    "    Aaug[:,n]=b\n",
    "    \n",
    "    for k in range(n-1):\n",
    "        for i in range(k+1,n):\n",
    "            m=-Aaug[i,k]/Aaug[k,k]\n",
    "            Aaug[i,:]=Aaug[i,:]+m*Aaug[k,:]\n",
    "         \n",
    "    x=np.zeros(n)\n",
    "    for i in range(n-1,-1,-1):\n",
    "        x[i]=(Aaug[i,n]-np.dot(Aaug[i,0:n],x))/Aaug[i,i]\n",
    "    return x"
   ]
  },
  {
   "cell_type": "code",
   "execution_count": 85,
   "metadata": {},
   "outputs": [
    {
     "name": "stdout",
     "output_type": "stream",
     "text": [
      "[-2.  1.  3.]\n"
     ]
    }
   ],
   "source": [
    "A=np.array([[4.,-3.,1.],[-2.,1.,-3.],[1.,-1.,2.]])\n",
    "b=np.array([-8.,-4.,3.])\n",
    "\n",
    "x=gauss_vect(A,b)\n",
    "print(x)"
   ]
  },
  {
   "cell_type": "markdown",
   "metadata": {},
   "source": [
    "#### Napomena: u ispisu matrice Aug, nakon pokretanja funkcje gauss, poslednja kolona je vektor b pa zato deluje kao da rezultat nije gornja trougaona matrica."
   ]
  },
  {
   "cell_type": "markdown",
   "metadata": {},
   "source": [
    "## Problemi sa orignialnim (naivnim) algoritmom Gausove eliminacije"
   ]
  },
  {
   "cell_type": "markdown",
   "metadata": {},
   "source": [
    "#### Pored očiglednog problema deljenja nulom do koga dolazi kada određujemo vrednost $m = \\frac{a_{ij}}{a_{ii}}$, a vrednost $a_{ii}=0$ što se u navinoj GE ne proverava, postoje i malo suptilniji problemi o kojima ćemo se baviti u nastavku."
   ]
  },
  {
   "cell_type": "markdown",
   "metadata": {},
   "source": [
    "#### Ako pogledamo sledeći grafik funkcije $f(x)=\\frac{1}{x}$, vidimo da kada su vrednosti $x$ male, npr. manje od 1, za male promene $x$ imamo velike promene $f(x)$ dok za vreće vrednosti $x$ to ne važi. Ova osobina operacije deljenja nam je veoma značajna kao potencijalni izvor problema sa Gausovom eliminacijom."
   ]
  },
  {
   "cell_type": "code",
   "execution_count": 86,
   "metadata": {},
   "outputs": [
    {
     "data": {
      "text/plain": [
       "Text(0, 0.5, '1/x')"
      ]
     },
     "execution_count": 86,
     "metadata": {},
     "output_type": "execute_result"
    },
    {
     "data": {
      "image/png": "[encoded data removed]",
      "text/plain": [
       "<Figure size 1080x720 with 1 Axes>"
      ]
     },
     "metadata": {
      "needs_background": "light"
     },
     "output_type": "display_data"
    }
   ],
   "source": [
    "import matplotlib.pyplot as plt\n",
    "\n",
    "plt.figure(figsize=(15, 10))\n",
    "\n",
    "x_corr=np.linspace(0.1,10,1000)\n",
    "plt.plot(x_corr,1.0/x_corr)\n",
    "\n",
    "plt.xlabel('x')\n",
    "plt.ylabel('1/x')"
   ]
  },
  {
   "cell_type": "code",
   "execution_count": 87,
   "metadata": {},
   "outputs": [
    {
     "name": "stdout",
     "output_type": "stream",
     "text": [
      "204.08163265306123\n",
      "200.0\n"
     ]
    }
   ],
   "source": [
    "print(1/0.0049)\n",
    "print(1/0.005)"
   ]
  },
  {
   "cell_type": "code",
   "execution_count": 88,
   "metadata": {},
   "outputs": [
    {
     "name": "stdout",
     "output_type": "stream",
     "text": [
      "0.0004347826086956522\n",
      "0.000425531914893617\n"
     ]
    }
   ],
   "source": [
    "print(1/2300)\n",
    "print(1/2350)"
   ]
  },
  {
   "cell_type": "markdown",
   "metadata": {},
   "source": [
    "#### Povezaćemo sada operaciju deljenja i ograničen kapacitet računara za smeštanje brojeva i time pokazati šta su problemi sa postupkom GE."
   ]
  },
  {
   "cell_type": "markdown",
   "metadata": {},
   "source": [
    "#### Ograničen kapacitet računara za smeštanje brojeva može proizvesti gubitak informacija tokom računskih operacija. Na primer, ako pomnožimo sledeća dva broja koji mogu da se smeste na računar, rezultat je takav da ne može ceo biti smešten već moramo da ga zaokružimo. \n",
    "12.123456789 * 14.123456789 = 171.225118092750190521"
   ]
  },
  {
   "cell_type": "code",
   "execution_count": 89,
   "metadata": {},
   "outputs": [
    {
     "data": {
      "text/plain": [
       "171.2251180927502"
      ]
     },
     "execution_count": 89,
     "metadata": {},
     "output_type": "execute_result"
    }
   ],
   "source": [
    "12.123456789 * 14.123456789"
   ]
  },
  {
   "cell_type": "markdown",
   "metadata": {},
   "source": [
    "#### Sličnu situaciju imamo i sa deljenjem. Na primer ako delimo 56.985/101.53 dobijamo sledeći rezultat pomoću digitrona sa beskonačnom preciznošću:\n",
    "0.56126268098099084014576972323451196690633310351620210775140352605141337535703732886831478380774155422042745986407958238944154437112183591056830493450211760070915000492465281197675563872746971338520634\n",
    "#### Očigledno je da moramo da rezultat moramo da zaokružimo."
   ]
  },
  {
   "cell_type": "markdown",
   "metadata": {},
   "source": [
    "#### Gubitak informacija je naročito izražen kada su brojevi koji učestvuju u računskoj opreciji različitog reda veličine, kao u sledećem primeru.\n",
    "1463.0345 + 0.000123456789 = 1463.034623456789"
   ]
  },
  {
   "cell_type": "code",
   "execution_count": 44,
   "metadata": {},
   "outputs": [
    {
     "data": {
      "text/plain": [
       "1463.034623456789"
      ]
     },
     "execution_count": 44,
     "metadata": {},
     "output_type": "execute_result"
    }
   ],
   "source": [
    "1463.0345 + 0.000123456789"
   ]
  },
  {
   "cell_type": "markdown",
   "metadata": {},
   "source": [
    "#### Ako bi prethodni zbir zbog ograničenog kapaciteta računara morali da zaokružimo na recimo 9 cifara izgubili bi sve osim jedne cifre drugog sabirka, tj. drugi sabirak bi skoro bio beznačajan."
   ]
  },
  {
   "cell_type": "markdown",
   "metadata": {},
   "source": [
    "#### U Gausovoj eliminaciji prilikom svođenja na gornju trougaonu matricu ponavljamo sledeća dva koraka:\n",
    "### 1. $m = \\frac{a_{i,j}}{a_{i,i}}$\n",
    "### 2. $a_{i,j} = a_{i,j} - m*a_{k,j}$\n",
    "\n",
    "#### Do gubitka informacija može doći ako se umanjenik i umanjilac u koraku 2. razlikuju po redu veličine, što se može dogoditi ako je $m$ jako mali ili jako veliki broj. Vrednost $m$ može biti jako velika u slučaju da je ${a_{i,i}}$ jako mali broj, tj. blizu 0. Iz tog razloga trebalo bi da pokušamo da izbegnemo deljenje jako malim brojevima tokom Gausove eliminacije. To postižemo upotrebom pivotinga."
   ]
  },
  {
   "cell_type": "markdown",
   "metadata": {},
   "source": [
    "## Pivoting"
   ]
  },
  {
   "cell_type": "markdown",
   "metadata": {},
   "source": [
    "* #### Iz do sada navedenog može se zaključiti da se problem u koraku 2. može rešiti ili ublažiti ako pivot element (sa kojim se u postupku eliminacije unapred vrši deljenje) ima što veću moguću vrednost.\n",
    "* #### Iz oblasti algebre znamo da promena rasporeda jednačina i promenljivih (premeštanje vrsta i kolona matrice sistema) ne menja rešenje sistema. \n",
    "* #### Ovu činjenicu možemo da iskoristimo da bi prilikom eliminacije svake promenljive na mesto pivot elementa postavli najveći mogući element po apsolutnoj vrednosti.\n",
    "* #### Postupak postavljanja najvećeg mogućeg elementa po aspsulutnoj vrednosti na mesto pivota naziva se pivoting. \n",
    "* #### Ako najveći mogući element tražimo u celoj matrici sistema, tačnije u delu koji nije anuliran u postupku elimancije unapred, onda izvršavamo kompletan pivoting.\n",
    "* #### Pracijalni pivoting predstavlja efikasniju varijantu pivotinga pri kojoj novi pivot element tražimo samo u koloni u kojoj se nalazi promenljiva koja se trenutno eliminiše. U praksi se najćešće koristi parcijalni pivoting jer je efikasniji uz prihvatljiv pad kvaliteta rešenja.\n"
   ]
  },
  {
   "cell_type": "code",
   "execution_count": 97,
   "metadata": {},
   "outputs": [
    {
     "name": "stdout",
     "output_type": "stream",
     "text": [
      "[[ 4. -3.  1.]\n",
      " [-2.  1. -3.]\n",
      " [ 1. -1.  2.]]\n",
      "[ 1. -1.]\n"
     ]
    }
   ],
   "source": [
    "A=np.array([[4.,-3.,1.],[-2.,1.,-3.],[1.,-1.,2.]])\n",
    "print(A)\n",
    "print(A[1:3,1])"
   ]
  },
  {
   "cell_type": "code",
   "execution_count": 98,
   "metadata": {},
   "outputs": [
    {
     "name": "stdout",
     "output_type": "stream",
     "text": [
      "1\n"
     ]
    }
   ],
   "source": [
    "print(np.argmax([12,54,7]))"
   ]
  },
  {
   "cell_type": "code",
   "execution_count": 99,
   "metadata": {},
   "outputs": [],
   "source": [
    "def gauss_with_pivoting(A,b):\n",
    "    (n,m)=A.shape\n",
    "    \n",
    "    for k in range(n-1):\n",
    "        loc = np.argmax(np.abs(A[k:n,k]))\n",
    "        loc = k+loc\n",
    "        \n",
    "        print(A)\n",
    "        print(\"+++++++++++++++++++++++++++++++++++++++++++\")\n",
    "        \n",
    "        temp = A[k,:].copy()\n",
    "        A[k,:] = A[loc,:]\n",
    "        A[loc,:] = temp\n",
    "        \n",
    "        print(A)\n",
    "        print(\"-------------------------------------------\")\n",
    "        \n",
    "        temp = b[k]\n",
    "        b[k] = b[loc]\n",
    "        b[loc] = temp\n",
    "        for i in range(k+1,n):\n",
    "            p = -A[i,k]/A[k,k]\n",
    "            for j in range(n):\n",
    "                A[i,j]=A[i,j] + A[k,j]*p\n",
    "            b[i]=b[i] + b[k]*p\n",
    "    \n",
    "    x=np.zeros(n)\n",
    "    for i in range(n-1,-1,-1):\n",
    "        s=0.\n",
    "        for j in range(i+1,n):\n",
    "            s = s + A[i,j]*x[j]\n",
    "        x[i]=(b[i]-s)/A[i,i]\n",
    "    return x"
   ]
  },
  {
   "cell_type": "code",
   "execution_count": 100,
   "metadata": {},
   "outputs": [
    {
     "name": "stdout",
     "output_type": "stream",
     "text": [
      "[[ 5.  0.  2.  3.]\n",
      " [-2.  2.  2. -3.]\n",
      " [ 0.  1.  1.  4.]\n",
      " [ 6.  2.  2.  4.]]\n",
      "+++++++++++++++++++++++++++++++++++++++++++\n",
      "[[ 6.  2.  2.  4.]\n",
      " [-2.  2.  2. -3.]\n",
      " [ 0.  1.  1.  4.]\n",
      " [ 5.  0.  2.  3.]]\n",
      "-------------------------------------------\n",
      "[[ 6.          2.          2.          4.        ]\n",
      " [ 0.          2.66666667  2.66666667 -1.66666667]\n",
      " [ 0.          1.          1.          4.        ]\n",
      " [ 0.         -1.66666667  0.33333333 -0.33333333]]\n",
      "+++++++++++++++++++++++++++++++++++++++++++\n",
      "[[ 6.          2.          2.          4.        ]\n",
      " [ 0.          2.66666667  2.66666667 -1.66666667]\n",
      " [ 0.          1.          1.          4.        ]\n",
      " [ 0.         -1.66666667  0.33333333 -0.33333333]]\n",
      "-------------------------------------------\n",
      "[[ 6.00000000e+00  2.00000000e+00  2.00000000e+00  4.00000000e+00]\n",
      " [ 0.00000000e+00  2.66666667e+00  2.66666667e+00 -1.66666667e+00]\n",
      " [ 0.00000000e+00  0.00000000e+00  0.00000000e+00  4.62500000e+00]\n",
      " [ 0.00000000e+00  2.22044605e-16  2.00000000e+00 -1.37500000e+00]]\n",
      "+++++++++++++++++++++++++++++++++++++++++++\n",
      "[[ 6.00000000e+00  2.00000000e+00  2.00000000e+00  4.00000000e+00]\n",
      " [ 0.00000000e+00  2.66666667e+00  2.66666667e+00 -1.66666667e+00]\n",
      " [ 0.00000000e+00  2.22044605e-16  2.00000000e+00 -1.37500000e+00]\n",
      " [ 0.00000000e+00  0.00000000e+00  0.00000000e+00  4.62500000e+00]]\n",
      "-------------------------------------------\n"
     ]
    }
   ],
   "source": [
    "A2=np.array([[5.,0.,2.,3.],[-2.,2.,2.,-3.],[0.,1.,1.,4.],[6.,2.,2.,4.]])\n",
    "b2=np.array([1.,-1.,2.,1.])\n",
    "\n",
    "x=gauss_with_pivoting(A2,b2)"
   ]
  },
  {
   "cell_type": "markdown",
   "metadata": {},
   "source": [
    "#### Ako pogledamo poslednju matricu pred pivoting za naš primer vidimo da bi bez pivotinga u tom slučaju imali deljenje nulom."
   ]
  },
  {
   "cell_type": "markdown",
   "metadata": {},
   "source": [
    "# Da li Gausova eliminacija može da rezultuje pogrešnim rešenjem?"
   ]
  },
  {
   "cell_type": "markdown",
   "metadata": {},
   "source": [
    "* #### Sam postupak (algoritam) Gausove eliminacije ne sadrži grešku, ali GE može vratiti pogrešno rešenje ako vrednosti $A$ ili $b$ odstupaju od onih koje su originalno zadate.\n",
    "* #### Zašto bi bilo odstupanja u vrednostima? \n",
    "* #### Jedan od banalnih razloga može biti da je neko prilikom unosa podataka pogrešio. \n",
    "* #### Drugi, mnogo realniji i češći razlog je da su vrednosti $A$ i $b$ takve da ne mogu da se potpuno tačno reprezentuju na računaru koji radi sa ograničenom preciznošću."
   ]
  },
  {
   "cell_type": "markdown",
   "metadata": {},
   "source": [
    "### Logično pitanje je na koji način možemo da proverimo da li je GE vratio pogrešno rešenje.\n",
    "* #### Prvi odgovor bio bi da jednostavno ubacimo dobijeno rešenje $x$ u sistem i proverimo jednakost, tj. da pomnožimo $x$ sa $A$ i proverimo da li važi $Ax=b$."
   ]
  },
  {
   "cell_type": "markdown",
   "metadata": {},
   "source": [
    "#### U nastavku ćemo pokazati da ostatak $r=Ax-b$ nije pouzdana mera tačnosti kada brojeve reprezentujemo sa ograničenom preciznošću. Kod primera u nastavku računske operacije se izvršavaju na računaru koji može da smesti samo tri značajne cifre broja. To je namerno urađeno da bi se ilustrovao problem sa nepouzdanošću ostatka $r$. Savremeni računari mogu da smeste 16 značajnih cifara upotrebom tipa $double$, odnosno i njihov kapacitet je isto ograničen samo sa većim brojem cifara."
   ]
  },
  {
   "cell_type": "code",
   "execution_count": 101,
   "metadata": {},
   "outputs": [
    {
     "name": "stdout",
     "output_type": "stream",
     "text": [
      "171.2\n"
     ]
    }
   ],
   "source": [
    "from sigfig import round\n",
    "\n",
    "print(round(171.2251180927502, sigfigs = 4))"
   ]
  },
  {
   "cell_type": "code",
   "execution_count": 102,
   "metadata": {},
   "outputs": [],
   "source": [
    "def gauss_low_precision(A,b):\n",
    "    (n,m)=A.shape\n",
    "    for k in range(n-1):\n",
    "        for i in range(k+1,n):\n",
    "            \n",
    "            p_full_precision = -A[i,k]/A[k,k]\n",
    "            p_rounded = round(p_full_precision, sigfigs = 3)\n",
    "            \n",
    "            print(p_full_precision)\n",
    "            print(p_rounded)\n",
    "            print()\n",
    "            \n",
    "            for j in range(n):\n",
    "                a_mul_p_full_pr = A[k,j]*p_full_precision\n",
    "                a_mul_p_rounded = round(a_mul_p_full_pr, sigfigs = 3)\n",
    "                \n",
    "                print(a_mul_p_full_pr)\n",
    "                print(a_mul_p_rounded)\n",
    "                print()\n",
    "                \n",
    "                A[i,j]=round(A[i,j] + a_mul_p_rounded,3)\n",
    "            \n",
    "            b_mul_p_full_pr = b[k]*p_full_precision\n",
    "            b_mul_p_rounded = round(b_mul_p_full_pr, sigfigs = 3)\n",
    "            \n",
    "            print()\n",
    "            print(b_mul_p_full_pr)\n",
    "            print(b_mul_p_rounded)\n",
    "            \n",
    "            b[i]=round(b[i] + b_mul_p_rounded,3)\n",
    "    print()\n",
    "    print(A)\n",
    "    print(b)\n",
    "    print()\n",
    "    x=np.zeros(n)\n",
    "    for i in range(n-1,-1,-1):\n",
    "        s=0.\n",
    "        for j in range(i+1,n):\n",
    "            s = round(s + round(A[i,j]*x[j],3),3)\n",
    "        x[i]=round(round(b[i]-s,3)/A[i,i],3)\n",
    "    return x"
   ]
  },
  {
   "cell_type": "code",
   "execution_count": 103,
   "metadata": {},
   "outputs": [
    {
     "name": "stdout",
     "output_type": "stream",
     "text": [
      "[[0.641 0.242]\n",
      " [0.321 0.122]]\n",
      "\n",
      "[0.883 0.444]\n"
     ]
    }
   ],
   "source": [
    "A=np.array([[0.641,0.242],[0.321,0.122]])\n",
    "b=np.array([0.883,0.444])\n",
    "\n",
    "print(A)\n",
    "print()\n",
    "print(b)"
   ]
  },
  {
   "cell_type": "code",
   "execution_count": 104,
   "metadata": {},
   "outputs": [
    {
     "name": "stdout",
     "output_type": "stream",
     "text": [
      "-0.500780031201248\n",
      "-0.501\n",
      "\n",
      "-0.321\n",
      "-0.321\n",
      "\n",
      "-0.12118876755070201\n",
      "-0.121\n",
      "\n",
      "\n",
      "-0.442188767550702\n",
      "-0.442\n",
      "\n",
      "[[0.641 0.242]\n",
      " [0.    0.001]]\n",
      "[0.883 0.002]\n",
      "\n"
     ]
    },
    {
     "name": "stderr",
     "output_type": "stream",
     "text": [
      "C:\\Users\\kocha\\Anaconda3\\lib\\site-packages\\sigfig\\sigfig.py:572: UserWarning: warning: 3 significant figures requested from number with only 1 significant figures\n",
      "  warn(\"warning: %d significant figures requested from number with only %d significant figures\" % (given['sigfigs'], len(num.map)))\n",
      "C:\\Users\\kocha\\Anaconda3\\lib\\site-packages\\sigfig\\sigfig.py:572: UserWarning: warning: 3 significant figures requested from number with only 2 significant figures\n",
      "  warn(\"warning: %d significant figures requested from number with only %d significant figures\" % (given['sigfigs'], len(num.map)))\n"
     ]
    }
   ],
   "source": [
    "x_low_pr = gauss_low_precision(A,b)"
   ]
  },
  {
   "cell_type": "markdown",
   "metadata": {},
   "source": [
    "#### Napomena oko prethodnog primera: zbog zaokruživanja vrednosti a_puta_p_full_prec = -0.12124 na tri značajne cifre, tj. na -0.121 dolazi do gubitka informacija. Prilikom sabiranja vrednosti -0.121 sa vrednošću 0.122 (kao deo postpuka eliminacije unapred), dobijamo vrednost 0.001 koja ima samo jednu zančajnu cifru. Taj gubitak se onda propagira dalje što onda, kao jedan od faktora, rezultuje pogrešnim rešenjem. Slična situacija je i sa vektorom b. "
   ]
  },
  {
   "cell_type": "code",
   "execution_count": 105,
   "metadata": {},
   "outputs": [
    {
     "name": "stdout",
     "output_type": "stream",
     "text": [
      "[0.622 2.   ]\n"
     ]
    }
   ],
   "source": [
    "print(x_low_pr)"
   ]
  },
  {
   "cell_type": "code",
   "execution_count": 106,
   "metadata": {},
   "outputs": [
    {
     "name": "stdout",
     "output_type": "stream",
     "text": [
      "[[0.622]\n",
      " [2.   ]]\n"
     ]
    }
   ],
   "source": [
    "x_low_pr_col=np.array([x_low_pr]).T\n",
    "print(x_low_pr_col)"
   ]
  },
  {
   "cell_type": "code",
   "execution_count": 35,
   "metadata": {},
   "outputs": [
    {
     "name": "stdout",
     "output_type": "stream",
     "text": [
      "[[-0.000298]\n",
      " [ 0.      ]]\n"
     ]
    }
   ],
   "source": [
    "b_col=np.array([b]).T\n",
    "residual_full_prec=np.matmul(A,x_low_pr_col)-b_col\n",
    "print(residual_full_prec)"
   ]
  },
  {
   "cell_type": "markdown",
   "metadata": {},
   "source": [
    "#### Ako radimo u ograničenoj preciznosti od 3 značajne cifre, ostatak je 0 što ukazuje na to da je naše rešenje tačno. Međutim tačno rešenje se već na prvoj značajnoj cifri razlikuje od našeg rešenja. Kao što ćete videti u nastavku."
   ]
  },
  {
   "cell_type": "code",
   "execution_count": 107,
   "metadata": {},
   "outputs": [
    {
     "name": "stdout",
     "output_type": "stream",
     "text": [
      "[[0.641 0.242]\n",
      " [0.321 0.122]]\n",
      "+++++++++++++++++++++++++++++++++++++++++++\n",
      "[[0.641 0.242]\n",
      " [0.321 0.122]]\n",
      "-------------------------------------------\n"
     ]
    }
   ],
   "source": [
    "A=np.array([[0.641,0.242],[0.321,0.122]])\n",
    "b=np.array([0.883,0.444])\n",
    "\n",
    "x_full_prec = gauss_with_pivoting(A,b)"
   ]
  },
  {
   "cell_type": "code",
   "execution_count": 108,
   "metadata": {},
   "outputs": [
    {
     "name": "stdout",
     "output_type": "stream",
     "text": [
      "[0.53461538 2.23269231]\n"
     ]
    }
   ],
   "source": [
    "print(x_full_prec)"
   ]
  },
  {
   "cell_type": "code",
   "execution_count": 109,
   "metadata": {},
   "outputs": [
    {
     "name": "stdout",
     "output_type": "stream",
     "text": [
      "[0.622 2.   ]\n"
     ]
    }
   ],
   "source": [
    "print(x_low_pr)"
   ]
  },
  {
   "cell_type": "code",
   "execution_count": 39,
   "metadata": {},
   "outputs": [
    {
     "data": {
      "text/plain": [
       "array([-0.08738462,  0.23269231])"
      ]
     },
     "execution_count": 39,
     "metadata": {},
     "output_type": "execute_result"
    }
   ],
   "source": [
    "x_full_prec - x_low_pr"
   ]
  },
  {
   "cell_type": "markdown",
   "metadata": {},
   "source": [
    "#### Prethodni primer pokazuje nepouzdanost ostatka za određivanje greške. Zato ćemo u nastavku predavanja pokazati na koji način možemo da procenimo grešku. Ne moramo znati tačnu grešku ako smo uspeli da je procenimo na malu vrednost tj. nije nam važno koliko je tačno greška mala, već da je mala. Za procenu nam je od velikog značaja kondicioni broj matrice."
   ]
  },
  {
   "cell_type": "markdown",
   "metadata": {},
   "source": [
    "## Kondicioni broj funkcije"
   ]
  },
  {
   "cell_type": "markdown",
   "metadata": {},
   "source": [
    "* #### Kondicioni broj funkcije $f(x)$ meri koliko promene ulaza $x$ utiču na promene izlaza $y$.\n",
    "* #### Veliki kondicioni broj znači da male promene ulaza daju velike na promene izlaza.\n",
    "* #### Tada kažemo da je funkcija loše uslovljena.\n",
    "* #### Ako ste ikad malo pomerili slavinu pod tušem, a voda je od hladne prešla na jako vrelu – to je loše uslovljena funkcija!"
   ]
  },
  {
   "cell_type": "markdown",
   "metadata": {},
   "source": [
    "## Kondicioni broj matrice"
   ]
  },
  {
   "cell_type": "markdown",
   "metadata": {},
   "source": [
    "* #### U kontekstu rešavanja sistema linearnih jednačina kondicioni broj matrice $A$ meri koliko male promene vektora $b$ ili matrice $A$ utiču na rešenje $x$.\n",
    "* #### Kao što smo već pomenuli male promene mogu biti posledica lošeg unosa podataka ili ograničenog kapaciteta računara za smeštanje brojeva.\n",
    "* #### Za izračunavanje kondicionog broja matrice značajan nam je koncept norme matrice koji ćemo ukratko objasniti u nastavku."
   ]
  },
  {
   "cell_type": "markdown",
   "metadata": {},
   "source": [
    "## Norma vektora i matrice"
   ]
  },
  {
   "cell_type": "markdown",
   "metadata": {},
   "source": [
    "* #### Norma matrice je relana vrednost koju dodeljujemo matrici.\n",
    "* #### Postoje različite norme matrice koje se razlikuju po načinu na koji na osnovu matrice izračunavamo jednu relanu vrednosti.\n",
    "* #### Detalji vezani za normu matrice predmet su linearne algebre, dok ćemo na ovom kursu pokazati samo neke od poznatih načina za određivanje norme matrice."
   ]
  },
  {
   "cell_type": "markdown",
   "metadata": {},
   "source": [
    "#### Maksimum zbira apsolutnih vrednosti vrsta matrice:"
   ]
  },
  {
   "cell_type": "markdown",
   "metadata": {},
   "source": [
    "#### $\\lVert A\\rVert_{\\infty}=\\smash{\\displaystyle\\max_{i}}\\sum_{j=1}^{n} |A_{i,j}|$"
   ]
  },
  {
   "cell_type": "code",
   "execution_count": 40,
   "metadata": {},
   "outputs": [
    {
     "name": "stdout",
     "output_type": "stream",
     "text": [
      "[[ 1.      2.    ]\n",
      " [ 1.     -3.9999]]\n"
     ]
    },
    {
     "data": {
      "text/plain": [
       "4.9999"
      ]
     },
     "execution_count": 40,
     "metadata": {},
     "output_type": "execute_result"
    }
   ],
   "source": [
    "from numpy import linalg as la\n",
    "\n",
    "B = np.array([[1.,2.],[1.,-3.9999]])\n",
    "print(B)\n",
    "\n",
    "la.norm(B,np.Inf)"
   ]
  },
  {
   "cell_type": "markdown",
   "metadata": {},
   "source": [
    "#### Maksimum zbira apsolutnih vrednosti kolona matrice:"
   ]
  },
  {
   "cell_type": "markdown",
   "metadata": {},
   "source": [
    "#### $\\lVert A\\rVert_{1}=\\smash{\\displaystyle\\max_{j}}\\sum_{i=1}^{n} |A_{i,j}|$"
   ]
  },
  {
   "cell_type": "code",
   "execution_count": 41,
   "metadata": {},
   "outputs": [
    {
     "data": {
      "text/plain": [
       "5.9999"
      ]
     },
     "execution_count": 41,
     "metadata": {},
     "output_type": "execute_result"
    }
   ],
   "source": [
    "la.norm(B,1)"
   ]
  },
  {
   "cell_type": "markdown",
   "metadata": {},
   "source": [
    "#### Sada kada smo objasnili normu matrice, daćemo definiciju kondicionog broja matrice:"
   ]
  },
  {
   "cell_type": "markdown",
   "metadata": {},
   "source": [
    "#### $cond(A)=\\lVert A\\rVert\\lVert A^-1\\rVert$"
   ]
  },
  {
   "cell_type": "code",
   "execution_count": 42,
   "metadata": {},
   "outputs": [
    {
     "data": {
      "text/plain": [
       "3.3698448806330688"
      ]
     },
     "execution_count": 42,
     "metadata": {},
     "output_type": "execute_result"
    }
   ],
   "source": [
    "#po default koristi se najveca singularna vrednost kao norma\n",
    "la.cond(B)"
   ]
  },
  {
   "cell_type": "markdown",
   "metadata": {},
   "source": [
    "## Kondicioni broj matrice i Gausova eliminacija"
   ]
  },
  {
   "cell_type": "markdown",
   "metadata": {},
   "source": [
    "#### Kondicioni broj matrice i vektor $b$"
   ]
  },
  {
   "cell_type": "markdown",
   "metadata": {},
   "source": [
    "* #### Ako u sistemu $Ax=b$, $b$ nije tačno (zbog grešaka zaokruživanja npr.), koliko će se x razlikovati od tačnog rešenja?\n",
    "* #### Ako umesto $b$ imamo $b+\\Delta b$ onda važi sledeća nejednakost:        "
   ]
  },
  {
   "cell_type": "markdown",
   "metadata": {},
   "source": [
    "### <center>$\\frac{\\lVert\\Delta x\\rVert}{\\lVert x\\rVert}<=cond(A)\\frac{\\lVert\\Delta b\\rVert}{\\lVert b\\rVert}$</center>"
   ]
  },
  {
   "cell_type": "markdown",
   "metadata": {},
   "source": [
    "* #### Dakle, relativna (procentualna) greška rešenja ograničena je ne samo sa relativnom greškom vektora $b$ već i sa kondicionim brojem matrice $A$.\n",
    "* #### Kondicioni broj se na neki način može smatrati \"pojačivačem\" greške vektora.\n",
    "* #### Ako je kondicioni broj matrice $A$ veliki, postoji mogućnost da će male promene vektora $b$ rezultovati velikim promenama rešenja $x$, kao što ćete videti na sledećem primeru.\n",
    "* #### Termin \"postoji mogućnost\" upotrebljen je namerno jer je relativna greška rešenja samo ograničena pomoću prethone formule (upotrebljen je znak nejednakosti, a ne znak jednakosti)."
   ]
  },
  {
   "cell_type": "markdown",
   "metadata": {},
   "source": [
    "### Kondicioni broj matrice i matrica $A$"
   ]
  },
  {
   "cell_type": "markdown",
   "metadata": {},
   "source": [
    "* #### Ako umesto $A$ imamo neku matricu $E$ koja se razlikuje od $A$ (zbog grešaka zaokruživanja npr.) onda važi sledeća nejednakost:"
   ]
  },
  {
   "cell_type": "markdown",
   "metadata": {},
   "source": [
    "### <center>$\\frac{\\lVert\\Delta x\\rVert}{\\lVert x\\rVert}<=cond(A)\\frac{\\lVert E\\rVert}{\\lVert A\\rVert}$</center>"
   ]
  },
  {
   "cell_type": "markdown",
   "metadata": {},
   "source": [
    "### Primer rešavanja loše uslovljenog sistema pomoću Gausove eliminacije:"
   ]
  },
  {
   "cell_type": "markdown",
   "metadata": {},
   "source": [
    "### $$-x_1+2x_2=3\\\\-x_1+2.1x_2=3$$"
   ]
  },
  {
   "cell_type": "markdown",
   "metadata": {},
   "source": [
    "### Grafik loše uslovljenog sistema. Da li primećujete nešto specifično na njemu?"
   ]
  },
  {
   "cell_type": "code",
   "execution_count": 43,
   "metadata": {},
   "outputs": [
    {
     "data": {
      "text/plain": [
       "Text(0, 0.5, 'x2')"
      ]
     },
     "execution_count": 43,
     "metadata": {},
     "output_type": "execute_result"
    },
    {
     "data": {
      "image/png": "[encoded data removed]",
      "text/plain": [
       "<Figure size 1080x720 with 1 Axes>"
      ]
     },
     "metadata": {
      "needs_background": "light"
     },
     "output_type": "display_data"
    }
   ],
   "source": [
    "plt.figure(figsize=(15, 10))\n",
    "\n",
    "x1=np.linspace(-10,5,100)\n",
    "x2=(3.+x1)/2.\n",
    "\n",
    "plt.plot(x1,x2)\n",
    "\n",
    "x2=(3.+x1)/2.1\n",
    "\n",
    "plt.plot(x1,x2)\n",
    "\n",
    "plt.xlabel('x1')\n",
    "plt.ylabel('x2')"
   ]
  },
  {
   "cell_type": "code",
   "execution_count": 49,
   "metadata": {},
   "outputs": [
    {
     "name": "stdout",
     "output_type": "stream",
     "text": [
      "[[ 2.  -1. ]\n",
      " [ 2.1 -1. ]]\n"
     ]
    }
   ],
   "source": [
    "A=np.array([[2,-1],[2.1,-1]])\n",
    "print(A)"
   ]
  },
  {
   "cell_type": "code",
   "execution_count": 50,
   "metadata": {},
   "outputs": [
    {
     "name": "stdout",
     "output_type": "stream",
     "text": [
      "104.0903929654645\n",
      "2.0174106481020737\n"
     ]
    }
   ],
   "source": [
    "print(la.cond(A))\n",
    "print(np.log10(la.cond(A)))"
   ]
  },
  {
   "cell_type": "code",
   "execution_count": 51,
   "metadata": {},
   "outputs": [
    {
     "name": "stdout",
     "output_type": "stream",
     "text": [
      "[[ 2.  -1. ]\n",
      " [ 2.1 -1. ]]\n",
      "+++++++++++++++++++++++++++++++++++++++++++\n",
      "[[ 2.1 -1. ]\n",
      " [ 2.  -1. ]]\n",
      "-------------------------------------------\n",
      "[-2.11471052e-15 -3.00000000e+00]\n"
     ]
    }
   ],
   "source": [
    "b1=np.array([3.,3.])\n",
    "\n",
    "x1=gauss_with_pivoting(A,b1)\n",
    "print(x1)"
   ]
  },
  {
   "cell_type": "markdown",
   "metadata": {},
   "source": [
    "#### Menjamo vrednost druge komponente vektora $b$"
   ]
  },
  {
   "cell_type": "code",
   "execution_count": 52,
   "metadata": {},
   "outputs": [
    {
     "name": "stdout",
     "output_type": "stream",
     "text": [
      "[[ 2.  -1. ]\n",
      " [ 2.1 -1. ]]\n",
      "+++++++++++++++++++++++++++++++++++++++++++\n",
      "[[ 2.1 -1. ]\n",
      " [ 2.  -1. ]]\n",
      "-------------------------------------------\n",
      "[ 1. -1.]\n"
     ]
    }
   ],
   "source": [
    "A=np.array([[2,-1],[2.1,-1]])\n",
    "b2=np.array([3.,3.1])\n",
    "\n",
    "x2=gauss_with_pivoting(A,b2)\n",
    "print(x2)"
   ]
  },
  {
   "cell_type": "markdown",
   "metadata": {},
   "source": [
    "#### Izračunavamo gornju granicu relativne greške rešenja"
   ]
  },
  {
   "cell_type": "code",
   "execution_count": 53,
   "metadata": {},
   "outputs": [
    {
     "data": {
      "text/plain": [
       "2.4876915511108306"
      ]
     },
     "execution_count": 53,
     "metadata": {},
     "output_type": "execute_result"
    }
   ],
   "source": [
    "la.cond(A)*la.norm(b1-b2)/la.norm(b1)"
   ]
  },
  {
   "cell_type": "markdown",
   "metadata": {},
   "source": [
    "#### Pošto znamo rešenje, izračunavamo relativnu grešku rešenja"
   ]
  },
  {
   "cell_type": "code",
   "execution_count": 54,
   "metadata": {},
   "outputs": [
    {
     "data": {
      "text/plain": [
       "0.7453559924999287"
      ]
     },
     "execution_count": 54,
     "metadata": {},
     "output_type": "execute_result"
    }
   ],
   "source": [
    "la.norm(x1-x2)/la.norm(x1)"
   ]
  },
  {
   "cell_type": "markdown",
   "metadata": {},
   "source": [
    "#### Relativna greska je preko ~75%, ali je opet drastično manja nego gornje ograničenje od ~245%."
   ]
  },
  {
   "cell_type": "markdown",
   "metadata": {},
   "source": [
    "## Red veličine kondicionog broja i relativna greška"
   ]
  },
  {
   "cell_type": "markdown",
   "metadata": {},
   "source": [
    "#### Postoji tvrđenje (koje nećemo dokazivati) pomoću koga možemo da povežemo relativnu grešku i red veličine kondicionog broja:\n",
    "#### Ako imamo dve vrednosti $x$ i $\\hat{x}$, tada se one poklapaju u bar $m-1$ znаčajnih cifara ako važi:\n",
    "### <center>$\\frac{\\lVert x-\\hat{x}\\rVert}{\\lVert x\\rVert}\\le5*10^{-m}$</center>"
   ]
  },
  {
   "cell_type": "markdown",
   "metadata": {},
   "source": [
    "#### To znači da bi rešenje dobijeno pomoću GE imalo bar jednu značajnu cifru od tačnog rešenja, relativna greška mora da bude manja od $5*10^{-2}=0.05$\n",
    "#### Odnosno, ako želimo da budemo sigurni da se dve vrednosti poklapaju u bar jednoj značajnoj cifri, relativna greška mora biti manja ili jednaka od 5%"
   ]
  },
  {
   "cell_type": "code",
   "execution_count": 65,
   "metadata": {},
   "outputs": [
    {
     "name": "stdout",
     "output_type": "stream",
     "text": [
      "104.0903929654645\n",
      "2.0174106481020737\n",
      "[ 0.  -0.1]\n",
      "-1.6276362525516526\n",
      "0.38977439555042115\n"
     ]
    }
   ],
   "source": [
    "A=np.array([[2,-1],[2.1,-1]])\n",
    "\n",
    "b1=np.array([3.,3.])\n",
    "b2=np.array([3.,3.1])\n",
    "\n",
    "print(la.cond(A))\n",
    "print(np.log10(la.cond(A))) #red velicine kondicionog broja matrice A\n",
    "\n",
    "b_err=b1-b2\n",
    "print(b_err)\n",
    "\n",
    "print(np.log10(la.norm(b1-b2)/la.norm(b1))) #red velicine promene vektora b\n",
    "print(np.log10(la.cond(A)) + np.log10(la.norm(b1-b2)/la.norm(b1))) #red veclicine ogranicenja grekse tacnog resenja"
   ]
  },
  {
   "cell_type": "markdown",
   "metadata": {},
   "source": [
    "#### Za naš primer vidimo da je kondicioni broj reda veličine takvog da odgovara približno broju 10 na stepen 2, što znači da naše rešenje potencijalno neće da se pokalapa sa tačnim rešenjem ni u jednoj cifri - kao što je istaknuto ranije, greška u rešenju zavisi i od promene vrednosti vektora $b$ (ili matrice $A$), a ne samo od kondicionog broja matrice $A$.\n",
    "#### Dakle, možemo da vidimo da nam vrednost $log10(cond(A))$ može poslužiti kao mera broja cifara tačnog rešenja koje možemo da izgubimo ako imamo greške u podacima prilikom rešavanja nekog sistema."
   ]
  },
  {
   "cell_type": "code",
   "execution_count": 58,
   "metadata": {},
   "outputs": [
    {
     "data": {
      "text/plain": [
       "False"
      ]
     },
     "execution_count": 58,
     "metadata": {},
     "output_type": "execute_result"
    }
   ],
   "source": [
    "m=2 #provervavamo da li imamo bar jednu istu cifru sta tačnim rešenjem\n",
    "(la.norm(x1-x2)/la.norm(x1))<5.*np.power(10.,-m)"
   ]
  },
  {
   "cell_type": "markdown",
   "metadata": {},
   "source": [
    "#### Pogledaćmo sada jedan primer dobro uslovljenog sistema, tj. sistema kod koga matrica $A$ ima malu vrednosti kodicionog broja."
   ]
  },
  {
   "cell_type": "markdown",
   "metadata": {},
   "source": [
    "### $$2x_1-x_2=3\\\\-2x_1-x_2=3$$"
   ]
  },
  {
   "cell_type": "code",
   "execution_count": 59,
   "metadata": {},
   "outputs": [
    {
     "data": {
      "text/plain": [
       "Text(0, 0.5, 'x2')"
      ]
     },
     "execution_count": 59,
     "metadata": {},
     "output_type": "execute_result"
    },
    {
     "data": {
      "image/png": "[encoded data removed]",
      "text/plain": [
       "<Figure size 1080x720 with 1 Axes>"
      ]
     },
     "metadata": {
      "needs_background": "light"
     },
     "output_type": "display_data"
    }
   ],
   "source": [
    "plt.figure(figsize=(15, 10))\n",
    "\n",
    "x1=np.linspace(-10,5,100)\n",
    "x2=-(3.-2.*x1)\n",
    "\n",
    "plt.plot(x1,x2)\n",
    "\n",
    "x2=-(3.+2.*x1)\n",
    "\n",
    "plt.plot(x1,x2)\n",
    "\n",
    "plt.xlabel('x1')\n",
    "plt.ylabel('x2')"
   ]
  },
  {
   "cell_type": "code",
   "execution_count": 60,
   "metadata": {},
   "outputs": [
    {
     "name": "stdout",
     "output_type": "stream",
     "text": [
      "[[ 2. -1.]\n",
      " [-2. -1.]]\n",
      "2.0000000000000004\n",
      "0.3010299956639813\n"
     ]
    }
   ],
   "source": [
    "A=np.array([[2.,-1.],[-2.,-1.]])\n",
    "\n",
    "print(A)\n",
    "print(la.cond(A))\n",
    "print(np.log10(la.cond(A)))"
   ]
  },
  {
   "cell_type": "code",
   "execution_count": 61,
   "metadata": {},
   "outputs": [
    {
     "name": "stdout",
     "output_type": "stream",
     "text": [
      "[[ 2. -1.]\n",
      " [-2. -1.]]\n",
      "+++++++++++++++++++++++++++++++++++++++++++\n",
      "[[ 2. -1.]\n",
      " [-2. -1.]]\n",
      "-------------------------------------------\n",
      "[[ 2. -1.]\n",
      " [-2. -1.]]\n",
      "+++++++++++++++++++++++++++++++++++++++++++\n",
      "[[ 2. -1.]\n",
      " [-2. -1.]]\n",
      "-------------------------------------------\n"
     ]
    }
   ],
   "source": [
    "A=np.array([[2.,-1.],[-2.,-1.]])\n",
    "b1=np.array([3.,3.])\n",
    "b2=np.array([3.,3.1])\n",
    "\n",
    "x1=gauss_with_pivoting(A,b1)\n",
    "\n",
    "A=np.array([[2.,-1.],[-2.,-1.]])\n",
    "\n",
    "x2=gauss_with_pivoting(A,b2)"
   ]
  },
  {
   "cell_type": "code",
   "execution_count": 63,
   "metadata": {},
   "outputs": [
    {
     "name": "stdout",
     "output_type": "stream",
     "text": [
      "[ 0. -3.]\n",
      "[-0.025 -3.05 ]\n"
     ]
    }
   ],
   "source": [
    "print(x1)\n",
    "print(x2)"
   ]
  },
  {
   "cell_type": "code",
   "execution_count": 66,
   "metadata": {},
   "outputs": [
    {
     "name": "stdout",
     "output_type": "stream",
     "text": [
      "2.0000000000000004\n",
      "0.3010299956639813\n",
      "[ 0.  -0.1]\n",
      "-1.6276362525516526\n",
      "-1.3266062568876713\n"
     ]
    }
   ],
   "source": [
    "A=np.array([[2.,-1.],[-2.,-1.]])\n",
    "b1=np.array([3.,3.])\n",
    "b2=np.array([3.,3.1])\n",
    "\n",
    "print(la.cond(A))\n",
    "print(np.log10(la.cond(A))) #red velicine kondicionog broja matrice A\n",
    "\n",
    "b_err=b1-b2\n",
    "print(b_err)\n",
    "\n",
    "print(np.log10(la.norm(b1-b2)/la.norm(b1))) #red velicine promene vektora b\n",
    "print(np.log10(la.cond(A)) + np.log10(la.norm(b1-b2)/la.norm(b1))) #red veclicine ogranicenja grekse tacnog resenja"
   ]
  },
  {
   "cell_type": "code",
   "execution_count": 67,
   "metadata": {},
   "outputs": [
    {
     "data": {
      "text/plain": [
       "True"
      ]
     },
     "execution_count": 67,
     "metadata": {},
     "output_type": "execute_result"
    }
   ],
   "source": [
    "m=2 #provervavamo da li imamo bar jednu istu cifru sta tačnim rešenjem\n",
    "(la.norm(x1-x2)/la.norm(x1))<5.*np.power(10.,-m)"
   ]
  },
  {
   "cell_type": "markdown",
   "metadata": {},
   "source": [
    "#### Ponekad je velika vrednost kondiciong broja rezultat veoma različitih opsega u kojima se nalaze vrednosti matrice sistema. U takvim slučajevima skaliranje vrednosti na isti opseg može da smanji kondicioni broj.\n"
   ]
  },
  {
   "cell_type": "code",
   "execution_count": 68,
   "metadata": {},
   "outputs": [
    {
     "name": "stdout",
     "output_type": "stream",
     "text": [
      "21930.586769589485\n"
     ]
    }
   ],
   "source": [
    "A=np.array([[0.6,135.4],[22.0,-17000]])\n",
    "print(la.cond(A))"
   ]
  },
  {
   "cell_type": "code",
   "execution_count": 69,
   "metadata": {},
   "outputs": [
    {
     "name": "stdout",
     "output_type": "stream",
     "text": [
      "349.31946211007323\n"
     ]
    }
   ],
   "source": [
    "A=np.array([[0.6/135.4,135.4/135.4],[22.0/-17000,-17000/-17000]])\n",
    "print(la.cond(A))"
   ]
  },
  {
   "cell_type": "code",
   "execution_count": null,
   "metadata": {},
   "outputs": [],
   "source": []
  },
  {
   "cell_type": "code",
   "execution_count": null,
   "metadata": {},
   "outputs": [],
   "source": []
  }
 ],
 "metadata": {
  "kernelspec": {
   "display_name": "Python 3",
   "language": "python",
   "name": "python3"
  },
  "language_info": {
   "codemirror_mode": {
    "name": "ipython",
    "version": 3
   },
   "file_extension": ".py",
   "mimetype": "text/x-python",
   "name": "python",
   "nbconvert_exporter": "python",
   "pygments_lexer": "ipython3",
   "version": "3.7.3"
  }
 },
 "nbformat": 4,
 "nbformat_minor": 4
}
