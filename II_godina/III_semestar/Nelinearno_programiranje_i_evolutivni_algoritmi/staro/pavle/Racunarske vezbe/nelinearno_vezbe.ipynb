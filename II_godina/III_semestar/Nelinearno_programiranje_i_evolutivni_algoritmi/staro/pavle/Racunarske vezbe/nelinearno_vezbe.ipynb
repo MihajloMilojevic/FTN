{
 "cells": [
  {
   "cell_type": "markdown",
   "metadata": {},
   "source": [
    "## Beleške sa vežbi"
   ]
  },
  {
   "cell_type": "code",
   "execution_count": null,
   "metadata": {},
   "outputs": [],
   "source": [
    "from IPython.display import Image"
   ]
  },
  {
   "cell_type": "markdown",
   "metadata": {},
   "source": [
    "Sve potrebne biblioteke: "
   ]
  },
  {
   "cell_type": "code",
   "execution_count": null,
   "metadata": {},
   "outputs": [],
   "source": [
    "import matplotlib.pyplot as plt\n",
    "from mpl_toolkits.mplot3d import Axes3D\n",
    "import numpy as np\n",
    "import numpy.linalg as lin\n",
    "import math"
   ]
  },
  {
   "cell_type": "markdown",
   "metadata": {},
   "source": [
    "Funkcija np.arange() proizvodi numpy array (niz/vektor)"
   ]
  },
  {
   "cell_type": "code",
   "execution_count": null,
   "metadata": {},
   "outputs": [],
   "source": [
    "x = np.arange(-10,10,0.01)"
   ]
  },
  {
   "cell_type": "markdown",
   "metadata": {},
   "source": [
    "Kada primenimo funkciju kad celim vektorom vraca nam se novi vektor (upotrebljavati kao da radimo nad jednim elementom)"
   ]
  },
  {
   "cell_type": "code",
   "execution_count": null,
   "metadata": {},
   "outputs": [],
   "source": [
    "y = np.sin(x) + 1/25*x**2"
   ]
  },
  {
   "cell_type": "markdown",
   "metadata": {},
   "source": [
    "plt.plot() uzima dva obavezna parametra a to su vektori x i y, dole su upotrebljeni svi dodatni parametri koji su bitniji"
   ]
  },
  {
   "cell_type": "code",
   "execution_count": null,
   "metadata": {},
   "outputs": [],
   "source": [
    "p1 = plt.plot(x, y, color='green', marker='o', linestyle='dashed', linewidth=2, markersize=4, label = 'Label', markeredgewidth = 3)\n",
    "plt.show()"
   ]
  },
  {
   "cell_type": "markdown",
   "metadata": {},
   "source": [
    "p1 je linija koju nas grafik vraca"
   ]
  },
  {
   "cell_type": "markdown",
   "metadata": {},
   "source": [
    "Neka je zadata funkcija: "
   ]
  },
  {
   "cell_type": "markdown",
   "metadata": {},
   "source": [
    "$$ f(\\textbf{x}) = -a*exp(-b\\sqrt{\\frac{1}{n}\\sum_{i=1}^{n}x_i^2})-exp(\\frac{1}{n}\\sum_{i=1}^{n}cos(cx_i))+ a + exp(1) $$"
   ]
  },
  {
   "cell_type": "markdown",
   "metadata": {},
   "source": [
    "Kreiranje funkcije se vrsi na sledeci nacin:"
   ]
  },
  {
   "cell_type": "code",
   "execution_count": null,
   "metadata": {},
   "outputs": [],
   "source": [
    "def ackley(x):\n",
    "    sum1 = np.sum(x*x)\n",
    "    sum2 = np.sum(np.cos(2*math.pi*x))\n",
    "    total = -20.0*math.exp(-0.2*math.sqrt(sum(x**2))/len(x))-math.exp(sum2/len(x))+20.0+math.e\n",
    "    return total"
   ]
  },
  {
   "cell_type": "markdown",
   "metadata": {},
   "source": [
    "Ovo je funkcija vise promenljivih i da bismo nju skicirali moramo napraviti sve kombinacije vrednosti unutar intervala u kom se nalazimo, npr za interval \\[-6, 6\\] moramo imati (-6, 6), (-6, 5), (-6, 4)...(6, 6)"
   ]
  },
  {
   "cell_type": "code",
   "execution_count": null,
   "metadata": {},
   "outputs": [],
   "source": [
    "x1v = np.arange(-6, 6, 0.01)\n",
    "x2v = np.arange(-6, 6, 0.01)\n",
    "x1, x2 = np.meshgrid(x1v, x2v)\n",
    "f = np.zeros((len(x1),len(x2)))"
   ]
  },
  {
   "cell_type": "markdown",
   "metadata": {},
   "source": [
    "__np.meshgrid(x1v, x2v)__ nam sluzi da napravi matrice od nasih vektora kako bismo mogli da napravimo kombinacije elemenata, za vektor \\[1, 2, 3\\] ona vraca <br>\n",
    "\\[\\[1, 2, 3\\], <br>\n",
    "\\[1, 2, 3\\], <br> \n",
    "\\[1, 2, 3\\]] <br>\n",
    "Sa np.zeros(n, m) pravimo nula matricu dimenzija n*m <br>\n",
    "Petljom racunamo vrednosti svih kombinacija"
   ]
  },
  {
   "cell_type": "code",
   "execution_count": null,
   "metadata": {},
   "outputs": [],
   "source": [
    "for i in range(0,len(x1),1):\n",
    "    for j in range(0,len(x1),1):\n",
    "        f[i,j]=ackley(np.array([x1[i,j], x2[i,j]]))"
   ]
  },
  {
   "cell_type": "markdown",
   "metadata": {},
   "source": [
    "__plt.figure()__ dobavlja figuru koju nas grafik koristi a __fig.gca(projection = '3d')__ dobavlja nase ose u 3d formatu. GCA = get current axes. Na tim osama prikazi nasu funkciju (__ax.plot_surface(x1, x2, f)__) i konacno prikazi sve sa __plt.show()__ "
   ]
  },
  {
   "cell_type": "code",
   "execution_count": null,
   "metadata": {},
   "outputs": [],
   "source": [
    "fig = plt.figure()\n",
    "ax = fig.gca(projection='3d')\n",
    "p1 = ax.plot_surface(x1, x2, f)\n",
    "plt.show()"
   ]
  },
  {
   "cell_type": "markdown",
   "metadata": {},
   "source": [
    "## Jednodimenziona numerika"
   ]
  },
  {
   "cell_type": "markdown",
   "metadata": {},
   "source": [
    "__Njutn-Rapsonova metoda:__"
   ]
  },
  {
   "cell_type": "markdown",
   "metadata": {},
   "source": [
    "<img src=\"https://www.mathworks.com/matlabcentral/mlc-downloads/downloads/submissions/52362/versions/3/screenshot.jpg\">"
   ]
  },
  {
   "cell_type": "code",
   "execution_count": null,
   "metadata": {},
   "outputs": [],
   "source": [
    "def newtonRaphson(x0, tol):\n",
    "    x_novo = x0\n",
    "    x_pre = math.inf # sigurno upadamo u while petlju prvi put\n",
    "    iteracije = 0\n",
    "    \n",
    "    while (abs(x_pre - x_novo) > tol):\n",
    "        iteracije += 1\n",
    "        x_pre = x_novo\n",
    "        x_novo = x_pre - dfunc(x_pre)/ddfunc(x_pre)\n",
    "        \n",
    "    xopt = x_novo\n",
    "    fopt = func(xopt)   \n",
    "    return xopt, fopt, iteracije"
   ]
  },
  {
   "cell_type": "code",
   "execution_count": null,
   "metadata": {},
   "outputs": [],
   "source": [
    "# IZVODI FUNKCIJE\n",
    "def func(x):\n",
    "    f = -(x**4 - 5*x**3 - 2*x**2 + 24*x)\n",
    "    return f\n",
    "\n",
    "def dfunc(x):\n",
    "    f = -(4*x**3 - 15*x**2 - 4*x + 24)\n",
    "    return f\n",
    "\n",
    "def ddfunc(x):\n",
    "    f = -(12*x**2 - 30*x - 4)\n",
    "    return f"
   ]
  },
  {
   "cell_type": "code",
   "execution_count": null,
   "metadata": {},
   "outputs": [],
   "source": [
    "# TESTIRANJE ALGORITMA\n",
    "tol = 0.0001\n",
    "init_guess = 1\n",
    "[xopt, fopt, iteracije] = newtonRaphson(init_guess, tol)\n",
    "print(xopt, fopt, iteracije)\n",
    "\n",
    "x = np.linspace(0, 4, 1000)\n",
    "f = np.linspace(0, 0, len(x))\n",
    "for i in range(0, len(x), 1):\n",
    "    f[i] = func(x[i])\n",
    "    \n",
    "p = plt.plot(x, f, 'b--')\n",
    "p = plt.plot(xopt, fopt, 'or', label = 'max[f(x)]', markersize = 15, markeredgewidth = 3)\n",
    "plt.show()    "
   ]
  },
  {
   "cell_type": "markdown",
   "metadata": {},
   "source": [
    "__Metoda secice:__"
   ]
  },
  {
   "cell_type": "code",
   "execution_count": null,
   "metadata": {},
   "outputs": [],
   "source": [
    "def secica(x1, x0, tol):\n",
    "    x_pre = x0\n",
    "    x_ppre = math.inf\n",
    "    x_novo = x1\n",
    "    iteracije = 0\n",
    "    # interval nad kojim radim aproksimaciju je [ x_ppre, x_pre] nalazim x_novo i onda postavljam novi\n",
    "    # interval [x_pre, x_novo]\n",
    "    while(abs(x_novo - x_pre) > tol):\n",
    "        iteracije += 1\n",
    "        x_ppre, x_pre = x_pre, x_novo\n",
    "        x_novo = x_pre - dfunc(x_pre)*(x_pre - x_ppre)/(dfunc(x_pre) - dfunc(x_ppre))\n",
    "        \n",
    "    xopt = x_novo\n",
    "    fopt = func(xopt)\n",
    "    return xopt, fopt, iteracije     "
   ]
  },
  {
   "cell_type": "code",
   "execution_count": null,
   "metadata": {},
   "outputs": [],
   "source": [
    "# IZVODI\n",
    "def func(x):\n",
    "    f = -(x**4 - 5*x**3 - 2*x**2 + 24*x)\n",
    "    return f\n",
    "\n",
    "def dfunc(x):\n",
    "    f = -(4*x**3 - 15*x**2 - 4*x + 24)\n",
    "    return f"
   ]
  },
  {
   "cell_type": "code",
   "execution_count": null,
   "metadata": {},
   "outputs": [],
   "source": [
    "# TESTIRANJE\n",
    "tol = 0.0001\n",
    "init_guess1 = 0\n",
    "init_guess2 = 3\n",
    "\n",
    "[xopt, fopt, iteracije] = secica(init_guess1, init_guess2, tol)\n",
    "print(xopt, fopt, iteracije)\n",
    "\n",
    "x = np.linspace(0, 4, 1000)\n",
    "f = np.linspace(0, 0, len(x))\n",
    "for i in range(0, len(x), 1):\n",
    "    f[i] = func(x[i])\n",
    "    \n",
    "p = plt.plot(x, f, 'b--')\n",
    "p = plt.plot(xopt, fopt, 'or', label = 'max[f(x)]', markersize = 15, markeredgewidth = 3)\n",
    "plt.show()  "
   ]
  },
  {
   "cell_type": "markdown",
   "metadata": {},
   "source": [
    "__Metoda parabole:__"
   ]
  },
  {
   "cell_type": "code",
   "execution_count": null,
   "metadata": {},
   "outputs": [],
   "source": [
    "def parabola(x1, x3, tol):\n",
    "    X = np.array([x1, (x1 + x3)/2, x3]).transpose()\n",
    "    pom = np.array([1, 1, 1]).transpose()\n",
    "    Y = np.array([pom, X, X*X]).transpose()\n",
    "    # x = [x1 x2 x3]' pom = [1 1 1]'\n",
    "    # Y = [1 1 1; x1 x2 x3; x1^2 x2^2 x3^2]\n",
    "    F = np.linspace(0, 0, len(X))\n",
    "    for i in range(0, len(X), 1):\n",
    "        F[i] = func(X[i])\n",
    "    \n",
    "    abc = lin.solve(Y, F) \n",
    "    \n",
    "    x = -abc[1]/2/abc[2]\n",
    "    fx = func(x)\n",
    "    n = 0\n",
    "    \n",
    "    while np.abs(np.dot([1, x, x**2], abc) - fx) > tol:\n",
    "        if (x > X[1]) and (x < X[2]):\n",
    "            if (fx < F[1]) and (fx < F[2]):\n",
    "                X = np.array([X[1], x, X[2]])\n",
    "                F = np.array([F[1], fx, F[2]])\n",
    "            elif (fx > F[1]) and (fx < F[2]):\n",
    "                X = np.array([X[0], X[1], x])\n",
    "                F = np.array([F[0], F[1], fx])\n",
    "            else:\n",
    "                print('Greska!')\n",
    "        elif (x > X[0]) and (x < X[2]):\n",
    "            if (fx < F[0]) and (fx < F[1]):\n",
    "                X = np.array([X[0], x, X[2]])\n",
    "                F = np.array([F[0], fx, F[2]])\n",
    "            elif (fx > F[1]) and (fx < F[0]):\n",
    "                X = np.array([x, X[1], X[2]])\n",
    "                F = np.array([fx, F[1], F[2]])\n",
    "            else:\n",
    "                print('Greska!')\n",
    "        else:\n",
    "            print('x lezi van granica!')\n",
    "            \n",
    "        \n",
    "        pom = np.array([1, 1, 1]).transpose()\n",
    "        Y = np.array([pom, X, X*X]).transpose()\n",
    "        F = np.linspace(0, 0, len(X))\n",
    "        for i in range(0, len(X), 1):\n",
    "            F[i] = func(X[i])\n",
    "        \n",
    "        abc = lin.solve(Y, F) \n",
    "        \n",
    "        x = -abc[1]/2/abc[2]\n",
    "        fx = func(x)\n",
    "        n = n + 1\n",
    "        \n",
    "    return x, fx, n"
   ]
  },
  {
   "cell_type": "code",
   "execution_count": null,
   "metadata": {},
   "outputs": [],
   "source": [
    "def func(x):\n",
    "    f = -(x**4 - 5*x**3 - 2*x**2 + 24*x)\n",
    "    return f"
   ]
  },
  {
   "cell_type": "code",
   "execution_count": null,
   "metadata": {},
   "outputs": [],
   "source": [
    "# TESTIRANJE\n",
    "a = 0\n",
    "b = 2\n",
    "tol = 0.001\n",
    "\n",
    "[xopt, fopt, n] = parabola(a, b, tol)\n",
    "print(xopt, fopt, n)\n",
    "\n",
    "x = np.linspace(0, 4, 1000)\n",
    "f = np.linspace(0, 0, len(x))\n",
    "for i in range(0, len(x), 1):\n",
    "    f[i] = func(x[i])\n",
    "    \n",
    "p = plt.plot(x, f, 'b--')\n",
    "p = plt.plot(xopt, fopt, '*r', label = 'max[f(x)]', markersize = 15, markeredgewidth = 3)\n",
    "plt.show()  "
   ]
  },
  {
   "cell_type": "markdown",
   "metadata": {},
   "source": [
    "__Fibonacijev metod__"
   ]
  },
  {
   "cell_type": "code",
   "execution_count": null,
   "metadata": {},
   "outputs": [],
   "source": [
    "def fibonaci_metod(a, b, tol):\n",
    "    # korak 1\n",
    "    n = 1\n",
    "    while ((b - a) / tol) > fibonaci_broj(n):\n",
    "        n += 1\n",
    "        \n",
    "    # korak 2\n",
    "    x1 = a + fibonaci_broj(n - 2) / fibonaci_broj(n) * (b - a)\n",
    "    x2 = a + b - x1\n",
    "    \n",
    "    # korak 3 - iterativni postupak\n",
    "    for i in range(2, n + 1):\n",
    "        if func(x1) < func(x2):\n",
    "            b = x2\n",
    "            x2 = x1\n",
    "            x1 = a + b - x2\n",
    "        else:\n",
    "            a = x1\n",
    "            x1 = x2\n",
    "            x2 = a + b - x1 \n",
    "\n",
    "    if func(x1) < func(x2):\n",
    "        xopt = x1\n",
    "        fopt = func(xopt)\n",
    "    else:\n",
    "        xopt = x2\n",
    "        fopt = func(x2)\n",
    "        \n",
    "    return xopt, fopt, n\n",
    "                  "
   ]
  },
  {
   "cell_type": "code",
   "execution_count": null,
   "metadata": {},
   "outputs": [],
   "source": [
    "def fibonaci_broj(n):\n",
    "    #1 1 2 3 5 8\n",
    "    if n < 3:\n",
    "        f = 1\n",
    "    else:\n",
    "        fp = 1\n",
    "        fpp = 1\n",
    "        for i in range(3, n+1):\n",
    "            f = fp + fpp\n",
    "            fpp = fp\n",
    "            fp = f\n",
    "    return f\n",
    "\n",
    "def func(x):\n",
    "    f = -(x**4 - 5*x**3 - 2*x**2 + 24*x)\n",
    "    return f"
   ]
  },
  {
   "cell_type": "code",
   "execution_count": null,
   "metadata": {},
   "outputs": [],
   "source": [
    "# TESTIRANJE\n",
    "a = 0\n",
    "b = 3\n",
    "tol = 0.0001\n",
    "\n",
    "[xopt, fopt, n] = fibonaci_metod(a, b, tol)\n",
    "print(xopt, fopt, n)\n",
    "\n",
    "x = np.linspace(0, 4, 1000)\n",
    "f = np.linspace(0, 0, len(x))\n",
    "for i in range(0, len(x), 1):\n",
    "    f[i] = func(x[i])\n",
    "    \n",
    "p = plt.plot(x, f, 'b--')\n",
    "p = plt.plot(xopt, fopt, '*r', label = 'max[f(x)]', markersize = 15, markeredgewidth = 3)\n",
    "plt.show()  "
   ]
  },
  {
   "cell_type": "markdown",
   "metadata": {},
   "source": [
    "__Zlatni presek__"
   ]
  },
  {
   "cell_type": "code",
   "execution_count": null,
   "metadata": {},
   "outputs": [],
   "source": [
    "def zlatniPresek(a, b, tol):\n",
    "    \n",
    "    c = (3 - math.sqrt(5)) / 2\n",
    "    # korak 1 - x1 i x2\n",
    "    x1 = a + c * (b - a)\n",
    "    x2 = a + b - x1\n",
    "    n = 1\n",
    "    \n",
    "    # korak 2 - iterativni postupak\n",
    "    while (b - a) > tol:\n",
    "        n += 1\n",
    "        if func(x1) <= func(x2):\n",
    "            b = x2\n",
    "            x1 = a + c * (b - a)\n",
    "            x2 = a + b - x1\n",
    "        else:\n",
    "            a = x1\n",
    "            x1 = a + c * (b - a)\n",
    "            x2 = a + b - x1\n",
    "            \n",
    "    if func(x1) < func(x2):\n",
    "        xopt = x1\n",
    "        fopt = func(x1)\n",
    "    else:\n",
    "        xopt = x2\n",
    "        fopt = func(x2)\n",
    "        \n",
    "    return xopt, fopt, n               "
   ]
  },
  {
   "cell_type": "code",
   "execution_count": null,
   "metadata": {},
   "outputs": [],
   "source": [
    "def func(x):\n",
    "    f = -(x**4 - 5*x**3 - 2*x**2 + 24*x)\n",
    "    return f"
   ]
  },
  {
   "cell_type": "code",
   "execution_count": null,
   "metadata": {},
   "outputs": [],
   "source": [
    "# TESTIRANJE\n",
    "a = 0\n",
    "b = 3\n",
    "tol = 0.0001\n",
    "\n",
    "[xopt, fopt, n] = zlatniPresek(a, b, tol)\n",
    "print(xopt, fopt, n)\n",
    "\n",
    "x = np.linspace(0, 4, 1000)\n",
    "f = np.linspace(0, 0, len(x))\n",
    "for i in range(0, len(x), 1):\n",
    "    f[i] = func(x[i])\n",
    "    \n",
    "p = plt.plot(x, f, 'b--')\n",
    "p = plt.plot(xopt, fopt, '*r', label = 'max[f(x)]', markersize = 15, markeredgewidth = 3)\n",
    "plt.show()  "
   ]
  },
  {
   "cell_type": "code",
   "execution_count": null,
   "metadata": {},
   "outputs": [],
   "source": []
  }
 ],
 "metadata": {
  "kernelspec": {
   "display_name": "Python 3",
   "language": "python",
   "name": "python3"
  },
  "language_info": {
   "codemirror_mode": {
    "name": "ipython",
    "version": 3
   },
   "file_extension": ".py",
   "mimetype": "text/x-python",
   "name": "python",
   "nbconvert_exporter": "python",
   "pygments_lexer": "ipython3",
   "version": "3.7.6"
  }
 },
 "nbformat": 4,
 "nbformat_minor": 4
}
