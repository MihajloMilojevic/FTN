{
  "nbformat": 4,
  "nbformat_minor": 0,
  "metadata": {
    "colab": {
      "provenance": []
    },
    "kernelspec": {
      "name": "python3",
      "display_name": "Python 3"
    },
    "language_info": {
      "name": "python"
    }
  },
  "cells": [
    {
      "cell_type": "code",
      "execution_count": 2,
      "metadata": {
        "id": "ZcUoPbjX1fvu"
      },
      "outputs": [],
      "source": [
        "from scipy.optimize import linprog"
      ]
    },
    {
      "cell_type": "code",
      "source": [
        "# 1.zadatak\n",
        "\n",
        "c = [1,2]\n",
        "A_ub = [[-1,2],[-1,-1],[0,-1]]\n",
        "b_ub = [6,-4,-2]\n",
        "\n",
        "rez = linprog(c, A_ub, b_ub)\n",
        "print(rez)"
      ],
      "metadata": {
        "colab": {
          "base_uri": "https://localhost:8080/"
        },
        "id": "8R4uiOlg1qbw",
        "outputId": "52380ea4-754a-4172-c097-6e6596c202f0"
      },
      "execution_count": null,
      "outputs": [
        {
          "output_type": "stream",
          "name": "stdout",
          "text": [
            "        message: Optimization terminated successfully. (HiGHS Status 7: Optimal)\n",
            "        success: True\n",
            "         status: 0\n",
            "            fun: 6.0\n",
            "              x: [ 2.000e+00  2.000e+00]\n",
            "            nit: 0\n",
            "          lower:  residual: [ 2.000e+00  2.000e+00]\n",
            "                 marginals: [ 0.000e+00  0.000e+00]\n",
            "          upper:  residual: [       inf        inf]\n",
            "                 marginals: [ 0.000e+00  0.000e+00]\n",
            "          eqlin:  residual: []\n",
            "                 marginals: []\n",
            "        ineqlin:  residual: [ 4.000e+00  0.000e+00  0.000e+00]\n",
            "                 marginals: [-0.000e+00 -1.000e+00 -1.000e+00]\n",
            " mip_node_count: 0\n",
            " mip_dual_bound: 0.0\n",
            "        mip_gap: 0.0\n"
          ]
        }
      ]
    },
    {
      "cell_type": "code",
      "source": [
        "# 2.zadatak\n",
        "\n",
        "c = [20000,25000]\n",
        "A_ub = [[-400,-300],[-300,-400],[-200,-500]]\n",
        "b_ub = [-25000,-27000,-30000]\n",
        "\n",
        "rez = linprog(c, A_ub, b_ub)\n",
        "print(rez)"
      ],
      "metadata": {
        "id": "qBDv42u-2L0J",
        "colab": {
          "base_uri": "https://localhost:8080/"
        },
        "outputId": "ee4d4944-a0cb-4c96-b8c2-dac0e4b576ed"
      },
      "execution_count": 7,
      "outputs": [
        {
          "output_type": "stream",
          "name": "stdout",
          "text": [
            "        message: Optimization terminated successfully. (HiGHS Status 7: Optimal)\n",
            "        success: True\n",
            "         status: 0\n",
            "            fun: 1750000.0\n",
            "              x: [ 2.500e+01  5.000e+01]\n",
            "            nit: 2\n",
            "          lower:  residual: [ 2.500e+01  5.000e+01]\n",
            "                 marginals: [ 0.000e+00  0.000e+00]\n",
            "          upper:  residual: [       inf        inf]\n",
            "                 marginals: [ 0.000e+00  0.000e+00]\n",
            "          eqlin:  residual: []\n",
            "                 marginals: []\n",
            "        ineqlin:  residual: [ 0.000e+00  5.000e+02  0.000e+00]\n",
            "                 marginals: [-3.571e+01 -0.000e+00 -2.857e+01]\n",
            " mip_node_count: 0\n",
            " mip_dual_bound: 0.0\n",
            "        mip_gap: 0.0\n"
          ]
        }
      ]
    },
    {
      "cell_type": "code",
      "source": [
        "# 3.zadatak\n",
        "\n",
        "c = [-8,-14,-11,-4,-12,-7,-4,-13,-9]\n",
        "A_ub = [[1,1,1,0,0,0,0,0,0],[0,0,0,1,1,1,0,0,0],[0,0,0,0,0,0,1,1,1],[0,1,0,0,1,0,0,1,0],[0,0,1,0,0,1,0,0,1]]\n",
        "b_ub = [480,400,230,420,250]\n",
        "\n",
        "rez = linprog(c, A_ub, b_ub)\n",
        "print(rez)"
      ],
      "metadata": {
        "colab": {
          "base_uri": "https://localhost:8080/"
        },
        "id": "NiNN_WSYwlUe",
        "outputId": "4be47d91-1501-4e88-dbd9-965cc44f1c0e"
      },
      "execution_count": 11,
      "outputs": [
        {
          "output_type": "stream",
          "name": "stdout",
          "text": [
            "        message: Optimization terminated successfully. (HiGHS Status 7: Optimal)\n",
            "        success: True\n",
            "         status: 0\n",
            "            fun: -10910.0\n",
            "              x: [ 4.400e+02  0.000e+00  4.000e+01  0.000e+00  4.000e+02\n",
            "                   0.000e+00  0.000e+00  2.000e+01  2.100e+02]\n",
            "            nit: 10\n",
            "          lower:  residual: [ 4.400e+02  0.000e+00  4.000e+01  0.000e+00\n",
            "                              4.000e+02  0.000e+00  0.000e+00  2.000e+01\n",
            "                              2.100e+02]\n",
            "                 marginals: [ 0.000e+00  1.000e+00  0.000e+00  1.000e+00\n",
            "                              0.000e+00  1.000e+00  2.000e+00  0.000e+00\n",
            "                              0.000e+00]\n",
            "          upper:  residual: [       inf        inf        inf        inf\n",
            "                                    inf        inf        inf        inf\n",
            "                                    inf]\n",
            "                 marginals: [ 0.000e+00  0.000e+00  0.000e+00  0.000e+00\n",
            "                              0.000e+00  0.000e+00  0.000e+00  0.000e+00\n",
            "                              0.000e+00]\n",
            "          eqlin:  residual: []\n",
            "                 marginals: []\n",
            "        ineqlin:  residual: [ 0.000e+00  0.000e+00  0.000e+00  0.000e+00\n",
            "                              0.000e+00]\n",
            "                 marginals: [-8.000e+00 -5.000e+00 -6.000e+00 -7.000e+00\n",
            "                             -3.000e+00]\n",
            " mip_node_count: 0\n",
            " mip_dual_bound: 0.0\n",
            "        mip_gap: 0.0\n"
          ]
        }
      ]
    },
    {
      "cell_type": "code",
      "source": [
        "# 4.zadatak\n",
        "\n",
        "c = [-5,-4,-3]\n",
        "A_ub = [[2,3,1],[4,1,2],[3,4,2]]\n",
        "b_ub = [5,11,8]\n",
        "\n",
        "rez = linprog(c, A_ub, b_ub)\n",
        "print(rez)"
      ],
      "metadata": {
        "colab": {
          "base_uri": "https://localhost:8080/"
        },
        "id": "a_mntw0syGAl",
        "outputId": "f6585370-d1d9-4fcf-e9a8-37fc54e31438"
      },
      "execution_count": 12,
      "outputs": [
        {
          "output_type": "stream",
          "name": "stdout",
          "text": [
            "        message: Optimization terminated successfully. (HiGHS Status 7: Optimal)\n",
            "        success: True\n",
            "         status: 0\n",
            "            fun: -13.0\n",
            "              x: [ 2.000e+00  0.000e+00  1.000e+00]\n",
            "            nit: 2\n",
            "          lower:  residual: [ 2.000e+00  0.000e+00  1.000e+00]\n",
            "                 marginals: [ 0.000e+00  3.000e+00  0.000e+00]\n",
            "          upper:  residual: [       inf        inf        inf]\n",
            "                 marginals: [ 0.000e+00  0.000e+00  0.000e+00]\n",
            "          eqlin:  residual: []\n",
            "                 marginals: []\n",
            "        ineqlin:  residual: [ 0.000e+00  1.000e+00  0.000e+00]\n",
            "                 marginals: [-1.000e+00 -0.000e+00 -1.000e+00]\n",
            " mip_node_count: 0\n",
            " mip_dual_bound: 0.0\n",
            "        mip_gap: 0.0\n"
          ]
        }
      ]
    }
  ]
}